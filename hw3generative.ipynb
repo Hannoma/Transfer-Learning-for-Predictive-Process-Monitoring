{
  "cells": [
    {
      "cell_type": "markdown",
      "metadata": {
        "id": "view-in-github",
        "colab_type": "text"
      },
      "source": [
        "<a href=\"https://colab.research.google.com/github/Mathieu-van-Luijken/Transfer-Learning-for-Predictive-Process-Monitoring-/blob/main/hw3generative.ipynb\" target=\"_parent\"><img src=\"https://colab.research.google.com/assets/colab-badge.svg\" alt=\"Open In Colab\"/></a>"
      ]
    },
    {
      "cell_type": "code",
      "execution_count": 4,
      "metadata": {
        "id": "d6qd9HukThcI"
      },
      "outputs": [],
      "source": [
        "import numpy as np\n",
        "import matplotlib.pyplot as plt\n",
        "from tqdm import tqdm\n",
        "import time\n",
        "import math\n",
        "import torch\n",
        "import torch.nn as nn\n",
        "import torch.utils \n",
        "from torch.nn import Sigmoid\n",
        "from torch.optim import Adam\n",
        "from torchvision.datasets import MNIST\n",
        "import torchvision.transforms as transforms\n",
        "from torch.utils.data import DataLoader"
      ]
    },
    {
      "cell_type": "code",
      "source": [
        "device = 'cuda' if torch.cuda.is_available() else 'cpu'"
      ],
      "metadata": {
        "id": "0dqIFCgoeIhe"
      },
      "execution_count": 5,
      "outputs": []
    },
    {
      "cell_type": "code",
      "execution_count": 6,
      "metadata": {
        "id": "63usVdd_ToJL",
        "colab": {
          "base_uri": "https://localhost:8080/",
          "height": 423,
          "referenced_widgets": [
            "4b93f41446d14fda9f41a477cf4f48bb",
            "7b69e633daee4878a0a7f1604dbf1fef",
            "6bc7df7bab1c484380a99482236ff353",
            "905b889872364c369b785d2195e941e7",
            "234c024baf91428888c9518a2b0a75ea",
            "9a3f3c1b304d4213b117df915196748e",
            "c217a1f82efe4004a1a28e90a5a6ef8f",
            "e9f8aa095aa64add87ea013949758ba8",
            "0ddfb86eb35645daa82579837d67558a",
            "119cb48ee7f54f86bdf7b2ddb2cc2f92",
            "d82c3ce6144e40b8a79ca5eba640d2d0",
            "86fc24dabfc94033bce65fc1a975e315",
            "1574359afb6347c99253f94756e5bfb6",
            "e612443828e84d50815b8891a8003f8e",
            "3409e67e5b7f474f803749e3e3fdcc77",
            "593026eb3fce4dbd892cb59a11be9b22",
            "718505fe48df4c2199fd8c54e82f67ce",
            "9747fccbfd2549868e3b01bcf26a9fe3",
            "e73b6041030047cbb1c82d0db4717d4c",
            "2896521dcb8841e49b26e46789e095ef",
            "bbf2b48b4f494ee4bc981fb7e3b8a8f4",
            "c9a0085c01894b7898ea1ffb98b8d52e",
            "cb0a44d219914a65ad5e1f7539f62a50",
            "ac907d1c29914f3f9f53806b45e3cb4a",
            "e818c5377786493d82b94845ad84afaf",
            "ff417cc1a59b4d7085f990a1887bdd61",
            "6d0945b748734492a1d3d05c1c0ccef1",
            "8dd6b8ad6047453ba234f28f3910b601",
            "136c1e5896b84ed09b2e68b8cacaa7fa",
            "ca2396e963fc4183a967f06571d922d2",
            "6a274dc98c0448c38045ebd003ba1700",
            "0270738763494fe4854887ac620f9d73",
            "b92a2d259e834c90bc27f1e7af8ca682",
            "26c8a185bed54ef38dbfa6e57c7ebc3d",
            "c63ffe20b6b44049a1ed4d9638a90557",
            "34f708b62b65450d84615dcb03437769",
            "35136030965945d9ba606c864e3b5d8d",
            "adb606b8abdd450aaecd07add02bb2c5",
            "51a24b559433407b9b55dc515a5c8280",
            "abf249a6fe424aac8a334616bb08a0b7",
            "350053dc52b54083a2c42a1abda5226d",
            "78f26afe56074ced9cd033c0c6ab11e1",
            "8f7ea01308bd441883b81c7e01bebe9c",
            "fde46effd8c742e9901c36e5fb8aed56"
          ]
        },
        "outputId": "890d8f9a-b58c-40aa-9ac3-012f4a25c6b9"
      },
      "outputs": [
        {
          "output_type": "stream",
          "name": "stdout",
          "text": [
            "Downloading http://yann.lecun.com/exdb/mnist/train-images-idx3-ubyte.gz\n",
            "Downloading http://yann.lecun.com/exdb/mnist/train-images-idx3-ubyte.gz to /root/datasets/MNIST/raw/train-images-idx3-ubyte.gz\n"
          ]
        },
        {
          "output_type": "display_data",
          "data": {
            "text/plain": [
              "  0%|          | 0/9912422 [00:00<?, ?it/s]"
            ],
            "application/vnd.jupyter.widget-view+json": {
              "version_major": 2,
              "version_minor": 0,
              "model_id": "4b93f41446d14fda9f41a477cf4f48bb"
            }
          },
          "metadata": {}
        },
        {
          "output_type": "stream",
          "name": "stdout",
          "text": [
            "Extracting /root/datasets/MNIST/raw/train-images-idx3-ubyte.gz to /root/datasets/MNIST/raw\n",
            "\n",
            "Downloading http://yann.lecun.com/exdb/mnist/train-labels-idx1-ubyte.gz\n",
            "Downloading http://yann.lecun.com/exdb/mnist/train-labels-idx1-ubyte.gz to /root/datasets/MNIST/raw/train-labels-idx1-ubyte.gz\n"
          ]
        },
        {
          "output_type": "display_data",
          "data": {
            "text/plain": [
              "  0%|          | 0/28881 [00:00<?, ?it/s]"
            ],
            "application/vnd.jupyter.widget-view+json": {
              "version_major": 2,
              "version_minor": 0,
              "model_id": "86fc24dabfc94033bce65fc1a975e315"
            }
          },
          "metadata": {}
        },
        {
          "output_type": "stream",
          "name": "stdout",
          "text": [
            "Extracting /root/datasets/MNIST/raw/train-labels-idx1-ubyte.gz to /root/datasets/MNIST/raw\n",
            "\n",
            "Downloading http://yann.lecun.com/exdb/mnist/t10k-images-idx3-ubyte.gz\n",
            "Downloading http://yann.lecun.com/exdb/mnist/t10k-images-idx3-ubyte.gz to /root/datasets/MNIST/raw/t10k-images-idx3-ubyte.gz\n"
          ]
        },
        {
          "output_type": "display_data",
          "data": {
            "text/plain": [
              "  0%|          | 0/1648877 [00:00<?, ?it/s]"
            ],
            "application/vnd.jupyter.widget-view+json": {
              "version_major": 2,
              "version_minor": 0,
              "model_id": "cb0a44d219914a65ad5e1f7539f62a50"
            }
          },
          "metadata": {}
        },
        {
          "output_type": "stream",
          "name": "stdout",
          "text": [
            "Extracting /root/datasets/MNIST/raw/t10k-images-idx3-ubyte.gz to /root/datasets/MNIST/raw\n",
            "\n",
            "Downloading http://yann.lecun.com/exdb/mnist/t10k-labels-idx1-ubyte.gz\n",
            "Downloading http://yann.lecun.com/exdb/mnist/t10k-labels-idx1-ubyte.gz to /root/datasets/MNIST/raw/t10k-labels-idx1-ubyte.gz\n"
          ]
        },
        {
          "output_type": "display_data",
          "data": {
            "text/plain": [
              "  0%|          | 0/4542 [00:00<?, ?it/s]"
            ],
            "application/vnd.jupyter.widget-view+json": {
              "version_major": 2,
              "version_minor": 0,
              "model_id": "26c8a185bed54ef38dbfa6e57c7ebc3d"
            }
          },
          "metadata": {}
        },
        {
          "output_type": "stream",
          "name": "stdout",
          "text": [
            "Extracting /root/datasets/MNIST/raw/t10k-labels-idx1-ubyte.gz to /root/datasets/MNIST/raw\n",
            "\n"
          ]
        }
      ],
      "source": [
        "#Loading in the data\n",
        "dataset_path = '~/datasets'\n",
        "batch_size = 100\n",
        "\n",
        "mnist_transform = transforms.Compose([\n",
        "        transforms.ToTensor(),])\n",
        "\n",
        "kwargs = {'num_workers': 1, 'pin_memory': True} \n",
        "\n",
        "\n",
        "train_dataset = MNIST(dataset_path, transform=mnist_transform, train=True, download=True)\n",
        "test_dataset = MNIST(dataset_path, transform=mnist_transform, train=False, download=True)\n",
        "\n",
        "train_data = torch.utils.data.Subset(train_dataset, range(0,50000))\n",
        "val_data = torch.utils.data.Subset(train_dataset, range(50000, 60000))\n",
        "\n",
        "train_loader = DataLoader(dataset=train_data, batch_size=batch_size, shuffle=True, **kwargs)\n",
        "vali_loader = DataLoader(dataset=val_data, batch_size=batch_size, shuffle=True, **kwargs)\n",
        "test_loader  = DataLoader(dataset=test_dataset,  batch_size=batch_size, shuffle=True,  **kwargs)"
      ]
    },
    {
      "cell_type": "code",
      "execution_count": 7,
      "metadata": {
        "id": "_6xhFbKRToSL"
      },
      "outputs": [],
      "source": [
        "\n",
        "class Reshape(nn.Module):\n",
        "    def __init__(self, *args):\n",
        "        super(Reshape, self).__init__()\n",
        "        self.shape = args\n",
        "\n",
        "    def forward(self, x):\n",
        "        return x.view(self.shape)\n",
        "    \n",
        "class Trim(nn.Module):\n",
        "    def __init__(self, *args):\n",
        "        super().__init__()\n",
        "    def forward(self,x):\n",
        "        return x[:, :, :28, :28]\n",
        "\n"
      ]
    },
    {
      "cell_type": "code",
      "execution_count": 8,
      "metadata": {
        "id": "p6XUTBIkToUd"
      },
      "outputs": [],
      "source": [
        "class VAE(nn.Module):\n",
        "    def __init__(self):\n",
        "        super().__init__()\n",
        "        self.encoder = nn.Sequential(\n",
        "            nn.Conv2d(1, 32, kernel_size=(3,3), stride=(1, 1), padding=0),\n",
        "            nn.BatchNorm2d(32),\n",
        "            nn.ReLU(True),\n",
        "            nn.Conv2d(32, 64, kernel_size=(3, 3), stride=(1, 1), padding=0),\n",
        "            nn.BatchNorm2d(64),\n",
        "            nn.ReLU(),\n",
        "            nn.Conv2d(64, 64, kernel_size=(3, 3), stride=(3, 3),  padding=0),\n",
        "            nn.BatchNorm2d(64),\n",
        "            nn.ReLU(),\n",
        "            nn.Conv2d(64, 64, kernel_size=(3, 3), stride=(1, 1),  padding=1),\n",
        "            nn.BatchNorm2d(64),\n",
        "            nn.ReLU(),\n",
        "            nn.Flatten()\n",
        "        )\n",
        "        \n",
        "        self.z_mean = torch.nn.Linear(8*8*64, 10)\n",
        "        self.z_var =nn.Sequential(\n",
        "            torch.nn.Linear(8*8*64, 10),\n",
        "            torch.nn.Softplus())\n",
        "\n",
        "\n",
        "        \n",
        "        self.decoder = nn.Sequential(\n",
        "            torch.nn.Linear(10, 8*8*64),\n",
        "            Reshape(-1, 64, 8, 8),\n",
        "            nn.ConvTranspose2d(64, 64, kernel_size=(3, 3), stride = (1, 1),  padding=1),\n",
        "            nn.BatchNorm2d(64),\n",
        "            nn.ReLU(),            \n",
        "            nn.ConvTranspose2d(64, 64, kernel_size=(3, 3), stride = (3, 3),  padding=0),\n",
        "            nn.BatchNorm2d(64),\n",
        "            nn.ReLU(),\n",
        "            nn.ConvTranspose2d(64, 32, kernel_size=(3, 3), stride = (1, 1),  padding=0),\n",
        "            nn.BatchNorm2d(32),\n",
        "            nn.ReLU(),\n",
        "            # 2 output channels, one for mu one for sigma\n",
        "            # alternatively one for beta one for alpha\n",
        "            nn.ConvTranspose2d(32, 1, kernel_size=(3, 3), stride = (1, 1), padding=0),\n",
        "            # this for gauss (i guess)\n",
        "            # nn.Sigmoid()\n",
        "            # this for beta\n",
        "            Trim(),\n",
        "            nn.Softplus()\n",
        "        )\n",
        "    \n",
        "    def reparametization(self, z_mu, z_var):\n",
        "        #batch_mu_z + torch.sqrt(batch_var_z) * torch.randn(batch_var_z.shape, device=device)\n",
        "        z = z_mu + torch.sqrt(z_var)*torch.randn(z_var.shape,device=device)\n",
        "        #eps = torch.randn_like(torch.exp(z_log_var),device=device)\n",
        "        #z = z_mu + torch.exp(z_log_var) * eps\n",
        "\n",
        "        return z\n",
        "  \n",
        "    \n",
        "    def forward(self, x):\n",
        "        x = self.encoder(x)\n",
        "        z_mean, z_var = self.z_mean(x), self.z_var(x)\n",
        "        encoded = self.reparametization(z_mean, z_var)\n",
        "        decoded = self.decoder(encoded)\n",
        "        return decoded, z_mean, z_var"
      ]
    },
    {
      "cell_type": "code",
      "source": [
        "vae = VAE().to(device)\n",
        "\n",
        "def loss_function(x, x_reconstr, mu, log_sigma):\n",
        "    reconstr_loss = nn.functional.mse_loss(x_reconstr, x, reduction='sum')\n",
        "    kl_loss = 0.5 * torch.sum(mu.pow(2) + (2*log_sigma).exp() - 2*log_sigma - 1)\n",
        "    total_loss = reconstr_loss + kl_loss\n",
        "    return total_loss, reconstr_loss, kl_loss\n",
        "\n",
        "optimizer = Adam(vae.parameters(), lr=0.005)"
      ],
      "metadata": {
        "id": "m--EbzGCPd_O"
      },
      "execution_count": 11,
      "outputs": []
    },
    {
      "cell_type": "code",
      "execution_count": 10,
      "metadata": {
        "id": "NIvWMX90ToWs"
      },
      "outputs": [],
      "source": [
        "vae = VAE().to(device)\n",
        "# need to redefine the loss function for beta\n",
        "def loss_function(x, x_reconstr, mu_z, var_z):\n",
        "\n",
        "    #reconstr_loss = nn.functional.mse_loss(x_reconstr, x, reduction='sum')\n",
        "    d2 = (x_reconstr[:,:1,:,:]-x)**2\n",
        "    #print(d2)\n",
        "    var = x_reconstr[:,1:,:,:]\n",
        "    e = 1e-5\n",
        "    var = torch.tensor([0.5]).to(device)\n",
        "    reconstr_loss = 0.5 * torch.sum(torch.log(var * 2 * np.pi) + d2 / var)          \n",
        "\n",
        "    #distribution = torch.distributions.beta.Beta(x_reconstr[:,:1,:,:],\n",
        "    #                                     x_reconstr[:,1:,:,:])\n",
        "    \n",
        "    #reconstr_loss = torch.sum(-distribution.log_prob(x+e*(0.5-x)))\n",
        "\n",
        "    \n",
        "    kl_loss = -0.5 * torch.sum(1-mu_z.pow(2) + torch.log(var_z) - var_z)\n",
        "    total_loss = reconstr_loss + kl_loss\n",
        "\n",
        "    return total_loss, reconstr_loss, kl_loss\n",
        "\n",
        "optimizer = Adam(vae.parameters(), lr=0.005)"
      ]
    },
    {
      "cell_type": "code",
      "source": [
        "vae = VAE().to(device)\n",
        "# need to redefine the loss function for categorical\n",
        "def loss_function(x, x_reconstr, mu_z, var_z):\n",
        "\n",
        "    #reconstr_loss = nn.functional.mse_loss(x_reconstr, x, reduction='sum')\n",
        "    d2 = (x_reconstr[:,:1,:,:]-x)**2\n",
        "    #print(d2)\n",
        "    var = x_reconstr[:,1:,:,:]\n",
        "    e = 1e-5\n",
        "    var = torch.tensor([0.5]).to(device)\n",
        "    reconstr_loss = 0.5 * torch.sum(torch.log(var * 2 * np.pi) + d2 / var)          \n",
        "\n",
        "\n",
        "\n",
        "    \n",
        "    kl_loss = -0.5 * torch.sum(1-mu_z.pow(2) + torch.log(var_z) - var_z)\n",
        "    total_loss = reconstr_loss + kl_loss\n",
        "\n",
        "    return total_loss, reconstr_loss, kl_loss\n",
        "\n",
        "optimizer = Adam(vae.parameters(), lr=0.005)"
      ],
      "metadata": {
        "id": "n9aPaC1OMD3o"
      },
      "execution_count": null,
      "outputs": []
    },
    {
      "cell_type": "code",
      "source": [
        "vae = VAE().to(device)\n",
        "# need to redefine the loss function for bernoulli\n",
        "def loss_function(x, x_reconstr, mu_z, var_z):\n",
        "\n",
        "    #reconstr_loss = nn.functional.mse_loss(x_reconstr, x, reduction='sum')\n",
        "    d2 = (x_reconstr[:,:1,:,:]-x)**2\n",
        "    #print(d2)\n",
        "    var = x_reconstr[:,1:,:,:]\n",
        "    e = 1e-5\n",
        "    var = torch.tensor([0.5]).to(device)\n",
        "\n",
        "\n",
        "    reconstr_loss = 0.5 * torch.sum(torch.log(var * 2 * np.pi) + d2 / var)          \n",
        "\n",
        "    #distribution = torch.distributions.beta.Beta(x_reconstr[:,:1,:,:],\n",
        "    #                                     x_reconstr[:,1:,:,:])\n",
        "    \n",
        "    #reconstr_loss = torch.sum(-distribution.log_prob(x+e*(0.5-x)))\n",
        "\n",
        "    \n",
        "    kl_loss = -0.5 * torch.sum(1-mu_z.pow(2) + torch.log(var_z) - var_z)\n",
        "    total_loss = reconstr_loss + kl_loss\n",
        "\n",
        "    return total_loss, reconstr_loss, kl_loss\n",
        "\n",
        "optimizer = Adam(vae.parameters(), lr=0.005)"
      ],
      "metadata": {
        "id": "0BPRxrVqMfnx"
      },
      "execution_count": null,
      "outputs": []
    },
    {
      "cell_type": "code",
      "execution_count": 12,
      "metadata": {
        "colab": {
          "base_uri": "https://localhost:8080/"
        },
        "id": "bb-O6Hz4ToY6",
        "outputId": "0a54edaa-a463-451a-e68d-a55c6323e568"
      },
      "outputs": [
        {
          "output_type": "stream",
          "name": "stdout",
          "text": [
            "Start training VAE...\n",
            "\tEpoch 1 \tAverage Loss:  744.1716989721433 \tReconstruction Loss: 431.09876704052243 \tKL Loss: 313.07294382654055\n",
            "\tEpoch 2 \tAverage Loss:  147.14807131372316 \tReconstruction Loss: 128.9716838181621 \tKL Loss: 18.176387407707445\n",
            "\tEpoch 3 \tAverage Loss:  125.94652111939709 \tReconstruction Loss: 109.73313037602588 \tKL Loss: 16.21339040120443\n",
            "\tEpoch 4 \tAverage Loss:  113.12919531003394 \tReconstruction Loss: 98.5134339365333 \tKL Loss: 14.615761282564414\n",
            "\tEpoch 5 \tAverage Loss:  104.79888856830019 \tReconstruction Loss: 91.559013634884 \tKL Loss: 13.23987482090189\n",
            "\tEpoch 6 \tAverage Loss:  96.95018073804451 \tReconstruction Loss: 85.72233367611663 \tKL Loss: 11.227847188313802\n",
            "\tEpoch 7 \tAverage Loss:  91.36490093809185 \tReconstruction Loss: 81.53556428543244 \tKL Loss: 9.829336534750581\n",
            "\tEpoch 8 \tAverage Loss:  85.80080715603299 \tReconstruction Loss: 77.39695250848327 \tKL Loss: 8.403854746192392\n",
            "\tEpoch 9 \tAverage Loss:  81.3003337081755 \tReconstruction Loss: 74.23529089725379 \tKL Loss: 7.065042703031289\n",
            "\tEpoch 10 \tAverage Loss:  74.78731080334596 \tReconstruction Loss: 69.261790389244 \tKL Loss: 5.525520259587451\n",
            "\tEpoch 11 \tAverage Loss:  72.12951105291194 \tReconstruction Loss: 67.37498316909327 \tKL Loss: 4.7545279662777675\n",
            "\tEpoch 12 \tAverage Loss:  66.48956361712831 \tReconstruction Loss: 63.0232102519334 \tKL Loss: 3.466353467305501\n",
            "\tEpoch 13 \tAverage Loss:  63.70138232915088 \tReconstruction Loss: 60.810653033015704 \tKL Loss: 2.8907291880520907\n",
            "\tEpoch 14 \tAverage Loss:  61.57713150178543 \tReconstruction Loss: 59.048301471748736 \tKL Loss: 2.5288300955415974\n",
            "\tEpoch 15 \tAverage Loss:  59.27529233990293 \tReconstruction Loss: 57.06984564270636 \tKL Loss: 2.2054466355449023\n",
            "\tEpoch 16 \tAverage Loss:  58.31446027659407 \tReconstruction Loss: 56.153306570342096 \tKL Loss: 2.1611537601971866\n",
            "\tEpoch 17 \tAverage Loss:  57.3868658940479 \tReconstruction Loss: 55.36950348825166 \tKL Loss: 2.017362394621878\n",
            "\tEpoch 18 \tAverage Loss:  55.50587735262784 \tReconstruction Loss: 53.646453715623025 \tKL Loss: 1.85942360001381\n",
            "\tEpoch 19 \tAverage Loss:  54.75227764091106 \tReconstruction Loss: 52.97081325338345 \tKL Loss: 1.7814644813537597\n",
            "\tEpoch 20 \tAverage Loss:  53.69737450185448 \tReconstruction Loss: 52.01795371315696 \tKL Loss: 1.6794207129815613\n",
            "\tEpoch 21 \tAverage Loss:  53.129941782325204 \tReconstruction Loss: 51.473876213304926 \tKL Loss: 1.6560655732588334\n",
            "\tEpoch 22 \tAverage Loss:  52.04969042845447 \tReconstruction Loss: 50.491955825343275 \tKL Loss: 1.5577345194961085\n",
            "\tEpoch 23 \tAverage Loss:  51.37791725235756 \tReconstruction Loss: 49.86396978821417 \tKL Loss: 1.5139473192619555\n",
            "\tEpoch 24 \tAverage Loss:  52.22488744870581 \tReconstruction Loss: 50.644728677152386 \tKL Loss: 1.5801587630763199\n",
            "\tEpoch 25 \tAverage Loss:  50.85698946866122 \tReconstruction Loss: 49.35639475196299 \tKL Loss: 1.5005946517713142\n",
            "\tEpoch 26 \tAverage Loss:  49.413708169339884 \tReconstruction Loss: 48.050799135150335 \tKL Loss: 1.3629089432533341\n",
            "\tEpoch 27 \tAverage Loss:  49.153863587042295 \tReconstruction Loss: 47.81502100472498 \tKL Loss: 1.338842657551621\n",
            "\tEpoch 28 \tAverage Loss:  48.56276402328954 \tReconstruction Loss: 47.26706693398832 \tKL Loss: 1.2956970802461258\n",
            "\tEpoch 29 \tAverage Loss:  48.27660881890191 \tReconstruction Loss: 47.00226664841777 \tKL Loss: 1.2743422301128657\n",
            "\tEpoch 30 \tAverage Loss:  47.547208689680005 \tReconstruction Loss: 46.322327566435845 \tKL Loss: 1.2248811679416232\n",
            "[147.64127895439316, 29.193705531179546, 24.98738595354772, 22.444469610607936, 20.791763463450337, 19.234604996125064, 18.12650339252724, 17.02260502694843, 16.12972552526929, 14.837562664391282, 14.310263715908379, 13.191316228648704, 12.638150001174223, 12.216705448250016, 11.760027939179139, 11.56940193864291, 11.385370187396276, 11.01218809200432, 10.862676325551494, 10.653386925217623, 10.540810093086563, 10.326491688210405, 10.193214044054907, 10.361250215274298, 10.08986364207908, 9.803521260049395, 9.751968928090555, 9.63469666995123, 9.577924394932444, 9.433213748052745, 9.403524809629024]\n",
            "Training complete!\n",
            "-349.84442377090454\n"
          ]
        }
      ],
      "source": [
        "epochs = 50\n",
        "\n",
        "print(\"Start training VAE...\")\n",
        "start_time = time.time()\n",
        "vae.train()\n",
        "\n",
        "train_ELBO = []\n",
        "validation_ELBO = []\n",
        "\n",
        "for epoch in range(epochs):\n",
        "    \n",
        "    overall_loss = 0\n",
        "    overall_reconstr_loss = 0\n",
        "    overall_kl_loss = 0\n",
        "    for batch_idx, (x, _) in enumerate(train_loader):\n",
        "\n",
        "        optimizer.zero_grad()\n",
        "        x = x.to(device)\n",
        "        x_reconstr, mu, log_sigma = vae(x)\n",
        "        loss, reconstr_loss, kl_loss = loss_function(x, x_reconstr, mu, log_sigma)\n",
        "        overall_loss += loss.item()\n",
        "        overall_reconstr_loss += reconstr_loss.item()\n",
        "        overall_kl_loss += kl_loss.item()\n",
        "        \n",
        "        loss.backward()\n",
        "        optimizer.step()\n",
        "        \n",
        "        \n",
        "        \n",
        "    n_datapoints = batch_idx * batch_size\n",
        "    train_ELBO.append(overall_loss/n_datapoints)\n",
        "    \n",
        "    with torch.no_grad():\n",
        "        validation_loss = 0\n",
        "        validation_reconstr_loss = 0\n",
        "        validation_kl_loss = 0\n",
        "        for batch_idx, (x, y) in enumerate(vali_loader):\n",
        "            x = x.to(device)\n",
        "            y = y.to(device)\n",
        "            x_reconstr, mu, log_sigma = vae(x)\n",
        "            loss, reconstr_loss, kl_loss = loss_function(x, x_reconstr, mu, log_sigma)\n",
        "            \n",
        "            validation_loss += loss.item()\n",
        "            validation_reconstr_loss += reconstr_loss.item()\n",
        "            validation_kl_loss += kl_loss.item()\n",
        "            \n",
        "        n_datapoints = batch_idx * batch_size\n",
        "        validation_ELBO.append(validation_loss/n_datapoints)\n",
        "            \n",
        "    if (np.absolute(train_ELBO[epoch] - train_ELBO[epoch-1]) <= 0.05) and (epoch != 0):\n",
        "        print(train_ELBO)\n",
        "        break\n",
        "        \n",
        "    print(\"\\tEpoch\", epoch + 1, \"\\tAverage Loss: \", overall_loss / n_datapoints, \"\\tReconstruction Loss:\", overall_reconstr_loss / n_datapoints, \"\\tKL Loss:\", overall_kl_loss / n_datapoints)\n",
        "    \n",
        "print(\"Training complete!\")\n",
        "print(start_time - time.time())"
      ]
    },
    {
      "cell_type": "markdown",
      "source": [],
      "metadata": {
        "id": "TzrEZkj7xZEB"
      }
    },
    {
      "cell_type": "markdown",
      "source": [
        "1B\n"
      ],
      "metadata": {
        "id": "eSQ0f0lExjID"
      }
    },
    {
      "cell_type": "code",
      "source": [
        "fig, (ax1, ax2) = plt.subplots(1,2)\n",
        "ax1.plot(train_ELBO)\n",
        "ax2.plot(validation_ELBO);\n",
        "ax1.set_xlabel('nr epochs')\n",
        "ax2.set_xlabel('nr epochs')\n",
        "ax1.set_ylabel('loss');\n",
        "\n"
      ],
      "metadata": {
        "colab": {
          "base_uri": "https://localhost:8080/",
          "height": 279
        },
        "id": "GY0Zh1IScEwz",
        "outputId": "d613d911-b1ed-4ee8-b284-76bbe4a054ae"
      },
      "execution_count": 13,
      "outputs": [
        {
          "output_type": "display_data",
          "data": {
            "text/plain": [
              "<Figure size 432x288 with 2 Axes>"
            ],
            "image/png": "[encoded data removed]"
          },
          "metadata": {
            "needs_background": "light"
          }
        }
      ]
    },
    {
      "cell_type": "markdown",
      "source": [
        "1D: reconstructions\n"
      ],
      "metadata": {
        "id": "kSLM9vtNxrSb"
      }
    },
    {
      "cell_type": "code",
      "source": [
        "vae.eval()\n",
        "\n",
        "x_original_list = []\n",
        "y_list = []\n",
        "x_reconstr_list = []\n",
        "with torch.no_grad():\n",
        "    for batch_idx, (x, y) in enumerate(tqdm(test_loader)):\n",
        "        x = x.view(batch_size,1,28,28)\n",
        "        x = x.to(device)\n",
        "        \n",
        "        x_reconstr, mu, log_sigma= vae(x)\n",
        "        x_original_list.append(x)\n",
        "        y_list.append(y)\n",
        "        x_reconstr_list.append(x_reconstr)\n"
      ],
      "metadata": {
        "colab": {
          "base_uri": "https://localhost:8080/"
        },
        "id": "whtMmFdqiN67",
        "outputId": "2f2b40f1-0487-41cd-bd25-20ca6a2069e8"
      },
      "execution_count": 14,
      "outputs": [
        {
          "output_type": "stream",
          "name": "stderr",
          "text": [
            "100%|██████████| 100/100 [00:01<00:00, 72.51it/s]\n"
          ]
        }
      ]
    },
    {
      "cell_type": "markdown",
      "source": [
        "1D: Make our own images"
      ],
      "metadata": {
        "id": "SZPrkgzdxuOD"
      }
    },
    {
      "cell_type": "code",
      "source": [
        "with torch.no_grad():\n",
        "    noise = torch.randn(batch_size, 10).to(device)\n",
        "    generated_images = vae.decoder(noise)"
      ],
      "metadata": {
        "id": "fT4zTSm2vevj"
      },
      "execution_count": 15,
      "outputs": []
    },
    {
      "cell_type": "code",
      "source": [
        "import matplotlib.pyplot as plt\n",
        "\n",
        "\n",
        "def show_image(x, idx):\n",
        "    x = x.view(batch_size, 28, 28)\n",
        "\n",
        "    fig = plt.figure()\n",
        "    plt.imshow(x[idx].cpu().numpy(), cmap=\"Greys_r\")\n",
        "\n"
      ],
      "metadata": {
        "id": "LblQaRXiE01f"
      },
      "execution_count": 16,
      "outputs": []
    },
    {
      "cell_type": "code",
      "source": [
        "from datetime import datetime\n",
        "def show_images(x, ncols=16):\n",
        "    \"\"\" plots first ncols images in a batch \"\"\"\n",
        "    x = x.view(batch_size, 28, 28)\n",
        "\n",
        "\n",
        "    fig, ax = plt.subplots(1, ncols, figsize=(40, 2))\n",
        "    for idx in range(ncols):\n",
        "        ax[idx].imshow(x[idx].cpu().numpy(), cmap=\"Greys_r\")\n",
        "        ax[idx].axis('off')\n",
        "    time =  datetime.now().strftime('%H%M%S')\n",
        "    fig.savefig(f'figure: {time}')"
      ],
      "metadata": {
        "id": "6wZrpESJiNOi"
      },
      "execution_count": 22,
      "outputs": []
    },
    {
      "cell_type": "code",
      "source": [
        "batch_idx = 0\n",
        "show_images(x_original_list[batch_idx])\n",
        "show_images(x_reconstr_list[batch_idx])"
      ],
      "metadata": {
        "colab": {
          "base_uri": "https://localhost:8080/",
          "height": 88
        },
        "id": "_qPTQcSJku5k",
        "outputId": "88c57089-e0f3-44d3-8efd-f452a08d675f"
      },
      "execution_count": 18,
      "outputs": [
        {
          "output_type": "display_data",
          "data": {
            "text/plain": [
              "<Figure size 2880x144 with 32 Axes>"
            ],
            "image/png": "[encoded data removed]"
          },
          "metadata": {
            "needs_background": "light"
          }
        },
        {
          "output_type": "display_data",
          "data": {
            "text/plain": [
              "<Figure size 2880x144 with 32 Axes>"
            ],
            "image/png": "[encoded data removed]"
          },
          "metadata": {
            "needs_background": "light"
          }
        }
      ]
    },
    {
      "cell_type": "code",
      "source": [
        "show_images(generated_images)"
      ],
      "metadata": {
        "colab": {
          "base_uri": "https://localhost:8080/",
          "height": 78
        },
        "id": "fo-F-AyywGDa",
        "outputId": "a7262711-df38-46f6-bbc3-cc0eda03c357"
      },
      "execution_count": 23,
      "outputs": [
        {
          "output_type": "display_data",
          "data": {
            "text/plain": [
              "<Figure size 2880x144 with 16 Axes>"
            ],
            "image/png": "[encoded data removed]"
          },
          "metadata": {
            "needs_background": "light"
          }
        }
      ]
    },
    {
      "cell_type": "code",
      "execution_count": null,
      "metadata": {
        "id": "70S6msu7cVSA",
        "colab": {
          "base_uri": "https://localhost:8080/",
          "height": 282
        },
        "outputId": "27fb06fd-006d-4e80-dec2-ac7dfb02f490"
      },
      "outputs": [
        {
          "output_type": "execute_result",
          "data": {
            "text/plain": [
              "<matplotlib.image.AxesImage at 0x7fa5c8204950>"
            ]
          },
          "metadata": {},
          "execution_count": 167
        },
        {
          "output_type": "display_data",
          "data": {
            "text/plain": [
              "<Figure size 432x288 with 1 Axes>"
            ],
            "image/png": "[encoded data removed]"
          },
          "metadata": {
            "needs_background": "light"
          }
        }
      ],
      "source": [
        "u = vae(train_data[10][0].view(1,1,28,28).to(device))[0].cpu().detach().numpy()\n",
        "img = u[:,0,:,:]/(u[:,0,:,:]+u[:,1,:,:])\n",
        "plt.imshow(train_data[10][0].numpy()[0,:,:])\n"
      ]
    },
    {
      "cell_type": "code",
      "execution_count": null,
      "metadata": {
        "id": "j-DuLRtxTobT",
        "colab": {
          "base_uri": "https://localhost:8080/",
          "height": 282
        },
        "outputId": "47201bde-d534-41d7-e707-e57d2e369550"
      },
      "outputs": [
        {
          "output_type": "execute_result",
          "data": {
            "text/plain": [
              "<matplotlib.image.AxesImage at 0x7fa5c8160d90>"
            ]
          },
          "metadata": {},
          "execution_count": 168
        },
        {
          "output_type": "display_data",
          "data": {
            "text/plain": [
              "<Figure size 432x288 with 1 Axes>"
            ],
            "image/png": "[encoded data removed]"
          },
          "metadata": {
            "needs_background": "light"
          }
        }
      ],
      "source": [
        "plt.imshow(img[0])"
      ]
    },
    {
      "cell_type": "code",
      "execution_count": null,
      "metadata": {
        "id": "AcFvgiZ7rq5r",
        "colab": {
          "base_uri": "https://localhost:8080/",
          "height": 282
        },
        "outputId": "535a24f3-2481-4126-be36-eecb80647f79"
      },
      "outputs": [
        {
          "output_type": "execute_result",
          "data": {
            "text/plain": [
              "<matplotlib.image.AxesImage at 0x7f7cdd120a10>"
            ]
          },
          "metadata": {},
          "execution_count": 21
        },
        {
          "output_type": "display_data",
          "data": {
            "text/plain": [
              "<Figure size 432x288 with 1 Axes>"
            ],
            "image/png": "[encoded data removed]"
          },
          "metadata": {
            "needs_background": "light"
          }
        }
      ],
      "source": [
        "plt.imshow(x_reconstr.cpu().detach().numpy()[23,0,:,:])"
      ]
    },
    {
      "cell_type": "markdown",
      "source": [
        "#3a\n"
      ],
      "metadata": {
        "id": "aeYx6eGghqdI"
      }
    },
    {
      "cell_type": "code",
      "source": [
        "class VAE(nn.Module):\n",
        "    def __init__(self):\n",
        "        super().__init__()\n",
        "        self.encoder = nn.Sequential(\n",
        "            nn.Conv2d(1, 32, kernel_size=(3,3), stride=(1, 1), padding=0),\n",
        "            nn.BatchNorm2d(32),\n",
        "            nn.ReLU(True),\n",
        "            nn.Conv2d(32, 64, kernel_size=(3, 3), stride=(1, 1), padding=0),\n",
        "            nn.BatchNorm2d(64),\n",
        "            nn.ReLU(),\n",
        "            nn.Conv2d(64, 64, kernel_size=(3, 3), stride=(3, 3),  padding=0),\n",
        "            nn.BatchNorm2d(64),\n",
        "            nn.ReLU(),\n",
        "            nn.Conv2d(64, 64, kernel_size=(3, 3), stride=(1, 1),  padding=1),\n",
        "            nn.BatchNorm2d(64),\n",
        "            nn.ReLU(),\n",
        "            nn.Flatten()\n",
        "        )\n",
        "        \n",
        "        self.z_mean = torch.nn.Linear(8*8*64, 2)\n",
        "        self.z_var =nn.Sequential(\n",
        "            torch.nn.Linear(8*8*64, 2),\n",
        "            torch.nn.Softplus())\n",
        "\n",
        "\n",
        "        \n",
        "        self.decoder = nn.Sequential(\n",
        "            torch.nn.Linear(2, 8*8*64),\n",
        "            Reshape(-1, 64, 8, 8),\n",
        "            nn.ConvTranspose2d(64, 64, kernel_size=(3, 3), stride = (1, 1),  padding=1),\n",
        "            nn.BatchNorm2d(64),\n",
        "            nn.ReLU(),            \n",
        "            nn.ConvTranspose2d(64, 64, kernel_size=(3, 3), stride = (3, 3),  padding=0),\n",
        "            nn.BatchNorm2d(64),\n",
        "            nn.ReLU(),\n",
        "            nn.ConvTranspose2d(64, 32, kernel_size=(3, 3), stride = (1, 1),  padding=0),\n",
        "            nn.BatchNorm2d(32),\n",
        "            nn.ReLU(),\n",
        "            # 2 output channels, one for mu one for sigma\n",
        "            # alternatively one for beta one for alpha\n",
        "            nn.ConvTranspose2d(32, 2, kernel_size=(3, 3), stride = (1, 1), padding=0),\n",
        "            # this for gauss (i guess)\n",
        "            # nn.Sigmoid()\n",
        "            # this for beta\n",
        "            nn.Softplus()\n",
        "        )\n",
        "    \n",
        "    def reparametization(self, z_mu, z_var):\n",
        "        #batch_mu_z + torch.sqrt(batch_var_z) * torch.randn(batch_var_z.shape, device=device)\n",
        "        z = z_mu + torch.sqrt(z_var)*torch.randn(z_var.shape,device=device)\n",
        "        #eps = torch.randn_like(torch.exp(z_log_var),device=device)\n",
        "        #z = z_mu + torch.exp(z_log_var) * eps\n",
        "\n",
        "        return z\n",
        "  \n",
        "    \n",
        "    def forward(self, x):\n",
        "        x = self.encoder(x)\n",
        "        z_mean, z_var = self.z_mean(x), self.z_var(x)\n",
        "        encoded = self.reparametization(z_mean, z_var)\n",
        "        decoded = self.decoder(encoded)\n",
        "        return decoded, z_mean, z_var"
      ],
      "metadata": {
        "id": "mgUG8rI7697-"
      },
      "execution_count": null,
      "outputs": []
    },
    {
      "cell_type": "code",
      "source": [
        "test_dataset = MNIST(dataset_path, transform=mnist_transform, train=False, download=True)\n",
        "test_data = torch.utils.data.Subset(test_dataset, range(0,1000))\n",
        "test_loader  = DataLoader(dataset=test_data,  batch_size=batch_size, shuffle=True,  **kwargs)\n",
        "vae.eval()\n",
        "\n",
        "x_original_list = []\n",
        "y_list = []\n",
        "x_reconstr_list = []\n",
        "z_list = []\n",
        "log_sigma_list = []\n",
        "with torch.no_grad():\n",
        "    for batch_idx, (x, y) in enumerate(tqdm(test_loader)):\n",
        "        x = x.to(device)\n",
        "        \n",
        "        x_reconstr, z_mu, log_sigma = vae(x)\n",
        "        x_original_list.append(x)\n",
        "        y_list.append(y)\n",
        "        x_reconstr_list.append(x_reconstr)\n",
        "        z_list.append(z_mu)\n",
        "        log_sigma_list.append(log_sigma)"
      ],
      "metadata": {
        "id": "FWKulVzzhp2L"
      },
      "execution_count": null,
      "outputs": []
    },
    {
      "cell_type": "code",
      "source": [
        "plt.figure(figsize=(12, 10))\n",
        "for z, y in zip(z_list, y_list):\n",
        "    mu = mu.cpu().numpy()\n",
        "    plt.scatter(mu[:, 0], mu[:, 1], c=y)\n",
        "plt.colorbar()\n",
        "plt.xlabel(\"z_1\")\n",
        "plt.ylabel(\"z_2\")\n",
        "plt.show()"
      ],
      "metadata": {
        "id": "2Dy8kA6KhvNJ"
      },
      "execution_count": null,
      "outputs": []
    },
    {
      "cell_type": "markdown",
      "source": [
        "#3b"
      ],
      "metadata": {
        "id": "EmL-84a-q-TZ"
      }
    },
    {
      "cell_type": "code",
      "source": [
        "class VAE(nn.Module):\n",
        "    def __init__(self):\n",
        "        super().__init__()\n",
        "        self.encoder = nn.Sequential(\n",
        "            nn.Conv2d(1, 32, kernel_size=(3,3), stride=(1, 1), padding=0),\n",
        "            nn.BatchNorm2d(32),\n",
        "            nn.ReLU(True),\n",
        "            nn.Conv2d(32, 64, kernel_size=(3, 3), stride=(1, 1), padding=0),\n",
        "            nn.BatchNorm2d(64),\n",
        "            nn.ReLU(),\n",
        "            nn.Conv2d(64, 64, kernel_size=(3, 3), stride=(3, 3),  padding=0),\n",
        "            nn.BatchNorm2d(64),\n",
        "            nn.ReLU(),\n",
        "            nn.Conv2d(64, 64, kernel_size=(3, 3), stride=(1, 1),  padding=1),\n",
        "            nn.BatchNorm2d(64),\n",
        "            nn.ReLU(),\n",
        "            nn.Flatten()\n",
        "        )\n",
        "        \n",
        "        self.z_mean = torch.nn.Linear(8*8*64, 10)\n",
        "        self.z_var =nn.Sequential(\n",
        "            torch.nn.Linear(8*8*64, 10),\n",
        "            torch.nn.Softplus())\n",
        "\n",
        "\n",
        "        \n",
        "        self.decoder = nn.Sequential(\n",
        "            torch.nn.Linear(10, 8*8*64),\n",
        "            Reshape(-1, 64, 8, 8),\n",
        "            nn.ConvTranspose2d(64, 64, kernel_size=(3, 3), stride = (1, 1),  padding=1),\n",
        "            nn.BatchNorm2d(64),\n",
        "            nn.ReLU(),            \n",
        "            nn.ConvTranspose2d(64, 64, kernel_size=(3, 3), stride = (3, 3),  padding=0),\n",
        "            nn.BatchNorm2d(64),\n",
        "            nn.ReLU(),\n",
        "            nn.ConvTranspose2d(64, 32, kernel_size=(3, 3), stride = (1, 1),  padding=0),\n",
        "            nn.BatchNorm2d(32),\n",
        "            nn.ReLU(),\n",
        "            # 2 output channels, one for mu one for sigma\n",
        "            # alternatively one for beta one for alpha\n",
        "            nn.ConvTranspose2d(32, 2, kernel_size=(3, 3), stride = (1, 1), padding=0),\n",
        "            # this for gauss (i guess)\n",
        "            # nn.Sigmoid()\n",
        "            # this for beta\n",
        "            nn.Softplus()\n",
        "        )\n",
        "    \n",
        "    def reparametization(self, z_mu, z_var):\n",
        "        #batch_mu_z + torch.sqrt(batch_var_z) * torch.randn(batch_var_z.shape, device=device)\n",
        "        z = z_mu + torch.sqrt(z_var)*torch.randn(z_var.shape,device=device)\n",
        "        #eps = torch.randn_like(torch.exp(z_log_var),device=device)\n",
        "        #z = z_mu + torch.exp(z_log_var) * eps\n",
        "\n",
        "        return z\n",
        "  \n",
        "    \n",
        "    def forward(self, x):\n",
        "        x = self.encoder(x)\n",
        "        z_mean, z_var = self.z_mean(x), self.z_var(x)\n",
        "        encoded = self.reparametization(z_mean, z_var)\n",
        "        decoded = self.decoder(encoded)\n",
        "        return decoded, z_mean, z_var"
      ],
      "metadata": {
        "id": "Hoacvlcz7I6N"
      },
      "execution_count": null,
      "outputs": []
    },
    {
      "cell_type": "code",
      "source": [
        "plt.figure(figsize=(12, 10))\n",
        "for z, y in zip(z_list, y_list):\n",
        "    z = z.cpu().numpy()\n",
        "    pca_feat = pca.fit_transform(mu)\n",
        "    plt.scatter(pca_feat[:, 0], pca_feat[:, 1], c=y)\n",
        "plt.colorbar()\n",
        "plt.xlabel(\"pca_1\")\n",
        "plt.ylabel(\"pca_2\")\n",
        "plt.show()"
      ],
      "metadata": {
        "id": "O0OaxlrQrBxZ"
      },
      "execution_count": null,
      "outputs": []
    },
    {
      "cell_type": "markdown",
      "source": [
        "#3c"
      ],
      "metadata": {
        "id": "qvHN9TpurDFQ"
      }
    },
    {
      "cell_type": "code",
      "source": [],
      "metadata": {
        "id": "vYwhwxegrGmq"
      },
      "execution_count": null,
      "outputs": []
    },
    {
      "cell_type": "markdown",
      "source": [
        "#4a"
      ],
      "metadata": {
        "id": "93vFe2VeUqQp"
      }
    },
    {
      "cell_type": "code",
      "source": [
        "# from https://stackoverflow.com/questions/62429782/pytorch-how-to-implement-one-link-per-neuron\n",
        "class ElementWiseLinear(nn.Module):\n",
        "    __constants__ = ['n_features']\n",
        "    n_features: int\n",
        "    weight: torch.Tensor\n",
        "    def __init__(self, n_features: int, bias: bool = True) -> None:\n",
        "        super(ElementWiseLinear, self).__init__()\n",
        "        self.n_features = n_features\n",
        "        self.weight = nn.Parameter(torch.Tensor(1, n_features))\n",
        "        if bias:\n",
        "            self.bias = nn.Parameter(torch.Tensor(n_features))\n",
        "        else:\n",
        "            self.register_parameter('bias', None)\n",
        "        self.reset_parameters()\n",
        "    def reset_parameters(self) -> None:\n",
        "        nn.init.kaiming_uniform_(self.weight, a=math.sqrt(5))\n",
        "        if self.bias is not None:\n",
        "            fan_in, _ = nn.init._calculate_fan_in_and_fan_out(self.weight)\n",
        "            bound = 1 / math.sqrt(fan_in)\n",
        "            nn.init.uniform_(self.bias, -bound, bound)\n",
        "    def forward(self, input: torch.Tensor) -> torch.Tensor:\n",
        "        output = torch.mul(input, self.weight)\n",
        "        if self.bias is not None:\n",
        "            output += self.bias\n",
        "        return output\n",
        "    def extra_repr(self) -> str:\n",
        "        return 'in_features={}, out_features={}, bias={}'.format(\n",
        "            self.n_features, self.n_features, self.bias is not None\n",
        "        )"
      ],
      "metadata": {
        "id": "LQLSw4otYLWG"
      },
      "execution_count": null,
      "outputs": []
    },
    {
      "cell_type": "code",
      "execution_count": null,
      "metadata": {
        "id": "_0ZNANfJTodC"
      },
      "outputs": [],
      "source": [
        "class VAE_4(nn.Module):\n",
        "    def __init__(self, dims):\n",
        "        super().__init__()\n",
        "        # use the single link linear layers to update the original, random gaussian\n",
        "        # psi_x = psi_0*elementwiselinear        \n",
        "        self.z_mean = ElementWiseLinear(10, bias=False)\n",
        "        self.z_var =nn.Sequential(\n",
        "            ElementWiseLinear(10, bias=False),\n",
        "            torch.nn.Softplus())\n",
        "        \n",
        "        self.decoder = nn.Sequential(\n",
        "            torch.nn.Linear(10, 8*8*64),\n",
        "            Reshape(-1, 64, 8, 8),\n",
        "            nn.ConvTranspose2d(64, 64, kernel_size=(3, 3), stride = (1, 1),  padding=1),\n",
        "            nn.BatchNorm2d(64),\n",
        "            nn.ReLU(),            \n",
        "            nn.ConvTranspose2d(64, 64, kernel_size=(3, 3), stride = (3, 3),  padding=0),\n",
        "            nn.BatchNorm2d(64),\n",
        "            nn.ReLU(),\n",
        "            nn.ConvTranspose2d(64, 32, kernel_size=(3, 3), stride = (1, 1),  padding=0),\n",
        "            nn.BatchNorm2d(32),\n",
        "            nn.ReLU(),\n",
        "            # 2 output channels, one for mu one for sigma\n",
        "            # alternatively one for beta one for alpha\n",
        "            nn.ConvTranspose2d(32, 2, kernel_size=(3, 3), stride = (1, 1), padding=0),\n",
        "            # this for gauss (i guess)\n",
        "            # nn.Sigmoid()\n",
        "            # this for beta\n",
        "            nn.Softplus()\n",
        "        )\n",
        "    \n",
        "    def reparametization(self, z_mu, z_var):\n",
        "\n",
        "        z = z_mu + torch.sqrt(z_var)*torch.randn(z_var.shape,device=device)\n",
        "\n",
        "\n",
        "        return z\n",
        "  \n",
        "    \n",
        "    def forward(self, x, psi1, psi2):\n",
        "        z_mean, z_var = self.z_mean(psi1), self.z_var(psi2)\n",
        "        encoded = self.reparametization(z_mean, z_var)\n",
        "        decoded = self.decoder(encoded)\n",
        "        return decoded, z_mean, z_var"
      ]
    },
    {
      "cell_type": "code",
      "source": [
        "def loss_function(x, x_reconstr, mu_z, var_z):\n",
        "\n",
        "    d2 = (x_reconstr[:,:1,:,:]-x)**2\n",
        "    e = 1e-5\n",
        "    var = torch.tensor([0.5]).to(device)\n",
        "    reconstr_loss = 0.5 * torch.sum(torch.log(var * 2 * np.pi) + d2 / var)          \n",
        "\n",
        "    #distribution = torch.distributions.beta.Beta(x_reconstr[:,:1,:,:],\n",
        "    #                                     x_reconstr[:,1:,:,:])\n",
        "    \n",
        "    #reconstr_loss = torch.sum(-distribution.log_prob(x+e*(0.5-x)))\n",
        "\n",
        "    \n",
        "    kl_loss = -0.5 * torch.sum(1-mu_z.pow(2) + torch.log(var_z) - var_z)\n",
        "    total_loss = reconstr_loss + kl_loss\n",
        "\n",
        "    return total_loss, reconstr_loss, kl_loss\n",
        "\n"
      ],
      "metadata": {
        "id": "QSg4YszLbMAv"
      },
      "execution_count": null,
      "outputs": []
    },
    {
      "cell_type": "code",
      "source": [
        "train_data = torch.utils.data.Subset(train_dataset, range(0,1))\n",
        "train_loader = DataLoader(dataset=train_data)"
      ],
      "metadata": {
        "id": "Pirhp2lQZJsT"
      },
      "execution_count": null,
      "outputs": []
    },
    {
      "cell_type": "code",
      "source": [
        "epochs = 20000\n",
        "vae = VAE_4(dims=10).to(device)\n",
        "optimizer = Adam(vae.parameters(), lr=0.0005)\n",
        "print(\"Start training VAE...\")\n",
        "start_time = time.time()\n",
        "vae.train()\n",
        "\n",
        "train_ELBO = []\n",
        "validation_ELBO = []\n",
        "psi1, psi2 = torch.rand(10), torch.rand(10)\n",
        "for epoch in range(epochs):\n",
        "    \n",
        "    overall_loss = 0\n",
        "    overall_reconstr_loss = 0\n",
        "    overall_kl_loss = 0\n",
        "    for batch_idx, (x, _) in enumerate(train_loader):\n",
        "\n",
        "        optimizer.zero_grad()\n",
        "        x = x.to(device)\n",
        "        x_reconstr, mu, log_sigma = vae(x, psi1, psi2)\n",
        "        loss, reconstr_loss, kl_loss = loss_function(x, x_reconstr, mu, log_sigma)\n",
        "        overall_loss += loss.item()\n",
        "        overall_reconstr_loss += reconstr_loss.item()\n",
        "        overall_kl_loss += kl_loss.item()\n",
        "        \n",
        "        loss.backward()\n",
        "        optimizer.step()\n",
        "        \n",
        "        \n",
        "        \n",
        "    n_datapoints = batch_idx * batch_size\n",
        "    train_ELBO.append((-overall_reconstr_loss + overall_kl_loss))\n",
        "    \n",
        "    with torch.no_grad():\n",
        "        validation_loss = 0\n",
        "        validation_reconstr_loss = 0\n",
        "        validation_kl_loss = 0\n",
        "        for batch_idx, (x, y) in enumerate(train_loader):\n",
        "            x = x.to(device)\n",
        "            y = y.to(device)\n",
        "            x_reconstr, mu, log_sigma = vae(x, psi1, psi2)\n",
        "            loss, reconstr_loss, kl_loss = loss_function(x, x_reconstr, mu, log_sigma)\n",
        "            \n",
        "            validation_loss += loss.item()\n",
        "            validation_reconstr_loss += reconstr_loss.item()\n",
        "            validation_kl_loss += kl_loss.item()\n",
        "            \n",
        "        n_datapoints = batch_idx * batch_size\n",
        "        validation_ELBO.append((-validation_reconstr_loss + validation_kl_loss))\n",
        "            \n",
        "    if (np.absolute(train_ELBO[epoch] - train_ELBO[epoch-1]) <= 0.0001) and (epoch != 0):\n",
        "        print(train_ELBO)\n",
        "        break\n",
        "\n",
        "    if epoch % 50 == 0:  \n",
        "      print(\"\\tEpoch\", epoch + 1, \"\\tAverage Loss: \", overall_loss, \"\\tReconstruction Loss:\", overall_reconstr_loss, \"\\tKL Loss:\", overall_kl_loss)\n",
        "    \n",
        "print(\"Training complete!\")\n",
        "print(start_time - time.time())"
      ],
      "metadata": {
        "colab": {
          "base_uri": "https://localhost:8080/"
        },
        "id": "voLrNcZCVx7B",
        "outputId": "72e04dad-dc63-4f97-eeaa-b8d1fca48889"
      },
      "execution_count": null,
      "outputs": [
        {
          "output_type": "stream",
          "name": "stdout",
          "text": [
            "Start training VAE...\n",
            "\tEpoch 1 \tAverage Loss:  667.8106079101562 \tReconstruction Loss: 667.4266357421875 \tKL Loss: 0.3839696943759918\n",
            "\tEpoch 51 \tAverage Loss:  474.1078796386719 \tReconstruction Loss: 473.71728515625 \tKL Loss: 0.3905956745147705\n",
            "\tEpoch 101 \tAverage Loss:  469.660888671875 \tReconstruction Loss: 469.2591247558594 \tKL Loss: 0.4017651379108429\n",
            "\tEpoch 151 \tAverage Loss:  464.3257751464844 \tReconstruction Loss: 463.91851806640625 \tKL Loss: 0.407259076833725\n",
            "\tEpoch 201 \tAverage Loss:  453.856201171875 \tReconstruction Loss: 453.4459228515625 \tKL Loss: 0.4102841019630432\n",
            "\tEpoch 251 \tAverage Loss:  454.47021484375 \tReconstruction Loss: 454.059326171875 \tKL Loss: 0.41089344024658203\n",
            "\tEpoch 301 \tAverage Loss:  451.55780029296875 \tReconstruction Loss: 451.1458435058594 \tKL Loss: 0.41194501519203186\n",
            "\tEpoch 351 \tAverage Loss:  451.0120849609375 \tReconstruction Loss: 450.60003662109375 \tKL Loss: 0.41206204891204834\n",
            "\tEpoch 401 \tAverage Loss:  450.8488464355469 \tReconstruction Loss: 450.4368896484375 \tKL Loss: 0.411943256855011\n",
            "\tEpoch 451 \tAverage Loss:  450.45977783203125 \tReconstruction Loss: 450.048583984375 \tKL Loss: 0.4111962914466858\n",
            "\tEpoch 501 \tAverage Loss:  450.855224609375 \tReconstruction Loss: 450.44580078125 \tKL Loss: 0.4094124138355255\n",
            "\tEpoch 551 \tAverage Loss:  451.0563659667969 \tReconstruction Loss: 450.6490173339844 \tKL Loss: 0.4073554277420044\n",
            "\tEpoch 601 \tAverage Loss:  450.1987609863281 \tReconstruction Loss: 449.79400634765625 \tKL Loss: 0.4047638177871704\n",
            "\tEpoch 651 \tAverage Loss:  449.785400390625 \tReconstruction Loss: 449.38299560546875 \tKL Loss: 0.4024178981781006\n",
            "\tEpoch 701 \tAverage Loss:  450.0550537109375 \tReconstruction Loss: 449.65557861328125 \tKL Loss: 0.3994632959365845\n",
            "\tEpoch 751 \tAverage Loss:  450.0069885253906 \tReconstruction Loss: 449.6103515625 \tKL Loss: 0.39663243293762207\n",
            "\tEpoch 801 \tAverage Loss:  449.8895568847656 \tReconstruction Loss: 449.49639892578125 \tKL Loss: 0.3931552469730377\n",
            "\tEpoch 851 \tAverage Loss:  451.08367919921875 \tReconstruction Loss: 450.6943664550781 \tKL Loss: 0.3893192708492279\n",
            "\tEpoch 901 \tAverage Loss:  449.6706237792969 \tReconstruction Loss: 449.2852478027344 \tKL Loss: 0.38538068532943726\n",
            "\tEpoch 951 \tAverage Loss:  449.8459777832031 \tReconstruction Loss: 449.46490478515625 \tKL Loss: 0.38106071949005127\n",
            "\tEpoch 1001 \tAverage Loss:  449.56011962890625 \tReconstruction Loss: 449.18310546875 \tKL Loss: 0.37700119614601135\n",
            "\tEpoch 1051 \tAverage Loss:  449.6961975097656 \tReconstruction Loss: 449.3239440917969 \tKL Loss: 0.37224817276000977\n",
            "\tEpoch 1101 \tAverage Loss:  449.55926513671875 \tReconstruction Loss: 449.19189453125 \tKL Loss: 0.3673717677593231\n",
            "\tEpoch 1151 \tAverage Loss:  449.49658203125 \tReconstruction Loss: 449.134033203125 \tKL Loss: 0.362563818693161\n",
            "\tEpoch 1201 \tAverage Loss:  449.6343078613281 \tReconstruction Loss: 449.2763671875 \tKL Loss: 0.3579445779323578\n",
            "\tEpoch 1251 \tAverage Loss:  449.4888916015625 \tReconstruction Loss: 449.1356201171875 \tKL Loss: 0.353267103433609\n",
            "\tEpoch 1301 \tAverage Loss:  449.8290710449219 \tReconstruction Loss: 449.4808044433594 \tKL Loss: 0.3482752740383148\n",
            "\tEpoch 1351 \tAverage Loss:  449.4411926269531 \tReconstruction Loss: 449.0982971191406 \tKL Loss: 0.34290674328804016\n",
            "\tEpoch 1401 \tAverage Loss:  449.57080078125 \tReconstruction Loss: 449.2332458496094 \tKL Loss: 0.337560772895813\n",
            "\tEpoch 1451 \tAverage Loss:  449.2821350097656 \tReconstruction Loss: 448.9501037597656 \tKL Loss: 0.3320160508155823\n",
            "\tEpoch 1501 \tAverage Loss:  449.4264831542969 \tReconstruction Loss: 449.10003662109375 \tKL Loss: 0.32645705342292786\n",
            "\tEpoch 1551 \tAverage Loss:  449.28076171875 \tReconstruction Loss: 448.95989990234375 \tKL Loss: 0.3208763003349304\n",
            "\tEpoch 1601 \tAverage Loss:  449.323974609375 \tReconstruction Loss: 449.0086975097656 \tKL Loss: 0.315267413854599\n",
            "\tEpoch 1651 \tAverage Loss:  449.2172546386719 \tReconstruction Loss: 448.9075927734375 \tKL Loss: 0.3096533715724945\n",
            "\tEpoch 1701 \tAverage Loss:  449.34808349609375 \tReconstruction Loss: 449.044189453125 \tKL Loss: 0.3039056956768036\n",
            "\tEpoch 1751 \tAverage Loss:  449.23101806640625 \tReconstruction Loss: 448.9328308105469 \tKL Loss: 0.2981802523136139\n",
            "\tEpoch 1801 \tAverage Loss:  449.2025451660156 \tReconstruction Loss: 448.9101867675781 \tKL Loss: 0.29235729575157166\n",
            "\tEpoch 1851 \tAverage Loss:  449.25103759765625 \tReconstruction Loss: 448.9643859863281 \tKL Loss: 0.28664055466651917\n",
            "\tEpoch 1901 \tAverage Loss:  449.5651550292969 \tReconstruction Loss: 449.2843322753906 \tKL Loss: 0.2808305323123932\n",
            "\tEpoch 1951 \tAverage Loss:  449.16656494140625 \tReconstruction Loss: 448.89129638671875 \tKL Loss: 0.27526360750198364\n",
            "\tEpoch 2001 \tAverage Loss:  449.1518859863281 \tReconstruction Loss: 448.88250732421875 \tKL Loss: 0.2693915367126465\n",
            "\tEpoch 2051 \tAverage Loss:  449.1888732910156 \tReconstruction Loss: 448.9251708984375 \tKL Loss: 0.2637132704257965\n",
            "\tEpoch 2101 \tAverage Loss:  449.25457763671875 \tReconstruction Loss: 448.9963684082031 \tKL Loss: 0.25820106267929077\n",
            "\tEpoch 2151 \tAverage Loss:  449.1148986816406 \tReconstruction Loss: 448.8619689941406 \tKL Loss: 0.25293928384780884\n",
            "\tEpoch 2201 \tAverage Loss:  449.1160888671875 \tReconstruction Loss: 448.86871337890625 \tKL Loss: 0.2473805844783783\n",
            "[-667.0426660478115, -630.1954758763313, -591.6993395984173, -603.3826505839825, -574.0967919528484, -560.6401551365852, -557.6544218063354, -540.974688231945, -540.905346184969, -538.0534074902534, -543.0405741631985, -528.035617351532, -538.679125636816, -532.4861995577812, -529.8063290119171, -535.4007923007011, -516.9945336282253, -528.728150755167, -523.1303448975086, -515.0521962046623, -511.0401402115822, -516.9130359888077, -516.7712287902832, -512.6098116636276, -524.2510729432106, -503.7602055668831, -515.8598302006721, -502.38215443491936, -513.6401911377907, -507.9020539522171, -493.8135952949524, -502.2159236371517, -497.3041900396347, -488.5262902081013, -499.13647401332855, -493.0087953209877, -497.3108339011669, -504.23256972432137, -486.1541739106178, -492.47756364941597, -504.0599780678749, -506.99943283200264, -499.0865222811699, -497.4724360704422, -479.86597990989685, -484.638750821352, -485.0940899550915, -483.7627233862877, -480.2893625795841, -479.65822422504425, -473.32668948173523, -487.1669984459877, -491.82026091217995, -486.03023263812065, -487.5852909684181, -471.6138033270836, -477.6383564174175, -474.7173517048359, -470.4490237236023, -485.72128146886826, -475.989732503891, -490.01526686549187, -478.8098842203617, -484.11677345633507, -473.22872042655945, -475.67981600761414, -470.34858509898186, -482.25933253765106, -468.8243477642536, -466.7084553837776, -468.2247096300125, -486.6062490642071, -464.54740768671036, -473.6551035642624, -469.4164337515831, -470.1770629286766, -465.5531473457813, -469.1718005537987, -473.2803274989128, -465.17827159166336, -480.2101371884346, -476.7811627984047, -485.47554847598076, -466.40170845389366, -468.23947021365166, -465.3207310140133, -464.64517217874527, -482.0947212278843, -461.8830692768097, -477.37210670113564, -461.2430060207844, -464.254306435585, -461.9059853255749, -460.68946716189384, -462.11865869164467, -459.45869278907776, -461.0938345491886, -465.5839991867542, -472.3398117721081, -475.7689732015133, -468.85735961794853, -462.580491989851, -459.07607674598694, -461.8154773712158, -461.8571908771992, -462.74800676107407, -460.1335484981537, -458.39204770326614, -462.147118806839, -459.9457083940506, -463.77270770072937, -461.33789375424385, -466.14172250032425, -460.56109315156937, -466.39671963453293, -455.97822138667107, -464.26719176769257, -458.3325546681881, -457.43701934814453, -455.12303924560547, -462.92507141828537, -466.74948143959045, -458.42520517110825, -456.05903285741806, -459.32348439097404, -466.95225232839584, -457.56660521030426, -455.0782489478588, -459.6893583536148, -456.09787172079086, -458.40835174918175, -457.6140795648098, -463.21587923169136, -459.06418961286545, -456.13750490546227, -463.166544675827, -457.7954479455948, -464.6734281182289, -455.8143095970154, -458.1912938654423, -457.64195585250854, -455.315277159214, -455.34755086898804, -455.29322150349617, -457.14389887452126, -458.06134617328644, -454.7349129617214, -456.0869205892086, -455.9050931930542, -454.5414133667946, -463.5112589895725, -453.4552623331547, -468.9525800347328, -455.7480717897415, -456.2904065847397, -455.08977621793747, -457.10719987750053, -455.035275131464, -453.46876388788223, -454.28864228725433, -454.9509325027466, -455.30594459176064, -453.83951073884964, -454.6862525343895, -453.2674926519394, -458.0537875890732, -454.74718019366264, -455.1552976667881, -452.4264234304428, -454.30644235014915, -455.7818967998028, -455.17114037275314, -454.67902955412865, -452.877169162035, -454.209684073925, -454.3031924068928, -453.9877374470234, -460.45554998517036, -455.8893505334854, -452.5426576733589, -453.1061847805977, -452.6608033776283, -453.66973853111267, -454.2289691865444, -453.8119603097439, -455.22164633870125, -453.22785434126854, -457.5096660554409, -452.57272401452065, -453.0359079539776, -452.64362823963165, -453.2347818315029, -453.43897846341133, -457.3459660708904, -455.62427893280983, -458.82252618670464, -453.45103669166565, -452.73587143421173, -453.10302206873894, -454.0352723300457, -453.03563874959946, -452.2620568871498, -453.42619755864143, -452.37482500076294, -453.22082912921906, -453.5834355354309, -455.2841947376728, -451.4974958598614, -452.4617753624916, -456.75131118297577, -452.9972832798958, -451.3259873986244, -455.3521741628647, -452.592456638813, -452.3263426721096, -453.17073008418083, -452.26257848739624, -457.5926436185837, -452.58802741765976, -454.45593881607056, -453.12927278876305, -452.17597088217735, -451.84550100564957, -452.2951029241085, -451.8311348259449, -460.2519063651562, -451.695272564888, -456.1610444486141, -451.5407921373844, -453.4399220943451, -452.83377093076706, -452.33074775338173, -453.05868846178055, -451.91346752643585, -453.3810434937477, -451.46503108739853, -452.5746327340603, -451.9238305389881, -452.25478315353394, -451.30994987487793, -452.7572420537472, -451.34528639912605, -452.3908537328243, -455.5736565887928, -451.48576855659485, -451.41698211431503, -451.5303806960583, -452.4245736896992, -451.659397572279, -454.5361011326313, -453.6484327316284, -453.2896329164505, -451.93259835243225, -451.1744621396065, -451.394606590271, -455.162579447031, -452.70749256014824, -453.1101748943329, -452.3145931959152, -453.06009301543236, -452.24767899513245, -452.0719755291939, -452.5672949850559, -452.97160759568214, -451.85329350829124, -451.0594760775566, -451.19858771562576, -451.18163645267487, -450.7689006924629, -453.8564152121544, -451.2898904979229, -450.6547982990742, -451.2875033915043, -454.07270935177803, -455.2791386246681, -452.12913250923157, -451.8810755908489, -451.3742921054363, -451.2415434718132, -451.8122659623623, -452.0389082431793, -452.10191801190376, -452.51104894280434, -451.9699547290802, -451.14447608590126, -453.16394490003586, -452.7493270933628, -452.17332649230957, -451.80762109160423, -450.69458931684494, -451.46876686811447, -450.95574674010277, -451.811294734478, -452.18264865875244, -450.84184616804123, -451.34700056910515, -453.8451139628887, -451.68437656760216, -451.84294801950455, -451.7744940519333, -450.73389849066734, -450.70505943894386, -451.7639678120613, -451.19040259718895, -452.09790232777596, -450.8173729479313, -451.4658662080765, -451.2745712697506, -451.42672926187515, -450.6540122330189, -452.87229922413826, -451.3734522461891, -450.5647622048855, -451.0138891041279, -450.5108718276024, -452.1285859942436, -452.03383418917656, -450.75581339001656, -451.14741829037666, -450.42089757323265, -450.6308728158474, -450.5278322696686, -450.40819400548935, -451.37690511345863, -451.43182933330536, -451.2162761390209, -452.60456508398056, -450.58357179164886, -451.3554875552654, -450.60817900300026, -450.40994423627853, -450.8164161145687, -451.31727308034897, -450.6141743659973, -450.66824918985367, -450.51224637031555, -450.8122713267803, -458.47227597236633, -450.22370314598083, -451.61954456567764, -450.63793978095055, -450.41382271051407, -451.01048347353935, -450.4695774912834, -451.2099565565586, -452.1163550913334, -450.0587615072727, -451.4844815135002, -450.484907746315, -451.24998527765274, -450.1879745721817, -450.3591500520706, -451.0146444141865, -452.774963080883, -450.61203464865685, -450.3065610229969, -451.4343823194504, -450.9449207186699, -451.0139962732792, -450.1435905098915, -451.68395963311195, -451.6147825419903, -450.6736256480217, -451.2810946404934, -450.784176915884, -454.2500284612179, -450.6001729667187, -450.55448016524315, -451.1974229514599, -450.14685195684433, -451.19601571559906, -449.8778669536114, -450.35702630877495, -450.2225746810436, -451.0703017115593, -451.0350508093834, -450.1816816329956, -450.34901002049446, -452.10271018743515, -451.6046965420246, -450.2556020617485, -449.9929979145527, -451.1576151251793, -450.2897807061672, -450.02567860484123, -450.7884077131748, -450.80452424287796, -451.7111486494541, -450.3793383538723, -451.12467923760414, -450.11345317959785, -450.56649562716484, -450.3017401099205, -451.04312363266945, -450.1020072698593, -450.54596814513206, -451.323607981205, -450.0500870347023, -450.0120427310467, -450.01867923140526, -450.0249463915825, -450.3215282559395, -451.70620238780975, -450.90391796827316, -450.4630453288555, -450.19883558154106, -454.400514125824, -449.71285700798035, -449.7312046289444, -450.1752191185951, -449.75714644789696, -449.75445476174355, -449.79836997389793, -451.05814319849014, -450.90873223543167, -449.93265667557716, -449.69370779395103, -450.4763095974922, -450.02963066101074, -449.71384754776955, -450.3741424381733, -450.3787732422352, -449.42372408509254, -449.6714684665203, -450.5940490067005, -451.7390086054802, -451.018410384655, -450.2931074500084, -449.73577097058296, -449.7381915450096, -449.6663346886635, -450.99481052160263, -451.76386591792107, -450.14561572670937, -450.18666979670525, -450.10691198706627, -450.19100773334503, -449.97768342494965, -449.9133801162243, -450.8960107564926, -450.63372471928596, -451.2534891963005, -450.2645272016525, -450.7507854104042, -451.1940798461437, -451.49391877651215, -449.5561428666115, -450.53420531749725, -450.56561055779457, -449.8354743421078, -449.6373876929283, -450.1905535161495, -449.9715065062046, -451.7132107615471, -449.9992210865021, -450.23268458247185, -450.9658441245556, -451.3425456881523, -451.9341496527195, -450.1860964894295, -450.6115052998066, -450.647571593523, -450.50183445215225, -450.25905245542526, -449.9004925787449, -450.5910688340664, -450.1220672428608, -449.9361803531647, -450.79643884301186, -450.6418047249317, -450.57668793201447, -451.7944119274616, -449.5937803387642, -449.95079800486565, -449.82221922278404, -449.9908500611782, -449.34341114759445, -449.91423735022545, -450.9890276789665, -449.7484920620918, -449.9663616716862, -449.88070514798164, -449.84784469008446, -451.50791695713997, -449.3486176431179, -449.2567062973976, -449.5469408929348, -449.6247130930424, -450.0369890332222, -450.18459048867226, -449.71219366788864, -450.39138063788414, -449.6162465810776, -451.4149354696274, -449.8162390887737, -449.4833200275898, -450.0397818982601, -449.76078683137894, -449.72651520371437, -450.3720234334469, -450.0363883674145, -450.1660666167736, -449.79019859433174, -449.64995896816254, -449.4119745194912, -449.53416270017624, -449.5025754570961, -449.5831413567066, -451.16874530911446, -450.98919928073883, -451.0287041962147, -449.4322744309902, -449.5456870794296, -450.21033865213394, -450.0296236872673, -449.48689755797386, -450.101067006588, -449.8985261619091, -449.8038661181927, -450.200695335865, -449.76448887586594, -450.05286356806755, -450.52174720168114, -450.17064729332924, -449.929231017828, -451.1401207447052, -449.5971482694149, -449.5106320679188, -449.87962597608566, -450.07836773991585, -450.56467589735985, -449.4702595770359, -449.26177164912224, -451.8213528096676, -449.4601539969444, -450.05705881118774, -449.49215626716614, -449.7752793133259, -449.372155636549, -450.2836135625839, -449.9537087082863, -449.47581857442856, -449.28543931245804, -450.4894713461399, -449.63785779476166, -451.0800049006939, -449.7568142712116, -449.3198516666889, -449.5698465704918, -449.3600374162197, -450.24166190624237, -449.39851900935173, -449.7174907922745, -449.7248174250126, -449.71411341428757, -449.57477951049805, -449.31927090883255, -449.33329769968987, -450.1526571214199, -450.9263245463371, -449.4510795176029, -449.7139361798763, -449.51906275749207, -449.68606582283974, -449.2697906792164, -449.5309168994427, -449.51585897803307, -449.3159560263157, -449.3976733982563, -449.76357343792915, -449.6361289024353, -449.58762472867966, -449.2227438688278, -449.4596708714962, -449.6990713775158, -449.13176932930946, -449.34465378522873, -449.5082238018513, -449.50114300847054, -449.28855699300766, -449.2935335934162, -449.61165085434914, -449.44331404566765, -450.701762765646, -449.2702673971653, -449.30383202433586, -449.66540306806564, -449.3764605522156, -449.6040285229683, -449.4082263112068, -449.72783800959587, -449.7963235974312, -449.40002861618996, -449.50950187444687, -449.94155114889145, -450.8051954507828, -449.4042678773403, -449.16893193125725, -449.2590092718601, -449.02737110853195, -449.3892425298691, -449.2041792869568, -449.30317708849907, -449.6435712277889, -449.45420429110527, -449.2743611037731, -451.6334610879421, -449.1721644103527, -449.2368724346161, -449.3906955718994, -449.43425926566124, -449.19865158200264, -449.409732401371, -449.1720480322838, -449.31803175807, -449.2834774553776, -450.28740817308426, -449.18605145812035, -449.20096960663795, -449.3448874950409, -449.2097869813442, -449.1515904068947, -449.21293234825134, -449.57005313038826, -449.60875260829926, -449.07579746842384, -449.44250279664993, -449.1832922697067, -450.32059732079506, -450.7156289219856, -449.3352713882923, -449.1997327506542, -449.9102077782154, -449.5915052294731, -450.50062254071236, -449.52270099520683, -449.23180064558983, -449.5561716258526, -449.44417694211006, -449.3795489370823, -449.2557790875435, -449.1750420331955, -449.13096261024475, -450.0657390654087, -449.3850287795067, -450.0203640460968, -449.5523311197758, -449.9440054297447, -449.93748047947884, -449.13953799009323, -448.98057770729065, -449.4008766114712, -449.43476966023445, -449.2352271974087, -449.5448743402958, -449.1372943818569, -449.17024007439613, -449.3017901480198, -449.2499632835388, -449.3991248309612, -449.2917551100254, -449.5269779264927, -449.16482159495354, -448.96743154525757, -449.4120408296585, -449.2249014079571, -448.9740115404129, -449.51420268416405, -449.357736825943, -449.1878760457039, -449.15876242518425, -449.6032830774784, -449.01889657974243, -449.4890791475773, -448.94888946413994, -449.5821638405323, -449.1117933690548, -449.09650203585625, -449.13208597898483, -450.15317246317863, -449.04714703559875, -449.4612656533718, -449.4281220436096, -448.9896449148655, -449.05687841773033, -449.25466960668564, -449.41654282808304, -449.48585307598114, -449.3197173178196, -449.32405179739, -449.1151924431324, -449.14821630716324, -449.2364484667778, -450.1249447762966, -449.0931444764137, -449.0554277896881, -449.0184776484966, -449.8075470626354, -449.15566742420197, -449.40863585472107, -449.25611531734467, -449.49092411994934, -449.45299169421196, -449.54637092351913, -449.2893753647804, -449.2944336235523, -449.3040362596512, -449.04798501729965, -449.7637401819229, -449.39272901415825, -449.6251414716244, -449.3771488070488, -449.7985956668854, -449.1275078654289, -449.08050817251205, -449.1633021533489, -449.07248413562775, -449.53083139657974, -449.1146306991577, -449.2879737019539, -449.31394439935684, -449.0145677626133, -449.30549466609955, -449.28675994277, -450.323747754097, -448.95033472776413, -449.31102499365807, -449.0276077091694, -449.38350480794907, -449.5030765235424, -449.2666826546192, -449.18565651774406, -449.0782074332237, -449.2301909327507, -449.65442058444023, -450.86449015140533, -449.1907007098198, -449.70362398028374, -449.6688741147518, -449.3744448721409, -448.94442427158356, -449.0327211022377, -448.95454958081245, -449.060190141201, -448.95202842354774, -448.99932712316513, -449.4621571302414, -449.0038641691208, -449.0446902215481, -449.0074224472046, -449.2137191295624, -449.0874966979027, -449.27435767650604, -449.2381949722767, -449.09732869267464, -449.01386708021164, -449.06441032886505, -449.24572390317917, -449.5145282149315, -449.5005216896534, -449.08804628252983, -448.9387263059616, -450.2978635132313, -449.2089906334877, -449.42968967556953, -449.0468442738056, -449.2023317217827, -449.70261070132256, -449.03579595685005, -449.04211297631264, -449.21478447318077, -449.1250049471855, -448.92481449246407, -448.8246016204357, -449.1085468828678, -449.2185441851616, -448.83946496248245, -449.7906491756439, -448.95240393280983, -449.1574960052967, -449.7706101834774, -449.07659021019936, -449.11200603842735, -449.4138697087765, -449.16641652584076, -449.00337505340576, -449.48410335183144, -449.07072657346725, -449.31866785883904, -449.10835644602776, -449.35965460538864, -449.20332467556, -449.1895734667778, -449.1145133972168, -449.2700743675232, -448.84662663936615, -448.9069465994835, -449.0629405975342, -448.889466971159, -449.4859223663807, -449.1032436788082, -449.15571704506874, -448.95681843161583, -448.84813091158867, -449.084691375494, -448.98977157473564, -448.87129214406013, -449.34290185570717, -449.02425545454025, -449.03715232014656, -449.05551412701607, -449.39748457074165, -449.2338698208332, -448.81707909703255, -449.17021694779396, -448.87674421072006, -449.07857367396355, -449.3159577846527, -448.7904646396637, -448.9192701280117, -448.9722418785095, -448.8881296515465, -448.9439112842083, -448.95354974269867, -449.022607088089, -448.96861585974693, -448.8569468855858, -449.10233399271965, -449.0566116273403, -448.89452624320984, -449.0092372596264, -449.61592185497284, -448.9753729104996, -449.0308398902416, -449.43988502025604, -448.82365852594376, -450.8194337487221, -449.31179547309875, -449.11821389198303, -448.9713562428951, -449.5280855000019, -449.28896895051, -449.4164971411228, -449.28090715408325, -449.10922169685364, -449.0059880912304, -449.0363637506962, -448.8941678106785, -448.89717623591423, -449.5899148285389, -450.3050471842289, -450.4381080567837, -448.9895259439945, -448.9517430663109, -449.13744312524796, -448.9699341952801, -449.6757190525532, -448.8962647020817, -449.0976809859276, -448.9878181517124, -448.96032589673996, -449.0431880950928, -449.03828689455986, -449.2527471780777, -448.8501074016094, -449.11898052692413, -448.9093717634678, -448.97216415405273, -449.0181742608547, -448.8572155237198, -448.9357609152794, -448.8660227358341, -448.95094749331474, -449.0002293288708, -449.45267605781555, -448.9695158302784, -448.9447003006935, -449.4115534722805, -449.33771899342537, -448.94753327965736, -449.0644920170307, -448.9751524925232, -449.06812846660614, -448.7671264708042, -449.36349618434906, -448.85668218135834, -449.06077548861504, -448.7528790831566, -448.9851159155369, -448.9783997833729, -449.1637924015522, -448.9384760558605, -449.0070127546787, -448.9164019227028, -448.89289912581444, -448.8946338891983, -448.8750682771206, -449.06729432940483, -448.90701162815094, -449.0092423260212, -448.89986711740494, -448.89419120550156, -448.8339794874191, -449.17516726255417, -449.18884152173996, -449.07037332654, -448.91201439499855, -448.87416952848434, -449.08171796798706, -448.8510931432247, -448.96946823596954, -448.87876576185226, -449.14469361305237, -448.75287130475044, -449.0352453291416, -448.7973523736, -448.8365306556225, -449.3612452149391, -448.96053382754326, -448.7793390452862, -448.88720920681953, -449.00582522153854, -449.2354342639446, -448.8353705406189, -448.992743909359, -448.87979421019554, -448.9524547457695, -448.935331761837, -448.8592786490917, -448.8134706020355, -449.46880477666855, -448.901751935482, -448.7407684624195, -448.78797778487206, -448.73326018452644, -448.8061371445656, -448.8037596344948, -448.8940342962742, -448.92653557658195, -449.0544034540653, -448.7665608525276, -449.66322961449623, -448.9186774492264, -448.8155762553215, -448.83927938342094, -449.2239777445793, -449.4024325311184, -448.95826211571693, -449.7719683945179, -448.8741176724434, -449.0838440656662, -448.99526143074036, -448.9226715862751, -449.06340235471725, -448.8436621129513, -448.99926033616066, -448.89247012138367, -449.94998732209206, -448.79179215431213, -448.94390338659286, -448.75516176223755, -449.0517152249813, -449.10333237051964, -448.95710298419, -448.8141399025917, -449.3692088127136, -450.12282332777977, -448.89414715766907, -448.8593571484089, -449.02494871616364, -449.0680433809757, -448.91741743683815, -448.8220908045769, -448.80690732598305, -449.0012297928333, -449.0447366833687, -449.05259960889816, -448.7810469567776, -449.0694949030876, -448.92721751332283, -448.8741449415684, -448.9542550742626, -448.865846991539, -449.4296317100525, -448.76534950733185, -448.9272725582123, -448.8753593862057, -448.71904560923576, -448.8148092329502, -449.08766785264015, -448.78780323266983, -448.8789927959442, -448.7706896364689, -448.85657089948654, -449.48792454600334, -449.307441085577, -448.88421779870987, -448.8718192577362, -448.749803930521, -448.9831681251526, -448.806104272604, -448.8907005786896, -448.8974157869816, -448.74974486231804, -449.23781633377075, -448.82784336805344, -449.0765660703182, -448.870390444994, -449.76864805817604, -448.8784168660641, -448.8166478276253, -449.19897335767746, -449.0013672709465, -448.76192381978035, -448.89919140934944, -448.9497606754303, -449.2140146791935, -448.9274834394455, -448.8062969148159, -448.90602937340736, -449.02431640028954, -448.9883668422699, -448.8509440124035, -448.75469076633453, -448.88137099146843, -449.01296558976173, -448.7736498117447, -449.0610067844391, -448.7839717268944, -448.9747430086136, -448.84575086832047, -448.8563469648361, -448.78878819942474, -448.8708284497261, -448.78767800331116, -448.835541844368, -448.85520777106285, -448.83346223831177, -448.7646585404873, -448.8298570215702, -448.70511519908905, -448.7788610160351, -449.0951304733753, -449.5203994512558, -448.9226199388504, -448.7315490245819, -449.2441553771496, -448.869670599699, -448.79868364334106, -448.97507360577583, -448.95169591903687, -448.874304741621, -448.80390015244484, -449.0150226056576, -448.74109587073326, -448.8815390467644, -448.8761404156685, -448.7497413158417, -448.75881120562553, -449.3749980330467, -448.84954610466957, -448.71520778536797, -448.8821105360985, -448.8221464455128, -448.90787547826767, -448.8848384320736, -448.8937820792198, -448.7545628249645, -448.7820010781288, -448.7393725514412, -448.91680777072906, -448.66284519433975, -448.8573092520237, -448.7533423602581, -448.71703428030014, -448.74112236499786, -448.8540169596672, -448.7901849448681, -448.7074939906597, -448.70659083127975, -448.99838241934776, -448.63611897826195, -448.8596419095993, -448.78543546795845, -448.91353037953377, -448.780881524086, -449.06049501895905, -448.7077197432518, -448.75908970832825, -448.9386354982853, -448.8538372516632, -448.9157375693321, -448.8631069660187, -449.56331327557564, -448.9311378598213, -448.88850316405296, -448.7783953547478, -448.91795429587364, -448.85698413848877, -448.70134857296944, -448.8245227634907, -448.70838072896004, -448.81388971209526, -448.87124222517014, -448.73831754922867, -448.9831697642803, -448.7325370311737, -448.8715544939041, -448.87217459082603, -448.7498370409012, -448.80138996243477, -450.25489154458046, -448.7961149215698, -448.7308951020241, -448.79861322045326, -448.86370956897736, -448.99579441547394, -448.8860922753811, -448.7608266174793, -448.8647793829441, -448.8414427638054, -449.0204677283764, -448.84478360414505, -448.69330033659935, -449.3403424024582, -448.7748489975929, -448.7611163556576, -448.8825481235981, -448.9193525314331, -448.96436831355095, -448.8422992527485, -448.70887991786003, -448.78795662522316, -448.8586722910404, -448.715033441782, -448.9428258538246, -448.7090384066105, -448.7959929704666, -448.74589335918427, -448.9792697131634, -448.7439505159855, -449.0210835337639, -449.20071026682854, -448.79582810401917, -448.81660544872284, -449.05463925004005, -448.78110548853874, -448.7727418243885, -448.7764048874378, -448.73325580358505, -448.77146938443184, -448.8120943903923, -448.84921169281006, -448.71616154909134, -448.70536693930626, -449.0017312467098, -449.45440551638603, -448.6571002304554, -449.38015270233154, -448.7171188890934, -448.8632310926914, -448.909825026989, -448.7629414200783, -448.87729048728943, -448.6777392625809, -448.7430827319622, -448.73161482810974, -449.1336607336998, -448.9122596681118, -449.13147017359734, -449.02556997537613, -448.9953539073467, -448.85053926706314, -448.67593917250633, -448.7238468825817, -448.8938288986683, -448.6845419704914, -448.7729259133339, -448.9949471950531, -448.72187343239784, -448.78248089551926, -448.69968816637993, -449.15290972590446, -448.79298517107964, -448.78181689977646, -448.9504283964634, -448.70253375172615, -448.8270468711853, -448.76421397924423, -448.9437831938267, -448.6991237401962, -449.07253870368004, -448.85198375582695, -449.25350227952003, -448.71952959895134, -448.74082738161087, -448.74918937683105, -448.9466407299042, -448.7653992176056, -448.88594767451286, -448.91842260956764, -448.734256953001, -448.6618181169033, -448.82729664444923, -448.8766545653343, -448.7180046439171, -448.97744727134705, -448.7395420074463, -448.7214866578579, -448.87436160445213, -448.69093132019043, -448.71731063723564, -449.41699969768524, -448.6525949537754, -448.70926916599274, -449.1356966495514, -449.10306963324547, -449.66989451646805, -448.9473326206207, -449.286418735981, -448.9162403047085, -448.83333018422127, -448.8575409054756, -448.825146228075, -448.71576169133186, -448.7641271352768, -448.92184004187584, -448.96813303232193, -448.8207282423973, -448.91084337234497, -448.7859009206295, -448.8020143508911, -448.8986352980137, -449.27363923192024, -448.82298374176025, -448.7630168199539, -448.8744068443775, -448.73780968785286, -448.7857248187065, -448.76464208960533, -448.75442507863045, -448.8929535150528, -448.7911576330662, -448.7985251545906, -448.760085940361, -448.6521286070347, -448.76112204790115, -448.8013898730278, -448.90101313591003, -448.7935726046562, -448.7823530137539, -448.8094638288021, -448.6911876499653, -448.6857978105545, -448.77122911810875, -448.8562330901623, -449.15156269073486, -448.64475589990616, -448.7164125442505, -449.0059669613838, -448.7289899289608, -448.7953378558159, -448.6717167198658, -448.65637412667274, -448.60380241274834, -449.0573059618473, -448.9005475640297, -448.7483333647251, -448.72636806964874, -448.9837926328182, -448.85690382122993, -448.97461172938347, -448.8605701327324, -448.7550131678581, -449.540815025568, -448.6974880695343, -448.65106987953186, -448.8144628405571, -448.7295958697796, -448.70775040984154, -448.76531341671944, -448.807007342577, -448.7607504725456, -448.7014653980732, -448.81240913271904, -448.76893508434296, -448.9605404138565, -449.0185392796993, -448.65029406547546, -448.7508008182049, -448.7991543710232, -449.0150189399719, -448.7146734893322, -448.66002529859543, -448.86035293340683, -448.6796379685402, -448.63848119974136, -448.64496394991875, -448.63518181443214, -448.6293075978756, -449.13252916932106, -448.8037725389004, -448.757363319397, -448.77333214879036, -448.96490132808685, -448.7427100241184, -448.6669130027294, -448.7427902817726, -448.62741592526436, -448.6978962421417, -448.73306798934937, -448.7006762623787, -448.80942782759666, -448.6121172904968, -449.0075503885746, -448.6282892525196, -448.6530217528343, -448.7051612138748, -448.71921560168266, -448.62319469451904, -448.7237998843193, -448.92224407196045, -448.6276404559612, -448.71661454439163, -448.6562663912773, -448.66983312368393, -448.8010152578354, -448.6765190958977, -448.69039142131805, -448.76294991374016, -448.70703104138374, -448.84910947084427, -448.7773802578449, -448.7717536389828, -448.7531245648861, -448.70989817380905, -448.80375614762306, -448.6825274527073, -448.7839861214161, -448.7540657222271, -448.83031690120697, -448.855416983366, -448.7146840393543, -448.700844168663, -448.6502325832844, -448.6446051597595, -448.6425187587738, -448.84737315773964, -448.87858188152313, -448.6565545797348, -448.7553903758526, -448.627570271492, -448.6803250312805, -448.73323357105255, -448.9660126566887, -448.8884245157242, -448.74097922444344, -448.7620520591736, -448.65485885739326, -448.73379400372505, -448.7209643423557, -448.78110378980637, -448.6904556155205, -448.9571393728256, -448.6012543439865, -448.75608360767365, -449.0175424218178, -448.8619419038296, -448.6883957386017, -448.72249233722687, -448.6376947462559, -448.65220353007317, -448.6365316808224, -448.72922921180725, -448.67910596728325, -448.6762556731701, -448.67737290263176, -448.66625240445137, -448.63526555895805, -448.6445020735264, -448.82668194174767, -448.64469197392464, -448.76934361457825, -448.7752797007561, -448.9414622783661, -448.62439489364624, -448.69935858249664, -448.6517958045006, -448.60817155241966, -449.0365944802761, -449.2831902205944, -449.09142979979515, -448.7421353459358, -448.78191259503365, -448.9609129726887, -448.7452870607376, -448.84909042716026, -448.6894955635071, -448.93139213323593, -448.67408099770546, -448.89568507671356, -448.6339147388935, -448.898697078228, -448.7542324960232, -448.65554493665695, -448.7682861685753, -448.64692735671997, -448.60665625333786, -448.7424127161503, -448.70275351405144, -448.73847407102585, -448.66149315238, -448.6924850642681, -448.6905199289322, -448.659502863884, -448.74777978658676, -448.6570723950863, -448.87932327389717, -448.75620418787, -448.6607937216759, -448.6178741157055, -448.694768846035, -448.6588103175163, -448.7185550034046, -448.77506524324417, -448.8086254000664, -448.68502005934715, -448.6727731227875, -448.926579862833, -448.71456521749496, -448.70585840940475, -448.88654321432114, -448.67059034109116, -448.70622569322586, -448.63312754034996, -448.63901039958, -448.7300386726856, -448.77739614248276, -448.68516382575035, -448.6653810739517, -448.7272031903267, -448.620264172554, -448.8143521845341, -448.63645908236504, -448.60215163230896, -448.7114300131798, -448.67336881160736, -448.68315878510475, -449.08006420731544, -448.8854092657566, -448.61808770895004, -448.87704434990883, -448.682541012764, -448.75772312283516, -448.7516067624092, -448.6610800921917, -448.74001863598824, -448.6368892788887, -449.00370183587074, -448.67958948016167, -448.6202794909477, -448.84966760873795, -448.6583395600319, -448.6983363330364, -448.663229316473, -448.911906927824, -448.7486878633499, -448.68043768405914, -448.6691956818104, -448.80056273937225, -448.6862026154995, -448.64792266488075, -448.77459168434143, -448.6694502234459, -448.6738987863064, -448.85006976127625, -448.70467522740364, -448.67247062921524, -448.73056840896606, -448.6796880066395, -448.68044462800026, -448.6437269151211, -448.7248689830303, -448.7120139300823, -448.7197892665863, -448.78945422172546, -449.04792749881744, -448.6867325305939, -448.6715170145035, -448.74486577510834, -448.6687690913677, -448.70848765969276, -448.69550308585167, -448.82048973441124, -448.6548579931259, -448.6637885272503, -448.61076962947845, -448.73328909277916, -448.7024277150631, -448.6748319864273, -448.7735795676708, -448.68452057242393, -448.6209744513035, -448.6182509958744, -448.9084677994251, -448.8412275016308, -448.6708357334137, -448.7029887139797, -448.98395198583603, -448.6604202091694, -448.6589115560055, -448.7029058933258, -448.8151989877224, -448.72714364528656, -448.71251305937767, -448.6283957660198, -448.64736837148666, -449.05086410045624, -448.68115824460983, -448.7134924829006, -448.7074046432972, -448.6603935658932, -448.64713621139526, -448.67889380455017, -448.8923545181751, -448.67344012856483, -448.65914729237556, -448.6267286539078, -448.61927485466003, -448.68488162755966, -448.644471347332, -448.8142060935497, -448.6459863483906, -448.7563008069992, -448.6055369377136, -448.6761792600155, -448.8018451333046, -448.76033344864845, -448.6821090877056, -449.02209854125977, -448.70057824254036, -448.81670981645584, -448.785473972559, -448.6559109389782, -448.71009626984596, -448.69735810160637, -448.6701872050762, -448.6867490410805, -448.65494006872177, -448.61364045739174, -448.6390236020088, -448.62113320827484, -448.66043427586555, -448.6653425991535, -448.67140954732895, -448.78505101799965, -448.6965120732784, -448.74515050649643, -448.7489894926548, -448.61424693465233, -448.78632882237434, -448.693455606699, -448.74810510873795, -448.698233127594, -448.63438388705254, -448.62629160284996, -448.7005672752857, -448.60351476073265, -448.58828070759773, -448.6512034833431, -448.65251138806343, -448.793528676033, -448.635594189167, -448.78344613313675, -448.6256018579006, -448.8651590645313, -448.77161008119583, -448.6284377872944, -448.6756367087364, -448.9297758638859, -448.776097625494, -448.7136690914631, -448.6768471300602, -448.7434204816818, -448.66091617941856, -448.7997578084469, -448.7237551808357, -448.68809708952904, -448.6283010840416, -448.76891627907753, -448.77619954943657, -448.64297965168953, -448.6384230554104, -448.6842513680458, -448.6415789425373, -449.03915336728096, -448.60383290052414, -448.69805616140366, -448.8017098903656, -448.65478029847145, -448.693430095911, -448.6206609904766, -448.67908930778503, -448.7354436814785, -448.6491891145706, -448.74747571349144, -448.6656487584114, -448.6277070045471, -448.6942281126976, -449.3062813282013, -448.6039365231991, -448.6509225964546, -448.65393429994583, -448.9305676519871, -448.7469311952591, -448.65164190530777, -448.75017097592354, -448.7063647508621, -448.70940285921097, -448.83527448773384, -448.65227550268173, -448.72657188773155, -448.6869153678417, -448.71455240249634, -448.69986268877983, -448.64665922522545, -448.71250542998314, -448.61392295360565, -448.6665872335434, -448.75520196557045, -448.766176879406, -448.6756796836853, -448.70786452293396, -448.66781586408615, -448.8367224037647, -448.6469850540161, -448.58307325839996, -448.6554844081402, -448.702078551054, -448.61863735318184, -448.6659341454506, -448.7087148427963, -448.56594771146774, -448.644068390131, -448.6033847928047, -448.9499086737633, -448.7201641201973, -448.81186187267303, -448.61348766088486, -448.6703337430954, -448.597939401865, -448.8512299358845, -448.7466070353985, -448.57136303186417, -448.62655955553055, -448.6562744677067, -448.72545075416565, -448.67576083540916, -448.67606022953987, -448.6089459657669, -448.64928486943245, -448.6056092083454, -448.6724691390991, -448.6463096141815, -448.60388538241386, -448.59243670105934, -448.6271929740906, -448.73467338085175, -448.6887712776661, -448.62046897411346, -448.6566903889179, -448.6713365316391, -448.6517420709133, -448.63474202156067, -448.6356557607651, -448.7490276694298, -448.62225314974785, -448.6214253604412, -448.61830988526344, -448.64772683382034, -448.5898009836674, -448.69358891248703, -448.6129279434681, -448.6366688013077, -448.63898679614067, -448.6220484673977, -448.66489338874817, -449.0805713236332, -448.94200962781906, -448.6091930270195, -448.6900452673435, -448.6671697795391, -448.63587388396263, -448.60796707868576, -449.0001971125603, -448.6531029045582, -448.752878934145, -448.641626983881, -448.6838798224926, -448.60018798708916, -448.7402837574482, -448.60395178198814, -448.71859762072563, -448.6213891506195, -448.8251153230667, -448.69433256983757, -448.7165969610214, -448.66372895240784, -448.6952729821205, -448.65961864590645, -448.64584746956825, -448.6560035645962, -448.6720508635044, -448.6097293794155, -448.615950524807, -448.7622486650944, -448.6443852186203, -448.67862182855606, -448.75836074352264, -448.6133653521538, -448.6495235860348, -448.66297647356987, -448.6623305082321, -448.7036775648594, -448.73589953780174, -448.6320433616638, -448.6360056102276, -448.76859867572784, -448.68860188126564, -448.6423880159855, -448.7141872048378, -448.64621686935425, -448.6220704615116, -448.7853953540325, -448.6592579782009, -448.62659776210785, -448.73462450504303, -448.70748752355576, -448.69069641828537, -448.64485281705856, -448.6506152153015, -448.6968443095684, -448.7286379635334, -448.8438958823681, -448.6776533424854, -448.687558054924, -448.6316977739334, -448.6566190123558, -448.71398252248764, -448.74504017829895, -448.63465055823326, -448.707917034626, -448.6217900812626, -448.8250014781952, -448.7014584541321, -448.60233077406883, -448.6203918457031, -449.01671946048737, -448.68363276124, -448.6314008831978, -448.7089013159275, -448.5948733985424, -448.6041998267174, -448.6457847058773, -448.58934926986694, -448.61201652884483, -448.5885733962059, -448.57562932372093, -448.624941855669, -448.6334530711174, -448.7132539153099, -448.78185430169106, -448.73137357831, -448.58439350128174, -448.77817356586456, -448.63503831624985, -448.62355732917786, -448.658036082983, -448.6059674024582, -448.6619625091553, -448.61312901973724, -448.639949709177, -448.6252361834049, -448.62837675213814, -448.65568751096725, -448.6500704586506, -448.62339636683464, -448.7584662735462, -448.6328512430191, -448.62756782770157, -448.67318853735924, -448.59432739019394, -448.699609875679, -448.64342254400253, -448.69746538996696, -448.6685619056225, -448.62226364016533, -448.6169512271881, -448.67334613204, -448.63556283712387, -448.61782947182655, -448.597319573164, -448.63198629021645, -448.65154737234116, -448.65938913822174, -448.68138897418976, -448.6433282792568, -448.6981016397476, -448.6410275697708, -448.75781190395355, -448.62969022989273, -448.84922528266907, -448.68585300445557, -448.66722452640533, -448.6304090321064, -448.6585975587368, -448.6123852133751, -448.796185195446, -448.74643263220787, -448.8358980715275, -448.78974318504333, -448.6615828871727, -448.5793507397175, -448.6522111296654, -448.67151433229446, -448.6155934333801, -448.64631363749504, -448.6869229078293, -448.5992679297924, -448.6669787168503, -448.61191695928574, -448.61352667212486, -448.67873576283455, -448.7404956817627, -448.5878984928131, -448.69140633940697, -448.607902854681, -448.62620720267296, -448.5819509625435, -448.67188128829, -448.61499243974686, -448.600981593132, -448.6160554289818, -448.78213012218475, -448.63697975873947, -448.7001742422581, -448.6528650522232, -448.58465111255646, -448.60643500089645, -448.66038596630096, -448.6777454316616, -448.8035953938961, -448.61034882068634, -448.54759657382965, -448.63306933641434, -448.641515403986, -448.62097081542015, -448.61385399103165, -448.5922115147114, -448.5573259592056, -448.606975287199, -448.64631071686745, -448.65128234028816, -448.5783430635929, -448.6308010518551, -448.60699474811554, -448.6593907177448, -448.69704580307007, -448.6144596338272, -448.6796406209469, -448.6072790026665, -448.6339176297188, -448.5869784653187, -448.61319118738174, -448.6624750196934, -448.65365302562714, -448.59643027186394, -448.7314993441105, -448.62712520360947, -448.72331339120865, -448.60877752304077, -448.6220797598362, -448.76367887854576, -448.63452395796776, -448.67175129055977, -448.60048761963844, -448.93019539117813, -448.61176496744156, -448.65530383586884, -448.60021007061005, -448.77177169919014, -448.6682436466217, -448.6766547560692, -448.59458088874817, -448.7134364247322, -448.7981716990471, -448.63226532936096, -448.647207736969, -448.6177471578121, -448.6019292771816, -449.00350174307823, -448.5971434414387, -448.6197730600834, -448.59754344820976, -448.6442854106426, -448.7992134690285, -448.6253746151924, -448.78161415457726, -448.63447573781013, -448.6402920782566, -448.780172675848, -448.8406432569027, -448.77061930298805, -448.631226927042, -448.65376245975494, -448.77636739611626, -448.74559250473976, -448.7429251074791, -448.6030824780464, -448.6496421098709, -448.6535700261593, -448.6437345445156, -448.68089696764946, -448.7133916914463, -448.61584889888763, -448.613308429718, -448.7625318467617, -448.8683257997036, -448.6675020158291, -448.60150629282, -448.6200459599495, -448.64713233709335, -448.62236964702606, -448.70744121074677, -448.67022946476936, -448.6579504311085, -448.6669732630253, -448.6445951759815, -448.6790722310543, -448.76207399368286, -448.64621913433075, -448.604002982378, -448.57744309306145, -448.62888768315315, -448.6005599796772, -448.6847215592861, -448.6084821522236, -448.60045033693314, -448.6650518774986, -448.65567871928215, -448.61603277921677, -448.7197893857956, -448.5986907482147, -448.7530751824379, -448.67412081360817, -448.64713856577873, -448.6428011059761, -448.6351683437824, -448.6594570875168, -448.6077879369259, -448.61465215682983, -448.62496438622475, -448.59947967529297, -448.6326808333397, -448.63777524232864, -448.6399090886116, -448.6439965069294, -448.5864991545677, -448.7062792778015, -448.58719739317894, -448.77252864837646, -448.61590737104416, -448.6754422187805, -448.597526460886, -448.72749733924866, -448.6164394915104, -448.66642436385155, -448.81406450271606, -448.61484056711197, -448.62231290340424, -448.7154486775398, -448.6060382425785, -448.8226781785488, -448.59851482510567, -448.5917295217514, -448.6058198809624, -448.7020339369774, -448.72225922346115, -448.60106575489044, -448.6044456064701, -448.6452105641365, -448.59231746196747, -448.59423491358757, -448.5841283798218, -448.61744925379753, -448.7988727092743, -448.6184461712837, -448.6518265604973, -448.66115975379944, -448.61681270599365, -448.6131157875061, -448.62861528992653, -448.6099969148636, -448.6499727368355, -448.59967663884163, -448.67340436577797, -448.66662633419037, -448.61004358530045, -448.88439279794693, -448.6368220150471, -448.7086784541607, -448.65425077080727, -448.80063021183014, -448.6622182428837, -448.7814676761627, -448.6897763609886, -448.70349484682083, -448.6758628487587, -448.6833272278309, -448.6365621984005, -448.71583592891693, -448.59482380747795, -448.6366548836231, -448.66139701008797, -448.7279779613018, -448.6132220327854, -448.67031145095825, -448.6868431866169, -448.6372435390949, -448.68679690361023, -448.66069623827934, -448.5979442894459, -448.6478033363819, -448.6437985599041, -448.6260008215904, -448.58668822050095, -448.6495187282562, -448.6434088945389, -448.6961672902107, -448.6386953294277, -448.67067062854767, -448.587106436491, -448.7062102854252, -448.68294858932495, -448.67369425296783, -448.65735960006714, -448.62228712439537, -448.7832297384739, -448.62196084856987, -448.6301880180836, -448.6614576280117, -448.72181141376495, -448.7027570903301, -448.6032284796238, -448.6280600130558, -448.6412039399147, -448.6330475509167, -448.67478772997856, -448.67706823349, -448.70788207650185, -448.6111626327038, -448.6107884645462, -448.6519803404808, -448.61806854605675, -448.64143884181976, -448.6382582485676, -448.68909454345703, -448.6199668645859, -448.6501436829567, -448.6013109385967, -448.8549990952015, -448.6306235194206, -448.70129239559174, -448.6205632984638, -448.6099337339401, -448.61837846040726, -448.6655196547508, -448.60865688323975, -448.6410281956196, -448.61468425393105, -448.75884330272675, -448.6090227663517, -448.61523950099945, -448.6712928414345, -448.64708456397057, -448.7835516035557, -448.63894787430763, -448.62398409843445, -448.6725885272026, -448.61328211426735, -448.6449801027775, -448.6949896514416, -449.36215364933014, -448.64086228609085, -448.67134526371956, -448.92741656303406, -448.65297079086304, -448.64253532886505, -448.65590661764145, -448.6890863776207, -448.73816734552383, -449.0590981543064, -448.6643803715706, -448.6428641974926, -448.66074827313423, -448.69645777344704, -448.63582465052605, -448.73605182766914, -448.63443621993065, -448.9387358427048, -448.6675571203232, -448.5925780534744, -448.647271245718, -448.909029006958, -448.69846427440643, -448.7164478003979, -448.6440395414829, -448.7059720158577, -448.6212677061558, -448.6491144299507, -448.6484287083149, -448.69004037976265, -448.71672889590263, -448.64206796884537, -448.68081164360046, -448.60795345902443, -448.6044931411743, -448.6227016746998, -448.67811223864555, -449.0062280893326, -448.6838812530041, -448.63509476184845, -448.69760808348656, -448.6622821390629, -448.6691330373287, -448.63771536946297, -448.6574769616127, -448.6345759034157, -448.6557432115078, -448.644928753376, -448.66066509485245, -448.63688173890114, -448.6377571821213, -448.64006727933884, -448.6455834507942, -448.8107060790062, -448.60781463980675, -448.63228011131287, -448.6831134259701, -448.74804696440697, -448.6090297102928, -448.6146972477436, -448.6741071343422, -448.623713940382, -448.62385842204094, -448.92563888430595, -448.6879560351372, -448.64534252882004, -448.6086199581623, -448.7337940633297, -448.6230351924896, -448.60807114839554, -448.6019890010357, -448.68862026929855, -448.685803681612, -448.7741404771805, -448.6146401464939, -448.655641913414, -448.62926197052, -448.7126859128475, -448.7271366119385, -448.60227423906326, -448.64764097332954, -448.6407622694969, -448.5996430516243, -448.6145553588867, -448.62263268232346, -448.6025738418102, -448.62118166685104, -448.62685096263885, -448.6172919869423, -448.67090478539467, -448.6194443702698, -448.69072645902634, -448.6036514043808, -448.69397604465485, -448.63409316539764, -449.0642006099224, -448.65433582663536, -448.66476035118103, -448.6281274855137, -448.63354846835136, -448.6395507454872, -448.64805594086647, -448.7273315489292, -448.6889002919197, -449.0715807080269, -448.828366369009, -448.63248282670975, -448.8150190114975, -448.6213327944279, -448.647253036499, -448.6579776406288, -448.62674167752266, -448.65446749329567, -448.63516703248024, -448.6197434067726, -448.73441714048386, -448.6329647898674, -448.62517097592354, -448.7489398121834, -448.6144064962864, -448.6227578520775, -448.63037779927254, -448.60119420289993, -448.71214869618416, -448.60700711607933, -448.6098982691765, -448.6270723044872, -448.6066482067108, -448.60654905438423]\n",
            "Training complete!\n",
            "-32.57985758781433\n"
          ]
        }
      ]
    },
    {
      "cell_type": "code",
      "source": [
        "plt.imshow(x[0,0])"
      ],
      "metadata": {
        "colab": {
          "base_uri": "https://localhost:8080/",
          "height": 282
        },
        "id": "nr-gKih9dmGA",
        "outputId": "5d147f5c-5270-4606-972b-3f857fabe637"
      },
      "execution_count": null,
      "outputs": [
        {
          "output_type": "execute_result",
          "data": {
            "text/plain": [
              "<matplotlib.image.AxesImage at 0x7fccf77b1110>"
            ]
          },
          "metadata": {},
          "execution_count": 29
        },
        {
          "output_type": "display_data",
          "data": {
            "text/plain": [
              "<Figure size 432x288 with 1 Axes>"
            ],
            "image/png": "[encoded data removed]"
          },
          "metadata": {
            "needs_background": "light"
          }
        }
      ]
    },
    {
      "cell_type": "code",
      "source": [
        "img = vae(x,psi1,psi2)[0][0][0]\n",
        "plt.imshow(img.detach().numpy())"
      ],
      "metadata": {
        "colab": {
          "base_uri": "https://localhost:8080/",
          "height": 282
        },
        "id": "hgvMoWeaWO5I",
        "outputId": "c7460e64-4c6c-483e-a9d8-63148d2e3e73"
      },
      "execution_count": null,
      "outputs": [
        {
          "output_type": "execute_result",
          "data": {
            "text/plain": [
              "<matplotlib.image.AxesImage at 0x7fccf769f710>"
            ]
          },
          "metadata": {},
          "execution_count": 35
        },
        {
          "output_type": "display_data",
          "data": {
            "text/plain": [
              "<Figure size 432x288 with 1 Axes>"
            ],
            "image/png": "[encoded data removed]"
          },
          "metadata": {
            "needs_background": "light"
          }
        }
      ]
    },
    {
      "cell_type": "markdown",
      "source": [
        "#4b"
      ],
      "metadata": {
        "id": "gnFBKHFNLvkw"
      }
    },
    {
      "cell_type": "code",
      "source": [
        "class VAE_4(nn.Module):\n",
        "    def __init__(self, dims):\n",
        "        super().__init__()        \n",
        "        self.z_mean = ElementWiseLinear(10, bias=False)\n",
        "        self.z_var =nn.Sequential(\n",
        "            ElementWiseLinear(10, bias=False),\n",
        "            torch.nn.Softplus())\n",
        "        \n",
        "        self.decoder = nn.Sequential(\n",
        "            torch.nn.Linear(10, 8*8*64),\n",
        "            Reshape(-1, 64, 8, 8),\n",
        "            nn.ConvTranspose2d(64, 64, kernel_size=(3, 3), stride = (1, 1),  padding=1),\n",
        "            nn.BatchNorm2d(64),\n",
        "            nn.ReLU(),            \n",
        "            nn.ConvTranspose2d(64, 64, kernel_size=(3, 3), stride = (3, 3),  padding=0),\n",
        "            nn.BatchNorm2d(64),\n",
        "            nn.ReLU(),\n",
        "            nn.ConvTranspose2d(64, 32, kernel_size=(3, 3), stride = (1, 1),  padding=0),\n",
        "            nn.BatchNorm2d(32),\n",
        "            nn.ReLU(),\n",
        "            # 2 output channels, one for mu one for sigma\n",
        "            # alternatively one for beta one for alpha\n",
        "            nn.ConvTranspose2d(32, 2, kernel_size=(3, 3), stride = (1, 1), padding=0),\n",
        "            # this for gauss (i guess)\n",
        "            # nn.Sigmoid()\n",
        "            # this for beta\n",
        "            nn.Softplus()\n",
        "        )\n",
        "    \n",
        "    def reparametization(self, z_mu, z_var):\n",
        "\n",
        "        z = z_mu + torch.sqrt(z_var)*torch.randn(z_var.shape,device=device)\n",
        "\n",
        "\n",
        "        return z\n",
        "  \n",
        "    \n",
        "    def forward(self, x, psi1, psi2):\n",
        "        z_mean, z_var = self.z_mean(psi1), self.z_var(psi2)\n",
        "        encoded = self.reparametization(z_mean, z_var)\n",
        "        decoded = self.decoder(encoded)\n",
        "        return decoded, z_mean, z_var"
      ],
      "metadata": {
        "id": "QtIvZ8p6LuBj"
      },
      "execution_count": null,
      "outputs": []
    },
    {
      "cell_type": "code",
      "source": [
        "def loss_function(x, x_reconstr, mu_z, var_z):\n",
        "\n",
        "    d2 = (x_reconstr[:,:1,:,:14]-x[:,:,:,:14])**2\n",
        "    e = 1e-5\n",
        "    var = torch.tensor([0.5]).to(device)\n",
        "    reconstr_loss = 0.5 * torch.sum(torch.log(var * 2 * np.pi) + d2 / var)          \n",
        "\n",
        "    #distribution = torch.distributions.beta.Beta(x_reconstr[:,:1,:,:],\n",
        "    #                                     x_reconstr[:,1:,:,:])\n",
        "    \n",
        "    #reconstr_loss = torch.sum(-distribution.log_prob(x+e*(0.5-x)))\n",
        "\n",
        "    \n",
        "    kl_loss = -0.5 * torch.sum(1-mu_z.pow(2) + torch.log(var_z) - var_z)\n",
        "    total_loss = reconstr_loss + kl_loss\n",
        "\n",
        "    return total_loss, reconstr_loss, kl_loss\n",
        "\n"
      ],
      "metadata": {
        "id": "KksTl-ncL6RA"
      },
      "execution_count": null,
      "outputs": []
    },
    {
      "cell_type": "code",
      "source": [
        "train_data = torch.utils.data.Subset(train_dataset, range(1,2))\n",
        "train_loader = DataLoader(dataset=train_data)"
      ],
      "metadata": {
        "id": "6byjB7Q1M8cq"
      },
      "execution_count": null,
      "outputs": []
    },
    {
      "cell_type": "code",
      "source": [
        "epochs = 20000\n",
        "vae = VAE_4(dims=10).to(device)\n",
        "optimizer = Adam(vae.parameters(), lr=0.0005)\n",
        "print(\"Start training VAE...\")\n",
        "start_time = time.time()\n",
        "vae.train()\n",
        "\n",
        "train_ELBO = []\n",
        "validation_ELBO = []\n",
        "psi1, psi2 = torch.rand(10).to(device), torch.rand(10).to(device)\n",
        "for epoch in range(epochs):\n",
        "    \n",
        "    overall_loss = 0\n",
        "    overall_reconstr_loss = 0\n",
        "    overall_kl_loss = 0\n",
        "    for batch_idx, (x, _) in enumerate(train_loader):\n",
        "\n",
        "        optimizer.zero_grad()\n",
        "        x = x.to(device)\n",
        "        x_reconstr, mu, log_sigma = vae(x, psi1, psi2)\n",
        "        loss, reconstr_loss, kl_loss = loss_function(x, x_reconstr, mu, log_sigma)\n",
        "        overall_loss += loss.item()\n",
        "        overall_reconstr_loss += reconstr_loss.item()\n",
        "        overall_kl_loss += kl_loss.item()\n",
        "        \n",
        "        loss.backward()\n",
        "        optimizer.step()\n",
        "        \n",
        "        \n",
        "        \n",
        "    n_datapoints = batch_idx * batch_size\n",
        "    train_ELBO.append((-overall_reconstr_loss + overall_kl_loss))\n",
        "    \n",
        "    with torch.no_grad():\n",
        "        validation_loss = 0\n",
        "        validation_reconstr_loss = 0\n",
        "        validation_kl_loss = 0\n",
        "        for batch_idx, (x, y) in enumerate(train_loader):\n",
        "            x = x.to(device)\n",
        "            y = y.to(device)\n",
        "            x_reconstr, mu, log_sigma = vae(x, psi1, psi2)\n",
        "            loss, reconstr_loss, kl_loss = loss_function(x, x_reconstr, mu, log_sigma)\n",
        "            \n",
        "            validation_loss += loss.item()\n",
        "            validation_reconstr_loss += reconstr_loss.item()\n",
        "            validation_kl_loss += kl_loss.item()\n",
        "            \n",
        "        n_datapoints = batch_idx * batch_size\n",
        "        validation_ELBO.append((-validation_reconstr_loss + validation_kl_loss))\n",
        "            \n",
        "    if (np.absolute(train_ELBO[epoch] - train_ELBO[epoch-1]) <= 0.0001) and (epoch != 0):\n",
        "        print(train_ELBO)\n",
        "        break\n",
        "\n",
        "    if epoch % 50 == 0:  \n",
        "      print(\"\\tEpoch\", epoch + 1, \"\\tAverage Loss: \", overall_loss, \"\\tReconstruction Loss:\", overall_reconstr_loss, \"\\tKL Loss:\", overall_kl_loss)\n",
        "    \n",
        "print(\"Training complete!\")\n",
        "print(start_time - time.time())"
      ],
      "metadata": {
        "colab": {
          "base_uri": "https://localhost:8080/"
        },
        "id": "ArJSWe5GL8Hp",
        "outputId": "78db4f7e-fdf5-4a02-a781-5ce0c5244a88"
      },
      "execution_count": null,
      "outputs": [
        {
          "output_type": "stream",
          "name": "stdout",
          "text": [
            "Start training VAE...\n",
            "\tEpoch 1 \tAverage Loss:  560.428466796875 \tReconstruction Loss: 560.1088256835938 \tKL Loss: 0.3196175992488861\n",
            "\tEpoch 51 \tAverage Loss:  243.75442504882812 \tReconstruction Loss: 243.4320068359375 \tKL Loss: 0.3224170207977295\n",
            "\tEpoch 101 \tAverage Loss:  230.9805145263672 \tReconstruction Loss: 230.65623474121094 \tKL Loss: 0.32428431510925293\n",
            "\tEpoch 151 \tAverage Loss:  233.02296447753906 \tReconstruction Loss: 232.69699096679688 \tKL Loss: 0.32597145438194275\n",
            "\tEpoch 201 \tAverage Loss:  229.40875244140625 \tReconstruction Loss: 229.0816192626953 \tKL Loss: 0.32713866233825684\n",
            "\tEpoch 251 \tAverage Loss:  230.184814453125 \tReconstruction Loss: 229.8572235107422 \tKL Loss: 0.3275870978832245\n",
            "\tEpoch 301 \tAverage Loss:  227.55770874023438 \tReconstruction Loss: 227.23037719726562 \tKL Loss: 0.32733017206192017\n",
            "\tEpoch 351 \tAverage Loss:  227.39683532714844 \tReconstruction Loss: 227.0701446533203 \tKL Loss: 0.32669657468795776\n",
            "\tEpoch 401 \tAverage Loss:  229.6197052001953 \tReconstruction Loss: 229.2933807373047 \tKL Loss: 0.32632505893707275\n",
            "\tEpoch 451 \tAverage Loss:  225.93711853027344 \tReconstruction Loss: 225.6116485595703 \tKL Loss: 0.32547426223754883\n",
            "\tEpoch 501 \tAverage Loss:  226.2487335205078 \tReconstruction Loss: 225.9244842529297 \tKL Loss: 0.3242528736591339\n",
            "\tEpoch 551 \tAverage Loss:  226.30442810058594 \tReconstruction Loss: 225.9815673828125 \tKL Loss: 0.32286396622657776\n",
            "\tEpoch 601 \tAverage Loss:  227.05799865722656 \tReconstruction Loss: 226.7364959716797 \tKL Loss: 0.32150915265083313\n",
            "\tEpoch 651 \tAverage Loss:  226.34030151367188 \tReconstruction Loss: 226.02037048339844 \tKL Loss: 0.31993263959884644\n",
            "\tEpoch 701 \tAverage Loss:  226.01162719726562 \tReconstruction Loss: 225.69381713867188 \tKL Loss: 0.3178153932094574\n",
            "\tEpoch 751 \tAverage Loss:  225.41270446777344 \tReconstruction Loss: 225.09698486328125 \tKL Loss: 0.3157213032245636\n",
            "\tEpoch 801 \tAverage Loss:  225.3612518310547 \tReconstruction Loss: 225.0477752685547 \tKL Loss: 0.31348374485969543\n",
            "\tEpoch 851 \tAverage Loss:  225.42271423339844 \tReconstruction Loss: 225.1113739013672 \tKL Loss: 0.3113445043563843\n",
            "\tEpoch 901 \tAverage Loss:  225.41714477539062 \tReconstruction Loss: 225.1082305908203 \tKL Loss: 0.3089118003845215\n",
            "\tEpoch 951 \tAverage Loss:  225.58358764648438 \tReconstruction Loss: 225.27749633789062 \tKL Loss: 0.3060893416404724\n",
            "\tEpoch 1001 \tAverage Loss:  225.28050231933594 \tReconstruction Loss: 224.97708129882812 \tKL Loss: 0.30342134833335876\n",
            "\tEpoch 1051 \tAverage Loss:  225.1547393798828 \tReconstruction Loss: 224.85414123535156 \tKL Loss: 0.3005964756011963\n",
            "\tEpoch 1101 \tAverage Loss:  225.02577209472656 \tReconstruction Loss: 224.72808837890625 \tKL Loss: 0.2976827621459961\n",
            "\tEpoch 1151 \tAverage Loss:  225.4055633544922 \tReconstruction Loss: 225.11094665527344 \tKL Loss: 0.29461565613746643\n",
            "\tEpoch 1201 \tAverage Loss:  224.99415588378906 \tReconstruction Loss: 224.70262145996094 \tKL Loss: 0.29154127836227417\n",
            "\tEpoch 1251 \tAverage Loss:  225.09730529785156 \tReconstruction Loss: 224.80889892578125 \tKL Loss: 0.28840622305870056\n",
            "\tEpoch 1301 \tAverage Loss:  225.03713989257812 \tReconstruction Loss: 224.751953125 \tKL Loss: 0.2851836681365967\n",
            "\tEpoch 1351 \tAverage Loss:  224.91111755371094 \tReconstruction Loss: 224.62936401367188 \tKL Loss: 0.2817560136318207\n",
            "\tEpoch 1401 \tAverage Loss:  224.99095153808594 \tReconstruction Loss: 224.71250915527344 \tKL Loss: 0.27843788266181946\n",
            "\tEpoch 1451 \tAverage Loss:  225.0249786376953 \tReconstruction Loss: 224.74998474121094 \tKL Loss: 0.27499595284461975\n",
            "\tEpoch 1501 \tAverage Loss:  224.86167907714844 \tReconstruction Loss: 224.59024047851562 \tKL Loss: 0.2714352011680603\n",
            "\tEpoch 1551 \tAverage Loss:  224.84959411621094 \tReconstruction Loss: 224.58163452148438 \tKL Loss: 0.2679574489593506\n",
            "\tEpoch 1601 \tAverage Loss:  224.95382690429688 \tReconstruction Loss: 224.6894073486328 \tKL Loss: 0.2644159495830536\n",
            "\tEpoch 1651 \tAverage Loss:  224.94862365722656 \tReconstruction Loss: 224.68783569335938 \tKL Loss: 0.2607806622982025\n",
            "\tEpoch 1701 \tAverage Loss:  224.90499877929688 \tReconstruction Loss: 224.64772033691406 \tKL Loss: 0.2572774589061737\n",
            "\tEpoch 1751 \tAverage Loss:  224.88380432128906 \tReconstruction Loss: 224.63009643554688 \tKL Loss: 0.2537088096141815\n",
            "\tEpoch 1801 \tAverage Loss:  224.9438018798828 \tReconstruction Loss: 224.69381713867188 \tKL Loss: 0.24998080730438232\n",
            "\tEpoch 1851 \tAverage Loss:  224.88943481445312 \tReconstruction Loss: 224.64329528808594 \tKL Loss: 0.2461414635181427\n",
            "\tEpoch 1901 \tAverage Loss:  224.7949676513672 \tReconstruction Loss: 224.5526123046875 \tKL Loss: 0.2423548698425293\n",
            "\tEpoch 1951 \tAverage Loss:  224.84144592285156 \tReconstruction Loss: 224.60287475585938 \tKL Loss: 0.23856648802757263\n",
            "\tEpoch 2001 \tAverage Loss:  224.80857849121094 \tReconstruction Loss: 224.57391357421875 \tKL Loss: 0.23466366529464722\n",
            "\tEpoch 2051 \tAverage Loss:  224.8137664794922 \tReconstruction Loss: 224.5830078125 \tKL Loss: 0.23075425624847412\n",
            "\tEpoch 2101 \tAverage Loss:  224.79461669921875 \tReconstruction Loss: 224.56771850585938 \tKL Loss: 0.22689232230186462\n",
            "\tEpoch 2151 \tAverage Loss:  224.81683349609375 \tReconstruction Loss: 224.59375 \tKL Loss: 0.22308349609375\n",
            "\tEpoch 2201 \tAverage Loss:  224.80003356933594 \tReconstruction Loss: 224.5806884765625 \tKL Loss: 0.21934285759925842\n",
            "\tEpoch 2251 \tAverage Loss:  224.76792907714844 \tReconstruction Loss: 224.55224609375 \tKL Loss: 0.21568432450294495\n",
            "\tEpoch 2301 \tAverage Loss:  224.69068908691406 \tReconstruction Loss: 224.47879028320312 \tKL Loss: 0.211891770362854\n",
            "\tEpoch 2351 \tAverage Loss:  224.74179077148438 \tReconstruction Loss: 224.53369140625 \tKL Loss: 0.20810258388519287\n",
            "\tEpoch 2401 \tAverage Loss:  224.89013671875 \tReconstruction Loss: 224.6857147216797 \tKL Loss: 0.20441901683807373\n",
            "\tEpoch 2451 \tAverage Loss:  224.85791015625 \tReconstruction Loss: 224.65728759765625 \tKL Loss: 0.20062965154647827\n",
            "\tEpoch 2501 \tAverage Loss:  224.7714080810547 \tReconstruction Loss: 224.5745391845703 \tKL Loss: 0.1968633234500885\n",
            "\tEpoch 2551 \tAverage Loss:  224.71170043945312 \tReconstruction Loss: 224.5185546875 \tKL Loss: 0.19315102696418762\n",
            "\tEpoch 2601 \tAverage Loss:  224.65858459472656 \tReconstruction Loss: 224.46908569335938 \tKL Loss: 0.1894925832748413\n",
            "\tEpoch 2651 \tAverage Loss:  224.6964874267578 \tReconstruction Loss: 224.51065063476562 \tKL Loss: 0.18584135174751282\n",
            "\tEpoch 2701 \tAverage Loss:  224.74362182617188 \tReconstruction Loss: 224.5614013671875 \tKL Loss: 0.18222451210021973\n",
            "\tEpoch 2751 \tAverage Loss:  224.68576049804688 \tReconstruction Loss: 224.50709533691406 \tKL Loss: 0.17866143584251404\n",
            "\tEpoch 2801 \tAverage Loss:  224.64097595214844 \tReconstruction Loss: 224.4658203125 \tKL Loss: 0.1751527190208435\n",
            "[-559.7892080843449, -493.45554354786873, -460.8205160200596, -402.5208927989006, -375.9650380015373, -361.31234842538834, -336.58839079737663, -322.2421615719795, -280.94467133283615, -317.2012353539467, -284.92026340961456, -279.78702956438065, -286.97007417678833, -299.65824434161186, -290.1732952296734, -288.92311403155327, -285.78953436017036, -287.61387372016907, -272.93543857336044, -283.37233355641365, -263.01284098625183, -264.90099915862083, -254.95996075868607, -279.4255079329014, -272.51813542842865, -263.21531918644905, -256.50832664966583, -248.18106511235237, -259.8234711885452, -257.84463053941727, -260.97336491942406, -253.5745086967945, -248.52430284023285, -252.7979045510292, -246.9661144912243, -252.31445598602295, -256.4331225156784, -245.0819516479969, -256.55866128206253, -251.1114601790905, -242.41832503676414, -249.3516964018345, -250.50882610678673, -247.78339102864265, -254.5356184244156, -242.42938920855522, -243.77599796652794, -247.50119537115097, -245.13305351138115, -243.67079547047615, -243.10958981513977, -240.38293534517288, -241.5494137108326, -243.19992998242378, -244.44950768351555, -242.92170411348343, -245.0908742249012, -236.44521152973175, -240.98111522197723, -238.44128930568695, -236.479115575552, -241.78191402554512, -238.48218780755997, -242.70843440294266, -241.82942417263985, -241.00138321518898, -239.77405470609665, -237.2112446129322, -233.51333144307137, -238.94835293293, -232.20447897911072, -236.73157224059105, -235.9355767071247, -235.80610144138336, -234.7266084253788, -234.9383409023285, -232.91152250766754, -234.2646300792694, -231.43959113955498, -235.99935084581375, -234.24657228589058, -235.7281006872654, -239.80243608355522, -236.45764034986496, -239.1557235121727, -252.201504945755, -235.60337948799133, -234.40037974715233, -236.62733072042465, -236.47565677762032, -237.86024150252342, -232.51293751597404, -235.57584017515182, -231.8832901418209, -230.68053731322289, -232.86955562233925, -232.77752444148064, -232.23900777101517, -231.0011670589447, -236.99039152264595, -230.33195042610168, -231.6909984946251, -232.9352604150772, -231.48315960168839, -234.050376445055, -233.87560150027275, -236.00998082756996, -235.82168105244637, -233.79127442836761, -231.50467258691788, -229.9488828778267, -234.08903408050537, -239.51035580039024, -230.899273365736, -235.84544986486435, -232.21181908249855, -229.31639429926872, -230.991972386837, -231.87253934144974, -231.1772696375847, -232.232983648777, -230.1809720993042, -229.4247844517231, -231.87395125627518, -233.67240205407143, -232.72086453437805, -232.09940180182457, -239.16731399297714, -231.6187774837017, -235.48839578032494, -231.76616901159286, -235.28478452563286, -232.89919075369835, -231.91428127884865, -230.80141445994377, -233.82813957333565, -230.58292672038078, -230.05609369277954, -233.04238310456276, -233.8161590397358, -230.08443820476532, -235.07157653570175, -230.2464374601841, -231.61503994464874, -233.0584737956524, -228.73097395896912, -230.72934237122536, -232.55333638191223, -230.86049741506577, -229.9795952141285, -232.37101951241493, -230.57796946167946, -234.06122633814812, -233.65052762627602, -231.2683430314064, -231.0587722659111, -234.94246062636375, -228.97682037949562, -232.89382547140121, -228.05992862582207, -231.49732333421707, -229.6638726592064, -229.45089101791382, -230.35964486002922, -230.29562038183212, -229.22686821222305, -229.20417261123657, -230.87151244282722, -229.23104414343834, -230.5680575966835, -228.82175242900848, -233.70423138141632, -228.73248448967934, -230.4082350730896, -228.10548540949821, -229.26295819878578, -229.55186104774475, -232.92742902040482, -227.69157248735428, -228.2821450829506, -227.95496410131454, -227.91289561986923, -230.49408841133118, -229.68352535367012, -230.53597006201744, -233.36515522003174, -229.99892362952232, -230.1857564151287, -228.75891157984734, -227.575110912323, -228.95700269937515, -227.50852382183075, -229.11850553750992, -228.98116701841354, -232.96823370456696, -228.59984204173088, -228.0194330215454, -233.1033341884613, -228.55745136737823, -229.70704808831215, -228.75448060035706, -227.34317323565483, -228.25598314404488, -229.02246797084808, -227.74518299102783, -227.96505013108253, -228.5788590013981, -229.0244983136654, -228.48777848482132, -228.72605350613594, -227.67961072921753, -227.88240638375282, -228.31232744455338, -227.75996845960617, -228.4218763411045, -228.0048503279686, -229.87766429781914, -230.10915517807007, -230.71138414740562, -230.22756803035736, -227.8271163403988, -228.10893234610558, -227.96911641955376, -227.39645305275917, -226.53239658474922, -226.43222779035568, -227.03033477067947, -229.03872296214104, -227.8844079375267, -227.27035009860992, -226.95017737150192, -226.70245534181595, -227.77606743574142, -228.0321701169014, -228.71235674619675, -231.6810947060585, -227.94276589155197, -228.5353697836399, -228.37525036931038, -227.77483734488487, -227.4959869980812, -227.14809092879295, -228.36889138817787, -229.03769209980965, -226.82432055473328, -226.89122864603996, -230.25447988510132, -228.25276616215706, -227.97770819067955, -226.25232982635498, -229.52963641285896, -226.4322873055935, -228.4036057293415, -226.96665853261948, -226.76770851016045, -227.67757135629654, -227.54388669133186, -227.57930034399033, -226.34038949012756, -228.4852276444435, -226.9275417327881, -226.60039922595024, -227.51750734448433, -228.30399724841118, -226.56068015098572, -226.45496916770935, -226.64604869484901, -228.31760177016258, -227.1791361272335, -227.2751711010933, -227.1862104833126, -227.8239804804325, -226.6035172045231, -226.94930630922318, -226.91777992248535, -228.68779850006104, -227.23864969611168, -226.54988154768944, -228.23408702015877, -226.46496871113777, -226.45314386487007, -226.24098545312881, -226.23762965202332, -226.50267380475998, -225.80215603113174, -226.49989241361618, -226.17361062765121, -227.58779102563858, -226.1279893219471, -226.39643251895905, -226.90573492646217, -226.08889046311378, -226.24842765927315, -225.6263057589531, -225.84331247210503, -226.39157277345657, -228.17060777544975, -226.66350641846657, -227.1482284963131, -228.1521271765232, -226.9030470252037, -226.96577829122543, -226.6710549890995, -226.42009216547012, -226.62588748335838, -228.1293222606182, -226.6068438589573, -226.15312626957893, -227.73160576820374, -228.84940415620804, -226.19354656338692, -226.35500955581665, -226.82300865650177, -229.08812275528908, -227.34584948420525, -226.21186944842339, -225.70772781968117, -226.32083639502525, -226.07075235247612, -226.14580473303795, -226.26973125338554, -228.08088374137878, -227.13227289915085, -227.47696551680565, -225.66836088895798, -227.0020448565483, -227.49320963025093, -225.815005838871, -226.10328102111816, -225.649767100811, -226.74776896834373, -225.9311418235302, -226.42910927534103, -227.0505864918232, -225.90234118700027, -226.1885279417038, -227.08375370502472, -225.65603905916214, -226.5329827964306, -226.4058035314083, -226.05764788389206, -226.44868594408035, -225.50662195682526, -225.742537856102, -226.8133088350296, -225.79923111200333, -225.8866592645645, -226.13087239861488, -227.20122835040092, -225.6707778275013, -226.74344807863235, -226.68073987960815, -225.43780344724655, -225.91026201844215, -225.80902081727982, -227.27943962812424, -226.51772290468216, -226.52693727612495, -225.93040654063225, -225.90785509347916, -226.2400878071785, -226.4871880710125, -227.07330638170242, -226.68256118893623, -226.01694229245186, -225.87131556868553, -225.96688422560692, -226.4683703482151, -225.56892883777618, -226.15832123160362, -225.6965675652027, -225.95364370942116, -225.98137912154198, -225.78016182780266, -226.28180837631226, -226.6972395479679, -225.83197885751724, -226.7986617386341, -226.1807352900505, -226.19035437703133, -226.4327935874462, -225.88017028570175, -225.48070257902145, -231.31808310747147, -225.6235906779766, -226.99936804175377, -227.2953714132309, -225.18455663323402, -225.97950872778893, -227.38020554184914, -226.41653415560722, -226.29362177848816, -225.7352397441864, -226.3237542808056, -226.46977099776268, -226.39711526036263, -228.9345057308674, -227.5275578200817, -225.9720014333725, -225.53207957744598, -228.96705567836761, -227.13980215787888, -227.19061869382858, -226.7377692759037, -227.19069746136665, -225.8482729792595, -225.25534975528717, -226.1617305278778, -226.58497315645218, -225.15727588534355, -225.47643554210663, -225.42845711112022, -227.4023149907589, -226.03639754652977, -226.59990376234055, -225.48742616176605, -227.34696546196938, -225.3320954144001, -225.72775143384933, -225.54366374015808, -225.63365557789803, -225.5277694761753, -225.1981601715088, -225.6167223751545, -225.99702122807503, -226.01561903953552, -225.55660140514374, -225.97818368673325, -225.82824829220772, -225.84141489863396, -226.58998107910156, -225.17124876379967, -225.63971138000488, -226.34709855914116, -225.8629106283188, -227.54893797636032, -225.30532428622246, -225.59842348098755, -227.42089450359344, -225.54754269123077, -225.3807955980301, -225.803892493248, -226.74105951189995, -225.5481235086918, -226.11703142523766, -225.503047645092, -225.34338015317917, -225.13103872537613, -225.2344025671482, -226.70318484306335, -225.28617429733276, -226.1673665344715, -225.5849014520645, -226.001157194376, -225.11461770534515, -225.5717850625515, -227.3223526775837, -226.26441419124603, -225.2957508265972, -225.847167044878, -226.82193613052368, -226.0587531030178, -225.95299446582794, -225.63172233104706, -225.53530633449554, -225.38278770446777, -225.76408472657204, -225.89594784379005, -225.45635676383972, -225.99366536736488, -225.14252716302872, -225.45539143681526, -225.26335880160332, -225.476432710886, -225.6079511642456, -226.9380914568901, -226.90237939357758, -226.3583463728428, -225.54027605056763, -225.5064017176628, -225.65026551485062, -225.39180406928062, -225.22608596086502, -226.1465960741043, -225.47730588912964, -225.28668373823166, -225.98915973305702, -225.7630218565464, -225.33310198783875, -225.6527065038681, -226.74878999590874, -225.6052710711956, -225.67009669542313, -225.53063562512398, -225.51527628302574, -225.62409290671349, -225.2955906689167, -225.2478679716587, -225.30494472384453, -224.9885829091072, -225.60023137927055, -225.6474729180336, -225.73778662085533, -225.19794458150864, -225.4891899228096, -225.18246021866798, -225.20873564481735, -225.97014844417572, -225.24889433383942, -225.2179636657238, -226.30065485835075, -225.2878368794918, -225.60214984416962, -225.53830429911613, -225.12039557099342, -225.3847092986107, -226.06003785133362, -225.10335764288902, -225.3539374768734, -225.8943283855915, -225.78080087900162, -225.87261182069778, -226.33385628461838, -225.3873036801815, -225.88526791334152, -224.96689170598984, -225.14899864792824, -225.33543974161148, -225.27886858582497, -226.3404625058174, -225.3760788142681, -225.54922354221344, -226.80639579892159, -225.38378512859344, -225.61698213219643, -225.59261631965637, -225.77843740582466, -224.92816537618637, -225.22383081912994, -225.7520251274109, -225.48540502786636, -225.72856336832047, -226.14917969703674, -225.15527254343033, -225.73080947995186, -225.50059366226196, -225.65459302067757, -225.62411347031593, -226.2566156387329, -225.27006763219833, -225.65870341658592, -225.5452034175396, -225.6591080725193, -225.3544366955757, -225.67393952608109, -224.93316638469696, -225.37127655744553, -225.65786564350128, -225.4873816370964, -225.31341046094894, -224.76062732934952, -225.3648580312729, -225.4819185435772, -225.16567608714104, -225.38501808047295, -225.03059792518616, -225.99949890375137, -225.11286741495132, -225.69298785924911, -225.02686566114426, -225.19620856642723, -225.38781225681305, -225.27143421769142, -225.32395604252815, -224.82926455140114, -225.77147868275642, -225.43712490797043, -225.40297171473503, -226.21063181757927, -225.93680107593536, -224.99778896570206, -225.11409413814545, -225.0665665268898, -225.32931637763977, -224.91485184431076, -225.38248667120934, -226.73040208220482, -225.474683791399, -225.37335616350174, -224.91696071624756, -224.8434113264084, -225.0675185918808, -225.4245461523533, -225.3184793293476, -225.37733125686646, -225.60679134726524, -224.9356434047222, -225.8492615222931, -225.11581286787987, -225.11263540387154, -226.41498681902885, -224.95689299702644, -224.83278700709343, -225.52772882580757, -225.84512290358543, -224.84307366609573, -225.07669860124588, -224.94342708587646, -225.24779534339905, -225.4044895172119, -225.14727357029915, -225.67370322346687, -225.4621843099594, -225.09333109855652, -224.7881221473217, -225.06790655851364, -225.60912150144577, -224.83549851179123, -225.3011817932129, -225.3594277203083, -225.11449474096298, -226.56188341975212, -225.3728083372116, -224.99107816815376, -225.1631676852703, -224.88127717375755, -225.14351746439934, -226.82868775725365, -224.9710754752159, -225.13652196526527, -225.35252156853676, -224.82990437746048, -225.2194608747959, -225.1961035132408, -224.91345345973969, -225.58153465390205, -224.92888987064362, -225.04399326443672, -225.30764174461365, -225.1711883544922, -225.59361943602562, -225.1223848760128, -224.90933135151863, -224.85178065299988, -225.18891593813896, -225.42732587456703, -225.051839530468, -224.68137687444687, -225.41713178157806, -224.76157340407372, -225.7004378437996, -224.96404162049294, -225.20245498418808, -225.2874561548233, -224.83379369974136, -225.14083030819893, -225.08492010831833, -224.87404280900955, -224.73053359985352, -224.7692294716835, -224.96297067403793, -224.91852247714996, -224.98254972696304, -225.40953761339188, -225.01089358329773, -225.11661246418953, -225.3283169567585, -225.75350084900856, -225.0610072016716, -225.4896678030491, -224.78166672587395, -224.9296226799488, -224.90202715992928, -224.72510895133018, -225.1972997188568, -224.77055296301842, -225.2863117158413, -224.8265509903431, -225.01283285021782, -224.6411778628826, -225.0550304055214, -226.07882145047188, -225.21154123544693, -225.1012597680092, -224.98498114943504, -225.5047200024128, -225.96703919768333, -224.98492351174355, -224.73384168744087, -224.9133957028389, -224.80677244067192, -224.8313308954239, -224.88154062628746, -225.0468789935112, -224.72299048304558, -224.9794883430004, -225.10424533486366, -224.75114104151726, -225.22227111458778, -225.52171817421913, -225.37600174546242, -224.66419968008995, -224.84659484028816, -225.0601961016655, -224.94767227768898, -224.77658566832542, -224.73078992962837, -224.73184061050415, -225.33205825090408, -225.19611343741417, -225.01941165328026, -224.65162000060081, -225.25357189774513, -224.86310788989067, -225.33668929338455, -225.14217668771744, -225.12345919013023, -224.6805934906006, -224.97700217366219, -224.90198209881783, -224.68203476071358, -224.78490328788757, -224.8279438316822, -224.75962445139885, -224.64626237750053, -224.94902428984642, -225.2316161096096, -224.89076259732246, -224.81304946541786, -224.69232150912285, -225.0151068866253, -224.6382759809494, -224.75511467456818, -224.72261375188828, -225.2682241499424, -225.07963725924492, -224.8284138739109, -224.89259079098701, -224.80118849873543, -224.9738551080227, -224.5713554918766, -225.2377053797245, -224.79719558358192, -225.4179348051548, -224.84297639131546, -224.80047518014908, -225.06075683236122, -224.86134093999863, -224.89991468191147, -225.15816915035248, -224.7812635600567, -224.8435978293419, -224.7677972316742, -225.23728647828102, -224.76748594641685, -224.91438671946526, -224.8652410209179, -224.7542313337326, -225.10214483737946, -225.13265627622604, -224.60738164186478, -224.85548400878906, -224.85883617401123, -225.42421594262123, -224.84017837047577, -224.64215829968452, -224.82881444692612, -224.62658473849297, -225.09864220023155, -224.66573160886765, -224.65637576580048, -224.97197198867798, -224.62251210212708, -225.05244252085686, -224.9202219247818, -224.72976091504097, -225.075678139925, -225.01648864150047, -224.8000254034996, -224.70178669691086, -224.89381670951843, -224.6395883858204, -224.85130506753922, -224.83734387159348, -224.6501649916172, -225.05734571814537, -224.68676829338074, -224.84925678372383, -224.74552714824677, -224.65357771515846, -224.75341659784317, -224.81645092368126, -224.75329792499542, -224.85467991232872, -224.8355334997177, -225.0568988919258, -224.73253241181374, -225.2794424891472, -225.26807689666748, -225.18550491333008, -224.734291523695, -224.8535608947277, -224.8709164261818, -224.79282930493355, -224.8326618373394, -224.7792038321495, -224.8527773618698, -225.0969436764717, -224.6000961959362, -225.15308690071106, -225.12360298633575, -225.05438369512558, -225.06422141194344, -224.80023658275604, -225.1325362622738, -225.6338118314743, -224.9600754380226, -225.1031118929386, -224.87213936448097, -224.74932312965393, -225.01547011733055, -225.2880629003048, -224.82531628012657, -224.81224563717842, -224.58417865633965, -224.87123641371727, -224.8051322698593, -224.67262318730354, -224.8422701060772, -225.02384981513023, -224.70033171772957, -224.6029188632965, -224.84188774228096, -224.73301762342453, -225.26269805431366, -224.6487587094307, -225.09587135910988, -224.79339548945427, -224.58822587132454, -224.84257572889328, -224.79751780629158, -224.9008247256279, -224.84931766986847, -224.6596293747425, -225.76165920495987, -224.60155326128006, -224.84015956521034, -224.6917571425438, -224.94485878944397, -224.77686315774918, -224.8000293970108, -224.881194293499, -224.68698492646217, -224.99247089028358, -224.8347428739071, -225.2411139011383, -224.55048096179962, -224.86075031757355, -224.57981887459755, -225.06091305613518, -224.75068360567093, -224.6325490474701, -224.8008989393711, -224.85561761260033, -224.79229754209518, -225.13861528038979, -224.97247928380966, -224.774646371603, -224.7344812452793, -225.06368699669838, -224.6777582168579, -224.48050513863564, -224.7314965724945, -224.8040364086628, -224.88533553481102, -224.55818685889244, -224.49664863944054, -224.74974724650383, -224.6316623687744, -224.60946530103683, -225.00160735845566, -224.51442882418633, -224.64030411839485, -224.6096705198288, -224.77187809348106, -224.87788707017899, -224.82819533348083, -224.7105101943016, -225.48119309544563, -224.6190459728241, -224.98895505070686, -224.59355866909027, -224.60224744677544, -224.72244861721992, -224.58257913589478, -224.96700289845467, -224.6352074444294, -224.60214871168137, -224.7634418308735, -225.3845921754837, -224.7993187904358, -224.74680504202843, -225.0237132012844, -224.86885741353035, -224.4547057747841, -224.737973600626, -224.9756968319416, -224.96396800875664, -224.87573194503784, -224.5405468940735, -224.65706917643547, -224.63279902935028, -224.6588068306446, -224.90156611800194, -224.54880541563034, -224.58770856261253, -224.79409217834473, -224.62019553780556, -224.90485632419586, -224.73172158002853, -224.57416734099388, -224.87497434020042, -224.5782494544983, -224.9487752020359, -224.5083867907524, -224.8630435168743, -224.77191412448883, -224.54303148388863, -224.76048362255096, -224.601194947958, -224.43609175086021, -224.52666488289833, -225.1262264251709, -224.7075980901718, -225.32057079672813, -224.89614289999008, -224.65096080303192, -224.6909513771534, -224.86215555667877, -224.6969811320305, -224.6662830710411, -224.52534061670303, -224.54328832030296, -225.23890846967697, -224.74787771701813, -224.53307822346687, -224.59376206994057, -224.84099954366684, -224.64817243814468, -224.83743965625763, -224.97140699625015, -224.93093633651733, -224.7332062125206, -224.78826999664307, -224.7616093158722, -224.6483851671219, -224.53177344799042, -224.4949049949646, -224.66213765740395, -224.67293360829353, -224.8142847418785, -224.69295504689217, -224.73925882577896, -224.7654387652874, -224.701715528965, -224.51378428936005, -224.7170408666134, -224.6557523906231, -225.01669257879257, -224.60469618439674, -224.75111094117165, -224.82153913378716, -224.5757561326027, -224.64131444692612, -224.81620159745216, -224.7608217895031, -224.61874398589134, -224.6340747475624, -224.60590213537216, -225.04138472676277, -224.594220161438, -224.57512605190277, -224.55989381670952, -224.4871961772442, -226.28481450676918, -224.72831258177757, -224.81505984067917, -224.57725101709366, -224.631084471941, -224.81327441334724, -225.05880373716354, -224.77160069346428, -224.86659938097, -224.58946853876114, -224.49547645449638, -224.67971459031105, -224.70646953582764, -224.53374925255775, -224.45134711265564, -224.85358011722565, -224.67365995049477, -224.81211698055267, -224.47687929868698, -224.782192081213, -224.86200660467148, -224.84229996800423, -224.55180948972702, -224.51087692379951, -224.51302137970924, -224.54766869544983, -224.74581503868103, -224.58632519841194, -224.48996257781982, -224.55705398321152, -224.75268551707268, -224.529569119215, -224.64149191975594, -224.72126403450966, -224.63743087649345, -224.5694651901722, -224.51042476296425, -224.62500071525574, -225.0206274986267, -224.6514209806919, -225.05926820635796, -224.52915489673615, -224.70271763205528, -224.71600183844566, -224.7572411596775, -224.7486467063427, -224.477021753788, -224.70194959640503, -224.62492096424103, -225.01493367552757, -224.58919283747673, -224.55339002609253, -224.94010564684868, -224.65126729011536, -224.45234885811806, -224.55772283673286, -224.8037534058094, -224.9752121269703, -224.68235805630684, -224.82247042655945, -224.5755922794342, -224.91395196318626, -224.64538896083832, -224.6154899597168, -224.81863796710968, -224.52718526124954, -224.55354475975037, -224.4534253180027, -224.42560425400734, -224.60545659065247, -224.72108379006386, -224.72548860311508, -224.47653305530548, -224.64798897504807, -224.5312506556511, -224.67768216133118, -224.6175711452961, -224.6536827981472, -224.50975835323334, -224.6610926091671, -224.4884206354618, -225.02900728583336, -224.68824464082718, -224.56815472245216, -224.72270971536636, -224.54416558146477, -224.56629037857056, -224.69104555249214, -224.56293153762817, -224.77501025795937, -224.71799877285957, -224.5846009850502, -224.59791681170464, -225.14195090532303, -224.61356499791145, -224.70331418514252, -224.4852630198002, -224.4976065158844, -224.58279609680176, -224.62613153457642, -224.81581491231918, -224.66302931308746, -224.95485535264015, -224.52505961060524, -224.51564410328865, -224.6104933321476, -224.44369876384735, -224.59973520040512, -224.80064672231674, -224.54899582266808, -224.64754849672318, -224.52982464432716, -224.52597868442535, -224.49610090255737, -224.7181462943554, -224.85652667284012, -224.43040561676025, -224.48493722081184, -224.58919814229012, -224.72976052761078, -224.37877568602562, -224.58075469732285, -224.52672189474106, -224.78309926390648, -224.56581443548203, -224.43167385458946, -224.58723920583725, -224.49956458806992, -224.60979709029198, -224.58227333426476, -224.47628891468048, -224.4377944469452, -224.8415151834488, -224.57531002163887, -224.51329851150513, -224.54644164443016, -224.55865064263344, -224.55715700984, -224.47679165005684, -224.66911679506302, -224.40625402331352, -224.500217795372, -224.4528852701187, -224.4142509996891, -224.47380834817886, -224.8819365799427, -224.40683874487877, -225.0207769870758, -224.5353892147541, -224.48211416602135, -224.54390826821327, -224.77802047133446, -224.66334626078606, -224.43224734067917, -224.51075077056885, -224.50362449884415, -224.46158692240715, -224.40177422761917, -224.7378364801407, -224.47129571437836, -224.55354246497154, -224.60568526387215, -224.42230761051178, -224.75609716773033, -224.47451350092888, -224.34083351492882, -224.81633099913597, -224.67775037884712, -224.44148313999176, -224.43490734696388, -224.52693516016006, -224.51762998104095, -224.43241062760353, -224.4136125743389, -224.42165556550026, -224.3655508160591, -224.5548537671566, -224.50541776418686, -224.5152313709259, -224.90724778175354, -224.4612005352974, -224.51068231463432, -224.41558825969696, -224.39176952838898, -224.3458715379238, -224.4376848936081, -224.54074469208717, -224.37924867868423, -224.65294900536537, -224.6493347287178, -224.41611862182617, -224.73028302192688, -224.6829654276371, -224.5112275481224, -224.44419595599174, -224.59361159801483, -224.88885441422462, -224.50730454921722, -224.57561564445496, -224.5722073316574, -224.51028317213058, -224.60021689534187, -224.5171024799347, -224.42524540424347, -224.84229981899261, -224.41674250364304, -224.4424505531788, -224.4335993528366, -224.37129858136177, -224.48673331737518, -224.42681381106377, -224.56686168909073, -224.41459625959396, -224.5353267788887, -224.50212574005127, -224.78638434410095, -224.41108018159866, -224.37647473812103, -224.60683950781822, -224.54554626345634, -224.82322743535042, -224.54260367155075, -224.5935701429844, -225.01820939779282, -224.37942922115326, -224.39316204190254, -224.51296037435532, -224.57892483472824, -224.39130455255508, -224.65702387690544, -224.50393134355545, -224.4458877146244, -224.56182551383972, -224.52372574806213, -224.48181274533272, -224.51941388845444, -224.78536212444305, -224.6384824514389, -224.4772890508175, -224.4651748239994, -224.44329607486725, -224.38461405038834, -224.7413987517357, -224.566715747118, -224.66241690516472, -224.63674929738045, -224.5684496164322, -224.4433417916298, -224.5679296851158, -224.46867057681084, -224.51336294412613, -224.42408275604248, -224.4647791683674, -224.61117455363274, -224.4634112417698, -224.45114648342133, -224.56945064663887, -224.42963898181915, -224.52600279450417, -224.4580606520176, -224.37823182344437, -224.527957290411, -224.37269040942192, -224.81306648254395, -224.63307625055313, -224.5533320903778, -224.52049270272255, -224.39008909463882, -224.4651924073696, -224.40212830901146, -224.91114795207977, -224.404660820961, -224.61871081590652, -224.64587092399597, -224.5874128639698, -224.4499450325966, -224.64707380533218, -224.74897348880768, -224.53205460309982, -224.55430030822754, -224.45753055810928, -224.52960005402565, -224.3853466808796, -224.7130947113037, -224.3782116472721, -224.3866057395935, -224.4906127154827, -224.4712080359459, -224.73804169893265, -224.47470724582672, -224.65433585643768, -224.4614356458187, -224.36506381630898, -224.3849646449089, -224.37741667032242, -224.49160408973694, -224.47870177030563, -224.37429276108742, -224.5695063173771, -224.47627973556519, -224.44848281145096, -224.6504686176777, -224.41426602005959, -224.50012984871864, -224.4884451031685, -224.4177708029747, -224.5304615199566, -224.44289708137512, -224.42575228214264, -224.46364617347717, -224.47762921452522, -224.39072167873383, -224.470135897398, -224.465430021286, -224.48501694202423, -224.5998338162899, -224.4667694568634, -224.4062604010105, -224.53795129060745, -224.47074407339096, -224.5029773414135, -224.37731203436852, -224.53916960954666, -224.31079894304276, -224.4156655371189, -224.4250886142254, -224.5154447555542, -224.64020916819572, -224.48327976465225, -224.3780946135521, -224.56143751740456, -224.41232380270958, -224.50291004776955, -224.42686969041824, -224.4654991030693, -224.4245711863041, -224.5230329334736, -224.40309473872185, -224.71179032325745, -224.4139150083065, -224.43536081910133, -224.36867228150368, -224.5624976158142, -224.40466752648354, -224.4767592549324, -224.64255499839783, -224.44404536485672, -224.32265442609787, -224.55624470114708, -224.40839552879333, -224.47095075249672, -224.48805058002472, -224.60701873898506, -224.42064088582993, -224.52155578136444, -224.65533623099327, -224.4853870868683, -224.3685698211193, -224.46290454268456, -224.72928234934807, -224.4147398173809, -224.46845337748528, -224.48917680978775, -224.47962740063667, -224.37526112794876, -224.42896175384521, -224.34760800004005, -224.43526208400726, -224.41779908537865, -224.90840864181519, -224.46171283721924, -224.51179814338684, -224.3212375342846, -224.4210219681263, -224.5183044373989, -224.3519774377346, -224.51905450224876, -224.61990821361542, -224.5332454442978, -224.68332290649414, -224.45977172255516, -224.44407683610916, -224.43366026878357, -224.33723029494286, -224.31437915563583, -224.42089292407036, -224.32712069153786, -224.43388056755066, -224.39417159557343, -224.47574040293694, -224.57471829652786, -224.43278965353966, -224.55683615803719, -224.4209176003933, -225.0180025100708, -224.35761833190918, -224.9369809627533, -224.4792918264866, -224.5363913178444, -224.49989399313927, -224.44722285866737, -224.67977085709572, -224.56058579683304, -224.46849724650383, -224.42014169692993, -224.4852820634842, -224.59894615411758, -224.3611237704754, -224.47275859117508, -224.38493049144745, -224.56193575263023, -224.37830072641373, -224.5584817826748, -224.37400975823402, -224.4935238957405, -224.69996735453606, -224.43407127261162, -224.66572028398514, -224.5133200585842, -224.5117685198784, -224.46079483628273, -224.392060816288, -224.40650340914726, -224.46193090081215, -224.49901843070984, -224.43889233469963, -224.3167548775673, -224.53087562322617, -224.5752259194851, -224.40839338302612, -224.382018327713, -224.6888660788536, -224.41891446709633, -224.3980169594288, -224.34936383366585, -224.60265177488327, -224.50127890706062, -224.42493057250977, -224.44428649544716, -224.51913779973984, -224.6141147017479, -224.34725949168205, -224.75485903024673, -224.34003764390945, -224.50129747390747, -224.37949308753014, -224.67813020944595, -224.49881532788277, -224.55784344673157, -224.61517694592476, -224.43584671616554, -224.38559138774872, -224.4923034310341, -224.41151610016823, -224.53243571519852, -224.4349109828472, -224.422775298357, -224.37139415740967, -224.33914831280708, -224.39708197116852, -224.39123398065567, -224.35114592313766, -224.65384727716446, -224.52705717086792, -224.58324986696243, -224.56296437978745, -224.47498878836632, -224.43149307370186, -224.4975098669529, -224.440143764019, -224.35722070932388, -224.55805110931396, -224.41633650660515, -224.31595894694328, -224.56389465928078, -224.761338442564, -224.42214465141296, -224.39094978570938, -224.40754562616348, -224.4925474524498, -224.61583399772644, -224.4721511900425, -224.5516431927681, -224.41984716057777, -224.49586075544357, -224.36116614937782, -224.58592331409454, -224.4970991909504, -224.31008529663086, -224.3906953036785, -224.36318123340607, -224.45586109161377, -224.45660722255707, -224.4614558517933, -224.63541826605797, -224.43453180789948, -224.37149399518967, -224.36480847001076, -224.34437537193298, -224.5217273235321, -224.53706285357475, -224.87266513705254, -224.31011390686035, -224.39404743909836, -224.49385061860085, -224.43293276429176, -224.60063681006432, -224.37431249022484, -224.43599846959114, -224.42206090688705, -224.44997930526733, -224.6729961335659, -224.40024971961975, -224.45794847607613, -224.47101536393166, -224.3928800523281, -224.31880527734756, -224.6226762533188, -224.3943197131157, -224.42222118377686, -224.4038113951683, -224.51414155960083, -224.4912759065628, -224.51159358024597, -224.69849327206612, -224.48493644595146, -224.514819085598, -224.70833864808083, -224.4882200062275, -224.5922296345234, -224.62133127450943, -224.38351041078568, -224.60911589860916, -224.559528529644, -224.5539914369583, -224.42675060033798, -224.61576518416405, -224.41041523218155, -224.40378072857857, -224.42255344986916, -224.41068759560585, -224.5067796111107, -224.30529645085335, -224.38248586654663, -224.34082481265068, -224.4198157787323, -224.43545326590538, -224.48916214704514, -224.41578033566475, -224.62303909659386, -224.33037251234055, -224.38696420192719, -224.43656760454178, -224.47966986894608, -224.42256638407707, -224.38101157546043, -224.42041993141174, -224.42780074477196, -224.3211070895195, -224.41775196790695, -224.4441301524639, -224.41669124364853, -224.37605398893356, -224.41198447346687, -224.51058286428452, -224.33902469277382, -224.31367707252502, -224.56523129343987, -224.38186392188072, -224.44530820846558, -224.32840839028358, -224.71930620074272, -224.4152373969555, -224.34955608844757, -224.3703777194023, -224.36260503530502, -224.46785482764244, -224.38146808743477, -224.51436632871628, -224.35934832692146, -224.4063426554203, -224.66227558255196, -224.47502985596657, -224.49362310767174, -224.5922638475895, -224.49995374679565, -224.47215935587883, -224.3699617087841, -224.3929022550583, -224.46253582835197, -224.49066558480263, -224.4029515683651, -224.40348076820374, -224.41092318296432, -224.49678146839142, -224.40194222331047, -224.60033237934113, -224.45999014377594, -224.4353551864624, -224.32936066389084, -224.3356110751629, -224.3226511478424, -224.34510764479637, -224.94338566064835, -224.35250908136368, -224.42780250310898, -224.40270856022835, -224.52318277955055, -224.37669095396996, -224.33710369467735, -224.32763865590096, -224.39521637558937, -224.39858585596085, -224.3141417503357, -224.29726350307465, -224.45177260041237, -224.42499139904976, -224.4796929359436, -224.5617838203907, -224.47607296705246, -224.3693037033081, -224.4321510195732, -224.4410741329193, -224.42613285779953, -224.49073559045792, -224.3829747736454, -224.461752474308, -224.43812906742096, -224.54348838329315, -224.36446860432625, -224.51606264710426, -224.33718007802963, -224.3986541032791, -224.37068030238152, -224.47140029072762, -224.47507533431053, -224.33922386169434, -224.43005686998367, -224.3103493154049, -224.4247888624668, -224.3704044520855, -224.47310942411423, -224.42765149474144, -224.30191725492477, -224.57007426023483, -224.3807104229927, -224.31686553359032, -224.42463698983192, -224.4985946416855, -224.35845670104027, -224.30015113949776, -224.38666734099388, -224.40026152133942, -224.36524188518524, -224.4486769735813, -224.41571781039238, -224.4977647960186, -224.5720915198326, -224.59889560937881, -224.38337317109108, -224.41553282737732, -224.43937653303146, -224.99193730950356, -224.41490805149078, -224.4467218518257, -224.4015402495861, -224.42705503106117, -224.38094556331635, -224.4607531130314, -224.37325018644333, -224.30828574299812, -224.4671988785267, -224.5545031428337, -224.36713236570358, -224.57308819890022, -224.4148307442665, -224.6243875324726, -224.5446990430355, -224.61424133181572, -224.60056003928185, -224.41533961892128, -224.41107499599457, -224.45054239034653, -224.4600578546524, -224.68949937820435, -224.70328706502914, -224.35044872760773, -224.43766033649445, -224.52983099222183, -224.52698436379433, -224.49682366847992, -224.53082311153412, -224.3944592475891, -224.60137376189232, -224.46655440330505, -224.4005989432335, -224.53139105439186, -224.33042818307877, -224.52944508194923, -224.4516965150833, -224.37573465704918, -224.67413234710693, -224.38339999318123, -224.51657384634018, -224.3630192875862, -224.38745990395546, -224.5207727253437, -224.4348774254322, -224.40734735131264, -224.525997787714, -224.37325608730316, -224.5606642961502, -224.3418972492218, -224.30814227461815, -224.52502885460854, -224.31482169032097, -224.3904428780079, -224.38095036149025, -224.34762302041054, -224.3378551006317, -224.6285488307476, -224.50420090556145, -224.6248787343502, -224.4934160709381, -224.4584357738495, -224.4468175470829, -224.3345237672329, -224.54756292700768, -224.37858122587204, -224.35059237480164, -224.45372316241264, -224.3722685277462, -224.523618131876, -224.4278348684311, -224.55904269218445, -224.3995835185051, -224.397809445858, -224.42508870363235, -224.39128842949867, -224.66081777215004, -224.29048117995262, -224.30826830863953, -224.38594764471054, -224.43452754616737, -224.49995356798172, -224.38428792357445, -224.44917899370193, -224.3947761952877, -224.3433501124382, -224.49054792523384, -224.38096901774406, -224.3374764919281, -224.60056445002556, -224.37802469730377, -224.46136218309402, -224.41151967644691, -224.45638924837112, -224.32334032654762, -224.41625979542732, -224.85070249438286, -224.404632717371, -224.3785156905651, -224.3401005268097, -224.41081747412682, -224.30607351660728, -224.35947242379189, -224.3763876259327, -224.59739008545876, -224.42402893304825, -224.3431073129177, -224.40368127822876, -224.49538388848305, -224.49846470355988, -224.38266274333, -224.46582037210464, -224.40588200092316, -224.36808332800865, -224.3878265619278, -224.34760296344757, -224.3361274600029, -224.28038641810417, -224.360876172781, -224.43912345170975, -224.4021197259426, -224.31549483537674, -224.30710303783417, -224.30112263560295, -224.39908587932587, -224.3537083864212, -224.29211142659187, -224.4384764134884, -224.37936651706696, -224.46529161930084, -224.58339604735374, -224.491797208786, -224.42746511101723, -224.39697673916817, -224.5283223092556, -224.38467353582382, -224.41819471120834, -224.35160267353058, -224.42652016878128, -224.3519324362278, -224.35931542515755, -224.35058546066284, -224.41996502876282, -224.28823333978653, -224.3474970459938, -224.45157659053802, -224.4964199066162, -224.37083461880684, -224.35702094435692, -224.46907794475555, -224.50105613470078, -224.46836626529694, -224.4447405040264, -224.4438363313675, -224.40277183055878, -224.31478664278984, -224.32143783569336, -224.40978571772575, -224.30407318472862, -224.37308940291405, -224.3705418407917, -224.36207419633865, -224.3679197728634, -224.34613218903542, -224.40529265999794, -224.31215524673462, -224.49170821905136, -224.43271926045418, -224.39454182982445, -224.3158516585827, -224.39472371339798, -224.3494191467762, -224.33927184343338, -224.44675561785698, -224.48372900485992, -224.39365682005882, -224.43899101018906, -224.29053807258606, -224.34713304042816, -224.34467646479607, -224.36031743884087, -224.34504428505898, -224.40136528015137, -224.43250969052315, -224.37391677498817, -224.31701758503914, -224.31761392951012, -224.4367410838604, -224.38133668899536, -224.368901014328, -224.38388562202454, -224.35080417990685, -224.32001131772995, -224.38019201159477, -224.33803233504295, -224.44479820132256, -224.28128495812416, -224.54807084798813, -224.3392838537693, -224.39152976870537, -224.35347619652748, -224.42749896645546, -224.4544038772583, -224.3971538245678, -224.33479291200638, -224.34155496954918, -224.4616743028164, -224.32652685046196, -224.41557702422142, -224.30568397045135, -224.76402857899666, -224.5591476559639, -224.39253488183022, -224.32794186472893, -224.41148188710213, -224.334911942482, -224.40276765823364, -224.45454061031342, -224.3868205845356, -224.36563897132874, -224.37335792183876, -224.4520910680294, -224.30652037262917, -224.40046754479408, -224.30049139261246, -224.34854120016098, -224.34226965904236, -224.43872046470642, -224.50894102454185, -224.48335191607475, -224.41564881801605, -224.35366809368134, -224.30882239341736, -224.40383902192116, -224.53871113061905, -224.46581947803497, -224.76901105046272, -224.37578803300858, -224.38785526156425, -224.39871776103973, -224.3387943804264, -224.38983389735222, -224.3881702721119, -224.3253506720066, -224.43075981736183, -224.35467991232872, -224.34657791256905, -224.38860085606575, -224.47284507751465, -224.36881014704704, -224.37491327524185, -224.4027295410633, -224.39036786556244, -224.31025743484497, -224.31108009815216, -224.3594189286232, -224.40400397777557, -224.39963844418526, -224.38001534342766, -224.3070033788681, -224.60101121664047, -224.36921471357346, -224.33865168690681, -224.51994234323502, -224.2938682436943, -224.4155731201172, -224.37921139597893, -224.39695712924004, -224.27596908807755, -224.37815710902214, -224.3106230199337, -224.33766388893127, -224.33060136437416, -224.40659254789352, -224.33747231960297, -224.30814769864082, -224.40475395321846, -224.30749556422234, -224.37245386838913, -224.36252224445343, -224.40718638896942, -224.7675999701023, -224.44536045193672, -224.43748316168785, -224.29879119992256, -224.38776171207428, -224.4721865952015, -224.42094522714615, -224.30081075429916, -224.36938220262527, -224.3297374546528, -224.32320496439934, -224.40154165029526, -224.3603871166706, -224.6045399904251, -224.38301292061806, -224.40351980924606, -224.2919140458107, -224.36434519290924, -224.2841425538063, -224.37081104516983, -224.43056270480156, -224.36610874533653, -224.3643082678318, -224.38824927806854, -224.32768794894218, -224.3190217912197, -224.32971969246864, -224.3515573143959, -224.37362352013588, -224.26789757609367, -224.31733864545822, -224.29027250409126, -224.41736608743668, -224.40130150318146, -224.3610360622406, -224.37759399414062, -224.30345380306244, -224.3347371816635, -224.2970209121704, -224.32880872488022, -224.37562683224678, -224.35657232999802, -224.29715862870216, -224.36666610836983, -224.35063338279724, -224.3388428092003, -224.5221515595913, -224.304899841547, -224.37094289064407, -224.33350092172623, -224.4069743156433, -224.43380147218704, -224.59493720531464, -224.25957798957825, -224.3806256055832, -224.3372744321823, -224.33091083168983, -224.31354624032974, -224.36449590325356, -224.3482914865017, -224.4106709063053, -224.41407483816147, -224.50611612200737, -224.34554556012154, -224.3121423125267, -224.36045089364052, -224.26828807592392, -224.33246704936028, -224.4027952849865, -224.35895839333534, -224.33987179398537, -224.27093428373337, -224.3392499089241, -224.34720221161842, -224.36594215035439, -224.33127626776695, -224.47585558891296, -224.31313601136208, -224.28608345985413, -224.40923881530762, -224.2838134765625, -224.29382529854774, -224.3388567864895, -224.35831466317177, -224.45002350211143, -224.33143427968025, -224.3880471587181, -224.34892642498016, -224.33206874132156, -224.3570348918438, -224.4633156657219, -224.33488449454308, -224.3521452844143, -224.34294718503952, -224.45293599367142, -224.39797639846802, -224.39726188778877, -224.31608620285988, -224.4565147459507, -224.30574336647987, -224.52768343687057, -224.44009745121002, -224.39015489816666, -224.3069487810135, -224.37266898155212, -224.36147117614746, -224.30999037623405, -224.41535502672195, -224.3620585501194, -224.29615885019302, -224.35251262784004, -224.3309544622898, -224.37943363189697, -224.3045744895935, -224.41214975714684, -224.42718082666397, -224.32847210764885, -224.3831912279129, -224.38264322280884, -224.32365429401398, -224.3321854174137, -224.41354715824127, -224.35225355625153, -224.31783086061478, -224.4285804629326, -224.39189797639847, -224.31543424725533, -224.34204369783401, -224.48051598668098, -224.3379818201065, -224.42391860485077, -224.44824123382568, -224.35917565226555, -224.50692692399025, -224.32214468717575, -224.3564479649067, -224.35509061813354, -224.30289152264595, -224.36133435368538, -224.40685340762138, -224.34359201788902, -224.3998078107834, -224.35380390286446, -224.32846024632454, -224.3520823121071, -224.3012564778328, -224.27383822202682, -224.28075250983238, -224.29294702410698, -224.3027616739273, -224.34826666116714, -224.36249214410782, -224.3345569372177, -224.32328447699547, -224.329436480999, -224.4348312318325, -224.41562381386757, -224.27924340963364, -224.42818748950958, -224.4858359992504, -224.28606635332108, -224.4581389427185, -224.31992268562317, -224.35024043917656, -224.562687844038, -224.33915758132935, -224.40743774175644, -224.49100759625435, -224.3959912955761, -224.28860208392143, -224.3454588651657, -224.30678060650826, -224.3408261835575, -224.31357735395432, -224.38023149967194, -224.35931530594826, -224.3186241388321, -224.42061746120453, -224.33147859573364, -224.3034209907055, -224.39987495541573, -224.38005697727203, -224.33872425556183, -224.2777537703514, -224.3074513375759, -224.27545806765556, -224.54095023870468, -224.27892616391182, -224.3632160127163, -224.33716973662376, -224.3110934495926, -224.3736248910427, -224.37554827332497, -224.49343809485435, -224.28365767002106, -224.33951836824417, -224.29871520400047, -224.4534995853901, -224.42984691262245, -224.312321215868, -224.37104946374893, -224.32991087436676, -224.44508412480354, -224.50761237740517, -224.29973921179771, -224.3159117102623, -224.2854845225811, -224.37427419424057, -224.26297488808632, -224.41481456160545, -224.43374827504158, -224.32502526044846, -224.3188713490963, -224.36111930012703, -224.46449461579323, -224.36625400185585, -224.37223306298256, -224.36544048786163, -224.31804510951042, -224.6113488972187, -224.31497472524643, -224.31108221411705, -224.37066650390625, -224.3274673819542, -224.34270974993706, -224.45438757538795, -224.49277684092522, -224.44910395145416, -224.3073934316635, -224.33934408426285, -224.33459812402725, -224.39441195130348, -224.43782317638397, -224.4333368241787, -224.28242683410645, -224.30310267210007, -224.41098287701607, -224.3985632956028, -224.30670610070229, -224.66588413715363, -224.3381648659706, -224.4479920566082, -224.3103683590889, -224.34762716293335, -224.3416121006012, -224.3095354437828, -224.34755766391754, -224.40825510025024, -224.44385209679604, -224.28476133942604, -224.41247579455376, -224.29214137792587, -224.38881859183311, -224.35953530669212, -224.32384371757507, -224.37924754619598, -224.33655181527138, -224.32562512159348, -224.39529645442963, -224.31181463599205, -224.4645546078682, -224.33923345804214, -224.42857363820076, -224.3947885632515, -224.45211443305016, -224.3342524766922, -224.3965374827385, -224.3856110572815, -224.34915632009506, -224.326023042202, -224.34633195400238, -224.2865015566349, -224.36134561896324, -224.29986771941185, -224.3357414007187, -224.3574397265911, -224.29379603266716, -224.2694589793682, -224.45427471399307, -224.4107417166233, -224.4272664785385, -224.37149462103844, -224.31930893659592, -224.39204716682434, -224.33705416321754, -224.32043707370758, -224.42619514465332, -224.4859008193016, -224.41631817817688, -224.43764713406563, -224.4079351723194, -224.32780689001083, -224.33483746647835, -224.29862475395203, -224.37441232800484, -224.41480040550232, -224.6096369922161, -224.36162650585175, -224.36354160308838, -224.382257938385, -224.39101180434227, -224.3731396496296, -224.69743075966835, -224.38071128726006, -224.3672766983509, -224.53343933820724, -224.41421642899513, -224.36004251241684, -224.50250977277756, -224.37797820568085, -224.37986621260643, -224.3679593205452, -224.29955026507378, -224.34745946526527, -224.38865467905998, -224.41352346539497, -224.32614761590958, -224.48221117258072, -224.45992928743362, -224.3140967786312, -224.36470726132393, -224.44629243016243, -224.33656176924706, -224.3953351676464, -224.41963824629784, -224.33255290985107, -224.32548561692238, -224.4133442044258, -224.3781715631485, -224.41364720463753, -224.30015096068382, -224.3445226252079, -224.40406236052513, -224.3952880203724, -224.38639152050018, -224.39745393395424, -224.3457876443863, -224.41361317038536, -224.39733120799065, -224.31877732276917, -224.32619261741638, -224.2937670648098, -224.30896469950676, -224.3994798064232, -224.35612949728966, -224.31653368473053, -224.3494329750538, -224.40978294610977, -224.33744141459465, -224.39788165688515, -224.28589683771133, -224.36484596133232, -224.3964020907879, -224.34644451737404, -224.31784921884537, -224.37680971622467, -224.3683255314827, -224.29721888899803, -224.29750910401344, -224.3141119480133, -224.53022384643555, -224.33034792542458, -224.35373935103416, -224.40705260634422, -224.32375493645668, -224.50205418467522, -224.29753893613815, -224.3200141787529, -224.33223631978035, -224.3905556499958, -224.32065477967262, -224.35567373037338, -224.26689851284027, -224.2777177989483, -224.35608795285225, -224.31681272387505, -224.28824970126152, -224.3427711725235, -224.30987480282784, -224.36264085769653, -224.33030822873116, -224.4419423341751, -224.48941323161125, -224.40162846446037, -224.35421854257584, -224.40672412514687, -224.37621995806694, -224.33088472485542, -224.31934815645218, -224.44953566789627, -224.39791303873062, -224.3277663886547, -224.29118955135345, -224.31220048666, -224.33307471871376, -224.4399175941944, -224.34618231654167, -224.33167055249214, -224.39294856786728, -224.35572990775108, -224.3296798467636, -224.39115518331528, -224.3642057478428, -224.41054570674896, -224.2722541987896, -224.35066866874695, -224.34793692827225, -224.4334615767002, -224.28104117512703, -224.41215977072716, -224.3733549118042, -224.38241770863533, -224.3582469522953, -224.33248889446259, -224.30400043725967, -224.4286957681179, -224.3142097890377, -224.32557821273804, -224.39395380020142, -224.32684472203255, -224.38934388756752, -224.3305192887783, -224.3255888223648, -224.34566861391068, -224.43449008464813, -224.39759403467178, -224.31719362735748, -224.43253284692764, -224.30131953954697, -224.43022400140762, -224.33825701475143, -224.315260887146, -224.40069404244423, -224.34931442141533, -224.3956519961357, -224.30928426980972, -224.3063371181488, -224.36749249696732, -224.3384833931923, -224.36976245045662, -224.32622623443604, -224.389014005661, -224.30842918157578, -224.4440008699894, -224.3173485994339, -224.44590017199516, -224.27920800447464, -224.42259114980698, -224.47280284762383, -224.3611034154892, -224.34426829218864, -224.42129150032997, -224.4292829632759, -224.4069103896618, -224.37425339221954, -224.40049558877945, -224.317256629467, -224.28930115699768, -224.3640529513359, -224.34632220864296, -224.41359841823578, -224.4921034872532, -224.39967867732048, -224.48744454979897, -224.34583881497383, -224.38691207766533, -224.34169697761536, -224.36967852711678, -224.35621628165245, -224.42834097146988, -224.37931165099144, -224.44449445605278, -224.4812957048416, -224.30166575312614, -224.37078535556793, -224.36495411396027, -224.3390881717205, -224.31697621941566, -224.3124275803566, -224.3553191423416, -224.37321665883064, -224.32507422566414, -224.39599686861038, -224.35398814082146, -224.43073865771294, -224.32829025387764, -224.38988944888115, -224.35056513547897, -224.4189672768116, -224.39629033207893, -224.36213973164558, -224.4158039689064, -224.36701980233192, -224.32160803675652, -224.35169756412506, -224.36320224404335, -224.30950725078583, -224.35336166620255, -224.3528883755207, -224.37687453627586, -224.3821235895157, -224.45095565915108, -224.33016741275787, -224.32584992051125, -224.30439734458923, -224.28836259245872, -224.31247383356094, -224.40201479196548, -224.47745594382286, -224.3237565457821, -224.3313273191452, -224.30268907546997, -224.3807553946972, -224.49600666761398, -224.3592410981655, -224.36410695314407, -224.3276063501835, -224.3187556862831, -224.32217273116112, -224.42011764645576, -224.3596152961254, -224.39226773381233, -224.45665794610977, -224.28244507312775, -224.32109302282333, -224.34179681539536, -224.40600416064262, -224.3240322470665, -224.38395237922668, -224.32486787438393, -224.465537160635, -224.36037003993988, -224.30674695968628, -224.3094145655632, -224.3875989317894, -224.4047629237175, -224.3066925406456, -224.35571691393852, -224.30287393927574, -224.33732706308365, -224.33248868584633, -224.34388583898544, -224.30335760116577, -224.34974405169487, -224.36854258179665, -224.27575412392616, -224.3953678905964, -224.32050788402557, -224.29720798134804, -224.27241271734238, -224.31834188103676, -224.3014505803585, -224.3185405433178, -224.34480103850365, -224.33729407191277, -224.3804159462452, -224.3720089495182, -224.32545509934425, -224.40088015794754, -224.33155885338783, -224.29595935344696, -224.36007717251778, -224.34880229830742, -224.30410981178284, -224.37784147262573, -224.2960541844368, -224.34196776151657, -224.33419987559319, -224.3177949488163, -224.34614408016205, -224.2839778661728, -224.38793405890465, -224.37767586112022, -224.31169065833092, -224.34676522016525, -224.3292434811592, -224.44503796100616, -224.327173858881, -224.3337000310421, -224.32756209373474, -224.32410949468613, -224.36986649036407, -224.38051369786263, -224.26056197285652, -224.37507742643356, -224.31480240821838, -224.3528713285923, -224.4618321955204, -224.31058421730995, -224.3598377108574, -224.3216273188591, -224.29463270306587, -224.31017968058586, -224.30488350987434, -224.30166232585907, -224.36289438605309, -224.43489962816238, -224.34662517905235, -224.37738436460495, -224.32638636231422, -224.3514233827591, -224.2891651391983, -224.35257896780968, -224.32883405685425, -224.3062802553177, -224.3860832452774, -224.31805983185768, -224.31242951750755, -224.30795821547508, -224.30045080184937, -224.3387051820755, -224.30600625276566, -224.3276747763157, -224.36908838152885, -224.39965227246284, -224.32534116506577, -224.3145676255226, -224.35838970541954, -224.30135098099709, -224.44821536540985, -224.30648919939995, -224.37557822465897, -224.3254036605358, -224.29193755984306, -224.355456918478, -224.3514870107174, -224.33856043219566, -224.2947655916214, -224.30935150384903, -224.38227140903473, -224.3185176551342, -224.3396793305874, -224.2966012954712, -224.31718328595161, -224.3610958456993, -224.28086322546005, -224.35115909576416, -224.3163217008114, -224.34535765647888, -224.34122076630592, -224.36869862675667, -224.31999012827873, -224.2859907746315, -224.40604469180107, -224.3312889635563, -224.3228783905506, -224.31365984678268, -224.6744975745678, -224.31473311781883, -224.35694733262062, -224.32146367430687, -224.31495606899261, -224.32654574513435, -224.27897784113884, -224.31472373008728, -224.30725729465485, -224.36325308680534, -224.3499894440174, -224.31814074516296, -224.31351405382156, -224.29158473014832, -224.28955334424973, -224.3614051938057, -224.28669595718384, -224.310986161232, -224.29819816350937, -224.2912693619728, -224.43760031461716, -224.3887239098549, -224.31488341093063, -224.359359562397, -224.40081387758255, -224.27959311008453, -224.31488260626793, -224.3106674849987, -224.31888887286186, -224.3248217701912, -224.44618713855743, -224.33041405677795, -224.44153898954391, -224.32571709156036, -224.35868394374847, -224.3080486357212, -224.34937900304794, -224.281166523695, -224.28197008371353, -224.30326652526855, -224.33188810944557, -224.3904937505722, -224.32194688916206, -224.30276280641556, -224.27401158213615, -224.3507443666458, -224.3039727807045, -224.30149766802788, -224.30178481340408, -224.34623083472252, -224.32271441817284, -224.32898303866386, -224.3178867995739, -224.2738315165043, -224.31525602936745, -224.3586492240429, -224.3120003938675, -224.32228222489357, -224.31735131144524, -224.34486040472984, -224.320916980505, -224.26721939444542, -224.2997651398182, -224.32408678531647, -224.33350005745888, -224.30145505070686, -224.34195056557655, -224.3424677848816, -224.2753735780716, -224.36712324619293, -224.33410131931305, -224.34435254335403, -224.3486831486225, -224.3014994263649, -224.33294466137886, -224.3248092830181, -224.40084159374237, -224.32620814442635, -224.32185649871826, -224.34916692972183, -224.49744832515717, -224.30391451716423, -224.28807020187378, -224.31638517975807, -224.39697709679604, -224.2798606455326, -224.32728013396263, -224.31976854801178, -224.34015050530434, -224.35066032409668, -224.37417069077492, -224.32169154286385, -224.3203604221344, -224.29269301891327, -224.3455766439438, -224.30731990933418, -224.38782286643982, -224.36961549520493, -224.3344710767269, -224.35145059227943, -224.31513035297394, -224.33482548594475, -224.32401770353317, -224.3269129395485, -224.31308490037918, -224.3436593413353, -224.36907523870468, -224.3163201212883, -224.31810039281845, -224.33509477972984, -224.3251423239708, -224.30655452609062, -224.53186360001564, -224.29844400286674, -224.33879801630974, -224.36087274551392, -224.31144520640373, -224.27759730815887, -224.33067896962166, -224.31952095031738, -224.32038709521294, -224.31781980395317, -224.3104768395424, -224.30481216311455, -224.30212292075157, -224.37917685508728, -224.34534499049187, -224.29713931679726, -224.41314920783043, -224.3770131766796, -224.31341084837914, -224.38957899808884, -224.34681835770607, -224.35038316249847, -224.34766152501106, -224.34043788909912, -224.39124393463135, -224.3237030506134, -224.34162691235542, -224.33171892166138, -224.31903326511383, -224.46922039985657, -224.27380988001823, -224.3491671383381, -224.3814339339733, -224.32936453819275, -224.29917684197426, -224.2820509672165, -224.31630250811577, -224.32418778538704, -224.38318926095963, -224.37912490963936, -224.33039572834969, -224.29773515462875, -224.2969966828823, -224.32074919342995, -224.34370857477188, -224.3150630891323, -224.34467670321465, -224.34745052456856, -224.34385985136032, -224.3858010172844, -224.34009492397308, -224.37126275897026, -224.32581642270088, -224.40085396170616, -224.3315879702568, -224.280007481575, -224.2969700396061, -224.29838427901268, -224.30809977650642, -224.3325858414173, -224.43248081207275, -224.31940853595734, -224.33122992515564, -224.32843390107155, -224.31066876649857, -224.37455374002457, -224.34499344229698, -224.3318975865841, -224.35563629865646, -224.32386323809624, -224.3646156191826, -224.43118476867676, -224.29683953523636, -224.382846981287, -224.31130760908127, -224.36461555957794, -224.32804909348488, -224.32517364621162, -224.30421698093414, -224.29581806063652, -224.31548085808754, -224.32121217250824, -224.39037469029427, -224.3091157078743, -224.35859420895576, -224.3392249941826, -224.33906677365303, -224.34704181551933, -224.30461716651917, -224.3289494216442, -224.3248092532158, -224.48232072591782, -224.33276289701462, -224.33667868375778, -224.60747075080872, -224.3693490922451, -224.38054129481316, -224.35207679867744, -224.41679820418358, -224.31823393702507, -224.37082409858704, -224.4158457815647, -224.39908301830292, -224.36103415489197, -224.32963874936104, -224.31594455242157, -224.33286035060883, -224.33656203746796, -224.30609911680222, -224.45036482810974, -224.4307507276535, -224.28933921456337, -224.33783942461014, -224.29066759347916, -224.30968883633614, -224.42755684256554, -224.30434933304787, -224.30177834630013, -224.3064861893654, -224.28853514790535, -224.28862076997757]\n",
            "Training complete!\n",
            "-39.697309494018555\n"
          ]
        }
      ]
    },
    {
      "cell_type": "code",
      "source": [
        "img = vae(x,psi1,psi2)[0][0][0]\n",
        "plt.imshow(img.cpu().detach().numpy())"
      ],
      "metadata": {
        "colab": {
          "base_uri": "https://localhost:8080/",
          "height": 282
        },
        "id": "jlo-KnaWMq0x",
        "outputId": "14716633-d06c-47fd-d925-91ba2e8ab551"
      },
      "execution_count": null,
      "outputs": [
        {
          "output_type": "execute_result",
          "data": {
            "text/plain": [
              "<matplotlib.image.AxesImage at 0x7fcb1b1e2c50>"
            ]
          },
          "metadata": {},
          "execution_count": 13
        },
        {
          "output_type": "display_data",
          "data": {
            "text/plain": [
              "<Figure size 432x288 with 1 Axes>"
            ],
            "image/png": "[encoded data removed]"
          },
          "metadata": {
            "needs_background": "light"
          }
        }
      ]
    },
    {
      "cell_type": "code",
      "source": [
        "plt.imshow(x[0,0,:,:].cpu())"
      ],
      "metadata": {
        "colab": {
          "base_uri": "https://localhost:8080/",
          "height": 282
        },
        "id": "vRJj423pY0Hg",
        "outputId": "d4d9c5fc-3fe0-458f-a2a7-296f1e1848be"
      },
      "execution_count": null,
      "outputs": [
        {
          "output_type": "execute_result",
          "data": {
            "text/plain": [
              "<matplotlib.image.AxesImage at 0x7fcb19d212d0>"
            ]
          },
          "metadata": {},
          "execution_count": 15
        },
        {
          "output_type": "display_data",
          "data": {
            "text/plain": [
              "<Figure size 432x288 with 1 Axes>"
            ],
            "image/png": "[encoded data removed]"
          },
          "metadata": {
            "needs_background": "light"
          }
        }
      ]
    }
  ],
  "metadata": {
    "colab": {
      "provenance": [],
      "collapsed_sections": [
        "93vFe2VeUqQp",
        "gnFBKHFNLvkw"
      ],
      "include_colab_link": true
    },
    "kernelspec": {
      "display_name": "Python 3",
      "name": "python3"
    },
    "language_info": {
      "name": "python"
    },
    "widgets": {
      "application/vnd.jupyter.widget-state+json": {
        "4b93f41446d14fda9f41a477cf4f48bb": {
          "model_module": "@jupyter-widgets/controls",
          "model_name": "HBoxModel",
          "model_module_version": "1.5.0",
          "state": {
            "_dom_classes": [],
            "_model_module": "@jupyter-widgets/controls",
            "_model_module_version": "1.5.0",
            "_model_name": "HBoxModel",
            "_view_count": null,
            "_view_module": "@jupyter-widgets/controls",
            "_view_module_version": "1.5.0",
            "_view_name": "HBoxView",
            "box_style": "",
            "children": [
              "IPY_MODEL_7b69e633daee4878a0a7f1604dbf1fef",
              "IPY_MODEL_6bc7df7bab1c484380a99482236ff353",
              "IPY_MODEL_905b889872364c369b785d2195e941e7"
            ],
            "layout": "IPY_MODEL_234c024baf91428888c9518a2b0a75ea"
          }
        },
        "7b69e633daee4878a0a7f1604dbf1fef": {
          "model_module": "@jupyter-widgets/controls",
          "model_name": "HTMLModel",
          "model_module_version": "1.5.0",
          "state": {
            "_dom_classes": [],
            "_model_module": "@jupyter-widgets/controls",
            "_model_module_version": "1.5.0",
            "_model_name": "HTMLModel",
            "_view_count": null,
            "_view_module": "@jupyter-widgets/controls",
            "_view_module_version": "1.5.0",
            "_view_name": "HTMLView",
            "description": "",
            "description_tooltip": null,
            "layout": "IPY_MODEL_9a3f3c1b304d4213b117df915196748e",
            "placeholder": "​",
            "style": "IPY_MODEL_c217a1f82efe4004a1a28e90a5a6ef8f",
            "value": "100%"
          }
        },
        "6bc7df7bab1c484380a99482236ff353": {
          "model_module": "@jupyter-widgets/controls",
          "model_name": "FloatProgressModel",
          "model_module_version": "1.5.0",
          "state": {
            "_dom_classes": [],
            "_model_module": "@jupyter-widgets/controls",
            "_model_module_version": "1.5.0",
            "_model_name": "FloatProgressModel",
            "_view_count": null,
            "_view_module": "@jupyter-widgets/controls",
            "_view_module_version": "1.5.0",
            "_view_name": "ProgressView",
            "bar_style": "success",
            "description": "",
            "description_tooltip": null,
            "layout": "IPY_MODEL_e9f8aa095aa64add87ea013949758ba8",
            "max": 9912422,
            "min": 0,
            "orientation": "horizontal",
            "style": "IPY_MODEL_0ddfb86eb35645daa82579837d67558a",
            "value": 9912422
          }
        },
        "905b889872364c369b785d2195e941e7": {
          "model_module": "@jupyter-widgets/controls",
          "model_name": "HTMLModel",
          "model_module_version": "1.5.0",
          "state": {
            "_dom_classes": [],
            "_model_module": "@jupyter-widgets/controls",
            "_model_module_version": "1.5.0",
            "_model_name": "HTMLModel",
            "_view_count": null,
            "_view_module": "@jupyter-widgets/controls",
            "_view_module_version": "1.5.0",
            "_view_name": "HTMLView",
            "description": "",
            "description_tooltip": null,
            "layout": "IPY_MODEL_119cb48ee7f54f86bdf7b2ddb2cc2f92",
            "placeholder": "​",
            "style": "IPY_MODEL_d82c3ce6144e40b8a79ca5eba640d2d0",
            "value": " 9912422/9912422 [00:00&lt;00:00, 110154760.47it/s]"
          }
        },
        "234c024baf91428888c9518a2b0a75ea": {
          "model_module": "@jupyter-widgets/base",
          "model_name": "LayoutModel",
          "model_module_version": "1.2.0",
          "state": {
            "_model_module": "@jupyter-widgets/base",
            "_model_module_version": "1.2.0",
            "_model_name": "LayoutModel",
            "_view_count": null,
            "_view_module": "@jupyter-widgets/base",
            "_view_module_version": "1.2.0",
            "_view_name": "LayoutView",
            "align_content": null,
            "align_items": null,
            "align_self": null,
            "border": null,
            "bottom": null,
            "display": null,
            "flex": null,
            "flex_flow": null,
            "grid_area": null,
            "grid_auto_columns": null,
            "grid_auto_flow": null,
            "grid_auto_rows": null,
            "grid_column": null,
            "grid_gap": null,
            "grid_row": null,
            "grid_template_areas": null,
            "grid_template_columns": null,
            "grid_template_rows": null,
            "height": null,
            "justify_content": null,
            "justify_items": null,
            "left": null,
            "margin": null,
            "max_height": null,
            "max_width": null,
            "min_height": null,
            "min_width": null,
            "object_fit": null,
            "object_position": null,
            "order": null,
            "overflow": null,
            "overflow_x": null,
            "overflow_y": null,
            "padding": null,
            "right": null,
            "top": null,
            "visibility": null,
            "width": null
          }
        },
        "9a3f3c1b304d4213b117df915196748e": {
          "model_module": "@jupyter-widgets/base",
          "model_name": "LayoutModel",
          "model_module_version": "1.2.0",
          "state": {
            "_model_module": "@jupyter-widgets/base",
            "_model_module_version": "1.2.0",
            "_model_name": "LayoutModel",
            "_view_count": null,
            "_view_module": "@jupyter-widgets/base",
            "_view_module_version": "1.2.0",
            "_view_name": "LayoutView",
            "align_content": null,
            "align_items": null,
            "align_self": null,
            "border": null,
            "bottom": null,
            "display": null,
            "flex": null,
            "flex_flow": null,
            "grid_area": null,
            "grid_auto_columns": null,
            "grid_auto_flow": null,
            "grid_auto_rows": null,
            "grid_column": null,
            "grid_gap": null,
            "grid_row": null,
            "grid_template_areas": null,
            "grid_template_columns": null,
            "grid_template_rows": null,
            "height": null,
            "justify_content": null,
            "justify_items": null,
            "left": null,
            "margin": null,
            "max_height": null,
            "max_width": null,
            "min_height": null,
            "min_width": null,
            "object_fit": null,
            "object_position": null,
            "order": null,
            "overflow": null,
            "overflow_x": null,
            "overflow_y": null,
            "padding": null,
            "right": null,
            "top": null,
            "visibility": null,
            "width": null
          }
        },
        "c217a1f82efe4004a1a28e90a5a6ef8f": {
          "model_module": "@jupyter-widgets/controls",
          "model_name": "DescriptionStyleModel",
          "model_module_version": "1.5.0",
          "state": {
            "_model_module": "@jupyter-widgets/controls",
            "_model_module_version": "1.5.0",
            "_model_name": "DescriptionStyleModel",
            "_view_count": null,
            "_view_module": "@jupyter-widgets/base",
            "_view_module_version": "1.2.0",
            "_view_name": "StyleView",
            "description_width": ""
          }
        },
        "e9f8aa095aa64add87ea013949758ba8": {
          "model_module": "@jupyter-widgets/base",
          "model_name": "LayoutModel",
          "model_module_version": "1.2.0",
          "state": {
            "_model_module": "@jupyter-widgets/base",
            "_model_module_version": "1.2.0",
            "_model_name": "LayoutModel",
            "_view_count": null,
            "_view_module": "@jupyter-widgets/base",
            "_view_module_version": "1.2.0",
            "_view_name": "LayoutView",
            "align_content": null,
            "align_items": null,
            "align_self": null,
            "border": null,
            "bottom": null,
            "display": null,
            "flex": null,
            "flex_flow": null,
            "grid_area": null,
            "grid_auto_columns": null,
            "grid_auto_flow": null,
            "grid_auto_rows": null,
            "grid_column": null,
            "grid_gap": null,
            "grid_row": null,
            "grid_template_areas": null,
            "grid_template_columns": null,
            "grid_template_rows": null,
            "height": null,
            "justify_content": null,
            "justify_items": null,
            "left": null,
            "margin": null,
            "max_height": null,
            "max_width": null,
            "min_height": null,
            "min_width": null,
            "object_fit": null,
            "object_position": null,
            "order": null,
            "overflow": null,
            "overflow_x": null,
            "overflow_y": null,
            "padding": null,
            "right": null,
            "top": null,
            "visibility": null,
            "width": null
          }
        },
        "0ddfb86eb35645daa82579837d67558a": {
          "model_module": "@jupyter-widgets/controls",
          "model_name": "ProgressStyleModel",
          "model_module_version": "1.5.0",
          "state": {
            "_model_module": "@jupyter-widgets/controls",
            "_model_module_version": "1.5.0",
            "_model_name": "ProgressStyleModel",
            "_view_count": null,
            "_view_module": "@jupyter-widgets/base",
            "_view_module_version": "1.2.0",
            "_view_name": "StyleView",
            "bar_color": null,
            "description_width": ""
          }
        },
        "119cb48ee7f54f86bdf7b2ddb2cc2f92": {
          "model_module": "@jupyter-widgets/base",
          "model_name": "LayoutModel",
          "model_module_version": "1.2.0",
          "state": {
            "_model_module": "@jupyter-widgets/base",
            "_model_module_version": "1.2.0",
            "_model_name": "LayoutModel",
            "_view_count": null,
            "_view_module": "@jupyter-widgets/base",
            "_view_module_version": "1.2.0",
            "_view_name": "LayoutView",
            "align_content": null,
            "align_items": null,
            "align_self": null,
            "border": null,
            "bottom": null,
            "display": null,
            "flex": null,
            "flex_flow": null,
            "grid_area": null,
            "grid_auto_columns": null,
            "grid_auto_flow": null,
            "grid_auto_rows": null,
            "grid_column": null,
            "grid_gap": null,
            "grid_row": null,
            "grid_template_areas": null,
            "grid_template_columns": null,
            "grid_template_rows": null,
            "height": null,
            "justify_content": null,
            "justify_items": null,
            "left": null,
            "margin": null,
            "max_height": null,
            "max_width": null,
            "min_height": null,
            "min_width": null,
            "object_fit": null,
            "object_position": null,
            "order": null,
            "overflow": null,
            "overflow_x": null,
            "overflow_y": null,
            "padding": null,
            "right": null,
            "top": null,
            "visibility": null,
            "width": null
          }
        },
        "d82c3ce6144e40b8a79ca5eba640d2d0": {
          "model_module": "@jupyter-widgets/controls",
          "model_name": "DescriptionStyleModel",
          "model_module_version": "1.5.0",
          "state": {
            "_model_module": "@jupyter-widgets/controls",
            "_model_module_version": "1.5.0",
            "_model_name": "DescriptionStyleModel",
            "_view_count": null,
            "_view_module": "@jupyter-widgets/base",
            "_view_module_version": "1.2.0",
            "_view_name": "StyleView",
            "description_width": ""
          }
        },
        "86fc24dabfc94033bce65fc1a975e315": {
          "model_module": "@jupyter-widgets/controls",
          "model_name": "HBoxModel",
          "model_module_version": "1.5.0",
          "state": {
            "_dom_classes": [],
            "_model_module": "@jupyter-widgets/controls",
            "_model_module_version": "1.5.0",
            "_model_name": "HBoxModel",
            "_view_count": null,
            "_view_module": "@jupyter-widgets/controls",
            "_view_module_version": "1.5.0",
            "_view_name": "HBoxView",
            "box_style": "",
            "children": [
              "IPY_MODEL_1574359afb6347c99253f94756e5bfb6",
              "IPY_MODEL_e612443828e84d50815b8891a8003f8e",
              "IPY_MODEL_3409e67e5b7f474f803749e3e3fdcc77"
            ],
            "layout": "IPY_MODEL_593026eb3fce4dbd892cb59a11be9b22"
          }
        },
        "1574359afb6347c99253f94756e5bfb6": {
          "model_module": "@jupyter-widgets/controls",
          "model_name": "HTMLModel",
          "model_module_version": "1.5.0",
          "state": {
            "_dom_classes": [],
            "_model_module": "@jupyter-widgets/controls",
            "_model_module_version": "1.5.0",
            "_model_name": "HTMLModel",
            "_view_count": null,
            "_view_module": "@jupyter-widgets/controls",
            "_view_module_version": "1.5.0",
            "_view_name": "HTMLView",
            "description": "",
            "description_tooltip": null,
            "layout": "IPY_MODEL_718505fe48df4c2199fd8c54e82f67ce",
            "placeholder": "​",
            "style": "IPY_MODEL_9747fccbfd2549868e3b01bcf26a9fe3",
            "value": "100%"
          }
        },
        "e612443828e84d50815b8891a8003f8e": {
          "model_module": "@jupyter-widgets/controls",
          "model_name": "FloatProgressModel",
          "model_module_version": "1.5.0",
          "state": {
            "_dom_classes": [],
            "_model_module": "@jupyter-widgets/controls",
            "_model_module_version": "1.5.0",
            "_model_name": "FloatProgressModel",
            "_view_count": null,
            "_view_module": "@jupyter-widgets/controls",
            "_view_module_version": "1.5.0",
            "_view_name": "ProgressView",
            "bar_style": "success",
            "description": "",
            "description_tooltip": null,
            "layout": "IPY_MODEL_e73b6041030047cbb1c82d0db4717d4c",
            "max": 28881,
            "min": 0,
            "orientation": "horizontal",
            "style": "IPY_MODEL_2896521dcb8841e49b26e46789e095ef",
            "value": 28881
          }
        },
        "3409e67e5b7f474f803749e3e3fdcc77": {
          "model_module": "@jupyter-widgets/controls",
          "model_name": "HTMLModel",
          "model_module_version": "1.5.0",
          "state": {
            "_dom_classes": [],
            "_model_module": "@jupyter-widgets/controls",
            "_model_module_version": "1.5.0",
            "_model_name": "HTMLModel",
            "_view_count": null,
            "_view_module": "@jupyter-widgets/controls",
            "_view_module_version": "1.5.0",
            "_view_name": "HTMLView",
            "description": "",
            "description_tooltip": null,
            "layout": "IPY_MODEL_bbf2b48b4f494ee4bc981fb7e3b8a8f4",
            "placeholder": "​",
            "style": "IPY_MODEL_c9a0085c01894b7898ea1ffb98b8d52e",
            "value": " 28881/28881 [00:00&lt;00:00, 956030.00it/s]"
          }
        },
        "593026eb3fce4dbd892cb59a11be9b22": {
          "model_module": "@jupyter-widgets/base",
          "model_name": "LayoutModel",
          "model_module_version": "1.2.0",
          "state": {
            "_model_module": "@jupyter-widgets/base",
            "_model_module_version": "1.2.0",
            "_model_name": "LayoutModel",
            "_view_count": null,
            "_view_module": "@jupyter-widgets/base",
            "_view_module_version": "1.2.0",
            "_view_name": "LayoutView",
            "align_content": null,
            "align_items": null,
            "align_self": null,
            "border": null,
            "bottom": null,
            "display": null,
            "flex": null,
            "flex_flow": null,
            "grid_area": null,
            "grid_auto_columns": null,
            "grid_auto_flow": null,
            "grid_auto_rows": null,
            "grid_column": null,
            "grid_gap": null,
            "grid_row": null,
            "grid_template_areas": null,
            "grid_template_columns": null,
            "grid_template_rows": null,
            "height": null,
            "justify_content": null,
            "justify_items": null,
            "left": null,
            "margin": null,
            "max_height": null,
            "max_width": null,
            "min_height": null,
            "min_width": null,
            "object_fit": null,
            "object_position": null,
            "order": null,
            "overflow": null,
            "overflow_x": null,
            "overflow_y": null,
            "padding": null,
            "right": null,
            "top": null,
            "visibility": null,
            "width": null
          }
        },
        "718505fe48df4c2199fd8c54e82f67ce": {
          "model_module": "@jupyter-widgets/base",
          "model_name": "LayoutModel",
          "model_module_version": "1.2.0",
          "state": {
            "_model_module": "@jupyter-widgets/base",
            "_model_module_version": "1.2.0",
            "_model_name": "LayoutModel",
            "_view_count": null,
            "_view_module": "@jupyter-widgets/base",
            "_view_module_version": "1.2.0",
            "_view_name": "LayoutView",
            "align_content": null,
            "align_items": null,
            "align_self": null,
            "border": null,
            "bottom": null,
            "display": null,
            "flex": null,
            "flex_flow": null,
            "grid_area": null,
            "grid_auto_columns": null,
            "grid_auto_flow": null,
            "grid_auto_rows": null,
            "grid_column": null,
            "grid_gap": null,
            "grid_row": null,
            "grid_template_areas": null,
            "grid_template_columns": null,
            "grid_template_rows": null,
            "height": null,
            "justify_content": null,
            "justify_items": null,
            "left": null,
            "margin": null,
            "max_height": null,
            "max_width": null,
            "min_height": null,
            "min_width": null,
            "object_fit": null,
            "object_position": null,
            "order": null,
            "overflow": null,
            "overflow_x": null,
            "overflow_y": null,
            "padding": null,
            "right": null,
            "top": null,
            "visibility": null,
            "width": null
          }
        },
        "9747fccbfd2549868e3b01bcf26a9fe3": {
          "model_module": "@jupyter-widgets/controls",
          "model_name": "DescriptionStyleModel",
          "model_module_version": "1.5.0",
          "state": {
            "_model_module": "@jupyter-widgets/controls",
            "_model_module_version": "1.5.0",
            "_model_name": "DescriptionStyleModel",
            "_view_count": null,
            "_view_module": "@jupyter-widgets/base",
            "_view_module_version": "1.2.0",
            "_view_name": "StyleView",
            "description_width": ""
          }
        },
        "e73b6041030047cbb1c82d0db4717d4c": {
          "model_module": "@jupyter-widgets/base",
          "model_name": "LayoutModel",
          "model_module_version": "1.2.0",
          "state": {
            "_model_module": "@jupyter-widgets/base",
            "_model_module_version": "1.2.0",
            "_model_name": "LayoutModel",
            "_view_count": null,
            "_view_module": "@jupyter-widgets/base",
            "_view_module_version": "1.2.0",
            "_view_name": "LayoutView",
            "align_content": null,
            "align_items": null,
            "align_self": null,
            "border": null,
            "bottom": null,
            "display": null,
            "flex": null,
            "flex_flow": null,
            "grid_area": null,
            "grid_auto_columns": null,
            "grid_auto_flow": null,
            "grid_auto_rows": null,
            "grid_column": null,
            "grid_gap": null,
            "grid_row": null,
            "grid_template_areas": null,
            "grid_template_columns": null,
            "grid_template_rows": null,
            "height": null,
            "justify_content": null,
            "justify_items": null,
            "left": null,
            "margin": null,
            "max_height": null,
            "max_width": null,
            "min_height": null,
            "min_width": null,
            "object_fit": null,
            "object_position": null,
            "order": null,
            "overflow": null,
            "overflow_x": null,
            "overflow_y": null,
            "padding": null,
            "right": null,
            "top": null,
            "visibility": null,
            "width": null
          }
        },
        "2896521dcb8841e49b26e46789e095ef": {
          "model_module": "@jupyter-widgets/controls",
          "model_name": "ProgressStyleModel",
          "model_module_version": "1.5.0",
          "state": {
            "_model_module": "@jupyter-widgets/controls",
            "_model_module_version": "1.5.0",
            "_model_name": "ProgressStyleModel",
            "_view_count": null,
            "_view_module": "@jupyter-widgets/base",
            "_view_module_version": "1.2.0",
            "_view_name": "StyleView",
            "bar_color": null,
            "description_width": ""
          }
        },
        "bbf2b48b4f494ee4bc981fb7e3b8a8f4": {
          "model_module": "@jupyter-widgets/base",
          "model_name": "LayoutModel",
          "model_module_version": "1.2.0",
          "state": {
            "_model_module": "@jupyter-widgets/base",
            "_model_module_version": "1.2.0",
            "_model_name": "LayoutModel",
            "_view_count": null,
            "_view_module": "@jupyter-widgets/base",
            "_view_module_version": "1.2.0",
            "_view_name": "LayoutView",
            "align_content": null,
            "align_items": null,
            "align_self": null,
            "border": null,
            "bottom": null,
            "display": null,
            "flex": null,
            "flex_flow": null,
            "grid_area": null,
            "grid_auto_columns": null,
            "grid_auto_flow": null,
            "grid_auto_rows": null,
            "grid_column": null,
            "grid_gap": null,
            "grid_row": null,
            "grid_template_areas": null,
            "grid_template_columns": null,
            "grid_template_rows": null,
            "height": null,
            "justify_content": null,
            "justify_items": null,
            "left": null,
            "margin": null,
            "max_height": null,
            "max_width": null,
            "min_height": null,
            "min_width": null,
            "object_fit": null,
            "object_position": null,
            "order": null,
            "overflow": null,
            "overflow_x": null,
            "overflow_y": null,
            "padding": null,
            "right": null,
            "top": null,
            "visibility": null,
            "width": null
          }
        },
        "c9a0085c01894b7898ea1ffb98b8d52e": {
          "model_module": "@jupyter-widgets/controls",
          "model_name": "DescriptionStyleModel",
          "model_module_version": "1.5.0",
          "state": {
            "_model_module": "@jupyter-widgets/controls",
            "_model_module_version": "1.5.0",
            "_model_name": "DescriptionStyleModel",
            "_view_count": null,
            "_view_module": "@jupyter-widgets/base",
            "_view_module_version": "1.2.0",
            "_view_name": "StyleView",
            "description_width": ""
          }
        },
        "cb0a44d219914a65ad5e1f7539f62a50": {
          "model_module": "@jupyter-widgets/controls",
          "model_name": "HBoxModel",
          "model_module_version": "1.5.0",
          "state": {
            "_dom_classes": [],
            "_model_module": "@jupyter-widgets/controls",
            "_model_module_version": "1.5.0",
            "_model_name": "HBoxModel",
            "_view_count": null,
            "_view_module": "@jupyter-widgets/controls",
            "_view_module_version": "1.5.0",
            "_view_name": "HBoxView",
            "box_style": "",
            "children": [
              "IPY_MODEL_ac907d1c29914f3f9f53806b45e3cb4a",
              "IPY_MODEL_e818c5377786493d82b94845ad84afaf",
              "IPY_MODEL_ff417cc1a59b4d7085f990a1887bdd61"
            ],
            "layout": "IPY_MODEL_6d0945b748734492a1d3d05c1c0ccef1"
          }
        },
        "ac907d1c29914f3f9f53806b45e3cb4a": {
          "model_module": "@jupyter-widgets/controls",
          "model_name": "HTMLModel",
          "model_module_version": "1.5.0",
          "state": {
            "_dom_classes": [],
            "_model_module": "@jupyter-widgets/controls",
            "_model_module_version": "1.5.0",
            "_model_name": "HTMLModel",
            "_view_count": null,
            "_view_module": "@jupyter-widgets/controls",
            "_view_module_version": "1.5.0",
            "_view_name": "HTMLView",
            "description": "",
            "description_tooltip": null,
            "layout": "IPY_MODEL_8dd6b8ad6047453ba234f28f3910b601",
            "placeholder": "​",
            "style": "IPY_MODEL_136c1e5896b84ed09b2e68b8cacaa7fa",
            "value": "100%"
          }
        },
        "e818c5377786493d82b94845ad84afaf": {
          "model_module": "@jupyter-widgets/controls",
          "model_name": "FloatProgressModel",
          "model_module_version": "1.5.0",
          "state": {
            "_dom_classes": [],
            "_model_module": "@jupyter-widgets/controls",
            "_model_module_version": "1.5.0",
            "_model_name": "FloatProgressModel",
            "_view_count": null,
            "_view_module": "@jupyter-widgets/controls",
            "_view_module_version": "1.5.0",
            "_view_name": "ProgressView",
            "bar_style": "success",
            "description": "",
            "description_tooltip": null,
            "layout": "IPY_MODEL_ca2396e963fc4183a967f06571d922d2",
            "max": 1648877,
            "min": 0,
            "orientation": "horizontal",
            "style": "IPY_MODEL_6a274dc98c0448c38045ebd003ba1700",
            "value": 1648877
          }
        },
        "ff417cc1a59b4d7085f990a1887bdd61": {
          "model_module": "@jupyter-widgets/controls",
          "model_name": "HTMLModel",
          "model_module_version": "1.5.0",
          "state": {
            "_dom_classes": [],
            "_model_module": "@jupyter-widgets/controls",
            "_model_module_version": "1.5.0",
            "_model_name": "HTMLModel",
            "_view_count": null,
            "_view_module": "@jupyter-widgets/controls",
            "_view_module_version": "1.5.0",
            "_view_name": "HTMLView",
            "description": "",
            "description_tooltip": null,
            "layout": "IPY_MODEL_0270738763494fe4854887ac620f9d73",
            "placeholder": "​",
            "style": "IPY_MODEL_b92a2d259e834c90bc27f1e7af8ca682",
            "value": " 1648877/1648877 [00:00&lt;00:00, 47776198.55it/s]"
          }
        },
        "6d0945b748734492a1d3d05c1c0ccef1": {
          "model_module": "@jupyter-widgets/base",
          "model_name": "LayoutModel",
          "model_module_version": "1.2.0",
          "state": {
            "_model_module": "@jupyter-widgets/base",
            "_model_module_version": "1.2.0",
            "_model_name": "LayoutModel",
            "_view_count": null,
            "_view_module": "@jupyter-widgets/base",
            "_view_module_version": "1.2.0",
            "_view_name": "LayoutView",
            "align_content": null,
            "align_items": null,
            "align_self": null,
            "border": null,
            "bottom": null,
            "display": null,
            "flex": null,
            "flex_flow": null,
            "grid_area": null,
            "grid_auto_columns": null,
            "grid_auto_flow": null,
            "grid_auto_rows": null,
            "grid_column": null,
            "grid_gap": null,
            "grid_row": null,
            "grid_template_areas": null,
            "grid_template_columns": null,
            "grid_template_rows": null,
            "height": null,
            "justify_content": null,
            "justify_items": null,
            "left": null,
            "margin": null,
            "max_height": null,
            "max_width": null,
            "min_height": null,
            "min_width": null,
            "object_fit": null,
            "object_position": null,
            "order": null,
            "overflow": null,
            "overflow_x": null,
            "overflow_y": null,
            "padding": null,
            "right": null,
            "top": null,
            "visibility": null,
            "width": null
          }
        },
        "8dd6b8ad6047453ba234f28f3910b601": {
          "model_module": "@jupyter-widgets/base",
          "model_name": "LayoutModel",
          "model_module_version": "1.2.0",
          "state": {
            "_model_module": "@jupyter-widgets/base",
            "_model_module_version": "1.2.0",
            "_model_name": "LayoutModel",
            "_view_count": null,
            "_view_module": "@jupyter-widgets/base",
            "_view_module_version": "1.2.0",
            "_view_name": "LayoutView",
            "align_content": null,
            "align_items": null,
            "align_self": null,
            "border": null,
            "bottom": null,
            "display": null,
            "flex": null,
            "flex_flow": null,
            "grid_area": null,
            "grid_auto_columns": null,
            "grid_auto_flow": null,
            "grid_auto_rows": null,
            "grid_column": null,
            "grid_gap": null,
            "grid_row": null,
            "grid_template_areas": null,
            "grid_template_columns": null,
            "grid_template_rows": null,
            "height": null,
            "justify_content": null,
            "justify_items": null,
            "left": null,
            "margin": null,
            "max_height": null,
            "max_width": null,
            "min_height": null,
            "min_width": null,
            "object_fit": null,
            "object_position": null,
            "order": null,
            "overflow": null,
            "overflow_x": null,
            "overflow_y": null,
            "padding": null,
            "right": null,
            "top": null,
            "visibility": null,
            "width": null
          }
        },
        "136c1e5896b84ed09b2e68b8cacaa7fa": {
          "model_module": "@jupyter-widgets/controls",
          "model_name": "DescriptionStyleModel",
          "model_module_version": "1.5.0",
          "state": {
            "_model_module": "@jupyter-widgets/controls",
            "_model_module_version": "1.5.0",
            "_model_name": "DescriptionStyleModel",
            "_view_count": null,
            "_view_module": "@jupyter-widgets/base",
            "_view_module_version": "1.2.0",
            "_view_name": "StyleView",
            "description_width": ""
          }
        },
        "ca2396e963fc4183a967f06571d922d2": {
          "model_module": "@jupyter-widgets/base",
          "model_name": "LayoutModel",
          "model_module_version": "1.2.0",
          "state": {
            "_model_module": "@jupyter-widgets/base",
            "_model_module_version": "1.2.0",
            "_model_name": "LayoutModel",
            "_view_count": null,
            "_view_module": "@jupyter-widgets/base",
            "_view_module_version": "1.2.0",
            "_view_name": "LayoutView",
            "align_content": null,
            "align_items": null,
            "align_self": null,
            "border": null,
            "bottom": null,
            "display": null,
            "flex": null,
            "flex_flow": null,
            "grid_area": null,
            "grid_auto_columns": null,
            "grid_auto_flow": null,
            "grid_auto_rows": null,
            "grid_column": null,
            "grid_gap": null,
            "grid_row": null,
            "grid_template_areas": null,
            "grid_template_columns": null,
            "grid_template_rows": null,
            "height": null,
            "justify_content": null,
            "justify_items": null,
            "left": null,
            "margin": null,
            "max_height": null,
            "max_width": null,
            "min_height": null,
            "min_width": null,
            "object_fit": null,
            "object_position": null,
            "order": null,
            "overflow": null,
            "overflow_x": null,
            "overflow_y": null,
            "padding": null,
            "right": null,
            "top": null,
            "visibility": null,
            "width": null
          }
        },
        "6a274dc98c0448c38045ebd003ba1700": {
          "model_module": "@jupyter-widgets/controls",
          "model_name": "ProgressStyleModel",
          "model_module_version": "1.5.0",
          "state": {
            "_model_module": "@jupyter-widgets/controls",
            "_model_module_version": "1.5.0",
            "_model_name": "ProgressStyleModel",
            "_view_count": null,
            "_view_module": "@jupyter-widgets/base",
            "_view_module_version": "1.2.0",
            "_view_name": "StyleView",
            "bar_color": null,
            "description_width": ""
          }
        },
        "0270738763494fe4854887ac620f9d73": {
          "model_module": "@jupyter-widgets/base",
          "model_name": "LayoutModel",
          "model_module_version": "1.2.0",
          "state": {
            "_model_module": "@jupyter-widgets/base",
            "_model_module_version": "1.2.0",
            "_model_name": "LayoutModel",
            "_view_count": null,
            "_view_module": "@jupyter-widgets/base",
            "_view_module_version": "1.2.0",
            "_view_name": "LayoutView",
            "align_content": null,
            "align_items": null,
            "align_self": null,
            "border": null,
            "bottom": null,
            "display": null,
            "flex": null,
            "flex_flow": null,
            "grid_area": null,
            "grid_auto_columns": null,
            "grid_auto_flow": null,
            "grid_auto_rows": null,
            "grid_column": null,
            "grid_gap": null,
            "grid_row": null,
            "grid_template_areas": null,
            "grid_template_columns": null,
            "grid_template_rows": null,
            "height": null,
            "justify_content": null,
            "justify_items": null,
            "left": null,
            "margin": null,
            "max_height": null,
            "max_width": null,
            "min_height": null,
            "min_width": null,
            "object_fit": null,
            "object_position": null,
            "order": null,
            "overflow": null,
            "overflow_x": null,
            "overflow_y": null,
            "padding": null,
            "right": null,
            "top": null,
            "visibility": null,
            "width": null
          }
        },
        "b92a2d259e834c90bc27f1e7af8ca682": {
          "model_module": "@jupyter-widgets/controls",
          "model_name": "DescriptionStyleModel",
          "model_module_version": "1.5.0",
          "state": {
            "_model_module": "@jupyter-widgets/controls",
            "_model_module_version": "1.5.0",
            "_model_name": "DescriptionStyleModel",
            "_view_count": null,
            "_view_module": "@jupyter-widgets/base",
            "_view_module_version": "1.2.0",
            "_view_name": "StyleView",
            "description_width": ""
          }
        },
        "26c8a185bed54ef38dbfa6e57c7ebc3d": {
          "model_module": "@jupyter-widgets/controls",
          "model_name": "HBoxModel",
          "model_module_version": "1.5.0",
          "state": {
            "_dom_classes": [],
            "_model_module": "@jupyter-widgets/controls",
            "_model_module_version": "1.5.0",
            "_model_name": "HBoxModel",
            "_view_count": null,
            "_view_module": "@jupyter-widgets/controls",
            "_view_module_version": "1.5.0",
            "_view_name": "HBoxView",
            "box_style": "",
            "children": [
              "IPY_MODEL_c63ffe20b6b44049a1ed4d9638a90557",
              "IPY_MODEL_34f708b62b65450d84615dcb03437769",
              "IPY_MODEL_35136030965945d9ba606c864e3b5d8d"
            ],
            "layout": "IPY_MODEL_adb606b8abdd450aaecd07add02bb2c5"
          }
        },
        "c63ffe20b6b44049a1ed4d9638a90557": {
          "model_module": "@jupyter-widgets/controls",
          "model_name": "HTMLModel",
          "model_module_version": "1.5.0",
          "state": {
            "_dom_classes": [],
            "_model_module": "@jupyter-widgets/controls",
            "_model_module_version": "1.5.0",
            "_model_name": "HTMLModel",
            "_view_count": null,
            "_view_module": "@jupyter-widgets/controls",
            "_view_module_version": "1.5.0",
            "_view_name": "HTMLView",
            "description": "",
            "description_tooltip": null,
            "layout": "IPY_MODEL_51a24b559433407b9b55dc515a5c8280",
            "placeholder": "​",
            "style": "IPY_MODEL_abf249a6fe424aac8a334616bb08a0b7",
            "value": "100%"
          }
        },
        "34f708b62b65450d84615dcb03437769": {
          "model_module": "@jupyter-widgets/controls",
          "model_name": "FloatProgressModel",
          "model_module_version": "1.5.0",
          "state": {
            "_dom_classes": [],
            "_model_module": "@jupyter-widgets/controls",
            "_model_module_version": "1.5.0",
            "_model_name": "FloatProgressModel",
            "_view_count": null,
            "_view_module": "@jupyter-widgets/controls",
            "_view_module_version": "1.5.0",
            "_view_name": "ProgressView",
            "bar_style": "success",
            "description": "",
            "description_tooltip": null,
            "layout": "IPY_MODEL_350053dc52b54083a2c42a1abda5226d",
            "max": 4542,
            "min": 0,
            "orientation": "horizontal",
            "style": "IPY_MODEL_78f26afe56074ced9cd033c0c6ab11e1",
            "value": 4542
          }
        },
        "35136030965945d9ba606c864e3b5d8d": {
          "model_module": "@jupyter-widgets/controls",
          "model_name": "HTMLModel",
          "model_module_version": "1.5.0",
          "state": {
            "_dom_classes": [],
            "_model_module": "@jupyter-widgets/controls",
            "_model_module_version": "1.5.0",
            "_model_name": "HTMLModel",
            "_view_count": null,
            "_view_module": "@jupyter-widgets/controls",
            "_view_module_version": "1.5.0",
            "_view_name": "HTMLView",
            "description": "",
            "description_tooltip": null,
            "layout": "IPY_MODEL_8f7ea01308bd441883b81c7e01bebe9c",
            "placeholder": "​",
            "style": "IPY_MODEL_fde46effd8c742e9901c36e5fb8aed56",
            "value": " 4542/4542 [00:00&lt;00:00, 125162.80it/s]"
          }
        },
        "adb606b8abdd450aaecd07add02bb2c5": {
          "model_module": "@jupyter-widgets/base",
          "model_name": "LayoutModel",
          "model_module_version": "1.2.0",
          "state": {
            "_model_module": "@jupyter-widgets/base",
            "_model_module_version": "1.2.0",
            "_model_name": "LayoutModel",
            "_view_count": null,
            "_view_module": "@jupyter-widgets/base",
            "_view_module_version": "1.2.0",
            "_view_name": "LayoutView",
            "align_content": null,
            "align_items": null,
            "align_self": null,
            "border": null,
            "bottom": null,
            "display": null,
            "flex": null,
            "flex_flow": null,
            "grid_area": null,
            "grid_auto_columns": null,
            "grid_auto_flow": null,
            "grid_auto_rows": null,
            "grid_column": null,
            "grid_gap": null,
            "grid_row": null,
            "grid_template_areas": null,
            "grid_template_columns": null,
            "grid_template_rows": null,
            "height": null,
            "justify_content": null,
            "justify_items": null,
            "left": null,
            "margin": null,
            "max_height": null,
            "max_width": null,
            "min_height": null,
            "min_width": null,
            "object_fit": null,
            "object_position": null,
            "order": null,
            "overflow": null,
            "overflow_x": null,
            "overflow_y": null,
            "padding": null,
            "right": null,
            "top": null,
            "visibility": null,
            "width": null
          }
        },
        "51a24b559433407b9b55dc515a5c8280": {
          "model_module": "@jupyter-widgets/base",
          "model_name": "LayoutModel",
          "model_module_version": "1.2.0",
          "state": {
            "_model_module": "@jupyter-widgets/base",
            "_model_module_version": "1.2.0",
            "_model_name": "LayoutModel",
            "_view_count": null,
            "_view_module": "@jupyter-widgets/base",
            "_view_module_version": "1.2.0",
            "_view_name": "LayoutView",
            "align_content": null,
            "align_items": null,
            "align_self": null,
            "border": null,
            "bottom": null,
            "display": null,
            "flex": null,
            "flex_flow": null,
            "grid_area": null,
            "grid_auto_columns": null,
            "grid_auto_flow": null,
            "grid_auto_rows": null,
            "grid_column": null,
            "grid_gap": null,
            "grid_row": null,
            "grid_template_areas": null,
            "grid_template_columns": null,
            "grid_template_rows": null,
            "height": null,
            "justify_content": null,
            "justify_items": null,
            "left": null,
            "margin": null,
            "max_height": null,
            "max_width": null,
            "min_height": null,
            "min_width": null,
            "object_fit": null,
            "object_position": null,
            "order": null,
            "overflow": null,
            "overflow_x": null,
            "overflow_y": null,
            "padding": null,
            "right": null,
            "top": null,
            "visibility": null,
            "width": null
          }
        },
        "abf249a6fe424aac8a334616bb08a0b7": {
          "model_module": "@jupyter-widgets/controls",
          "model_name": "DescriptionStyleModel",
          "model_module_version": "1.5.0",
          "state": {
            "_model_module": "@jupyter-widgets/controls",
            "_model_module_version": "1.5.0",
            "_model_name": "DescriptionStyleModel",
            "_view_count": null,
            "_view_module": "@jupyter-widgets/base",
            "_view_module_version": "1.2.0",
            "_view_name": "StyleView",
            "description_width": ""
          }
        },
        "350053dc52b54083a2c42a1abda5226d": {
          "model_module": "@jupyter-widgets/base",
          "model_name": "LayoutModel",
          "model_module_version": "1.2.0",
          "state": {
            "_model_module": "@jupyter-widgets/base",
            "_model_module_version": "1.2.0",
            "_model_name": "LayoutModel",
            "_view_count": null,
            "_view_module": "@jupyter-widgets/base",
            "_view_module_version": "1.2.0",
            "_view_name": "LayoutView",
            "align_content": null,
            "align_items": null,
            "align_self": null,
            "border": null,
            "bottom": null,
            "display": null,
            "flex": null,
            "flex_flow": null,
            "grid_area": null,
            "grid_auto_columns": null,
            "grid_auto_flow": null,
            "grid_auto_rows": null,
            "grid_column": null,
            "grid_gap": null,
            "grid_row": null,
            "grid_template_areas": null,
            "grid_template_columns": null,
            "grid_template_rows": null,
            "height": null,
            "justify_content": null,
            "justify_items": null,
            "left": null,
            "margin": null,
            "max_height": null,
            "max_width": null,
            "min_height": null,
            "min_width": null,
            "object_fit": null,
            "object_position": null,
            "order": null,
            "overflow": null,
            "overflow_x": null,
            "overflow_y": null,
            "padding": null,
            "right": null,
            "top": null,
            "visibility": null,
            "width": null
          }
        },
        "78f26afe56074ced9cd033c0c6ab11e1": {
          "model_module": "@jupyter-widgets/controls",
          "model_name": "ProgressStyleModel",
          "model_module_version": "1.5.0",
          "state": {
            "_model_module": "@jupyter-widgets/controls",
            "_model_module_version": "1.5.0",
            "_model_name": "ProgressStyleModel",
            "_view_count": null,
            "_view_module": "@jupyter-widgets/base",
            "_view_module_version": "1.2.0",
            "_view_name": "StyleView",
            "bar_color": null,
            "description_width": ""
          }
        },
        "8f7ea01308bd441883b81c7e01bebe9c": {
          "model_module": "@jupyter-widgets/base",
          "model_name": "LayoutModel",
          "model_module_version": "1.2.0",
          "state": {
            "_model_module": "@jupyter-widgets/base",
            "_model_module_version": "1.2.0",
            "_model_name": "LayoutModel",
            "_view_count": null,
            "_view_module": "@jupyter-widgets/base",
            "_view_module_version": "1.2.0",
            "_view_name": "LayoutView",
            "align_content": null,
            "align_items": null,
            "align_self": null,
            "border": null,
            "bottom": null,
            "display": null,
            "flex": null,
            "flex_flow": null,
            "grid_area": null,
            "grid_auto_columns": null,
            "grid_auto_flow": null,
            "grid_auto_rows": null,
            "grid_column": null,
            "grid_gap": null,
            "grid_row": null,
            "grid_template_areas": null,
            "grid_template_columns": null,
            "grid_template_rows": null,
            "height": null,
            "justify_content": null,
            "justify_items": null,
            "left": null,
            "margin": null,
            "max_height": null,
            "max_width": null,
            "min_height": null,
            "min_width": null,
            "object_fit": null,
            "object_position": null,
            "order": null,
            "overflow": null,
            "overflow_x": null,
            "overflow_y": null,
            "padding": null,
            "right": null,
            "top": null,
            "visibility": null,
            "width": null
          }
        },
        "fde46effd8c742e9901c36e5fb8aed56": {
          "model_module": "@jupyter-widgets/controls",
          "model_name": "DescriptionStyleModel",
          "model_module_version": "1.5.0",
          "state": {
            "_model_module": "@jupyter-widgets/controls",
            "_model_module_version": "1.5.0",
            "_model_name": "DescriptionStyleModel",
            "_view_count": null,
            "_view_module": "@jupyter-widgets/base",
            "_view_module_version": "1.2.0",
            "_view_name": "StyleView",
            "description_width": ""
          }
        }
      }
    },
    "gpuClass": "standard",
    "accelerator": "GPU"
  },
  "nbformat": 4,
  "nbformat_minor": 0
}