{
 "cells": [
  {
   "cell_type": "code",
   "outputs": [],
   "source": [
    "import os\n",
    "from definitions import LOGS_DIR\n",
    "import pm4py\n",
    "from pm4py.objects.log.importer.xes import importer as xes_importer\n",
    "from pm4py.objects.log.exporter.xes import exporter as xes_exporter"
   ],
   "metadata": {
    "collapsed": false,
    "ExecuteTime": {
     "end_time": "2024-01-04T16:13:49.323113700Z",
     "start_time": "2024-01-04T16:13:48.015052900Z"
    }
   },
   "id": "946f5bc2d67b9732",
   "execution_count": 1
  },
  {
   "cell_type": "code",
   "execution_count": 2,
   "id": "initial_id",
   "metadata": {
    "collapsed": true,
    "ExecuteTime": {
     "end_time": "2024-01-04T16:14:15.940627700Z",
     "start_time": "2024-01-04T16:13:49.325113800Z"
    }
   },
   "outputs": [
    {
     "name": "stderr",
     "output_type": "stream",
     "text": [
      "C:\\Users\\Hannes\\anaconda3\\envs\\transfer_learning\\lib\\site-packages\\pm4py\\util\\dt_parsing\\parser.py:77: UserWarning: ISO8601 strings are not fully supported with strpfromiso for Python versions below 3.11\n",
      "  warnings.warn(\n"
     ]
    },
    {
     "data": {
      "text/plain": "parsing log, completed traces ::   0%|          | 0/150370 [00:00<?, ?it/s]",
      "application/vnd.jupyter.widget-view+json": {
       "version_major": 2,
       "version_minor": 0,
       "model_id": "139f6b73e542432b88292904a996e4bb"
      }
     },
     "metadata": {},
     "output_type": "display_data"
    }
   ],
   "source": [
    "name = 'Road_Traffic_Fine_Management_Process.xes.gz'\n",
    "log = xes_importer.apply(os.path.join(LOGS_DIR, name))"
   ]
  },
  {
   "cell_type": "code",
   "outputs": [
    {
     "name": "stderr",
     "output_type": "stream",
     "text": [
      "C:\\Users\\Hannes\\anaconda3\\envs\\transfer_learning\\lib\\site-packages\\pm4py\\utils.py:508: UserWarning: the EventLog class has been deprecated and will be removed in a future release.\n",
      "  warnings.warn(\"the EventLog class has been deprecated and will be removed in a future release.\")\n"
     ]
    },
    {
     "data": {
      "text/plain": "231"
     },
     "execution_count": 3,
     "metadata": {},
     "output_type": "execute_result"
    }
   ],
   "source": [
    "variants = pm4py.get_variants(log)\n",
    "variant_count = len(variants)\n",
    "variant_count"
   ],
   "metadata": {
    "collapsed": false,
    "ExecuteTime": {
     "end_time": "2024-01-04T16:14:16.698714100Z",
     "start_time": "2024-01-04T16:14:15.941627Z"
    }
   },
   "id": "10645f51c833c101",
   "execution_count": 3
  },
  {
   "cell_type": "code",
   "outputs": [
    {
     "data": {
      "text/plain": "100"
     },
     "execution_count": 4,
     "metadata": {},
     "output_type": "execute_result"
    }
   ],
   "source": [
    "variants_only_once = list(filter(lambda x: len(x[1]) == 1, variants.items()))\n",
    "variants_only_once = list(map(lambda x: x[0], variants_only_once))\n",
    "len(variants_only_once)"
   ],
   "metadata": {
    "collapsed": false,
    "ExecuteTime": {
     "end_time": "2024-01-04T16:14:16.715715200Z",
     "start_time": "2024-01-04T16:14:16.699714600Z"
    }
   },
   "id": "c15c8004d1baa0d9",
   "execution_count": 4
  },
  {
   "cell_type": "code",
   "outputs": [
    {
     "data": {
      "text/plain": "131"
     },
     "execution_count": 5,
     "metadata": {},
     "output_type": "execute_result"
    }
   ],
   "source": [
    "filtered = pm4py.filter_variants(log, variants_only_once, retain=False)\n",
    "filtered_variant_count = len(pm4py.get_variants(filtered))\n",
    "filtered_variant_count"
   ],
   "metadata": {
    "collapsed": false,
    "ExecuteTime": {
     "end_time": "2024-01-04T16:14:18.373126600Z",
     "start_time": "2024-01-04T16:14:16.716716200Z"
    }
   },
   "id": "faf2088eaa19fb01",
   "execution_count": 5
  },
  {
   "cell_type": "code",
   "outputs": [
    {
     "data": {
      "text/plain": "exporting log, completed traces ::   0%|          | 0/150270 [00:00<?, ?it/s]",
      "application/vnd.jupyter.widget-view+json": {
       "version_major": 2,
       "version_minor": 0,
       "model_id": "47591c10b9694135ace1d030f34b8a52"
      }
     },
     "metadata": {},
     "output_type": "display_data"
    }
   ],
   "source": [
    "xes_exporter.apply(filtered, os.path.join(LOGS_DIR, 'RTFMP_filtered.xes'))"
   ],
   "metadata": {
    "collapsed": false,
    "ExecuteTime": {
     "end_time": "2024-01-04T16:14:34.282139100Z",
     "start_time": "2024-01-04T16:14:18.374127500Z"
    }
   },
   "id": "d13b564d3ad969eb",
   "execution_count": 6
  }
 ],
 "metadata": {
  "kernelspec": {
   "display_name": "Python 3",
   "language": "python",
   "name": "python3"
  },
  "language_info": {
   "codemirror_mode": {
    "name": "ipython",
    "version": 2
   },
   "file_extension": ".py",
   "mimetype": "text/x-python",
   "name": "python",
   "nbconvert_exporter": "python",
   "pygments_lexer": "ipython2",
   "version": "2.7.6"
  }
 },
 "nbformat": 4,
 "nbformat_minor": 5
}
