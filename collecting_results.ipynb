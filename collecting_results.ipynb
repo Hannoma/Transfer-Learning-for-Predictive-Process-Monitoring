{
 "cells": [
  {
   "cell_type": "code",
   "execution_count": 2,
   "outputs": [],
   "source": [
    "import glob\n",
    "import io\n",
    "import logging\n",
    "import os\n",
    "import warnings\n",
    "import json\n",
    "import re\n",
    "\n",
    "import pandas as pd\n",
    "from definitions import RESULTS_DIR"
   ],
   "metadata": {
    "collapsed": false,
    "ExecuteTime": {
     "end_time": "2024-01-03T15:31:09.279128600Z",
     "start_time": "2024-01-03T15:31:03.606761200Z"
    }
   },
   "id": "5cbb32f4cf73d9fe"
  },
  {
   "cell_type": "markdown",
   "source": [
    "# Results of the paper"
   ],
   "metadata": {
    "collapsed": false
   },
   "id": "44577c19a775c8f5"
  },
  {
   "cell_type": "code",
   "execution_count": 45,
   "outputs": [
    {
     "data": {
      "text/plain": "                log   setting freezed_layers\n0             BPI12  Helpdesk      [0,1,2,3]\n1             BPI12      RTFM          [0,1]\n2      BPI13 Closed  Helpdesk        [0,1,3]\n3      BPI13 Closed      RTFM            [0]\n4   BPI13 Incidents  Helpdesk        [0,1,2]\n5   BPI13 Incidents      RTFM            [0]\n6        BPI13 Open  Helpdesk        [0,1,2]\n7        BPI13 Open      RTFM            [0]\n8           BPIC 15  Helpdesk        [0,2,3]\n9           BPIC 15      RTFM      [0,1,2,3]\n10            BPI17  Helpdesk          [0,1]\n11            BPI17      RTFM          [0,1]\n12             RTFM  Helpdesk        [0,2,3]\n13           Sepsis  Helpdesk        [1,2,3]\n14           Sepsis      RTFM          [0,1]\n15         Helpdesk      RTFM          [0,1]",
      "text/html": "<div>\n<style scoped>\n    .dataframe tbody tr th:only-of-type {\n        vertical-align: middle;\n    }\n\n    .dataframe tbody tr th {\n        vertical-align: top;\n    }\n\n    .dataframe thead th {\n        text-align: right;\n    }\n</style>\n<table border=\"1\" class=\"dataframe\">\n  <thead>\n    <tr style=\"text-align: right;\">\n      <th></th>\n      <th>log</th>\n      <th>setting</th>\n      <th>freezed_layers</th>\n    </tr>\n  </thead>\n  <tbody>\n    <tr>\n      <th>0</th>\n      <td>BPI12</td>\n      <td>Helpdesk</td>\n      <td>[0,1,2,3]</td>\n    </tr>\n    <tr>\n      <th>1</th>\n      <td>BPI12</td>\n      <td>RTFM</td>\n      <td>[0,1]</td>\n    </tr>\n    <tr>\n      <th>2</th>\n      <td>BPI13 Closed</td>\n      <td>Helpdesk</td>\n      <td>[0,1,3]</td>\n    </tr>\n    <tr>\n      <th>3</th>\n      <td>BPI13 Closed</td>\n      <td>RTFM</td>\n      <td>[0]</td>\n    </tr>\n    <tr>\n      <th>4</th>\n      <td>BPI13 Incidents</td>\n      <td>Helpdesk</td>\n      <td>[0,1,2]</td>\n    </tr>\n    <tr>\n      <th>5</th>\n      <td>BPI13 Incidents</td>\n      <td>RTFM</td>\n      <td>[0]</td>\n    </tr>\n    <tr>\n      <th>6</th>\n      <td>BPI13 Open</td>\n      <td>Helpdesk</td>\n      <td>[0,1,2]</td>\n    </tr>\n    <tr>\n      <th>7</th>\n      <td>BPI13 Open</td>\n      <td>RTFM</td>\n      <td>[0]</td>\n    </tr>\n    <tr>\n      <th>8</th>\n      <td>BPIC 15</td>\n      <td>Helpdesk</td>\n      <td>[0,2,3]</td>\n    </tr>\n    <tr>\n      <th>9</th>\n      <td>BPIC 15</td>\n      <td>RTFM</td>\n      <td>[0,1,2,3]</td>\n    </tr>\n    <tr>\n      <th>10</th>\n      <td>BPI17</td>\n      <td>Helpdesk</td>\n      <td>[0,1]</td>\n    </tr>\n    <tr>\n      <th>11</th>\n      <td>BPI17</td>\n      <td>RTFM</td>\n      <td>[0,1]</td>\n    </tr>\n    <tr>\n      <th>12</th>\n      <td>RTFM</td>\n      <td>Helpdesk</td>\n      <td>[0,2,3]</td>\n    </tr>\n    <tr>\n      <th>13</th>\n      <td>Sepsis</td>\n      <td>Helpdesk</td>\n      <td>[1,2,3]</td>\n    </tr>\n    <tr>\n      <th>14</th>\n      <td>Sepsis</td>\n      <td>RTFM</td>\n      <td>[0,1]</td>\n    </tr>\n    <tr>\n      <th>15</th>\n      <td>Helpdesk</td>\n      <td>RTFM</td>\n      <td>[0,1]</td>\n    </tr>\n  </tbody>\n</table>\n</div>"
     },
     "execution_count": 45,
     "metadata": {},
     "output_type": "execute_result"
    }
   ],
   "source": [
    "layer_freezing_csv = \"\"\"\n",
    "log,setting,freezed_layers\n",
    "BPI12,Helpdesk,\"[0,1,2,3]\"\n",
    "BPI12,RTFM,\"[0,1]\"\n",
    "BPI13 Closed,Helpdesk,\"[0,1,3]\"\n",
    "BPI13 Closed,RTFM,\"[0]\"\n",
    "BPI13 Incidents,Helpdesk,\"[0,1,2]\"\n",
    "BPI13 Incidents,RTFM,\"[0]\"\n",
    "BPI13 Open,Helpdesk,\"[0,1,2]\"\n",
    "BPI13 Open,RTFM,\"[0]\"\n",
    "BPIC 15,Helpdesk,\"[0,2,3]\"\n",
    "BPIC 15,RTFM,\"[0,1,2,3]\"\n",
    "BPI17,Helpdesk,\"[0,1]\"\n",
    "BPI17,RTFM,\"[0,1]\"\n",
    "RTFM,Helpdesk,\"[0,2,3]\"\n",
    "Sepsis,Helpdesk,\"[1,2,3]\"\n",
    "Sepsis,RTFM,\"[0,1]\"\n",
    "Helpdesk,RTFM,\"[0,1]\"\n",
    "\"\"\"\n",
    "\n",
    "layer_df = pd.read_csv(io.StringIO(layer_freezing_csv))\n",
    "layer_df"
   ],
   "metadata": {
    "collapsed": false,
    "ExecuteTime": {
     "end_time": "2024-01-03T16:03:22.142552100Z",
     "start_time": "2024-01-03T16:03:21.935593Z"
    }
   },
   "id": "301b7cd7f76e3c07"
  },
  {
   "cell_type": "code",
   "execution_count": 46,
   "outputs": [
    {
     "data": {
      "text/plain": "                Log Model  DLS_Regular DLS_Helpdesk DLS_RTFM  MAE_Regular  \\\n0             BPI12   GPT       0.1606       0.1586   0.1509        77.19   \n1             BPI12  LSTM       0.0622       0.1377   0.1188       101.78   \n2      BPI13 Closed   GPT       0.4712       0.6850   0.7289       585.01   \n3      BPI13 Closed  LSTM       0.5014       0.6959   0.6976       154.69   \n4   BPI13 Incidents   GPT       0.2445       0.3082   0.3021        76.94   \n5   BPI13 Incidents  LSTM       0.2652       0.4893   0.4902       213.14   \n6        BPI13 Open   GPT       0.3450       0.5157   0.4171       105.17   \n7        BPI13 Open  LSTM       0.4500       0.4918   0.5341        47.70   \n8           BPIC 15   GPT       0.2554       0.0213   0.0169       285.35   \n9           BPIC 15  LSTM       0.0239       0.0332   0.0340      2357.00   \n10            BPI17   GPT       0.1428       0.1424   0.1423        36.85   \n11            BPI17  LSTM       0.0549       0.0598   0.0460        36.44   \n12           Sepsis   GPT       0.0876       0.1042   0.1030      1078.09   \n13           Sepsis  LSTM       0.0970       0.1536   0.1992       214.69   \n14             RTFM   GPT       0.8250       0.8275        -       158.02   \n15             RTFM  LSTM       0.5860       0.7564        -       535.44   \n16         Helpdesk   GPT       0.8479            -   0.8473         4.13   \n17         Helpdesk  LSTM       0.8556            -   0.8599         4.01   \n\n   MAE_Helpdesk MAE_RTFM  \n0         67.15    54.83  \n1         38.92    68.44  \n2        111.47    97.29  \n3         95.70    97.19  \n4         26.83    23.19  \n5         43.26    19.39  \n6         52.55    42.79  \n7         47.31    49.81  \n8        211.66   164.65  \n9        331.32   827.97  \n10        32.50    57.23  \n11        24.65    35.72  \n12        82.99   142.14  \n13        33.18    35.87  \n14       156.72        -  \n15       183.19        -  \n16            -     4.15  \n17            -     4.17  ",
      "text/html": "<div>\n<style scoped>\n    .dataframe tbody tr th:only-of-type {\n        vertical-align: middle;\n    }\n\n    .dataframe tbody tr th {\n        vertical-align: top;\n    }\n\n    .dataframe thead th {\n        text-align: right;\n    }\n</style>\n<table border=\"1\" class=\"dataframe\">\n  <thead>\n    <tr style=\"text-align: right;\">\n      <th></th>\n      <th>Log</th>\n      <th>Model</th>\n      <th>DLS_Regular</th>\n      <th>DLS_Helpdesk</th>\n      <th>DLS_RTFM</th>\n      <th>MAE_Regular</th>\n      <th>MAE_Helpdesk</th>\n      <th>MAE_RTFM</th>\n    </tr>\n  </thead>\n  <tbody>\n    <tr>\n      <th>0</th>\n      <td>BPI12</td>\n      <td>GPT</td>\n      <td>0.1606</td>\n      <td>0.1586</td>\n      <td>0.1509</td>\n      <td>77.19</td>\n      <td>67.15</td>\n      <td>54.83</td>\n    </tr>\n    <tr>\n      <th>1</th>\n      <td>BPI12</td>\n      <td>LSTM</td>\n      <td>0.0622</td>\n      <td>0.1377</td>\n      <td>0.1188</td>\n      <td>101.78</td>\n      <td>38.92</td>\n      <td>68.44</td>\n    </tr>\n    <tr>\n      <th>2</th>\n      <td>BPI13 Closed</td>\n      <td>GPT</td>\n      <td>0.4712</td>\n      <td>0.6850</td>\n      <td>0.7289</td>\n      <td>585.01</td>\n      <td>111.47</td>\n      <td>97.29</td>\n    </tr>\n    <tr>\n      <th>3</th>\n      <td>BPI13 Closed</td>\n      <td>LSTM</td>\n      <td>0.5014</td>\n      <td>0.6959</td>\n      <td>0.6976</td>\n      <td>154.69</td>\n      <td>95.70</td>\n      <td>97.19</td>\n    </tr>\n    <tr>\n      <th>4</th>\n      <td>BPI13 Incidents</td>\n      <td>GPT</td>\n      <td>0.2445</td>\n      <td>0.3082</td>\n      <td>0.3021</td>\n      <td>76.94</td>\n      <td>26.83</td>\n      <td>23.19</td>\n    </tr>\n    <tr>\n      <th>5</th>\n      <td>BPI13 Incidents</td>\n      <td>LSTM</td>\n      <td>0.2652</td>\n      <td>0.4893</td>\n      <td>0.4902</td>\n      <td>213.14</td>\n      <td>43.26</td>\n      <td>19.39</td>\n    </tr>\n    <tr>\n      <th>6</th>\n      <td>BPI13 Open</td>\n      <td>GPT</td>\n      <td>0.3450</td>\n      <td>0.5157</td>\n      <td>0.4171</td>\n      <td>105.17</td>\n      <td>52.55</td>\n      <td>42.79</td>\n    </tr>\n    <tr>\n      <th>7</th>\n      <td>BPI13 Open</td>\n      <td>LSTM</td>\n      <td>0.4500</td>\n      <td>0.4918</td>\n      <td>0.5341</td>\n      <td>47.70</td>\n      <td>47.31</td>\n      <td>49.81</td>\n    </tr>\n    <tr>\n      <th>8</th>\n      <td>BPIC 15</td>\n      <td>GPT</td>\n      <td>0.2554</td>\n      <td>0.0213</td>\n      <td>0.0169</td>\n      <td>285.35</td>\n      <td>211.66</td>\n      <td>164.65</td>\n    </tr>\n    <tr>\n      <th>9</th>\n      <td>BPIC 15</td>\n      <td>LSTM</td>\n      <td>0.0239</td>\n      <td>0.0332</td>\n      <td>0.0340</td>\n      <td>2357.00</td>\n      <td>331.32</td>\n      <td>827.97</td>\n    </tr>\n    <tr>\n      <th>10</th>\n      <td>BPI17</td>\n      <td>GPT</td>\n      <td>0.1428</td>\n      <td>0.1424</td>\n      <td>0.1423</td>\n      <td>36.85</td>\n      <td>32.50</td>\n      <td>57.23</td>\n    </tr>\n    <tr>\n      <th>11</th>\n      <td>BPI17</td>\n      <td>LSTM</td>\n      <td>0.0549</td>\n      <td>0.0598</td>\n      <td>0.0460</td>\n      <td>36.44</td>\n      <td>24.65</td>\n      <td>35.72</td>\n    </tr>\n    <tr>\n      <th>12</th>\n      <td>Sepsis</td>\n      <td>GPT</td>\n      <td>0.0876</td>\n      <td>0.1042</td>\n      <td>0.1030</td>\n      <td>1078.09</td>\n      <td>82.99</td>\n      <td>142.14</td>\n    </tr>\n    <tr>\n      <th>13</th>\n      <td>Sepsis</td>\n      <td>LSTM</td>\n      <td>0.0970</td>\n      <td>0.1536</td>\n      <td>0.1992</td>\n      <td>214.69</td>\n      <td>33.18</td>\n      <td>35.87</td>\n    </tr>\n    <tr>\n      <th>14</th>\n      <td>RTFM</td>\n      <td>GPT</td>\n      <td>0.8250</td>\n      <td>0.8275</td>\n      <td>-</td>\n      <td>158.02</td>\n      <td>156.72</td>\n      <td>-</td>\n    </tr>\n    <tr>\n      <th>15</th>\n      <td>RTFM</td>\n      <td>LSTM</td>\n      <td>0.5860</td>\n      <td>0.7564</td>\n      <td>-</td>\n      <td>535.44</td>\n      <td>183.19</td>\n      <td>-</td>\n    </tr>\n    <tr>\n      <th>16</th>\n      <td>Helpdesk</td>\n      <td>GPT</td>\n      <td>0.8479</td>\n      <td>-</td>\n      <td>0.8473</td>\n      <td>4.13</td>\n      <td>-</td>\n      <td>4.15</td>\n    </tr>\n    <tr>\n      <th>17</th>\n      <td>Helpdesk</td>\n      <td>LSTM</td>\n      <td>0.8556</td>\n      <td>-</td>\n      <td>0.8599</td>\n      <td>4.01</td>\n      <td>-</td>\n      <td>4.17</td>\n    </tr>\n  </tbody>\n</table>\n</div>"
     },
     "execution_count": 46,
     "metadata": {},
     "output_type": "execute_result"
    }
   ],
   "source": [
    "scores_csv = \"\"\"\n",
    "Log,Model,DLS_Regular,DLS_Helpdesk,DLS_RTFM,MAE_Regular,MAE_Helpdesk,MAE_RTFM\n",
    "BPI12,GPT,0.1606,0.1586,0.1509,77.19,67.15,54.83\n",
    "BPI12,LSTM,0.0622,0.1377,0.1188,101.78,38.92,68.44\n",
    "BPI13 Closed,GPT,0.4712,0.6850,0.7289,585.01,111.47,97.29\n",
    "BPI13 Closed,LSTM,0.5014,0.6959,0.6976,154.69,95.70,97.19\n",
    "BPI13 Incidents,GPT,0.2445,0.3082,0.3021,76.94,26.83,23.19\n",
    "BPI13 Incidents,LSTM,0.2652,0.4893,0.4902,213.14,43.26,19.39\n",
    "BPI13 Open,GPT,0.3450,0.5157,0.4171,105.17,52.55,42.79\n",
    "BPI13 Open,LSTM,0.4500,0.4918,0.5341,47.70,47.31,49.81\n",
    "BPIC 15,GPT,0.2554,0.0213,0.0169,285.35,211.66,164.65\n",
    "BPIC 15,LSTM,0.0239,0.0332,0.0340,2357.00,331.32,827.97\n",
    "BPI17,GPT,0.1428,0.1424,0.1423,36.85,32.50,57.23\n",
    "BPI17,LSTM,0.0549,0.0598,0.0460,36.44,24.65,35.72\n",
    "Sepsis,GPT,0.0876,0.1042,0.1030,1078.09,82.99,142.14\n",
    "Sepsis,LSTM,0.0970,0.1536,0.1992,214.69,33.18,35.87\n",
    "RTFM,GPT,0.8250,0.8275,-,158.02,156.72,-\n",
    "RTFM,LSTM,0.5860,0.7564,-,535.44,183.19,-\n",
    "Helpdesk,GPT,0.8479,-,0.8473,4.13,-,4.15\n",
    "Helpdesk,LSTM,0.8556,-,0.8599,4.01,-,4.17\n",
    "\"\"\"\n",
    "\n",
    "scores_df = pd.read_csv(io.StringIO(scores_csv))\n",
    "scores_df"
   ],
   "metadata": {
    "collapsed": false,
    "ExecuteTime": {
     "end_time": "2024-01-03T16:03:22.977620400Z",
     "start_time": "2024-01-03T16:03:22.737486100Z"
    }
   },
   "id": "735ebe872dde1e3e"
  },
  {
   "cell_type": "code",
   "execution_count": 47,
   "outputs": [
    {
     "data": {
      "text/plain": "                log model   setting     dls      mae\n0             BPI12   GPT   Regular  0.1606    77.19\n1             BPI12   GPT  Helpdesk  0.1586    67.15\n2             BPI12   GPT      RTFM  0.1509    54.83\n3             BPI12  LSTM   Regular  0.0622   101.78\n4             BPI12  LSTM  Helpdesk  0.1377    38.92\n5             BPI12  LSTM      RTFM  0.1188    68.44\n6      BPI13 Closed   GPT   Regular  0.4712   585.01\n7      BPI13 Closed   GPT  Helpdesk  0.6850   111.47\n8      BPI13 Closed   GPT      RTFM  0.7289    97.29\n9      BPI13 Closed  LSTM   Regular  0.5014   154.69\n10     BPI13 Closed  LSTM  Helpdesk  0.6959    95.70\n11     BPI13 Closed  LSTM      RTFM  0.6976    97.19\n12  BPI13 Incidents   GPT   Regular  0.2445    76.94\n13  BPI13 Incidents   GPT  Helpdesk  0.3082    26.83\n14  BPI13 Incidents   GPT      RTFM  0.3021    23.19\n15  BPI13 Incidents  LSTM   Regular  0.2652   213.14\n16  BPI13 Incidents  LSTM  Helpdesk  0.4893    43.26\n17  BPI13 Incidents  LSTM      RTFM  0.4902    19.39\n18       BPI13 Open   GPT   Regular   0.345   105.17\n19       BPI13 Open   GPT  Helpdesk  0.5157    52.55\n20       BPI13 Open   GPT      RTFM  0.4171    42.79\n21       BPI13 Open  LSTM   Regular    0.45     47.7\n22       BPI13 Open  LSTM  Helpdesk  0.4918    47.31\n23       BPI13 Open  LSTM      RTFM  0.5341    49.81\n24          BPIC 15   GPT   Regular  0.2554   285.35\n25          BPIC 15   GPT  Helpdesk  0.0213   211.66\n26          BPIC 15   GPT      RTFM  0.0169   164.65\n27          BPIC 15  LSTM   Regular  0.0239   2357.0\n28          BPIC 15  LSTM  Helpdesk  0.0332   331.32\n29          BPIC 15  LSTM      RTFM  0.0340   827.97\n30            BPI17   GPT   Regular  0.1428    36.85\n31            BPI17   GPT  Helpdesk  0.1424    32.50\n32            BPI17   GPT      RTFM  0.1423    57.23\n33            BPI17  LSTM   Regular  0.0549    36.44\n34            BPI17  LSTM  Helpdesk  0.0598    24.65\n35            BPI17  LSTM      RTFM  0.0460    35.72\n36           Sepsis   GPT   Regular  0.0876  1078.09\n37           Sepsis   GPT  Helpdesk  0.1042    82.99\n38           Sepsis   GPT      RTFM  0.1030   142.14\n39           Sepsis  LSTM   Regular   0.097   214.69\n40           Sepsis  LSTM  Helpdesk  0.1536    33.18\n41           Sepsis  LSTM      RTFM  0.1992    35.87\n42             RTFM   GPT   Regular   0.825   158.02\n43             RTFM   GPT  Helpdesk  0.8275   156.72\n44             RTFM   GPT      RTFM       -        -\n45             RTFM  LSTM   Regular   0.586   535.44\n46             RTFM  LSTM  Helpdesk  0.7564   183.19\n47             RTFM  LSTM      RTFM       -        -\n48         Helpdesk   GPT   Regular  0.8479     4.13\n49         Helpdesk   GPT  Helpdesk       -        -\n50         Helpdesk   GPT      RTFM  0.8473     4.15\n51         Helpdesk  LSTM   Regular  0.8556     4.01\n52         Helpdesk  LSTM  Helpdesk       -        -\n53         Helpdesk  LSTM      RTFM  0.8599     4.17",
      "text/html": "<div>\n<style scoped>\n    .dataframe tbody tr th:only-of-type {\n        vertical-align: middle;\n    }\n\n    .dataframe tbody tr th {\n        vertical-align: top;\n    }\n\n    .dataframe thead th {\n        text-align: right;\n    }\n</style>\n<table border=\"1\" class=\"dataframe\">\n  <thead>\n    <tr style=\"text-align: right;\">\n      <th></th>\n      <th>log</th>\n      <th>model</th>\n      <th>setting</th>\n      <th>dls</th>\n      <th>mae</th>\n    </tr>\n  </thead>\n  <tbody>\n    <tr>\n      <th>0</th>\n      <td>BPI12</td>\n      <td>GPT</td>\n      <td>Regular</td>\n      <td>0.1606</td>\n      <td>77.19</td>\n    </tr>\n    <tr>\n      <th>1</th>\n      <td>BPI12</td>\n      <td>GPT</td>\n      <td>Helpdesk</td>\n      <td>0.1586</td>\n      <td>67.15</td>\n    </tr>\n    <tr>\n      <th>2</th>\n      <td>BPI12</td>\n      <td>GPT</td>\n      <td>RTFM</td>\n      <td>0.1509</td>\n      <td>54.83</td>\n    </tr>\n    <tr>\n      <th>3</th>\n      <td>BPI12</td>\n      <td>LSTM</td>\n      <td>Regular</td>\n      <td>0.0622</td>\n      <td>101.78</td>\n    </tr>\n    <tr>\n      <th>4</th>\n      <td>BPI12</td>\n      <td>LSTM</td>\n      <td>Helpdesk</td>\n      <td>0.1377</td>\n      <td>38.92</td>\n    </tr>\n    <tr>\n      <th>5</th>\n      <td>BPI12</td>\n      <td>LSTM</td>\n      <td>RTFM</td>\n      <td>0.1188</td>\n      <td>68.44</td>\n    </tr>\n    <tr>\n      <th>6</th>\n      <td>BPI13 Closed</td>\n      <td>GPT</td>\n      <td>Regular</td>\n      <td>0.4712</td>\n      <td>585.01</td>\n    </tr>\n    <tr>\n      <th>7</th>\n      <td>BPI13 Closed</td>\n      <td>GPT</td>\n      <td>Helpdesk</td>\n      <td>0.6850</td>\n      <td>111.47</td>\n    </tr>\n    <tr>\n      <th>8</th>\n      <td>BPI13 Closed</td>\n      <td>GPT</td>\n      <td>RTFM</td>\n      <td>0.7289</td>\n      <td>97.29</td>\n    </tr>\n    <tr>\n      <th>9</th>\n      <td>BPI13 Closed</td>\n      <td>LSTM</td>\n      <td>Regular</td>\n      <td>0.5014</td>\n      <td>154.69</td>\n    </tr>\n    <tr>\n      <th>10</th>\n      <td>BPI13 Closed</td>\n      <td>LSTM</td>\n      <td>Helpdesk</td>\n      <td>0.6959</td>\n      <td>95.70</td>\n    </tr>\n    <tr>\n      <th>11</th>\n      <td>BPI13 Closed</td>\n      <td>LSTM</td>\n      <td>RTFM</td>\n      <td>0.6976</td>\n      <td>97.19</td>\n    </tr>\n    <tr>\n      <th>12</th>\n      <td>BPI13 Incidents</td>\n      <td>GPT</td>\n      <td>Regular</td>\n      <td>0.2445</td>\n      <td>76.94</td>\n    </tr>\n    <tr>\n      <th>13</th>\n      <td>BPI13 Incidents</td>\n      <td>GPT</td>\n      <td>Helpdesk</td>\n      <td>0.3082</td>\n      <td>26.83</td>\n    </tr>\n    <tr>\n      <th>14</th>\n      <td>BPI13 Incidents</td>\n      <td>GPT</td>\n      <td>RTFM</td>\n      <td>0.3021</td>\n      <td>23.19</td>\n    </tr>\n    <tr>\n      <th>15</th>\n      <td>BPI13 Incidents</td>\n      <td>LSTM</td>\n      <td>Regular</td>\n      <td>0.2652</td>\n      <td>213.14</td>\n    </tr>\n    <tr>\n      <th>16</th>\n      <td>BPI13 Incidents</td>\n      <td>LSTM</td>\n      <td>Helpdesk</td>\n      <td>0.4893</td>\n      <td>43.26</td>\n    </tr>\n    <tr>\n      <th>17</th>\n      <td>BPI13 Incidents</td>\n      <td>LSTM</td>\n      <td>RTFM</td>\n      <td>0.4902</td>\n      <td>19.39</td>\n    </tr>\n    <tr>\n      <th>18</th>\n      <td>BPI13 Open</td>\n      <td>GPT</td>\n      <td>Regular</td>\n      <td>0.345</td>\n      <td>105.17</td>\n    </tr>\n    <tr>\n      <th>19</th>\n      <td>BPI13 Open</td>\n      <td>GPT</td>\n      <td>Helpdesk</td>\n      <td>0.5157</td>\n      <td>52.55</td>\n    </tr>\n    <tr>\n      <th>20</th>\n      <td>BPI13 Open</td>\n      <td>GPT</td>\n      <td>RTFM</td>\n      <td>0.4171</td>\n      <td>42.79</td>\n    </tr>\n    <tr>\n      <th>21</th>\n      <td>BPI13 Open</td>\n      <td>LSTM</td>\n      <td>Regular</td>\n      <td>0.45</td>\n      <td>47.7</td>\n    </tr>\n    <tr>\n      <th>22</th>\n      <td>BPI13 Open</td>\n      <td>LSTM</td>\n      <td>Helpdesk</td>\n      <td>0.4918</td>\n      <td>47.31</td>\n    </tr>\n    <tr>\n      <th>23</th>\n      <td>BPI13 Open</td>\n      <td>LSTM</td>\n      <td>RTFM</td>\n      <td>0.5341</td>\n      <td>49.81</td>\n    </tr>\n    <tr>\n      <th>24</th>\n      <td>BPIC 15</td>\n      <td>GPT</td>\n      <td>Regular</td>\n      <td>0.2554</td>\n      <td>285.35</td>\n    </tr>\n    <tr>\n      <th>25</th>\n      <td>BPIC 15</td>\n      <td>GPT</td>\n      <td>Helpdesk</td>\n      <td>0.0213</td>\n      <td>211.66</td>\n    </tr>\n    <tr>\n      <th>26</th>\n      <td>BPIC 15</td>\n      <td>GPT</td>\n      <td>RTFM</td>\n      <td>0.0169</td>\n      <td>164.65</td>\n    </tr>\n    <tr>\n      <th>27</th>\n      <td>BPIC 15</td>\n      <td>LSTM</td>\n      <td>Regular</td>\n      <td>0.0239</td>\n      <td>2357.0</td>\n    </tr>\n    <tr>\n      <th>28</th>\n      <td>BPIC 15</td>\n      <td>LSTM</td>\n      <td>Helpdesk</td>\n      <td>0.0332</td>\n      <td>331.32</td>\n    </tr>\n    <tr>\n      <th>29</th>\n      <td>BPIC 15</td>\n      <td>LSTM</td>\n      <td>RTFM</td>\n      <td>0.0340</td>\n      <td>827.97</td>\n    </tr>\n    <tr>\n      <th>30</th>\n      <td>BPI17</td>\n      <td>GPT</td>\n      <td>Regular</td>\n      <td>0.1428</td>\n      <td>36.85</td>\n    </tr>\n    <tr>\n      <th>31</th>\n      <td>BPI17</td>\n      <td>GPT</td>\n      <td>Helpdesk</td>\n      <td>0.1424</td>\n      <td>32.50</td>\n    </tr>\n    <tr>\n      <th>32</th>\n      <td>BPI17</td>\n      <td>GPT</td>\n      <td>RTFM</td>\n      <td>0.1423</td>\n      <td>57.23</td>\n    </tr>\n    <tr>\n      <th>33</th>\n      <td>BPI17</td>\n      <td>LSTM</td>\n      <td>Regular</td>\n      <td>0.0549</td>\n      <td>36.44</td>\n    </tr>\n    <tr>\n      <th>34</th>\n      <td>BPI17</td>\n      <td>LSTM</td>\n      <td>Helpdesk</td>\n      <td>0.0598</td>\n      <td>24.65</td>\n    </tr>\n    <tr>\n      <th>35</th>\n      <td>BPI17</td>\n      <td>LSTM</td>\n      <td>RTFM</td>\n      <td>0.0460</td>\n      <td>35.72</td>\n    </tr>\n    <tr>\n      <th>36</th>\n      <td>Sepsis</td>\n      <td>GPT</td>\n      <td>Regular</td>\n      <td>0.0876</td>\n      <td>1078.09</td>\n    </tr>\n    <tr>\n      <th>37</th>\n      <td>Sepsis</td>\n      <td>GPT</td>\n      <td>Helpdesk</td>\n      <td>0.1042</td>\n      <td>82.99</td>\n    </tr>\n    <tr>\n      <th>38</th>\n      <td>Sepsis</td>\n      <td>GPT</td>\n      <td>RTFM</td>\n      <td>0.1030</td>\n      <td>142.14</td>\n    </tr>\n    <tr>\n      <th>39</th>\n      <td>Sepsis</td>\n      <td>LSTM</td>\n      <td>Regular</td>\n      <td>0.097</td>\n      <td>214.69</td>\n    </tr>\n    <tr>\n      <th>40</th>\n      <td>Sepsis</td>\n      <td>LSTM</td>\n      <td>Helpdesk</td>\n      <td>0.1536</td>\n      <td>33.18</td>\n    </tr>\n    <tr>\n      <th>41</th>\n      <td>Sepsis</td>\n      <td>LSTM</td>\n      <td>RTFM</td>\n      <td>0.1992</td>\n      <td>35.87</td>\n    </tr>\n    <tr>\n      <th>42</th>\n      <td>RTFM</td>\n      <td>GPT</td>\n      <td>Regular</td>\n      <td>0.825</td>\n      <td>158.02</td>\n    </tr>\n    <tr>\n      <th>43</th>\n      <td>RTFM</td>\n      <td>GPT</td>\n      <td>Helpdesk</td>\n      <td>0.8275</td>\n      <td>156.72</td>\n    </tr>\n    <tr>\n      <th>44</th>\n      <td>RTFM</td>\n      <td>GPT</td>\n      <td>RTFM</td>\n      <td>-</td>\n      <td>-</td>\n    </tr>\n    <tr>\n      <th>45</th>\n      <td>RTFM</td>\n      <td>LSTM</td>\n      <td>Regular</td>\n      <td>0.586</td>\n      <td>535.44</td>\n    </tr>\n    <tr>\n      <th>46</th>\n      <td>RTFM</td>\n      <td>LSTM</td>\n      <td>Helpdesk</td>\n      <td>0.7564</td>\n      <td>183.19</td>\n    </tr>\n    <tr>\n      <th>47</th>\n      <td>RTFM</td>\n      <td>LSTM</td>\n      <td>RTFM</td>\n      <td>-</td>\n      <td>-</td>\n    </tr>\n    <tr>\n      <th>48</th>\n      <td>Helpdesk</td>\n      <td>GPT</td>\n      <td>Regular</td>\n      <td>0.8479</td>\n      <td>4.13</td>\n    </tr>\n    <tr>\n      <th>49</th>\n      <td>Helpdesk</td>\n      <td>GPT</td>\n      <td>Helpdesk</td>\n      <td>-</td>\n      <td>-</td>\n    </tr>\n    <tr>\n      <th>50</th>\n      <td>Helpdesk</td>\n      <td>GPT</td>\n      <td>RTFM</td>\n      <td>0.8473</td>\n      <td>4.15</td>\n    </tr>\n    <tr>\n      <th>51</th>\n      <td>Helpdesk</td>\n      <td>LSTM</td>\n      <td>Regular</td>\n      <td>0.8556</td>\n      <td>4.01</td>\n    </tr>\n    <tr>\n      <th>52</th>\n      <td>Helpdesk</td>\n      <td>LSTM</td>\n      <td>Helpdesk</td>\n      <td>-</td>\n      <td>-</td>\n    </tr>\n    <tr>\n      <th>53</th>\n      <td>Helpdesk</td>\n      <td>LSTM</td>\n      <td>RTFM</td>\n      <td>0.8599</td>\n      <td>4.17</td>\n    </tr>\n  </tbody>\n</table>\n</div>"
     },
     "execution_count": 47,
     "metadata": {},
     "output_type": "execute_result"
    }
   ],
   "source": [
    "# Reshape so that the column names are split into two columns\n",
    "rows = []\n",
    "for _, row in scores_df.iterrows():\n",
    "    row = row.to_dict()\n",
    "    for setting in ['Regular', 'Helpdesk', 'RTFM']:\n",
    "        rows.append({\n",
    "            'log': row['Log'],\n",
    "            'model': row['Model'],\n",
    "            'setting': setting,\n",
    "            'dls': row[f'DLS_{setting}'],\n",
    "            'mae': row[f'MAE_{setting}'],\n",
    "        })\n",
    "scores_stacked_df = pd.DataFrame(rows)\n",
    "scores_stacked_df"
   ],
   "metadata": {
    "collapsed": false,
    "ExecuteTime": {
     "end_time": "2024-01-03T16:03:23.673264100Z",
     "start_time": "2024-01-03T16:03:23.561548400Z"
    }
   },
   "id": "f4ff7c890fef914f"
  },
  {
   "cell_type": "code",
   "execution_count": 48,
   "outputs": [
    {
     "data": {
      "text/plain": "                log model   setting     dls      mae freezed_layers\n0             BPI12   GPT      base  0.1606    77.19            NaN\n1             BPI12   GPT  helpdesk  0.1586    67.15      [0,1,2,3]\n2             BPI12   GPT     RTFMP  0.1509    54.83          [0,1]\n3             BPI12  LSTM      base  0.0622   101.78            NaN\n4             BPI12  LSTM  helpdesk  0.1377    38.92      [0,1,2,3]\n5             BPI12  LSTM     RTFMP  0.1188    68.44          [0,1]\n6      BPI13 Closed   GPT      base  0.4712   585.01            NaN\n7      BPI13 Closed   GPT  helpdesk  0.6850   111.47        [0,1,3]\n8      BPI13 Closed   GPT     RTFMP  0.7289    97.29            [0]\n9      BPI13 Closed  LSTM      base  0.5014   154.69            NaN\n10     BPI13 Closed  LSTM  helpdesk  0.6959    95.70        [0,1,3]\n11     BPI13 Closed  LSTM     RTFMP  0.6976    97.19            [0]\n12  BPI13 Incidents   GPT      base  0.2445    76.94            NaN\n13  BPI13 Incidents   GPT  helpdesk  0.3082    26.83        [0,1,2]\n14  BPI13 Incidents   GPT     RTFMP  0.3021    23.19            [0]\n15  BPI13 Incidents  LSTM      base  0.2652   213.14            NaN\n16  BPI13 Incidents  LSTM  helpdesk  0.4893    43.26        [0,1,2]\n17  BPI13 Incidents  LSTM     RTFMP  0.4902    19.39            [0]\n18       BPI13 Open   GPT      base   0.345   105.17            NaN\n19       BPI13 Open   GPT  helpdesk  0.5157    52.55        [0,1,2]\n20       BPI13 Open   GPT     RTFMP  0.4171    42.79            [0]\n21       BPI13 Open  LSTM      base    0.45     47.7            NaN\n22       BPI13 Open  LSTM  helpdesk  0.4918    47.31        [0,1,2]\n23       BPI13 Open  LSTM     RTFMP  0.5341    49.81            [0]\n24            BPI15   GPT      base  0.2554   285.35            NaN\n25            BPI15   GPT  helpdesk  0.0213   211.66        [0,2,3]\n26            BPI15   GPT     RTFMP  0.0169   164.65      [0,1,2,3]\n27            BPI15  LSTM      base  0.0239   2357.0            NaN\n28            BPI15  LSTM  helpdesk  0.0332   331.32        [0,2,3]\n29            BPI15  LSTM     RTFMP  0.0340   827.97      [0,1,2,3]\n30            BPI17   GPT      base  0.1428    36.85            NaN\n31            BPI17   GPT  helpdesk  0.1424    32.50          [0,1]\n32            BPI17   GPT     RTFMP  0.1423    57.23          [0,1]\n33            BPI17  LSTM      base  0.0549    36.44            NaN\n34            BPI17  LSTM  helpdesk  0.0598    24.65          [0,1]\n35            BPI17  LSTM     RTFMP  0.0460    35.72          [0,1]\n36           Sepsis   GPT      base  0.0876  1078.09            NaN\n37           Sepsis   GPT  helpdesk  0.1042    82.99        [1,2,3]\n38           Sepsis   GPT     RTFMP  0.1030   142.14          [0,1]\n39           Sepsis  LSTM      base   0.097   214.69            NaN\n40           Sepsis  LSTM  helpdesk  0.1536    33.18        [1,2,3]\n41           Sepsis  LSTM     RTFMP  0.1992    35.87          [0,1]\n42            RTFMP   GPT      base   0.825   158.02            NaN\n43            RTFMP   GPT  helpdesk  0.8275   156.72        [0,2,3]\n44            RTFMP   GPT     RTFMP       -        -            NaN\n45            RTFMP  LSTM      base   0.586   535.44            NaN\n46            RTFMP  LSTM  helpdesk  0.7564   183.19        [0,2,3]\n47            RTFMP  LSTM     RTFMP       -        -            NaN\n48         Helpdesk   GPT      base  0.8479     4.13            NaN\n49         Helpdesk   GPT  helpdesk       -        -            NaN\n50         Helpdesk   GPT     RTFMP  0.8473     4.15          [0,1]\n51         Helpdesk  LSTM      base  0.8556     4.01            NaN\n52         Helpdesk  LSTM  helpdesk       -        -            NaN\n53         Helpdesk  LSTM     RTFMP  0.8599     4.17          [0,1]",
      "text/html": "<div>\n<style scoped>\n    .dataframe tbody tr th:only-of-type {\n        vertical-align: middle;\n    }\n\n    .dataframe tbody tr th {\n        vertical-align: top;\n    }\n\n    .dataframe thead th {\n        text-align: right;\n    }\n</style>\n<table border=\"1\" class=\"dataframe\">\n  <thead>\n    <tr style=\"text-align: right;\">\n      <th></th>\n      <th>log</th>\n      <th>model</th>\n      <th>setting</th>\n      <th>dls</th>\n      <th>mae</th>\n      <th>freezed_layers</th>\n    </tr>\n  </thead>\n  <tbody>\n    <tr>\n      <th>0</th>\n      <td>BPI12</td>\n      <td>GPT</td>\n      <td>base</td>\n      <td>0.1606</td>\n      <td>77.19</td>\n      <td>NaN</td>\n    </tr>\n    <tr>\n      <th>1</th>\n      <td>BPI12</td>\n      <td>GPT</td>\n      <td>helpdesk</td>\n      <td>0.1586</td>\n      <td>67.15</td>\n      <td>[0,1,2,3]</td>\n    </tr>\n    <tr>\n      <th>2</th>\n      <td>BPI12</td>\n      <td>GPT</td>\n      <td>RTFMP</td>\n      <td>0.1509</td>\n      <td>54.83</td>\n      <td>[0,1]</td>\n    </tr>\n    <tr>\n      <th>3</th>\n      <td>BPI12</td>\n      <td>LSTM</td>\n      <td>base</td>\n      <td>0.0622</td>\n      <td>101.78</td>\n      <td>NaN</td>\n    </tr>\n    <tr>\n      <th>4</th>\n      <td>BPI12</td>\n      <td>LSTM</td>\n      <td>helpdesk</td>\n      <td>0.1377</td>\n      <td>38.92</td>\n      <td>[0,1,2,3]</td>\n    </tr>\n    <tr>\n      <th>5</th>\n      <td>BPI12</td>\n      <td>LSTM</td>\n      <td>RTFMP</td>\n      <td>0.1188</td>\n      <td>68.44</td>\n      <td>[0,1]</td>\n    </tr>\n    <tr>\n      <th>6</th>\n      <td>BPI13 Closed</td>\n      <td>GPT</td>\n      <td>base</td>\n      <td>0.4712</td>\n      <td>585.01</td>\n      <td>NaN</td>\n    </tr>\n    <tr>\n      <th>7</th>\n      <td>BPI13 Closed</td>\n      <td>GPT</td>\n      <td>helpdesk</td>\n      <td>0.6850</td>\n      <td>111.47</td>\n      <td>[0,1,3]</td>\n    </tr>\n    <tr>\n      <th>8</th>\n      <td>BPI13 Closed</td>\n      <td>GPT</td>\n      <td>RTFMP</td>\n      <td>0.7289</td>\n      <td>97.29</td>\n      <td>[0]</td>\n    </tr>\n    <tr>\n      <th>9</th>\n      <td>BPI13 Closed</td>\n      <td>LSTM</td>\n      <td>base</td>\n      <td>0.5014</td>\n      <td>154.69</td>\n      <td>NaN</td>\n    </tr>\n    <tr>\n      <th>10</th>\n      <td>BPI13 Closed</td>\n      <td>LSTM</td>\n      <td>helpdesk</td>\n      <td>0.6959</td>\n      <td>95.70</td>\n      <td>[0,1,3]</td>\n    </tr>\n    <tr>\n      <th>11</th>\n      <td>BPI13 Closed</td>\n      <td>LSTM</td>\n      <td>RTFMP</td>\n      <td>0.6976</td>\n      <td>97.19</td>\n      <td>[0]</td>\n    </tr>\n    <tr>\n      <th>12</th>\n      <td>BPI13 Incidents</td>\n      <td>GPT</td>\n      <td>base</td>\n      <td>0.2445</td>\n      <td>76.94</td>\n      <td>NaN</td>\n    </tr>\n    <tr>\n      <th>13</th>\n      <td>BPI13 Incidents</td>\n      <td>GPT</td>\n      <td>helpdesk</td>\n      <td>0.3082</td>\n      <td>26.83</td>\n      <td>[0,1,2]</td>\n    </tr>\n    <tr>\n      <th>14</th>\n      <td>BPI13 Incidents</td>\n      <td>GPT</td>\n      <td>RTFMP</td>\n      <td>0.3021</td>\n      <td>23.19</td>\n      <td>[0]</td>\n    </tr>\n    <tr>\n      <th>15</th>\n      <td>BPI13 Incidents</td>\n      <td>LSTM</td>\n      <td>base</td>\n      <td>0.2652</td>\n      <td>213.14</td>\n      <td>NaN</td>\n    </tr>\n    <tr>\n      <th>16</th>\n      <td>BPI13 Incidents</td>\n      <td>LSTM</td>\n      <td>helpdesk</td>\n      <td>0.4893</td>\n      <td>43.26</td>\n      <td>[0,1,2]</td>\n    </tr>\n    <tr>\n      <th>17</th>\n      <td>BPI13 Incidents</td>\n      <td>LSTM</td>\n      <td>RTFMP</td>\n      <td>0.4902</td>\n      <td>19.39</td>\n      <td>[0]</td>\n    </tr>\n    <tr>\n      <th>18</th>\n      <td>BPI13 Open</td>\n      <td>GPT</td>\n      <td>base</td>\n      <td>0.345</td>\n      <td>105.17</td>\n      <td>NaN</td>\n    </tr>\n    <tr>\n      <th>19</th>\n      <td>BPI13 Open</td>\n      <td>GPT</td>\n      <td>helpdesk</td>\n      <td>0.5157</td>\n      <td>52.55</td>\n      <td>[0,1,2]</td>\n    </tr>\n    <tr>\n      <th>20</th>\n      <td>BPI13 Open</td>\n      <td>GPT</td>\n      <td>RTFMP</td>\n      <td>0.4171</td>\n      <td>42.79</td>\n      <td>[0]</td>\n    </tr>\n    <tr>\n      <th>21</th>\n      <td>BPI13 Open</td>\n      <td>LSTM</td>\n      <td>base</td>\n      <td>0.45</td>\n      <td>47.7</td>\n      <td>NaN</td>\n    </tr>\n    <tr>\n      <th>22</th>\n      <td>BPI13 Open</td>\n      <td>LSTM</td>\n      <td>helpdesk</td>\n      <td>0.4918</td>\n      <td>47.31</td>\n      <td>[0,1,2]</td>\n    </tr>\n    <tr>\n      <th>23</th>\n      <td>BPI13 Open</td>\n      <td>LSTM</td>\n      <td>RTFMP</td>\n      <td>0.5341</td>\n      <td>49.81</td>\n      <td>[0]</td>\n    </tr>\n    <tr>\n      <th>24</th>\n      <td>BPI15</td>\n      <td>GPT</td>\n      <td>base</td>\n      <td>0.2554</td>\n      <td>285.35</td>\n      <td>NaN</td>\n    </tr>\n    <tr>\n      <th>25</th>\n      <td>BPI15</td>\n      <td>GPT</td>\n      <td>helpdesk</td>\n      <td>0.0213</td>\n      <td>211.66</td>\n      <td>[0,2,3]</td>\n    </tr>\n    <tr>\n      <th>26</th>\n      <td>BPI15</td>\n      <td>GPT</td>\n      <td>RTFMP</td>\n      <td>0.0169</td>\n      <td>164.65</td>\n      <td>[0,1,2,3]</td>\n    </tr>\n    <tr>\n      <th>27</th>\n      <td>BPI15</td>\n      <td>LSTM</td>\n      <td>base</td>\n      <td>0.0239</td>\n      <td>2357.0</td>\n      <td>NaN</td>\n    </tr>\n    <tr>\n      <th>28</th>\n      <td>BPI15</td>\n      <td>LSTM</td>\n      <td>helpdesk</td>\n      <td>0.0332</td>\n      <td>331.32</td>\n      <td>[0,2,3]</td>\n    </tr>\n    <tr>\n      <th>29</th>\n      <td>BPI15</td>\n      <td>LSTM</td>\n      <td>RTFMP</td>\n      <td>0.0340</td>\n      <td>827.97</td>\n      <td>[0,1,2,3]</td>\n    </tr>\n    <tr>\n      <th>30</th>\n      <td>BPI17</td>\n      <td>GPT</td>\n      <td>base</td>\n      <td>0.1428</td>\n      <td>36.85</td>\n      <td>NaN</td>\n    </tr>\n    <tr>\n      <th>31</th>\n      <td>BPI17</td>\n      <td>GPT</td>\n      <td>helpdesk</td>\n      <td>0.1424</td>\n      <td>32.50</td>\n      <td>[0,1]</td>\n    </tr>\n    <tr>\n      <th>32</th>\n      <td>BPI17</td>\n      <td>GPT</td>\n      <td>RTFMP</td>\n      <td>0.1423</td>\n      <td>57.23</td>\n      <td>[0,1]</td>\n    </tr>\n    <tr>\n      <th>33</th>\n      <td>BPI17</td>\n      <td>LSTM</td>\n      <td>base</td>\n      <td>0.0549</td>\n      <td>36.44</td>\n      <td>NaN</td>\n    </tr>\n    <tr>\n      <th>34</th>\n      <td>BPI17</td>\n      <td>LSTM</td>\n      <td>helpdesk</td>\n      <td>0.0598</td>\n      <td>24.65</td>\n      <td>[0,1]</td>\n    </tr>\n    <tr>\n      <th>35</th>\n      <td>BPI17</td>\n      <td>LSTM</td>\n      <td>RTFMP</td>\n      <td>0.0460</td>\n      <td>35.72</td>\n      <td>[0,1]</td>\n    </tr>\n    <tr>\n      <th>36</th>\n      <td>Sepsis</td>\n      <td>GPT</td>\n      <td>base</td>\n      <td>0.0876</td>\n      <td>1078.09</td>\n      <td>NaN</td>\n    </tr>\n    <tr>\n      <th>37</th>\n      <td>Sepsis</td>\n      <td>GPT</td>\n      <td>helpdesk</td>\n      <td>0.1042</td>\n      <td>82.99</td>\n      <td>[1,2,3]</td>\n    </tr>\n    <tr>\n      <th>38</th>\n      <td>Sepsis</td>\n      <td>GPT</td>\n      <td>RTFMP</td>\n      <td>0.1030</td>\n      <td>142.14</td>\n      <td>[0,1]</td>\n    </tr>\n    <tr>\n      <th>39</th>\n      <td>Sepsis</td>\n      <td>LSTM</td>\n      <td>base</td>\n      <td>0.097</td>\n      <td>214.69</td>\n      <td>NaN</td>\n    </tr>\n    <tr>\n      <th>40</th>\n      <td>Sepsis</td>\n      <td>LSTM</td>\n      <td>helpdesk</td>\n      <td>0.1536</td>\n      <td>33.18</td>\n      <td>[1,2,3]</td>\n    </tr>\n    <tr>\n      <th>41</th>\n      <td>Sepsis</td>\n      <td>LSTM</td>\n      <td>RTFMP</td>\n      <td>0.1992</td>\n      <td>35.87</td>\n      <td>[0,1]</td>\n    </tr>\n    <tr>\n      <th>42</th>\n      <td>RTFMP</td>\n      <td>GPT</td>\n      <td>base</td>\n      <td>0.825</td>\n      <td>158.02</td>\n      <td>NaN</td>\n    </tr>\n    <tr>\n      <th>43</th>\n      <td>RTFMP</td>\n      <td>GPT</td>\n      <td>helpdesk</td>\n      <td>0.8275</td>\n      <td>156.72</td>\n      <td>[0,2,3]</td>\n    </tr>\n    <tr>\n      <th>44</th>\n      <td>RTFMP</td>\n      <td>GPT</td>\n      <td>RTFMP</td>\n      <td>-</td>\n      <td>-</td>\n      <td>NaN</td>\n    </tr>\n    <tr>\n      <th>45</th>\n      <td>RTFMP</td>\n      <td>LSTM</td>\n      <td>base</td>\n      <td>0.586</td>\n      <td>535.44</td>\n      <td>NaN</td>\n    </tr>\n    <tr>\n      <th>46</th>\n      <td>RTFMP</td>\n      <td>LSTM</td>\n      <td>helpdesk</td>\n      <td>0.7564</td>\n      <td>183.19</td>\n      <td>[0,2,3]</td>\n    </tr>\n    <tr>\n      <th>47</th>\n      <td>RTFMP</td>\n      <td>LSTM</td>\n      <td>RTFMP</td>\n      <td>-</td>\n      <td>-</td>\n      <td>NaN</td>\n    </tr>\n    <tr>\n      <th>48</th>\n      <td>Helpdesk</td>\n      <td>GPT</td>\n      <td>base</td>\n      <td>0.8479</td>\n      <td>4.13</td>\n      <td>NaN</td>\n    </tr>\n    <tr>\n      <th>49</th>\n      <td>Helpdesk</td>\n      <td>GPT</td>\n      <td>helpdesk</td>\n      <td>-</td>\n      <td>-</td>\n      <td>NaN</td>\n    </tr>\n    <tr>\n      <th>50</th>\n      <td>Helpdesk</td>\n      <td>GPT</td>\n      <td>RTFMP</td>\n      <td>0.8473</td>\n      <td>4.15</td>\n      <td>[0,1]</td>\n    </tr>\n    <tr>\n      <th>51</th>\n      <td>Helpdesk</td>\n      <td>LSTM</td>\n      <td>base</td>\n      <td>0.8556</td>\n      <td>4.01</td>\n      <td>NaN</td>\n    </tr>\n    <tr>\n      <th>52</th>\n      <td>Helpdesk</td>\n      <td>LSTM</td>\n      <td>helpdesk</td>\n      <td>-</td>\n      <td>-</td>\n      <td>NaN</td>\n    </tr>\n    <tr>\n      <th>53</th>\n      <td>Helpdesk</td>\n      <td>LSTM</td>\n      <td>RTFMP</td>\n      <td>0.8599</td>\n      <td>4.17</td>\n      <td>[0,1]</td>\n    </tr>\n  </tbody>\n</table>\n</div>"
     },
     "execution_count": 48,
     "metadata": {},
     "output_type": "execute_result"
    }
   ],
   "source": [
    "paper_results_df = scores_stacked_df.merge(layer_df, on=['log', 'setting'], how='left')\n",
    "log_mapping = {\n",
    "    'BPIC 15': 'BPI15',\n",
    "    'RTFM': 'RTFMP',\n",
    "}\n",
    "paper_results_df['log'] = paper_results_df['log'].map(log_mapping).fillna(paper_results_df['log'])\n",
    "setting_mapping = {\n",
    "    'Regular': 'base',\n",
    "    'Helpdesk': 'helpdesk',\n",
    "    'RTFM': 'RTFMP',\n",
    "}\n",
    "paper_results_df['setting'] = paper_results_df['setting'].map(setting_mapping).fillna(paper_results_df['setting'])\n",
    "# Merge the two dataframes and keep the Regular setting\n",
    "paper_results_df.to_csv('paper_results.csv', index=False)\n",
    "paper_results_df"
   ],
   "metadata": {
    "collapsed": false,
    "ExecuteTime": {
     "end_time": "2024-01-03T16:03:24.602816300Z",
     "start_time": "2024-01-03T16:03:24.414913100Z"
    }
   },
   "id": "65b5dfe954c7f8a"
  },
  {
   "cell_type": "markdown",
   "source": [
    "# Reproduction of the results of the paper"
   ],
   "metadata": {
    "collapsed": false
   },
   "id": "b65ddb8f3c07faa1"
  },
  {
   "cell_type": "code",
   "execution_count": 105,
   "id": "initial_id",
   "metadata": {
    "collapsed": true,
    "ExecuteTime": {
     "end_time": "2024-01-03T15:10:44.276433Z",
     "start_time": "2024-01-03T15:10:44.247431500Z"
    }
   },
   "outputs": [],
   "source": [
    "# the layer freezing combinations used for reproducing the results\n",
    "LAYER_FREEZING_COMBINATIONS= [['0', '1', '2', '3'], ['0', '1', '2'],\n",
    "                              ['1', '2', '3'], ['0', '2', '3'],\n",
    "                              ['0', '1', '3'], ['0', '1'], ['0']]\n",
    "# the layer freezing combinations used for the additional experiments\n",
    "ADDITIONAL_LAYER_FREEZING_COMBINATIONS = [['0', '1', '2'], ['0']]\n",
    "\n",
    "ALL_LOGS = [\n",
    "    'BPI_Challenge_2013_closed_problems.xes.gz', \n",
    "    'BPI_Challenge_2012.xes.gz',\n",
    "    'BPI_Challenge_2013_incidents.xes.gz', \n",
    "    'BPI_Challenge_2013_open_problems.xes.gz',\n",
    "    'BPI%20Challenge%202017.xes.gz',\n",
    "    'BPIC15_1.xes',\n",
    "    'Road_Traffic_Fine_Management_Process.xes.gz', \n",
    "    'Sepsis%20Cases%20-%20Event%20Log.xes.gz',\n",
    "    'helpdesk.csv'\n",
    "]\n",
    "ADDITIONAL_LOGS = [\n",
    "    'RTFMP_filtered.xes'\n",
    "]\n",
    "BASE_LOGS = [\n",
    "    'Road_Traffic_Fine_Management_Process.xes.gz', \n",
    "    'helpdesk.csv'\n",
    "]\n",
    "ADDITONAL_BASE_LOGS = [\n",
    "    'BPIC15_1.xes',\n",
    "    'RTFMP_filtered.xes'\n",
    "]\n",
    "\n",
    "ARCHITECTURES = ['rnn', 'GPT']"
   ]
  },
  {
   "cell_type": "markdown",
   "source": [
    "## Collection of the training statistics\n",
    "As the training of the models takes a long time, we have trained not all models at once. The training statistics are stored in the `training_figures.csv` files in the `results/rnn` and `results/GPT` folders. The following code collects the training statistics of the models that have been trained. "
   ],
   "metadata": {
    "collapsed": false
   },
   "id": "4a5807820c60262e"
  },
  {
   "cell_type": "code",
   "execution_count": 106,
   "outputs": [],
   "source": [
    "# All the timestamps of the training runs\n",
    "rnn_base_training_timestamps            = ['202312090718', '202312120826']\n",
    "gpt_base_training_timestamps            = ['202312131309', '202312121708']\n",
    "rnn_pre_trained_RTFMP_timestamps        = ['202312151300', '202312161146']\n",
    "rnn_pre_trained_helpdesk_timestamps     = ['202312161442']\n",
    "gpt_pre_trained_RTFMP_timestamps        = ['202312171427', '202312171342']\n",
    "gpt_pre_trained_helpdesk_timestamps     = ['202312181009', '202312182038']\n",
    "rnn_pre_trained_BPIC15_timestamps       = ['202401021416']\n",
    "rnn_pre_trained_RTFMP_filtered_timestamps = ['202401021913']\n",
    "gpt_pre_trained_BPIC15_timestamps       = ['202401021425']\n",
    "gpt_pre_trained_RTFMP_filtered_timestamps = ['202401021913']"
   ],
   "metadata": {
    "collapsed": false,
    "ExecuteTime": {
     "end_time": "2024-01-03T15:10:44.277433400Z",
     "start_time": "2024-01-03T15:10:44.262429100Z"
    }
   },
   "id": "cef437efed16a842"
  },
  {
   "cell_type": "code",
   "execution_count": 107,
   "outputs": [],
   "source": [
    "# Next we define a function that returns the path to the training statistics file for a given model and log based on the timestamps.\n",
    "# The function raises an error if no file is found or multiple files are found.\n",
    "def get_training_stat_file(architecture, log, training_timestamps):\n",
    "    files = []\n",
    "    for training_timestamp in training_timestamps:\n",
    "        files += glob.glob(f'{RESULTS_DIR}/{architecture}/*/*training_figures_{training_timestamp}.csv')\n",
    "        \n",
    "    matching_files = [f for f in files if log in f]\n",
    "    \n",
    "    if len(matching_files) == 0:\n",
    "        raise ValueError(f'No training stat file found for {architecture} and {log} for timestamp {training_timestamp}')\n",
    "    elif len(matching_files) > 1:\n",
    "        raise ValueError(f'Multiple training stat files found for {architecture} and {log} for timestamp {training_timestamp}')\n",
    "    else:\n",
    "        return matching_files[0]"
   ],
   "metadata": {
    "collapsed": false,
    "ExecuteTime": {
     "end_time": "2024-01-03T15:10:44.292953100Z",
     "start_time": "2024-01-03T15:10:44.279436700Z"
    }
   },
   "id": "9ed3b57c49de0335"
  },
  {
   "cell_type": "code",
   "execution_count": 108,
   "outputs": [],
   "source": [
    "# Here we collect the training statistics files for all models and logs that have been trained and store them in a dictionary.\n",
    "training_stat_files = {}\n",
    "for log in ALL_LOGS:\n",
    "    training_stat_files[log] = {\n",
    "        'rnn': {},\n",
    "        'GPT': {}\n",
    "    }\n",
    "    training_stat_files[log]['rnn']['base'] = get_training_stat_file('rnn', log, rnn_base_training_timestamps)\n",
    "    training_stat_files[log]['GPT']['base'] = get_training_stat_file('GPT', log, gpt_base_training_timestamps)\n",
    "\n",
    "    if log == 'BPI%20Challenge%202017.xes.gz':\n",
    "        continue\n",
    "        \n",
    "    if log != 'Road_Traffic_Fine_Management_Process.xes.gz':\n",
    "        training_stat_files[log]['rnn']['RTFMP'] = get_training_stat_file('rnn', log, rnn_pre_trained_RTFMP_timestamps)\n",
    "        if log != 'BPI_Challenge_2012.xes.gz':\n",
    "            training_stat_files[log]['GPT']['RTFMP'] = get_training_stat_file('GPT', log, gpt_pre_trained_RTFMP_timestamps)\n",
    "        \n",
    "    if log != 'helpdesk.csv':\n",
    "        training_stat_files[log]['rnn']['helpdesk'] = get_training_stat_file('rnn', log, rnn_pre_trained_helpdesk_timestamps)\n",
    "        if log != 'BPI_Challenge_2012.xes.gz':\n",
    "            training_stat_files[log]['GPT']['helpdesk'] = get_training_stat_file('GPT', log, gpt_pre_trained_helpdesk_timestamps)\n",
    "            \n",
    "    if log != 'BPIC15_1.xes' and log != 'BPI_Challenge_2012.xes.gz':\n",
    "        training_stat_files[log]['rnn']['BPIC15'] = get_training_stat_file('rnn', log, rnn_pre_trained_BPIC15_timestamps)\n",
    "        training_stat_files[log]['GPT']['BPIC15'] = get_training_stat_file('GPT', log, gpt_pre_trained_BPIC15_timestamps)\n",
    "    \n",
    "    if log != 'RTFMP_filtered.xes' and log != 'BPI_Challenge_2012.xes.gz':\n",
    "        training_stat_files[log]['rnn']['RTFMP_filtered'] = get_training_stat_file('rnn', log, rnn_pre_trained_RTFMP_filtered_timestamps)\n",
    "        training_stat_files[log]['GPT']['RTFMP_filtered'] = get_training_stat_file('GPT', log, gpt_pre_trained_RTFMP_filtered_timestamps)\n",
    "\n",
    "log = ADDITIONAL_LOGS[0]\n",
    "training_stat_files[log] = {\n",
    "        'rnn': {\n",
    "            'base': get_training_stat_file('rnn', log, rnn_pre_trained_RTFMP_filtered_timestamps),\n",
    "        },\n",
    "        'GPT': {\n",
    "            'base': get_training_stat_file('GPT', log, gpt_pre_trained_RTFMP_filtered_timestamps)\n",
    "        }\n",
    "    }"
   ],
   "metadata": {
    "collapsed": false,
    "ExecuteTime": {
     "end_time": "2024-01-03T15:10:44.434021700Z",
     "start_time": "2024-01-03T15:10:44.296952600Z"
    }
   },
   "id": "20a8e0c69f1af991"
  },
  {
   "cell_type": "markdown",
   "source": [
    "## Extraction of the training results\n",
    "In the following we extract the training results from the training statistics files. The results are stored in a pandas DataFrame.\n",
    "The available information included in the training statistics files is:\n",
    "- `epoch`: The epoch number\n",
    "- `elapsed_seconds`: The time in seconds training took for this epoch\n",
    "- `training_loss_activity`: The training loss for the activity prediction\n",
    "- `training_loss_time`: The training loss for the time prediction\n",
    "- `training_loss`: The training loss for the combined activity and time prediction\n",
    "- `validation_loss_activity`: The validation loss for the activity prediction\n",
    "- `validation_loss_time`: The validation loss for the time prediction\n",
    "- `validation_loss`: The validation loss for the combined activity and time prediction\n",
    "\n",
    "We combine that information with the log, architecture and setting (base, RTFMP or helpdesk) and the freezed layers (only for the pre-trained models) in the DataFrame."
   ],
   "metadata": {
    "collapsed": false
   },
   "id": "d879d5c1a8fcf36f"
  },
  {
   "cell_type": "code",
   "execution_count": 109,
   "outputs": [],
   "source": [
    "# First we define a function that extracts the training results from a training statistics file\n",
    "from pandas.errors import ParserWarning\n",
    "\n",
    "\n",
    "# Extract interesting information from training stat files\n",
    "def extract_training_results(training_stats_file, pre_trained, additional_experiment):\n",
    "    # The files contain columns that do not have a header. This leads to a warning when loading the file.\n",
    "    # We ignore this warning.\n",
    "    with warnings.catch_warnings():\n",
    "        warnings.simplefilter(action='ignore', category=ParserWarning)\n",
    "            \n",
    "        if pre_trained:\n",
    "            # Load file an determine the line numbers of the header for each layer freezing combination\n",
    "            with open(training_stats_file, 'r') as f:\n",
    "                lines = f.readlines()\n",
    "                header_line_numbers = []\n",
    "                for i, line in enumerate(lines):\n",
    "                    if 'epoch' in line:\n",
    "                        header_line_numbers.append(i)\n",
    "            if len(header_line_numbers) != 7 and not additional_experiment:\n",
    "                logging.warning(f'{training_stats_file} may be incomplete!')\n",
    "            elif len(header_line_numbers) != 2 and additional_experiment:\n",
    "                logging.warning(f'{training_stats_file} may be incomplete!')\n",
    "            results = {}\n",
    "            # For each layer freezing combination, load the corresponding part of the file\n",
    "            for i, header_line_number in enumerate(header_line_numbers):\n",
    "                if i == len(header_line_numbers) - 1:\n",
    "                    df = pd.read_csv(training_stats_file, skiprows=header_line_number, index_col=False)\n",
    "                else:\n",
    "                    df = pd.read_csv(training_stats_file, skiprows=header_line_number, nrows=header_line_numbers[i+1] - header_line_number - 1, index_col=False)\n",
    "                \n",
    "                results[i] = df\n",
    "        \n",
    "        else:\n",
    "            df = pd.read_csv(training_stats_file, index_col=False)\n",
    "            results = df\n",
    "        \n",
    "    return results"
   ],
   "metadata": {
    "collapsed": false,
    "ExecuteTime": {
     "end_time": "2024-01-03T15:10:44.450023Z",
     "start_time": "2024-01-03T15:10:44.438025400Z"
    }
   },
   "id": "a273f59e0daffb95"
  },
  {
   "cell_type": "code",
   "execution_count": 116,
   "outputs": [
    {
     "name": "stderr",
     "output_type": "stream",
     "text": [
      "WARNING:root:C:\\Users\\Hannes\\PycharmProjects\\Transfer-Learning-for-Predictive-Process-Monitoring\\results/GPT\\BPI_Challenge_2013_incidents.xes.gz\\training_figures_202312182038.csv may be incomplete!\n"
     ]
    }
   ],
   "source": [
    "# Iterate over all logs and extract training results\n",
    "training_result_dfs = []\n",
    "for log in ALL_LOGS + ADDITIONAL_LOGS:\n",
    "    for architecture in ARCHITECTURES:\n",
    "        for setting in training_stat_files[log][architecture].keys():\n",
    "                pre_trained = setting != 'base'\n",
    "                additional_experiment = setting in ['BPIC15', 'RTFMP_filtered']\n",
    "                extracted = extract_training_results(training_stat_files[log][architecture][setting], pre_trained, additional_experiment)\n",
    "                \n",
    "                if pre_trained:\n",
    "                    for i, results in extracted.items():\n",
    "                        results['log'] = log\n",
    "                        results['architecture'] = architecture\n",
    "                        results['setting'] = setting\n",
    "                        if setting in ['RTFMP', 'helpdesk']:\n",
    "                            results['freezed_layers'] = str(LAYER_FREEZING_COMBINATIONS[i])\n",
    "                        elif setting in ['BPIC15', 'RTFMP_filtered']:\n",
    "                            results['freezed_layers'] = str(ADDITIONAL_LAYER_FREEZING_COMBINATIONS[i])\n",
    "                        else:\n",
    "                            raise ValueError(f'Unknown setting {setting}')\n",
    "                        \n",
    "                        training_result_dfs.append(results)\n",
    "                else:\n",
    "                    extracted['log'] = log\n",
    "                    extracted['architecture'] = architecture\n",
    "                    extracted['setting'] = setting\n",
    "                    \n",
    "                    training_result_dfs.append(extracted)"
   ],
   "metadata": {
    "collapsed": false,
    "ExecuteTime": {
     "end_time": "2024-01-04T12:34:42.870255500Z",
     "start_time": "2024-01-04T12:34:42.001748300Z"
    }
   },
   "id": "4438a75adaa638cd"
  },
  {
   "cell_type": "code",
   "execution_count": 117,
   "outputs": [
    {
     "data": {
      "text/plain": "           datetime  epoch  training_loss_activity  training_loss_time  \\\n0      202312090718      0                  1.9248              0.0013   \n1      202312090718      1                  1.8428              0.0014   \n2      202312090718      2                  1.6531              0.0018   \n3      202312090718      3                  1.5426              0.0020   \n4      202312090718      4                  1.5979              0.0016   \n...             ...    ...                     ...                 ...   \n49742  202401021913    206                  0.5984              0.0003   \n49743  202401021913    207                  0.5992              0.0003   \n49744  202401021913    208                  0.5996              0.0003   \n49745  202401021913    209                  0.5985              0.0003   \n49746  202401021913    210                  0.5995              0.0003   \n\n       training_loss  validation_loss_activity  validation_loss_time  \\\n0             1.9260                    1.8914                0.0011   \n1             1.8442                    1.7063                0.0020   \n2             1.6549                    1.5158                0.0012   \n3             1.5446                    1.4599                0.0012   \n4             1.5995                    1.4324                0.0010   \n...              ...                       ...                   ...   \n49742         0.5987                    0.1147                0.0002   \n49743         0.5995                    0.1149                0.0002   \n49744         0.5999                    0.1150                0.0002   \n49745         0.5988                    0.1150                0.0002   \n49746         0.5998                    0.1150                0.0002   \n\n       validation_loss  elapsed_seconds  \\\n0               1.8925            0.565   \n1               1.7083            0.212   \n2               1.5170            0.208   \n3               1.4611            0.205   \n4               1.4335            0.210   \n...                ...              ...   \n49742           0.1149            8.900   \n49743           0.1151            6.269   \n49744           0.1152            6.678   \n49745           0.1152            6.231   \n49746           0.1152            6.586   \n\n                                             log architecture setting  \\\n0      BPI_Challenge_2013_closed_problems.xes.gz          rnn    base   \n1      BPI_Challenge_2013_closed_problems.xes.gz          rnn    base   \n2      BPI_Challenge_2013_closed_problems.xes.gz          rnn    base   \n3      BPI_Challenge_2013_closed_problems.xes.gz          rnn    base   \n4      BPI_Challenge_2013_closed_problems.xes.gz          rnn    base   \n...                                          ...          ...     ...   \n49742                         RTFMP_filtered.xes          GPT    base   \n49743                         RTFMP_filtered.xes          GPT    base   \n49744                         RTFMP_filtered.xes          GPT    base   \n49745                         RTFMP_filtered.xes          GPT    base   \n49746                         RTFMP_filtered.xes          GPT    base   \n\n      freezed_layers  \n0                NaN  \n1                NaN  \n2                NaN  \n3                NaN  \n4                NaN  \n...              ...  \n49742            NaN  \n49743            NaN  \n49744            NaN  \n49745            NaN  \n49746            NaN  \n\n[49747 rows x 13 columns]",
      "text/html": "<div>\n<style scoped>\n    .dataframe tbody tr th:only-of-type {\n        vertical-align: middle;\n    }\n\n    .dataframe tbody tr th {\n        vertical-align: top;\n    }\n\n    .dataframe thead th {\n        text-align: right;\n    }\n</style>\n<table border=\"1\" class=\"dataframe\">\n  <thead>\n    <tr style=\"text-align: right;\">\n      <th></th>\n      <th>datetime</th>\n      <th>epoch</th>\n      <th>training_loss_activity</th>\n      <th>training_loss_time</th>\n      <th>training_loss</th>\n      <th>validation_loss_activity</th>\n      <th>validation_loss_time</th>\n      <th>validation_loss</th>\n      <th>elapsed_seconds</th>\n      <th>log</th>\n      <th>architecture</th>\n      <th>setting</th>\n      <th>freezed_layers</th>\n    </tr>\n  </thead>\n  <tbody>\n    <tr>\n      <th>0</th>\n      <td>202312090718</td>\n      <td>0</td>\n      <td>1.9248</td>\n      <td>0.0013</td>\n      <td>1.9260</td>\n      <td>1.8914</td>\n      <td>0.0011</td>\n      <td>1.8925</td>\n      <td>0.565</td>\n      <td>BPI_Challenge_2013_closed_problems.xes.gz</td>\n      <td>rnn</td>\n      <td>base</td>\n      <td>NaN</td>\n    </tr>\n    <tr>\n      <th>1</th>\n      <td>202312090718</td>\n      <td>1</td>\n      <td>1.8428</td>\n      <td>0.0014</td>\n      <td>1.8442</td>\n      <td>1.7063</td>\n      <td>0.0020</td>\n      <td>1.7083</td>\n      <td>0.212</td>\n      <td>BPI_Challenge_2013_closed_problems.xes.gz</td>\n      <td>rnn</td>\n      <td>base</td>\n      <td>NaN</td>\n    </tr>\n    <tr>\n      <th>2</th>\n      <td>202312090718</td>\n      <td>2</td>\n      <td>1.6531</td>\n      <td>0.0018</td>\n      <td>1.6549</td>\n      <td>1.5158</td>\n      <td>0.0012</td>\n      <td>1.5170</td>\n      <td>0.208</td>\n      <td>BPI_Challenge_2013_closed_problems.xes.gz</td>\n      <td>rnn</td>\n      <td>base</td>\n      <td>NaN</td>\n    </tr>\n    <tr>\n      <th>3</th>\n      <td>202312090718</td>\n      <td>3</td>\n      <td>1.5426</td>\n      <td>0.0020</td>\n      <td>1.5446</td>\n      <td>1.4599</td>\n      <td>0.0012</td>\n      <td>1.4611</td>\n      <td>0.205</td>\n      <td>BPI_Challenge_2013_closed_problems.xes.gz</td>\n      <td>rnn</td>\n      <td>base</td>\n      <td>NaN</td>\n    </tr>\n    <tr>\n      <th>4</th>\n      <td>202312090718</td>\n      <td>4</td>\n      <td>1.5979</td>\n      <td>0.0016</td>\n      <td>1.5995</td>\n      <td>1.4324</td>\n      <td>0.0010</td>\n      <td>1.4335</td>\n      <td>0.210</td>\n      <td>BPI_Challenge_2013_closed_problems.xes.gz</td>\n      <td>rnn</td>\n      <td>base</td>\n      <td>NaN</td>\n    </tr>\n    <tr>\n      <th>...</th>\n      <td>...</td>\n      <td>...</td>\n      <td>...</td>\n      <td>...</td>\n      <td>...</td>\n      <td>...</td>\n      <td>...</td>\n      <td>...</td>\n      <td>...</td>\n      <td>...</td>\n      <td>...</td>\n      <td>...</td>\n      <td>...</td>\n    </tr>\n    <tr>\n      <th>49742</th>\n      <td>202401021913</td>\n      <td>206</td>\n      <td>0.5984</td>\n      <td>0.0003</td>\n      <td>0.5987</td>\n      <td>0.1147</td>\n      <td>0.0002</td>\n      <td>0.1149</td>\n      <td>8.900</td>\n      <td>RTFMP_filtered.xes</td>\n      <td>GPT</td>\n      <td>base</td>\n      <td>NaN</td>\n    </tr>\n    <tr>\n      <th>49743</th>\n      <td>202401021913</td>\n      <td>207</td>\n      <td>0.5992</td>\n      <td>0.0003</td>\n      <td>0.5995</td>\n      <td>0.1149</td>\n      <td>0.0002</td>\n      <td>0.1151</td>\n      <td>6.269</td>\n      <td>RTFMP_filtered.xes</td>\n      <td>GPT</td>\n      <td>base</td>\n      <td>NaN</td>\n    </tr>\n    <tr>\n      <th>49744</th>\n      <td>202401021913</td>\n      <td>208</td>\n      <td>0.5996</td>\n      <td>0.0003</td>\n      <td>0.5999</td>\n      <td>0.1150</td>\n      <td>0.0002</td>\n      <td>0.1152</td>\n      <td>6.678</td>\n      <td>RTFMP_filtered.xes</td>\n      <td>GPT</td>\n      <td>base</td>\n      <td>NaN</td>\n    </tr>\n    <tr>\n      <th>49745</th>\n      <td>202401021913</td>\n      <td>209</td>\n      <td>0.5985</td>\n      <td>0.0003</td>\n      <td>0.5988</td>\n      <td>0.1150</td>\n      <td>0.0002</td>\n      <td>0.1152</td>\n      <td>6.231</td>\n      <td>RTFMP_filtered.xes</td>\n      <td>GPT</td>\n      <td>base</td>\n      <td>NaN</td>\n    </tr>\n    <tr>\n      <th>49746</th>\n      <td>202401021913</td>\n      <td>210</td>\n      <td>0.5995</td>\n      <td>0.0003</td>\n      <td>0.5998</td>\n      <td>0.1150</td>\n      <td>0.0002</td>\n      <td>0.1152</td>\n      <td>6.586</td>\n      <td>RTFMP_filtered.xes</td>\n      <td>GPT</td>\n      <td>base</td>\n      <td>NaN</td>\n    </tr>\n  </tbody>\n</table>\n<p>49747 rows × 13 columns</p>\n</div>"
     },
     "execution_count": 117,
     "metadata": {},
     "output_type": "execute_result"
    }
   ],
   "source": [
    "training_results_df = pd.concat(training_result_dfs, ignore_index=True)\n",
    "training_results_df.to_csv('all_training_results.csv')\n",
    "training_results_df"
   ],
   "metadata": {
    "collapsed": false,
    "ExecuteTime": {
     "end_time": "2024-01-04T12:34:45.718203600Z",
     "start_time": "2024-01-04T12:34:45.436717300Z"
    }
   },
   "id": "3ecb863642572c34"
  },
  {
   "cell_type": "markdown",
   "source": [
    "## Collection of the evaluation results\n",
    "The evaluation script generates the predictions for the test set and stores the the predictions and the scores in the `results/ARCHITECTURE/Predictions` folder. The following code collects the scores for all models and logs that have been trained and store them in a dataframe called `evaluation_results_df`."
   ],
   "metadata": {
    "collapsed": false
   },
   "id": "c4ebb48fea309f2d"
  },
  {
   "cell_type": "code",
   "outputs": [
    {
     "data": {
      "text/plain": "254"
     },
     "execution_count": 112,
     "metadata": {},
     "output_type": "execute_result"
    }
   ],
   "source": [
    "# First, we collect all score files\n",
    "score_files = glob.glob(f'{RESULTS_DIR}/rnn/Predictions/*/suffix_evaluation_result_dls_mae_*.json')\n",
    "# The GPT models predictions output is stored differently\n",
    "score_files += glob.glob(f'{RESULTS_DIR}/GPT/Predictions/*/suffix_generation_result_*.json')\n",
    "len(score_files)"
   ],
   "metadata": {
    "collapsed": false,
    "ExecuteTime": {
     "end_time": "2024-01-03T15:10:45.239937200Z",
     "start_time": "2024-01-03T15:10:45.209935100Z"
    }
   },
   "id": "56aa2e616edc375",
   "execution_count": 112
  },
  {
   "cell_type": "code",
   "outputs": [
    {
     "name": "stdout",
     "output_type": "stream",
     "text": [
      "C:\\Users\\Hannes\\PycharmProjects\\Transfer-Learning-for-Predictive-Process-Monitoring\\results/rnn/Predictions\\BPI%20Challenge%202017.xes.gz\\suffix_evaluation_result_dls_mae_Road_Traffic_Fine_Management_Process.xes.gz_BPI%20Challenge%202017.xes.gz[1].json\n"
     ]
    },
    {
     "data": {
      "text/plain": "('rnn',\n 'BPI%20Challenge%202017.xes.gz',\n 'Road_Traffic_Fine_Management_Process.xes.gz',\n '1')"
     },
     "execution_count": 113,
     "metadata": {},
     "output_type": "execute_result"
    }
   ],
   "source": [
    "# Next, we define a function that extracts the architecture, log and setting from a score file path\n",
    "def get_architecture_log_setting(score_file):\n",
    "    path = os.path.normpath(score_file)\n",
    "    parts = path.split(os.sep)\n",
    "    architecture = parts[-4]\n",
    "    log = parts[-2]\n",
    "    \n",
    "    regex = r\"suffix_(evaluation|generation)_result_(dls_mae_)?(.*\\.[a-zA-Z]+)_(.*\\.[a-zA-Z]+)\\[([\\d\\w])\\]\\.json\"\n",
    "    matches = re.search(regex, parts[-1])\n",
    "    if matches is None:\n",
    "        raise ValueError(f'Could not parse {score_file}')\n",
    "    setting = matches.group(3)\n",
    "    layer_index = matches.group(5)\n",
    "    \n",
    "    return architecture, log, setting, layer_index\n",
    "\n",
    "print(score_files[1])\n",
    "get_architecture_log_setting(score_files[1])"
   ],
   "metadata": {
    "collapsed": false,
    "ExecuteTime": {
     "end_time": "2024-01-03T15:10:45.269938900Z",
     "start_time": "2024-01-03T15:10:45.226937900Z"
    }
   },
   "id": "ef06f6237e850dba",
   "execution_count": 113
  },
  {
   "cell_type": "code",
   "outputs": [],
   "source": [
    "evaluation_results = []\n",
    "for score_file in score_files:\n",
    "    architecture, log, setting, layer_index = get_architecture_log_setting(score_file)\n",
    "    \n",
    "    # Load the score file\n",
    "    with open(score_file, 'r') as f:\n",
    "        score = json.load(f)\n",
    "    score = score[architecture][setting]\n",
    "    \n",
    "    # Extract the used layer freezing combination\n",
    "    if not layer_index.isnumeric():\n",
    "        layer_index = None\n",
    "    else:\n",
    "        layer_index = int(layer_index) - 1\n",
    "        \n",
    "    if setting == log:\n",
    "        freezed_layers = None\n",
    "    elif setting in BASE_LOGS:\n",
    "        freezed_layers = str(LAYER_FREEZING_COMBINATIONS[layer_index])\n",
    "    elif setting in ADDITONAL_BASE_LOGS:\n",
    "        freezed_layers = str(ADDITIONAL_LAYER_FREEZING_COMBINATIONS[layer_index])\n",
    "    else:\n",
    "        raise ValueError(f'Unknown setting {setting}')\n",
    "    \n",
    "    # We convert the setting to the same format as in the training results\n",
    "    if setting == log:\n",
    "        setting = 'base'\n",
    "    elif setting == BASE_LOGS[0]:\n",
    "        setting = 'RTFMP'\n",
    "    elif setting == BASE_LOGS[1]:\n",
    "        setting = 'helpdesk'\n",
    "    elif setting == ADDITONAL_BASE_LOGS[0]:\n",
    "        setting = 'BPIC15'    \n",
    "    elif setting == ADDITONAL_BASE_LOGS[1]:\n",
    "        setting = 'RTFMP_filtered'\n",
    "    else:\n",
    "      raise ValueError(f'Unknown setting {setting}')  \n",
    "    \n",
    "    evaluation_results.append({\n",
    "        'architecture': architecture,\n",
    "        'log': log,\n",
    "        'setting': setting,\n",
    "        'freezed_layers': freezed_layers,\n",
    "        'dls': score['dls'],\n",
    "        'mae': score['mae'],\n",
    "        'mae_denormalised': score['mae_denormalised'],\n",
    "        'nb_worst_situs': score['nb_worst_situs'],\n",
    "    })\n",
    "evaluation_results_df = pd.DataFrame(evaluation_results)"
   ],
   "metadata": {
    "collapsed": false,
    "ExecuteTime": {
     "end_time": "2024-01-03T15:10:48.744831500Z",
     "start_time": "2024-01-03T15:10:45.244934700Z"
    }
   },
   "id": "94478ae8da7216c7",
   "execution_count": 114
  },
  {
   "cell_type": "code",
   "outputs": [
    {
     "data": {
      "text/plain": "    architecture                                      log         setting  \\\n0            rnn            BPI%20Challenge%202017.xes.gz            base   \n1            rnn            BPI%20Challenge%202017.xes.gz           RTFMP   \n2            rnn                             BPIC15_1.xes            base   \n3            rnn                             BPIC15_1.xes        helpdesk   \n4            rnn                             BPIC15_1.xes        helpdesk   \n..           ...                                      ...             ...   \n249          GPT  Sepsis%20Cases%20-%20Event%20Log.xes.gz           RTFMP   \n250          GPT  Sepsis%20Cases%20-%20Event%20Log.xes.gz           RTFMP   \n251          GPT  Sepsis%20Cases%20-%20Event%20Log.xes.gz  RTFMP_filtered   \n252          GPT  Sepsis%20Cases%20-%20Event%20Log.xes.gz  RTFMP_filtered   \n253          GPT  Sepsis%20Cases%20-%20Event%20Log.xes.gz            base   \n\n           freezed_layers     dls     mae mae_denormalised  nb_worst_situs  \n0                    None  0.0691  0.7416         100.9505          223449  \n1    ['0', '1', '2', '3']  0.0372  5.1177         696.6516          227572  \n2                    None  0.0264  2.6185        2549.0971            9359  \n3    ['0', '1', '2', '3']  0.0226  2.4174        2353.3574            9307  \n4         ['0', '1', '2']  0.0323  1.8449        1795.9604            9226  \n..                    ...     ...     ...              ...             ...  \n249            ['0', '1']  0.0307  3.0372        1267.3097            2817  \n250                 ['0']  0.0307  1.5063         628.5306            2817  \n251       ['0', '1', '2']  0.0722  3.8692        1614.4840            2901  \n252                 ['0']  0.1253  0.1785          74.4924            2686  \n253                  None  0.0879  0.8125         339.0417            2600  \n\n[254 rows x 8 columns]",
      "text/html": "<div>\n<style scoped>\n    .dataframe tbody tr th:only-of-type {\n        vertical-align: middle;\n    }\n\n    .dataframe tbody tr th {\n        vertical-align: top;\n    }\n\n    .dataframe thead th {\n        text-align: right;\n    }\n</style>\n<table border=\"1\" class=\"dataframe\">\n  <thead>\n    <tr style=\"text-align: right;\">\n      <th></th>\n      <th>architecture</th>\n      <th>log</th>\n      <th>setting</th>\n      <th>freezed_layers</th>\n      <th>dls</th>\n      <th>mae</th>\n      <th>mae_denormalised</th>\n      <th>nb_worst_situs</th>\n    </tr>\n  </thead>\n  <tbody>\n    <tr>\n      <th>0</th>\n      <td>rnn</td>\n      <td>BPI%20Challenge%202017.xes.gz</td>\n      <td>base</td>\n      <td>None</td>\n      <td>0.0691</td>\n      <td>0.7416</td>\n      <td>100.9505</td>\n      <td>223449</td>\n    </tr>\n    <tr>\n      <th>1</th>\n      <td>rnn</td>\n      <td>BPI%20Challenge%202017.xes.gz</td>\n      <td>RTFMP</td>\n      <td>['0', '1', '2', '3']</td>\n      <td>0.0372</td>\n      <td>5.1177</td>\n      <td>696.6516</td>\n      <td>227572</td>\n    </tr>\n    <tr>\n      <th>2</th>\n      <td>rnn</td>\n      <td>BPIC15_1.xes</td>\n      <td>base</td>\n      <td>None</td>\n      <td>0.0264</td>\n      <td>2.6185</td>\n      <td>2549.0971</td>\n      <td>9359</td>\n    </tr>\n    <tr>\n      <th>3</th>\n      <td>rnn</td>\n      <td>BPIC15_1.xes</td>\n      <td>helpdesk</td>\n      <td>['0', '1', '2', '3']</td>\n      <td>0.0226</td>\n      <td>2.4174</td>\n      <td>2353.3574</td>\n      <td>9307</td>\n    </tr>\n    <tr>\n      <th>4</th>\n      <td>rnn</td>\n      <td>BPIC15_1.xes</td>\n      <td>helpdesk</td>\n      <td>['0', '1', '2']</td>\n      <td>0.0323</td>\n      <td>1.8449</td>\n      <td>1795.9604</td>\n      <td>9226</td>\n    </tr>\n    <tr>\n      <th>...</th>\n      <td>...</td>\n      <td>...</td>\n      <td>...</td>\n      <td>...</td>\n      <td>...</td>\n      <td>...</td>\n      <td>...</td>\n      <td>...</td>\n    </tr>\n    <tr>\n      <th>249</th>\n      <td>GPT</td>\n      <td>Sepsis%20Cases%20-%20Event%20Log.xes.gz</td>\n      <td>RTFMP</td>\n      <td>['0', '1']</td>\n      <td>0.0307</td>\n      <td>3.0372</td>\n      <td>1267.3097</td>\n      <td>2817</td>\n    </tr>\n    <tr>\n      <th>250</th>\n      <td>GPT</td>\n      <td>Sepsis%20Cases%20-%20Event%20Log.xes.gz</td>\n      <td>RTFMP</td>\n      <td>['0']</td>\n      <td>0.0307</td>\n      <td>1.5063</td>\n      <td>628.5306</td>\n      <td>2817</td>\n    </tr>\n    <tr>\n      <th>251</th>\n      <td>GPT</td>\n      <td>Sepsis%20Cases%20-%20Event%20Log.xes.gz</td>\n      <td>RTFMP_filtered</td>\n      <td>['0', '1', '2']</td>\n      <td>0.0722</td>\n      <td>3.8692</td>\n      <td>1614.4840</td>\n      <td>2901</td>\n    </tr>\n    <tr>\n      <th>252</th>\n      <td>GPT</td>\n      <td>Sepsis%20Cases%20-%20Event%20Log.xes.gz</td>\n      <td>RTFMP_filtered</td>\n      <td>['0']</td>\n      <td>0.1253</td>\n      <td>0.1785</td>\n      <td>74.4924</td>\n      <td>2686</td>\n    </tr>\n    <tr>\n      <th>253</th>\n      <td>GPT</td>\n      <td>Sepsis%20Cases%20-%20Event%20Log.xes.gz</td>\n      <td>base</td>\n      <td>None</td>\n      <td>0.0879</td>\n      <td>0.8125</td>\n      <td>339.0417</td>\n      <td>2600</td>\n    </tr>\n  </tbody>\n</table>\n<p>254 rows × 8 columns</p>\n</div>"
     },
     "execution_count": 115,
     "metadata": {},
     "output_type": "execute_result"
    }
   ],
   "source": [
    "evaluation_results_df.to_csv('all_evaluation_results.csv', index=False)\n",
    "evaluation_results_df"
   ],
   "metadata": {
    "collapsed": false,
    "ExecuteTime": {
     "end_time": "2024-01-03T15:10:48.760594400Z",
     "start_time": "2024-01-03T15:10:48.746831800Z"
    }
   },
   "id": "c9c051b26a876c51",
   "execution_count": 115
  },
  {
   "cell_type": "code",
   "outputs": [],
   "source": [],
   "metadata": {
    "collapsed": false,
    "ExecuteTime": {
     "end_time": "2024-01-03T15:10:48.779600300Z",
     "start_time": "2024-01-03T15:10:48.761594900Z"
    }
   },
   "id": "f621819132b1670c",
   "execution_count": 115
  }
 ],
 "metadata": {
  "kernelspec": {
   "display_name": "Python 3",
   "language": "python",
   "name": "python3"
  },
  "language_info": {
   "codemirror_mode": {
    "name": "ipython",
    "version": 2
   },
   "file_extension": ".py",
   "mimetype": "text/x-python",
   "name": "python",
   "nbconvert_exporter": "python",
   "pygments_lexer": "ipython2",
   "version": "2.7.6"
  }
 },
 "nbformat": 4,
 "nbformat_minor": 5
}
