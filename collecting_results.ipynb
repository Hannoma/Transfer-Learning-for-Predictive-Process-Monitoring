{
 "cells": [
  {
   "cell_type": "code",
   "execution_count": 31,
   "outputs": [],
   "source": [
    "import glob\n",
    "import logging\n",
    "import warnings\n",
    "\n",
    "import pandas as pd\n",
    "from definitions import RESULTS_DIR"
   ],
   "metadata": {
    "collapsed": false,
    "ExecuteTime": {
     "end_time": "2023-12-29T11:52:12.539753700Z",
     "start_time": "2023-12-29T11:52:12.524178300Z"
    }
   },
   "id": "5cbb32f4cf73d9fe"
  },
  {
   "cell_type": "code",
   "execution_count": 32,
   "id": "initial_id",
   "metadata": {
    "collapsed": true,
    "ExecuteTime": {
     "end_time": "2023-12-29T11:52:12.832568900Z",
     "start_time": "2023-12-29T11:52:12.807883200Z"
    }
   },
   "outputs": [],
   "source": [
    "LAYER_FREEZING_COMBINATIONS= [['0', '1', '2', '3'], ['0', '1', '2'],\n",
    "                              ['1', '2', '3'], ['0', '2', '3'],\n",
    "                              ['0', '1', '3'], ['0', '1'], ['0']]\n",
    "ALL_LOGS = [\n",
    "    'BPI_Challenge_2013_closed_problems.xes.gz', \n",
    "    'BPI_Challenge_2012.xes.gz',\n",
    "    'BPI_Challenge_2013_incidents.xes.gz', \n",
    "    'BPI_Challenge_2013_open_problems.xes.gz',\n",
    "    'BPI%20Challenge%202017.xes.gz',\n",
    "    'BPIC15_1.xes',\n",
    "    'Road_Traffic_Fine_Management_Process.xes.gz', \n",
    "    'Sepsis%20Cases%20-%20Event%20Log.xes.gz',\n",
    "    'helpdesk.csv'\n",
    "]\n",
    "BASE_LOGS = [\n",
    "    'Road_Traffic_Fine_Management_Process.xes.gz', \n",
    "    'helpdesk.csv'\n",
    "]\n",
    "ARCHITECTURES = ['rnn', 'GPT']"
   ]
  },
  {
   "cell_type": "markdown",
   "source": [
    "# Training"
   ],
   "metadata": {
    "collapsed": false
   },
   "id": "eec2c7094edce276"
  },
  {
   "cell_type": "markdown",
   "source": [
    "## Collection of the training statistics\n",
    "As the training of the models takes a long time, we have trained not all models at once. The training statistics are stored in the `training_figures.csv` files in the `results/rnn` and `results/GPT` folders. The following code collects the training statistics of the models that have been trained. "
   ],
   "metadata": {
    "collapsed": false
   },
   "id": "4a5807820c60262e"
  },
  {
   "cell_type": "code",
   "execution_count": 33,
   "outputs": [],
   "source": [
    "# All the timestamps of the training runs\n",
    "rnn_base_training_timestamps        = ['202312090718', '202312120826']\n",
    "gpt_base_training_timestamps        = ['202312131309', '202312121708']\n",
    "rnn_pre_trained_RTFMP_timestamps    = ['202312151300', '202312161146']\n",
    "rnn_pre_trained_helpdesk_timestamps = ['202312161442']\n",
    "gpt_pre_trained_RTFMP_timestamps    = ['202312171427', '202312171342']\n",
    "gpt_pre_trained_helpdesk_timestamps = ['202312181009', '202312182038']"
   ],
   "metadata": {
    "collapsed": false,
    "ExecuteTime": {
     "end_time": "2023-12-29T11:52:13.826994700Z",
     "start_time": "2023-12-29T11:52:13.815515Z"
    }
   },
   "id": "cef437efed16a842"
  },
  {
   "cell_type": "code",
   "execution_count": 34,
   "outputs": [],
   "source": [
    "# Next we define a function that returns the path to the training statistics file for a given model and log based on the timestamps.\n",
    "# The function raises an error if no file is found or multiple files are found.\n",
    "def get_training_stat_file(architecture, log, training_timestamps):\n",
    "    files = []\n",
    "    for training_timestamp in training_timestamps:\n",
    "        files += glob.glob(f'{RESULTS_DIR}/{architecture}/*/*training_figures_{training_timestamp}.csv')\n",
    "        \n",
    "    matching_files = [f for f in files if log in f]\n",
    "    \n",
    "    if len(matching_files) == 0:\n",
    "        raise ValueError(f'No training stat file found for {architecture} and {log} for timestamp {training_timestamp}')\n",
    "    elif len(matching_files) > 1:\n",
    "        raise ValueError(f'Multiple training stat files found for {architecture} and {log} for timestamp {training_timestamp}')\n",
    "    else:\n",
    "        return matching_files[0]"
   ],
   "metadata": {
    "collapsed": false,
    "ExecuteTime": {
     "end_time": "2023-12-29T11:52:14.212196200Z",
     "start_time": "2023-12-29T11:52:14.205926600Z"
    }
   },
   "id": "9ed3b57c49de0335"
  },
  {
   "cell_type": "code",
   "execution_count": 39,
   "outputs": [],
   "source": [
    "# Here we collect the training statistics files for all models and logs that have been trained and store them in a dictionary.\n",
    "training_stat_files = {}\n",
    "for log in ALL_LOGS:\n",
    "    training_stat_files[log] = {\n",
    "        'rnn': {},\n",
    "        'GPT': {}\n",
    "    }\n",
    "    training_stat_files[log]['rnn']['base'] = get_training_stat_file('rnn', log, rnn_base_training_timestamps)\n",
    "    training_stat_files[log]['GPT']['base'] = get_training_stat_file('GPT', log, gpt_base_training_timestamps)\n",
    "\n",
    "    if log == 'BPI%20Challenge%202017.xes.gz':\n",
    "        continue\n",
    "        \n",
    "    if log != 'Road_Traffic_Fine_Management_Process.xes.gz':\n",
    "        training_stat_files[log]['rnn']['RTFMP'] = get_training_stat_file('rnn', log, rnn_pre_trained_RTFMP_timestamps)\n",
    "        if log != 'BPI_Challenge_2012.xes.gz':\n",
    "            training_stat_files[log]['GPT']['RTFMP'] = get_training_stat_file('GPT', log, gpt_pre_trained_RTFMP_timestamps)\n",
    "        \n",
    "    if log != 'helpdesk.csv':\n",
    "        training_stat_files[log]['rnn']['helpdesk'] = get_training_stat_file('rnn', log, rnn_pre_trained_helpdesk_timestamps)\n",
    "        if log != 'BPI_Challenge_2012.xes.gz':\n",
    "            training_stat_files[log]['GPT']['helpdesk'] = get_training_stat_file('GPT', log, gpt_pre_trained_helpdesk_timestamps)"
   ],
   "metadata": {
    "collapsed": false,
    "ExecuteTime": {
     "end_time": "2023-12-29T11:55:03.313483300Z",
     "start_time": "2023-12-29T11:55:03.246789900Z"
    }
   },
   "id": "20a8e0c69f1af991"
  },
  {
   "cell_type": "markdown",
   "source": [
    "## Extraction of the training results\n",
    "In the following we extract the training results from the training statistics files. The results are stored in a pandas DataFrame.\n",
    "The available information included in the training statistics files is:\n",
    "- `epoch`: The epoch number\n",
    "- `elapsed_seconds`: The time in seconds training took for this epoch\n",
    "- `training_loss_activity`: The training loss for the activity prediction\n",
    "- `training_loss_time`: The training loss for the time prediction\n",
    "- `training_loss`: The training loss for the combined activity and time prediction\n",
    "- `validation_loss_activity`: The validation loss for the activity prediction\n",
    "- `validation_loss_time`: The validation loss for the time prediction\n",
    "- `validation_loss`: The validation loss for the combined activity and time prediction\n",
    "\n",
    "We combine that information with the log, architecture and setting (base, RTFMP or helpdesk) and the freezed layers (only for the pre-trained models) in the DataFrame."
   ],
   "metadata": {
    "collapsed": false
   },
   "id": "d879d5c1a8fcf36f"
  },
  {
   "cell_type": "code",
   "execution_count": 43,
   "outputs": [],
   "source": [
    "# First we define a function that extracts the training results from a training statistics file\n",
    "from pandas.errors import ParserWarning\n",
    "\n",
    "\n",
    "# Extract interesting information from training stat files\n",
    "def extract_training_results(training_stats_file, pre_trained):\n",
    "    # The files contain columns that do not have a header. This leads to a warning when loading the file.\n",
    "    # We ignore this warning.\n",
    "    with warnings.catch_warnings():\n",
    "        warnings.simplefilter(action='ignore', category=ParserWarning)\n",
    "            \n",
    "        if pre_trained:\n",
    "            # Load file an determine the line numbers of the header for each layer freezing combination\n",
    "            with open(training_stats_file, 'r') as f:\n",
    "                lines = f.readlines()\n",
    "                header_line_numbers = []\n",
    "                for i, line in enumerate(lines):\n",
    "                    if 'epoch' in line:\n",
    "                        header_line_numbers.append(i)\n",
    "            if len(header_line_numbers) != 7:\n",
    "                logging.warning(f'{training_stats_file} may be incomplete!')\n",
    "            results = {}\n",
    "            # For each layer freezing combination, load the corresponding part of the file\n",
    "            for i, header_line_number in enumerate(header_line_numbers):\n",
    "                if i == len(header_line_numbers) - 1:\n",
    "                    df = pd.read_csv(training_stats_file, skiprows=header_line_number, index_col=False)\n",
    "                else:\n",
    "                    df = pd.read_csv(training_stats_file, skiprows=header_line_number, nrows=header_line_numbers[i+1] - header_line_number - 1, index_col=False)\n",
    "                \n",
    "                results[i] = df\n",
    "        \n",
    "        else:\n",
    "            df = pd.read_csv(training_stats_file, index_col=False)\n",
    "            results = df\n",
    "        \n",
    "    return results"
   ],
   "metadata": {
    "collapsed": false,
    "ExecuteTime": {
     "end_time": "2023-12-29T11:55:21.707641100Z",
     "start_time": "2023-12-29T11:55:21.693078Z"
    }
   },
   "id": "a273f59e0daffb95"
  },
  {
   "cell_type": "code",
   "execution_count": 44,
   "outputs": [
    {
     "name": "stderr",
     "output_type": "stream",
     "text": [
      "WARNING:root:C:\\Users\\Hannes\\PycharmProjects\\Transfer-Learning-for-Predictive-Process-Monitoring\\results/GPT\\BPI_Challenge_2013_incidents.xes.gz\\training_figures_202312182038.csv may be incomplete!\n"
     ]
    }
   ],
   "source": [
    "# Iterate over all logs and extract training results\n",
    "training_result_dfs = []\n",
    "for log in ALL_LOGS:\n",
    "    for architecture in ARCHITECTURES:\n",
    "        for setting in training_stat_files[log][architecture].keys():\n",
    "                pre_trained = setting != 'base'\n",
    "                extracted = extract_training_results(training_stat_files[log][architecture][setting], pre_trained)\n",
    "                \n",
    "                if pre_trained:\n",
    "                    for i, results in extracted.items():\n",
    "                        results['log'] = log\n",
    "                        results['architecture'] = architecture\n",
    "                        results['setting'] = setting\n",
    "                        results['freezed_layers'] = str(LAYER_FREEZING_COMBINATIONS[i])\n",
    "                        \n",
    "                        training_result_dfs.append(results)\n",
    "                else:\n",
    "                    extracted['log'] = log\n",
    "                    extracted['architecture'] = architecture\n",
    "                    extracted['setting'] = setting\n",
    "                    \n",
    "                    training_result_dfs.append(extracted)"
   ],
   "metadata": {
    "collapsed": false,
    "ExecuteTime": {
     "end_time": "2023-12-29T11:55:22.477056300Z",
     "start_time": "2023-12-29T11:55:22.102348600Z"
    }
   },
   "id": "4438a75adaa638cd"
  },
  {
   "cell_type": "code",
   "execution_count": 47,
   "outputs": [
    {
     "data": {
      "text/plain": "           datetime  epoch  training_loss_activity  training_loss_time  \\\n0      202312090718      0                  1.9248              0.0013   \n1      202312090718      1                  1.8428              0.0014   \n2      202312090718      2                  1.6531              0.0018   \n3      202312090718      3                  1.5426              0.0020   \n4      202312090718      4                  1.5979              0.0016   \n...             ...    ...                     ...                 ...   \n39498  202312171427    195                  0.6147              0.0042   \n39499  202312171427    196                  0.6054              0.0041   \n39500  202312171427    197                  0.6082              0.0041   \n39501  202312171427    198                  0.6092              0.0041   \n39502  202312171427    199                  0.6149              0.0041   \n\n       training_loss  validation_loss_activity  validation_loss_time  \\\n0             1.9260                    1.8914                0.0011   \n1             1.8442                    1.7063                0.0020   \n2             1.6549                    1.5158                0.0012   \n3             1.5446                    1.4599                0.0012   \n4             1.5995                    1.4324                0.0010   \n...              ...                       ...                   ...   \n39498         0.6188                    0.1525                0.0032   \n39499         0.6095                    0.1525                0.0032   \n39500         0.6123                    0.1523                0.0032   \n39501         0.6133                    0.1521                0.0032   \n39502         0.6191                    0.1522                0.0032   \n\n       validation_loss  elapsed_seconds  \\\n0               1.8925            0.565   \n1               1.7083            0.212   \n2               1.5170            0.208   \n3               1.4611            0.205   \n4               1.4335            0.210   \n...                ...              ...   \n39498           0.1557            3.698   \n39499           0.1557            3.699   \n39500           0.1555            3.664   \n39501           0.1553            3.671   \n39502           0.1554            3.701   \n\n                                             log architecture setting  \\\n0      BPI_Challenge_2013_closed_problems.xes.gz          rnn    base   \n1      BPI_Challenge_2013_closed_problems.xes.gz          rnn    base   \n2      BPI_Challenge_2013_closed_problems.xes.gz          rnn    base   \n3      BPI_Challenge_2013_closed_problems.xes.gz          rnn    base   \n4      BPI_Challenge_2013_closed_problems.xes.gz          rnn    base   \n...                                          ...          ...     ...   \n39498                               helpdesk.csv          GPT   RTFMP   \n39499                               helpdesk.csv          GPT   RTFMP   \n39500                               helpdesk.csv          GPT   RTFMP   \n39501                               helpdesk.csv          GPT   RTFMP   \n39502                               helpdesk.csv          GPT   RTFMP   \n\n      freezed_layers  \n0                NaN  \n1                NaN  \n2                NaN  \n3                NaN  \n4                NaN  \n...              ...  \n39498          ['0']  \n39499          ['0']  \n39500          ['0']  \n39501          ['0']  \n39502          ['0']  \n\n[39503 rows x 13 columns]",
      "text/html": "<div>\n<style scoped>\n    .dataframe tbody tr th:only-of-type {\n        vertical-align: middle;\n    }\n\n    .dataframe tbody tr th {\n        vertical-align: top;\n    }\n\n    .dataframe thead th {\n        text-align: right;\n    }\n</style>\n<table border=\"1\" class=\"dataframe\">\n  <thead>\n    <tr style=\"text-align: right;\">\n      <th></th>\n      <th>datetime</th>\n      <th>epoch</th>\n      <th>training_loss_activity</th>\n      <th>training_loss_time</th>\n      <th>training_loss</th>\n      <th>validation_loss_activity</th>\n      <th>validation_loss_time</th>\n      <th>validation_loss</th>\n      <th>elapsed_seconds</th>\n      <th>log</th>\n      <th>architecture</th>\n      <th>setting</th>\n      <th>freezed_layers</th>\n    </tr>\n  </thead>\n  <tbody>\n    <tr>\n      <th>0</th>\n      <td>202312090718</td>\n      <td>0</td>\n      <td>1.9248</td>\n      <td>0.0013</td>\n      <td>1.9260</td>\n      <td>1.8914</td>\n      <td>0.0011</td>\n      <td>1.8925</td>\n      <td>0.565</td>\n      <td>BPI_Challenge_2013_closed_problems.xes.gz</td>\n      <td>rnn</td>\n      <td>base</td>\n      <td>NaN</td>\n    </tr>\n    <tr>\n      <th>1</th>\n      <td>202312090718</td>\n      <td>1</td>\n      <td>1.8428</td>\n      <td>0.0014</td>\n      <td>1.8442</td>\n      <td>1.7063</td>\n      <td>0.0020</td>\n      <td>1.7083</td>\n      <td>0.212</td>\n      <td>BPI_Challenge_2013_closed_problems.xes.gz</td>\n      <td>rnn</td>\n      <td>base</td>\n      <td>NaN</td>\n    </tr>\n    <tr>\n      <th>2</th>\n      <td>202312090718</td>\n      <td>2</td>\n      <td>1.6531</td>\n      <td>0.0018</td>\n      <td>1.6549</td>\n      <td>1.5158</td>\n      <td>0.0012</td>\n      <td>1.5170</td>\n      <td>0.208</td>\n      <td>BPI_Challenge_2013_closed_problems.xes.gz</td>\n      <td>rnn</td>\n      <td>base</td>\n      <td>NaN</td>\n    </tr>\n    <tr>\n      <th>3</th>\n      <td>202312090718</td>\n      <td>3</td>\n      <td>1.5426</td>\n      <td>0.0020</td>\n      <td>1.5446</td>\n      <td>1.4599</td>\n      <td>0.0012</td>\n      <td>1.4611</td>\n      <td>0.205</td>\n      <td>BPI_Challenge_2013_closed_problems.xes.gz</td>\n      <td>rnn</td>\n      <td>base</td>\n      <td>NaN</td>\n    </tr>\n    <tr>\n      <th>4</th>\n      <td>202312090718</td>\n      <td>4</td>\n      <td>1.5979</td>\n      <td>0.0016</td>\n      <td>1.5995</td>\n      <td>1.4324</td>\n      <td>0.0010</td>\n      <td>1.4335</td>\n      <td>0.210</td>\n      <td>BPI_Challenge_2013_closed_problems.xes.gz</td>\n      <td>rnn</td>\n      <td>base</td>\n      <td>NaN</td>\n    </tr>\n    <tr>\n      <th>...</th>\n      <td>...</td>\n      <td>...</td>\n      <td>...</td>\n      <td>...</td>\n      <td>...</td>\n      <td>...</td>\n      <td>...</td>\n      <td>...</td>\n      <td>...</td>\n      <td>...</td>\n      <td>...</td>\n      <td>...</td>\n      <td>...</td>\n    </tr>\n    <tr>\n      <th>39498</th>\n      <td>202312171427</td>\n      <td>195</td>\n      <td>0.6147</td>\n      <td>0.0042</td>\n      <td>0.6188</td>\n      <td>0.1525</td>\n      <td>0.0032</td>\n      <td>0.1557</td>\n      <td>3.698</td>\n      <td>helpdesk.csv</td>\n      <td>GPT</td>\n      <td>RTFMP</td>\n      <td>['0']</td>\n    </tr>\n    <tr>\n      <th>39499</th>\n      <td>202312171427</td>\n      <td>196</td>\n      <td>0.6054</td>\n      <td>0.0041</td>\n      <td>0.6095</td>\n      <td>0.1525</td>\n      <td>0.0032</td>\n      <td>0.1557</td>\n      <td>3.699</td>\n      <td>helpdesk.csv</td>\n      <td>GPT</td>\n      <td>RTFMP</td>\n      <td>['0']</td>\n    </tr>\n    <tr>\n      <th>39500</th>\n      <td>202312171427</td>\n      <td>197</td>\n      <td>0.6082</td>\n      <td>0.0041</td>\n      <td>0.6123</td>\n      <td>0.1523</td>\n      <td>0.0032</td>\n      <td>0.1555</td>\n      <td>3.664</td>\n      <td>helpdesk.csv</td>\n      <td>GPT</td>\n      <td>RTFMP</td>\n      <td>['0']</td>\n    </tr>\n    <tr>\n      <th>39501</th>\n      <td>202312171427</td>\n      <td>198</td>\n      <td>0.6092</td>\n      <td>0.0041</td>\n      <td>0.6133</td>\n      <td>0.1521</td>\n      <td>0.0032</td>\n      <td>0.1553</td>\n      <td>3.671</td>\n      <td>helpdesk.csv</td>\n      <td>GPT</td>\n      <td>RTFMP</td>\n      <td>['0']</td>\n    </tr>\n    <tr>\n      <th>39502</th>\n      <td>202312171427</td>\n      <td>199</td>\n      <td>0.6149</td>\n      <td>0.0041</td>\n      <td>0.6191</td>\n      <td>0.1522</td>\n      <td>0.0032</td>\n      <td>0.1554</td>\n      <td>3.701</td>\n      <td>helpdesk.csv</td>\n      <td>GPT</td>\n      <td>RTFMP</td>\n      <td>['0']</td>\n    </tr>\n  </tbody>\n</table>\n<p>39503 rows × 13 columns</p>\n</div>"
     },
     "execution_count": 47,
     "metadata": {},
     "output_type": "execute_result"
    }
   ],
   "source": [
    "training_results_df = pd.concat(training_result_dfs, ignore_index=True)\n",
    "training_results_df.to_csv('all_training_results.csv')\n",
    "training_results_df"
   ],
   "metadata": {
    "collapsed": false,
    "ExecuteTime": {
     "end_time": "2023-12-29T11:56:53.735758500Z",
     "start_time": "2023-12-29T11:56:53.540726100Z"
    }
   },
   "id": "3ecb863642572c34"
  },
  {
   "cell_type": "code",
   "outputs": [
    {
     "data": {
      "text/plain": "                                                                             datetime  \\\nlog                           architecture setting freezed_layers                       \nBPI%20Challenge%202017.xes.gz GPT          base    NaN                   202312131309   \n                              rnn          base    NaN                   202312090718   \nBPIC15_1.xes                  GPT          RTFMP   ['0', '1', '2', '3']  202312171427   \n                                                   ['0', '1', '2']       202312171427   \n                                                   ['0', '1', '3']       202312171427   \n...                                                                               ...   \nhelpdesk.csv                  rnn          RTFMP   ['0', '1']            202312161146   \n                                                   ['0', '2', '3']       202312161146   \n                                                   ['0']                 202312161146   \n                                                   ['1', '2', '3']       202312161146   \n                                           base    NaN                   202312120826   \n\n                                                                         epoch  \\\nlog                           architecture setting freezed_layers                \nBPI%20Challenge%202017.xes.gz GPT          base    NaN                     399   \n                              rnn          base    NaN                     200   \nBPIC15_1.xes                  GPT          RTFMP   ['0', '1', '2', '3']    199   \n                                                   ['0', '1', '2']         199   \n                                                   ['0', '1', '3']         199   \n...                                                                        ...   \nhelpdesk.csv                  rnn          RTFMP   ['0', '1']              199   \n                                                   ['0', '2', '3']         199   \n                                                   ['0']                   199   \n                                                   ['1', '2', '3']         199   \n                                           base    NaN                     206   \n\n                                                                         training_loss_activity  \\\nlog                           architecture setting freezed_layers                                 \nBPI%20Challenge%202017.xes.gz GPT          base    NaN                                   0.7520   \n                              rnn          base    NaN                                   0.9627   \nBPIC15_1.xes                  GPT          RTFMP   ['0', '1', '2', '3']                  2.9385   \n                                                   ['0', '1', '2']                       2.9993   \n                                                   ['0', '1', '3']                       2.9502   \n...                                                                                         ...   \nhelpdesk.csv                  rnn          RTFMP   ['0', '1']                            0.7651   \n                                                   ['0', '2', '3']                       0.8036   \n                                                   ['0']                                 0.8090   \n                                                   ['1', '2', '3']                       0.8265   \n                                           base    NaN                                   0.8244   \n\n                                                                         training_loss_time  \\\nlog                           architecture setting freezed_layers                             \nBPI%20Challenge%202017.xes.gz GPT          base    NaN                               0.0001   \n                              rnn          base    NaN                               0.0003   \nBPIC15_1.xes                  GPT          RTFMP   ['0', '1', '2', '3']              0.0053   \n                                                   ['0', '1', '2']                   0.0050   \n                                                   ['0', '1', '3']                   0.0080   \n...                                                                                     ...   \nhelpdesk.csv                  rnn          RTFMP   ['0', '1']                        0.0079   \n                                                   ['0', '2', '3']                   0.0078   \n                                                   ['0']                             0.0075   \n                                                   ['1', '2', '3']                   0.0079   \n                                           base    NaN                               0.0068   \n\n                                                                         training_loss  \\\nlog                           architecture setting freezed_layers                        \nBPI%20Challenge%202017.xes.gz GPT          base    NaN                          0.7521   \n                              rnn          base    NaN                          0.9630   \nBPIC15_1.xes                  GPT          RTFMP   ['0', '1', '2', '3']         2.9438   \n                                                   ['0', '1', '2']              3.0043   \n                                                   ['0', '1', '3']              2.9582   \n...                                                                                ...   \nhelpdesk.csv                  rnn          RTFMP   ['0', '1']                   0.7731   \n                                                   ['0', '2', '3']              0.8115   \n                                                   ['0']                        0.8165   \n                                                   ['1', '2', '3']              0.8344   \n                                           base    NaN                          0.8311   \n\n                                                                         validation_loss_activity  \\\nlog                           architecture setting freezed_layers                                   \nBPI%20Challenge%202017.xes.gz GPT          base    NaN                                     0.0767   \n                              rnn          base    NaN                                     0.3848   \nBPIC15_1.xes                  GPT          RTFMP   ['0', '1', '2', '3']                    2.0594   \n                                                   ['0', '1', '2']                         2.0760   \n                                                   ['0', '1', '3']                         2.0833   \n...                                                                                           ...   \nhelpdesk.csv                  rnn          RTFMP   ['0', '1']                              0.6038   \n                                                   ['0', '2', '3']                         0.5924   \n                                                   ['0']                                   0.5972   \n                                                   ['1', '2', '3']                         0.6241   \n                                           base    NaN                                     0.6038   \n\n                                                                         validation_loss_time  \\\nlog                           architecture setting freezed_layers                               \nBPI%20Challenge%202017.xes.gz GPT          base    NaN                                 0.0001   \n                              rnn          base    NaN                                 0.0002   \nBPIC15_1.xes                  GPT          RTFMP   ['0', '1', '2', '3']                0.0005   \n                                                   ['0', '1', '2']                     0.0007   \n                                                   ['0', '1', '3']                     0.0007   \n...                                                                                       ...   \nhelpdesk.csv                  rnn          RTFMP   ['0', '1']                          0.0053   \n                                                   ['0', '2', '3']                     0.0049   \n                                                   ['0']                               0.0054   \n                                                   ['1', '2', '3']                     0.0047   \n                                           base    NaN                                 0.0055   \n\n                                                                         validation_loss  \\\nlog                           architecture setting freezed_layers                          \nBPI%20Challenge%202017.xes.gz GPT          base    NaN                            0.0767   \n                              rnn          base    NaN                            0.3850   \nBPIC15_1.xes                  GPT          RTFMP   ['0', '1', '2', '3']           2.0599   \n                                                   ['0', '1', '2']                2.0767   \n                                                   ['0', '1', '3']                2.0840   \n...                                                                                  ...   \nhelpdesk.csv                  rnn          RTFMP   ['0', '1']                     0.6091   \n                                                   ['0', '2', '3']                0.5973   \n                                                   ['0']                          0.6026   \n                                                   ['1', '2', '3']                0.6289   \n                                           base    NaN                            0.6093   \n\n                                                                         elapsed_seconds  \nlog                           architecture setting freezed_layers                         \nBPI%20Challenge%202017.xes.gz GPT          base    NaN                           171.848  \n                              rnn          base    NaN                           196.965  \nBPIC15_1.xes                  GPT          RTFMP   ['0', '1', '2', '3']            0.857  \n                                                   ['0', '1', '2']                 0.856  \n                                                   ['0', '1', '3']                 0.855  \n...                                                                                  ...  \nhelpdesk.csv                  rnn          RTFMP   ['0', '1']                      0.186  \n                                                   ['0', '2', '3']                 0.178  \n                                                   ['0']                           0.185  \n                                                   ['1', '2', '3']                 0.186  \n                                           base    NaN                             0.188  \n\n[197 rows x 9 columns]",
      "text/html": "<div>\n<style scoped>\n    .dataframe tbody tr th:only-of-type {\n        vertical-align: middle;\n    }\n\n    .dataframe tbody tr th {\n        vertical-align: top;\n    }\n\n    .dataframe thead th {\n        text-align: right;\n    }\n</style>\n<table border=\"1\" class=\"dataframe\">\n  <thead>\n    <tr style=\"text-align: right;\">\n      <th></th>\n      <th></th>\n      <th></th>\n      <th></th>\n      <th>datetime</th>\n      <th>epoch</th>\n      <th>training_loss_activity</th>\n      <th>training_loss_time</th>\n      <th>training_loss</th>\n      <th>validation_loss_activity</th>\n      <th>validation_loss_time</th>\n      <th>validation_loss</th>\n      <th>elapsed_seconds</th>\n    </tr>\n    <tr>\n      <th>log</th>\n      <th>architecture</th>\n      <th>setting</th>\n      <th>freezed_layers</th>\n      <th></th>\n      <th></th>\n      <th></th>\n      <th></th>\n      <th></th>\n      <th></th>\n      <th></th>\n      <th></th>\n      <th></th>\n    </tr>\n  </thead>\n  <tbody>\n    <tr>\n      <th rowspan=\"2\" valign=\"top\">BPI%20Challenge%202017.xes.gz</th>\n      <th>GPT</th>\n      <th>base</th>\n      <th>NaN</th>\n      <td>202312131309</td>\n      <td>399</td>\n      <td>0.7520</td>\n      <td>0.0001</td>\n      <td>0.7521</td>\n      <td>0.0767</td>\n      <td>0.0001</td>\n      <td>0.0767</td>\n      <td>171.848</td>\n    </tr>\n    <tr>\n      <th>rnn</th>\n      <th>base</th>\n      <th>NaN</th>\n      <td>202312090718</td>\n      <td>200</td>\n      <td>0.9627</td>\n      <td>0.0003</td>\n      <td>0.9630</td>\n      <td>0.3848</td>\n      <td>0.0002</td>\n      <td>0.3850</td>\n      <td>196.965</td>\n    </tr>\n    <tr>\n      <th rowspan=\"3\" valign=\"top\">BPIC15_1.xes</th>\n      <th rowspan=\"3\" valign=\"top\">GPT</th>\n      <th rowspan=\"3\" valign=\"top\">RTFMP</th>\n      <th>['0', '1', '2', '3']</th>\n      <td>202312171427</td>\n      <td>199</td>\n      <td>2.9385</td>\n      <td>0.0053</td>\n      <td>2.9438</td>\n      <td>2.0594</td>\n      <td>0.0005</td>\n      <td>2.0599</td>\n      <td>0.857</td>\n    </tr>\n    <tr>\n      <th>['0', '1', '2']</th>\n      <td>202312171427</td>\n      <td>199</td>\n      <td>2.9993</td>\n      <td>0.0050</td>\n      <td>3.0043</td>\n      <td>2.0760</td>\n      <td>0.0007</td>\n      <td>2.0767</td>\n      <td>0.856</td>\n    </tr>\n    <tr>\n      <th>['0', '1', '3']</th>\n      <td>202312171427</td>\n      <td>199</td>\n      <td>2.9502</td>\n      <td>0.0080</td>\n      <td>2.9582</td>\n      <td>2.0833</td>\n      <td>0.0007</td>\n      <td>2.0840</td>\n      <td>0.855</td>\n    </tr>\n    <tr>\n      <th>...</th>\n      <th>...</th>\n      <th>...</th>\n      <th>...</th>\n      <td>...</td>\n      <td>...</td>\n      <td>...</td>\n      <td>...</td>\n      <td>...</td>\n      <td>...</td>\n      <td>...</td>\n      <td>...</td>\n      <td>...</td>\n    </tr>\n    <tr>\n      <th rowspan=\"5\" valign=\"top\">helpdesk.csv</th>\n      <th rowspan=\"5\" valign=\"top\">rnn</th>\n      <th rowspan=\"4\" valign=\"top\">RTFMP</th>\n      <th>['0', '1']</th>\n      <td>202312161146</td>\n      <td>199</td>\n      <td>0.7651</td>\n      <td>0.0079</td>\n      <td>0.7731</td>\n      <td>0.6038</td>\n      <td>0.0053</td>\n      <td>0.6091</td>\n      <td>0.186</td>\n    </tr>\n    <tr>\n      <th>['0', '2', '3']</th>\n      <td>202312161146</td>\n      <td>199</td>\n      <td>0.8036</td>\n      <td>0.0078</td>\n      <td>0.8115</td>\n      <td>0.5924</td>\n      <td>0.0049</td>\n      <td>0.5973</td>\n      <td>0.178</td>\n    </tr>\n    <tr>\n      <th>['0']</th>\n      <td>202312161146</td>\n      <td>199</td>\n      <td>0.8090</td>\n      <td>0.0075</td>\n      <td>0.8165</td>\n      <td>0.5972</td>\n      <td>0.0054</td>\n      <td>0.6026</td>\n      <td>0.185</td>\n    </tr>\n    <tr>\n      <th>['1', '2', '3']</th>\n      <td>202312161146</td>\n      <td>199</td>\n      <td>0.8265</td>\n      <td>0.0079</td>\n      <td>0.8344</td>\n      <td>0.6241</td>\n      <td>0.0047</td>\n      <td>0.6289</td>\n      <td>0.186</td>\n    </tr>\n    <tr>\n      <th>base</th>\n      <th>NaN</th>\n      <td>202312120826</td>\n      <td>206</td>\n      <td>0.8244</td>\n      <td>0.0068</td>\n      <td>0.8311</td>\n      <td>0.6038</td>\n      <td>0.0055</td>\n      <td>0.6093</td>\n      <td>0.188</td>\n    </tr>\n  </tbody>\n</table>\n<p>197 rows × 9 columns</p>\n</div>"
     },
     "execution_count": 46,
     "metadata": {},
     "output_type": "execute_result"
    }
   ],
   "source": [
    "grouped = training_results_df.groupby(['log', 'architecture', 'setting', 'freezed_layers'], dropna=False).last()\n",
    "grouped"
   ],
   "metadata": {
    "collapsed": false,
    "ExecuteTime": {
     "end_time": "2023-12-29T11:56:18.427022Z",
     "start_time": "2023-12-29T11:56:18.394884100Z"
    }
   },
   "id": "284614c74dd9a017",
   "execution_count": 46
  },
  {
   "cell_type": "code",
   "outputs": [],
   "source": [],
   "metadata": {
    "collapsed": false
   },
   "id": "b27df87351ee5085"
  }
 ],
 "metadata": {
  "kernelspec": {
   "display_name": "Python 3",
   "language": "python",
   "name": "python3"
  },
  "language_info": {
   "codemirror_mode": {
    "name": "ipython",
    "version": 2
   },
   "file_extension": ".py",
   "mimetype": "text/x-python",
   "name": "python",
   "nbconvert_exporter": "python",
   "pygments_lexer": "ipython2",
   "version": "2.7.6"
  }
 },
 "nbformat": 4,
 "nbformat_minor": 5
}
