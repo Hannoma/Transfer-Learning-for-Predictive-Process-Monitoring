{
 "cells": [
  {
   "cell_type": "code",
   "execution_count": 104,
   "outputs": [],
   "source": [
    "import glob\n",
    "import logging\n",
    "import os\n",
    "import warnings\n",
    "import json\n",
    "import re\n",
    "\n",
    "import pandas as pd\n",
    "from definitions import RESULTS_DIR"
   ],
   "metadata": {
    "collapsed": false,
    "ExecuteTime": {
     "end_time": "2024-01-03T15:10:44.249429400Z",
     "start_time": "2024-01-03T15:10:44.239432200Z"
    }
   },
   "id": "5cbb32f4cf73d9fe"
  },
  {
   "cell_type": "markdown",
   "source": [
    "# Reproduction of the results of the paper"
   ],
   "metadata": {
    "collapsed": false
   },
   "id": "b65ddb8f3c07faa1"
  },
  {
   "cell_type": "code",
   "execution_count": 105,
   "id": "initial_id",
   "metadata": {
    "collapsed": true,
    "ExecuteTime": {
     "end_time": "2024-01-03T15:10:44.276433Z",
     "start_time": "2024-01-03T15:10:44.247431500Z"
    }
   },
   "outputs": [],
   "source": [
    "# the layer freezing combinations used for reproducing the results\n",
    "LAYER_FREEZING_COMBINATIONS= [['0', '1', '2', '3'], ['0', '1', '2'],\n",
    "                              ['1', '2', '3'], ['0', '2', '3'],\n",
    "                              ['0', '1', '3'], ['0', '1'], ['0']]\n",
    "# the layer freezing combinations used for the additional experiments\n",
    "ADDITIONAL_LAYER_FREEZING_COMBINATIONS = [['0', '1', '2'], ['0']]\n",
    "\n",
    "ALL_LOGS = [\n",
    "    'BPI_Challenge_2013_closed_problems.xes.gz', \n",
    "    'BPI_Challenge_2012.xes.gz',\n",
    "    'BPI_Challenge_2013_incidents.xes.gz', \n",
    "    'BPI_Challenge_2013_open_problems.xes.gz',\n",
    "    'BPI%20Challenge%202017.xes.gz',\n",
    "    'BPIC15_1.xes',\n",
    "    'Road_Traffic_Fine_Management_Process.xes.gz', \n",
    "    'Sepsis%20Cases%20-%20Event%20Log.xes.gz',\n",
    "    'helpdesk.csv'\n",
    "]\n",
    "ADDITIONAL_LOGS = [\n",
    "    'RTFMP_filtered.xes'\n",
    "]\n",
    "BASE_LOGS = [\n",
    "    'Road_Traffic_Fine_Management_Process.xes.gz', \n",
    "    'helpdesk.csv'\n",
    "]\n",
    "ADDITONAL_BASE_LOGS = [\n",
    "    'BPIC15_1.xes',\n",
    "    'RTFMP_filtered.xes'\n",
    "]\n",
    "\n",
    "ARCHITECTURES = ['rnn', 'GPT']"
   ]
  },
  {
   "cell_type": "markdown",
   "source": [
    "## Collection of the training statistics\n",
    "As the training of the models takes a long time, we have trained not all models at once. The training statistics are stored in the `training_figures.csv` files in the `results/rnn` and `results/GPT` folders. The following code collects the training statistics of the models that have been trained. "
   ],
   "metadata": {
    "collapsed": false
   },
   "id": "4a5807820c60262e"
  },
  {
   "cell_type": "code",
   "execution_count": 106,
   "outputs": [],
   "source": [
    "# All the timestamps of the training runs\n",
    "rnn_base_training_timestamps            = ['202312090718', '202312120826']\n",
    "gpt_base_training_timestamps            = ['202312131309', '202312121708']\n",
    "rnn_pre_trained_RTFMP_timestamps        = ['202312151300', '202312161146']\n",
    "rnn_pre_trained_helpdesk_timestamps     = ['202312161442']\n",
    "gpt_pre_trained_RTFMP_timestamps        = ['202312171427', '202312171342']\n",
    "gpt_pre_trained_helpdesk_timestamps     = ['202312181009', '202312182038']\n",
    "rnn_pre_trained_BPIC15_timestamps       = ['202401021416']\n",
    "rnn_pre_trained_RTFMP_filtered_timestamps = ['202401021913']\n",
    "gpt_pre_trained_BPIC15_timestamps       = ['202401021425']\n",
    "gpt_pre_trained_RTFMP_filtered_timestamps = ['202401021913']"
   ],
   "metadata": {
    "collapsed": false,
    "ExecuteTime": {
     "end_time": "2024-01-03T15:10:44.277433400Z",
     "start_time": "2024-01-03T15:10:44.262429100Z"
    }
   },
   "id": "cef437efed16a842"
  },
  {
   "cell_type": "code",
   "execution_count": 107,
   "outputs": [],
   "source": [
    "# Next we define a function that returns the path to the training statistics file for a given model and log based on the timestamps.\n",
    "# The function raises an error if no file is found or multiple files are found.\n",
    "def get_training_stat_file(architecture, log, training_timestamps):\n",
    "    files = []\n",
    "    for training_timestamp in training_timestamps:\n",
    "        files += glob.glob(f'{RESULTS_DIR}/{architecture}/*/*training_figures_{training_timestamp}.csv')\n",
    "        \n",
    "    matching_files = [f for f in files if log in f]\n",
    "    \n",
    "    if len(matching_files) == 0:\n",
    "        raise ValueError(f'No training stat file found for {architecture} and {log} for timestamp {training_timestamp}')\n",
    "    elif len(matching_files) > 1:\n",
    "        raise ValueError(f'Multiple training stat files found for {architecture} and {log} for timestamp {training_timestamp}')\n",
    "    else:\n",
    "        return matching_files[0]"
   ],
   "metadata": {
    "collapsed": false,
    "ExecuteTime": {
     "end_time": "2024-01-03T15:10:44.292953100Z",
     "start_time": "2024-01-03T15:10:44.279436700Z"
    }
   },
   "id": "9ed3b57c49de0335"
  },
  {
   "cell_type": "code",
   "execution_count": 108,
   "outputs": [],
   "source": [
    "# Here we collect the training statistics files for all models and logs that have been trained and store them in a dictionary.\n",
    "training_stat_files = {}\n",
    "for log in ALL_LOGS:\n",
    "    training_stat_files[log] = {\n",
    "        'rnn': {},\n",
    "        'GPT': {}\n",
    "    }\n",
    "    training_stat_files[log]['rnn']['base'] = get_training_stat_file('rnn', log, rnn_base_training_timestamps)\n",
    "    training_stat_files[log]['GPT']['base'] = get_training_stat_file('GPT', log, gpt_base_training_timestamps)\n",
    "\n",
    "    if log == 'BPI%20Challenge%202017.xes.gz':\n",
    "        continue\n",
    "        \n",
    "    if log != 'Road_Traffic_Fine_Management_Process.xes.gz':\n",
    "        training_stat_files[log]['rnn']['RTFMP'] = get_training_stat_file('rnn', log, rnn_pre_trained_RTFMP_timestamps)\n",
    "        if log != 'BPI_Challenge_2012.xes.gz':\n",
    "            training_stat_files[log]['GPT']['RTFMP'] = get_training_stat_file('GPT', log, gpt_pre_trained_RTFMP_timestamps)\n",
    "        \n",
    "    if log != 'helpdesk.csv':\n",
    "        training_stat_files[log]['rnn']['helpdesk'] = get_training_stat_file('rnn', log, rnn_pre_trained_helpdesk_timestamps)\n",
    "        if log != 'BPI_Challenge_2012.xes.gz':\n",
    "            training_stat_files[log]['GPT']['helpdesk'] = get_training_stat_file('GPT', log, gpt_pre_trained_helpdesk_timestamps)\n",
    "            \n",
    "    if log != 'BPIC15_1.xes' and log != 'BPI_Challenge_2012.xes.gz':\n",
    "        training_stat_files[log]['rnn']['BPIC15'] = get_training_stat_file('rnn', log, rnn_pre_trained_BPIC15_timestamps)\n",
    "        training_stat_files[log]['GPT']['BPIC15'] = get_training_stat_file('GPT', log, gpt_pre_trained_BPIC15_timestamps)\n",
    "    \n",
    "    if log != 'RTFMP_filtered.xes' and log != 'BPI_Challenge_2012.xes.gz':\n",
    "        training_stat_files[log]['rnn']['RTFMP_filtered'] = get_training_stat_file('rnn', log, rnn_pre_trained_RTFMP_filtered_timestamps)\n",
    "        training_stat_files[log]['GPT']['RTFMP_filtered'] = get_training_stat_file('GPT', log, gpt_pre_trained_RTFMP_filtered_timestamps)\n",
    "\n",
    "log = ADDITIONAL_LOGS[0]\n",
    "training_stat_files[log] = {\n",
    "        'rnn': {\n",
    "            'base': get_training_stat_file('rnn', log, rnn_pre_trained_RTFMP_filtered_timestamps),\n",
    "        },\n",
    "        'GPT': {\n",
    "            'base': get_training_stat_file('GPT', log, gpt_pre_trained_RTFMP_filtered_timestamps)\n",
    "        }\n",
    "    }"
   ],
   "metadata": {
    "collapsed": false,
    "ExecuteTime": {
     "end_time": "2024-01-03T15:10:44.434021700Z",
     "start_time": "2024-01-03T15:10:44.296952600Z"
    }
   },
   "id": "20a8e0c69f1af991"
  },
  {
   "cell_type": "markdown",
   "source": [
    "## Extraction of the training results\n",
    "In the following we extract the training results from the training statistics files. The results are stored in a pandas DataFrame.\n",
    "The available information included in the training statistics files is:\n",
    "- `epoch`: The epoch number\n",
    "- `elapsed_seconds`: The time in seconds training took for this epoch\n",
    "- `training_loss_activity`: The training loss for the activity prediction\n",
    "- `training_loss_time`: The training loss for the time prediction\n",
    "- `training_loss`: The training loss for the combined activity and time prediction\n",
    "- `validation_loss_activity`: The validation loss for the activity prediction\n",
    "- `validation_loss_time`: The validation loss for the time prediction\n",
    "- `validation_loss`: The validation loss for the combined activity and time prediction\n",
    "\n",
    "We combine that information with the log, architecture and setting (base, RTFMP or helpdesk) and the freezed layers (only for the pre-trained models) in the DataFrame."
   ],
   "metadata": {
    "collapsed": false
   },
   "id": "d879d5c1a8fcf36f"
  },
  {
   "cell_type": "code",
   "execution_count": 109,
   "outputs": [],
   "source": [
    "# First we define a function that extracts the training results from a training statistics file\n",
    "from pandas.errors import ParserWarning\n",
    "\n",
    "\n",
    "# Extract interesting information from training stat files\n",
    "def extract_training_results(training_stats_file, pre_trained, additional_experiment):\n",
    "    # The files contain columns that do not have a header. This leads to a warning when loading the file.\n",
    "    # We ignore this warning.\n",
    "    with warnings.catch_warnings():\n",
    "        warnings.simplefilter(action='ignore', category=ParserWarning)\n",
    "            \n",
    "        if pre_trained:\n",
    "            # Load file an determine the line numbers of the header for each layer freezing combination\n",
    "            with open(training_stats_file, 'r') as f:\n",
    "                lines = f.readlines()\n",
    "                header_line_numbers = []\n",
    "                for i, line in enumerate(lines):\n",
    "                    if 'epoch' in line:\n",
    "                        header_line_numbers.append(i)\n",
    "            if len(header_line_numbers) != 7 and not additional_experiment:\n",
    "                logging.warning(f'{training_stats_file} may be incomplete!')\n",
    "            elif len(header_line_numbers) != 2 and additional_experiment:\n",
    "                logging.warning(f'{training_stats_file} may be incomplete!')\n",
    "            results = {}\n",
    "            # For each layer freezing combination, load the corresponding part of the file\n",
    "            for i, header_line_number in enumerate(header_line_numbers):\n",
    "                if i == len(header_line_numbers) - 1:\n",
    "                    df = pd.read_csv(training_stats_file, skiprows=header_line_number, index_col=False)\n",
    "                else:\n",
    "                    df = pd.read_csv(training_stats_file, skiprows=header_line_number, nrows=header_line_numbers[i+1] - header_line_number - 1, index_col=False)\n",
    "                \n",
    "                results[i] = df\n",
    "        \n",
    "        else:\n",
    "            df = pd.read_csv(training_stats_file, index_col=False)\n",
    "            results = df\n",
    "        \n",
    "    return results"
   ],
   "metadata": {
    "collapsed": false,
    "ExecuteTime": {
     "end_time": "2024-01-03T15:10:44.450023Z",
     "start_time": "2024-01-03T15:10:44.438025400Z"
    }
   },
   "id": "a273f59e0daffb95"
  },
  {
   "cell_type": "code",
   "execution_count": 110,
   "outputs": [
    {
     "name": "stderr",
     "output_type": "stream",
     "text": [
      "WARNING:root:C:\\Users\\Hannes\\PycharmProjects\\Transfer-Learning-for-Predictive-Process-Monitoring\\results/GPT\\BPI_Challenge_2013_incidents.xes.gz\\training_figures_202312182038.csv may be incomplete!\n"
     ]
    }
   ],
   "source": [
    "# Iterate over all logs and extract training results\n",
    "training_result_dfs = []\n",
    "for log in ALL_LOGS:\n",
    "    for architecture in ARCHITECTURES:\n",
    "        for setting in training_stat_files[log][architecture].keys():\n",
    "                pre_trained = setting != 'base'\n",
    "                additional_experiment = setting in ['BPIC15', 'RTFMP_filtered']\n",
    "                extracted = extract_training_results(training_stat_files[log][architecture][setting], pre_trained, additional_experiment)\n",
    "                \n",
    "                if pre_trained:\n",
    "                    for i, results in extracted.items():\n",
    "                        results['log'] = log\n",
    "                        results['architecture'] = architecture\n",
    "                        results['setting'] = setting\n",
    "                        if setting in ['RTFMP', 'helpdesk']:\n",
    "                            results['freezed_layers'] = str(LAYER_FREEZING_COMBINATIONS[i])\n",
    "                        elif setting in ['BPIC15', 'RTFMP_filtered']:\n",
    "                            results['freezed_layers'] = str(ADDITIONAL_LAYER_FREEZING_COMBINATIONS[i])\n",
    "                        else:\n",
    "                            raise ValueError(f'Unknown setting {setting}')\n",
    "                        \n",
    "                        training_result_dfs.append(results)\n",
    "                else:\n",
    "                    extracted['log'] = log\n",
    "                    extracted['architecture'] = architecture\n",
    "                    extracted['setting'] = setting\n",
    "                    \n",
    "                    training_result_dfs.append(extracted)"
   ],
   "metadata": {
    "collapsed": false,
    "ExecuteTime": {
     "end_time": "2024-01-03T15:10:44.959381600Z",
     "start_time": "2024-01-03T15:10:44.453023200Z"
    }
   },
   "id": "4438a75adaa638cd"
  },
  {
   "cell_type": "code",
   "execution_count": 111,
   "outputs": [
    {
     "data": {
      "text/plain": "           datetime  epoch  training_loss_activity  training_loss_time  \\\n0      202312090718      0                  1.9248              0.0013   \n1      202312090718      1                  1.8428              0.0014   \n2      202312090718      2                  1.6531              0.0018   \n3      202312090718      3                  1.5426              0.0020   \n4      202312090718      4                  1.5979              0.0016   \n...             ...    ...                     ...                 ...   \n49302  202401021913    195                  0.6095              0.0041   \n49303  202401021913    196                  0.6104              0.0041   \n49304  202401021913    197                  0.5969              0.0041   \n49305  202401021913    198                  0.6038              0.0041   \n49306  202401021913    199                  0.6076              0.0040   \n\n       training_loss  validation_loss_activity  validation_loss_time  \\\n0             1.9260                    1.8914                0.0011   \n1             1.8442                    1.7063                0.0020   \n2             1.6549                    1.5158                0.0012   \n3             1.5446                    1.4599                0.0012   \n4             1.5995                    1.4324                0.0010   \n...              ...                       ...                   ...   \n49302         0.6136                    0.1548                0.0030   \n49303         0.6145                    0.1547                0.0030   \n49304         0.6010                    0.1545                0.0030   \n49305         0.6078                    0.1543                0.0030   \n49306         0.6116                    0.1544                0.0030   \n\n       validation_loss  elapsed_seconds  \\\n0               1.8925            0.565   \n1               1.7083            0.212   \n2               1.5170            0.208   \n3               1.4611            0.205   \n4               1.4335            0.210   \n...                ...              ...   \n49302           0.1578            0.134   \n49303           0.1577            0.134   \n49304           0.1575            0.134   \n49305           0.1573            0.134   \n49306           0.1574            0.134   \n\n                                             log architecture         setting  \\\n0      BPI_Challenge_2013_closed_problems.xes.gz          rnn            base   \n1      BPI_Challenge_2013_closed_problems.xes.gz          rnn            base   \n2      BPI_Challenge_2013_closed_problems.xes.gz          rnn            base   \n3      BPI_Challenge_2013_closed_problems.xes.gz          rnn            base   \n4      BPI_Challenge_2013_closed_problems.xes.gz          rnn            base   \n...                                          ...          ...             ...   \n49302                               helpdesk.csv          GPT  RTFMP_filtered   \n49303                               helpdesk.csv          GPT  RTFMP_filtered   \n49304                               helpdesk.csv          GPT  RTFMP_filtered   \n49305                               helpdesk.csv          GPT  RTFMP_filtered   \n49306                               helpdesk.csv          GPT  RTFMP_filtered   \n\n      freezed_layers  \n0                NaN  \n1                NaN  \n2                NaN  \n3                NaN  \n4                NaN  \n...              ...  \n49302          ['0']  \n49303          ['0']  \n49304          ['0']  \n49305          ['0']  \n49306          ['0']  \n\n[49307 rows x 13 columns]",
      "text/html": "<div>\n<style scoped>\n    .dataframe tbody tr th:only-of-type {\n        vertical-align: middle;\n    }\n\n    .dataframe tbody tr th {\n        vertical-align: top;\n    }\n\n    .dataframe thead th {\n        text-align: right;\n    }\n</style>\n<table border=\"1\" class=\"dataframe\">\n  <thead>\n    <tr style=\"text-align: right;\">\n      <th></th>\n      <th>datetime</th>\n      <th>epoch</th>\n      <th>training_loss_activity</th>\n      <th>training_loss_time</th>\n      <th>training_loss</th>\n      <th>validation_loss_activity</th>\n      <th>validation_loss_time</th>\n      <th>validation_loss</th>\n      <th>elapsed_seconds</th>\n      <th>log</th>\n      <th>architecture</th>\n      <th>setting</th>\n      <th>freezed_layers</th>\n    </tr>\n  </thead>\n  <tbody>\n    <tr>\n      <th>0</th>\n      <td>202312090718</td>\n      <td>0</td>\n      <td>1.9248</td>\n      <td>0.0013</td>\n      <td>1.9260</td>\n      <td>1.8914</td>\n      <td>0.0011</td>\n      <td>1.8925</td>\n      <td>0.565</td>\n      <td>BPI_Challenge_2013_closed_problems.xes.gz</td>\n      <td>rnn</td>\n      <td>base</td>\n      <td>NaN</td>\n    </tr>\n    <tr>\n      <th>1</th>\n      <td>202312090718</td>\n      <td>1</td>\n      <td>1.8428</td>\n      <td>0.0014</td>\n      <td>1.8442</td>\n      <td>1.7063</td>\n      <td>0.0020</td>\n      <td>1.7083</td>\n      <td>0.212</td>\n      <td>BPI_Challenge_2013_closed_problems.xes.gz</td>\n      <td>rnn</td>\n      <td>base</td>\n      <td>NaN</td>\n    </tr>\n    <tr>\n      <th>2</th>\n      <td>202312090718</td>\n      <td>2</td>\n      <td>1.6531</td>\n      <td>0.0018</td>\n      <td>1.6549</td>\n      <td>1.5158</td>\n      <td>0.0012</td>\n      <td>1.5170</td>\n      <td>0.208</td>\n      <td>BPI_Challenge_2013_closed_problems.xes.gz</td>\n      <td>rnn</td>\n      <td>base</td>\n      <td>NaN</td>\n    </tr>\n    <tr>\n      <th>3</th>\n      <td>202312090718</td>\n      <td>3</td>\n      <td>1.5426</td>\n      <td>0.0020</td>\n      <td>1.5446</td>\n      <td>1.4599</td>\n      <td>0.0012</td>\n      <td>1.4611</td>\n      <td>0.205</td>\n      <td>BPI_Challenge_2013_closed_problems.xes.gz</td>\n      <td>rnn</td>\n      <td>base</td>\n      <td>NaN</td>\n    </tr>\n    <tr>\n      <th>4</th>\n      <td>202312090718</td>\n      <td>4</td>\n      <td>1.5979</td>\n      <td>0.0016</td>\n      <td>1.5995</td>\n      <td>1.4324</td>\n      <td>0.0010</td>\n      <td>1.4335</td>\n      <td>0.210</td>\n      <td>BPI_Challenge_2013_closed_problems.xes.gz</td>\n      <td>rnn</td>\n      <td>base</td>\n      <td>NaN</td>\n    </tr>\n    <tr>\n      <th>...</th>\n      <td>...</td>\n      <td>...</td>\n      <td>...</td>\n      <td>...</td>\n      <td>...</td>\n      <td>...</td>\n      <td>...</td>\n      <td>...</td>\n      <td>...</td>\n      <td>...</td>\n      <td>...</td>\n      <td>...</td>\n      <td>...</td>\n    </tr>\n    <tr>\n      <th>49302</th>\n      <td>202401021913</td>\n      <td>195</td>\n      <td>0.6095</td>\n      <td>0.0041</td>\n      <td>0.6136</td>\n      <td>0.1548</td>\n      <td>0.0030</td>\n      <td>0.1578</td>\n      <td>0.134</td>\n      <td>helpdesk.csv</td>\n      <td>GPT</td>\n      <td>RTFMP_filtered</td>\n      <td>['0']</td>\n    </tr>\n    <tr>\n      <th>49303</th>\n      <td>202401021913</td>\n      <td>196</td>\n      <td>0.6104</td>\n      <td>0.0041</td>\n      <td>0.6145</td>\n      <td>0.1547</td>\n      <td>0.0030</td>\n      <td>0.1577</td>\n      <td>0.134</td>\n      <td>helpdesk.csv</td>\n      <td>GPT</td>\n      <td>RTFMP_filtered</td>\n      <td>['0']</td>\n    </tr>\n    <tr>\n      <th>49304</th>\n      <td>202401021913</td>\n      <td>197</td>\n      <td>0.5969</td>\n      <td>0.0041</td>\n      <td>0.6010</td>\n      <td>0.1545</td>\n      <td>0.0030</td>\n      <td>0.1575</td>\n      <td>0.134</td>\n      <td>helpdesk.csv</td>\n      <td>GPT</td>\n      <td>RTFMP_filtered</td>\n      <td>['0']</td>\n    </tr>\n    <tr>\n      <th>49305</th>\n      <td>202401021913</td>\n      <td>198</td>\n      <td>0.6038</td>\n      <td>0.0041</td>\n      <td>0.6078</td>\n      <td>0.1543</td>\n      <td>0.0030</td>\n      <td>0.1573</td>\n      <td>0.134</td>\n      <td>helpdesk.csv</td>\n      <td>GPT</td>\n      <td>RTFMP_filtered</td>\n      <td>['0']</td>\n    </tr>\n    <tr>\n      <th>49306</th>\n      <td>202401021913</td>\n      <td>199</td>\n      <td>0.6076</td>\n      <td>0.0040</td>\n      <td>0.6116</td>\n      <td>0.1544</td>\n      <td>0.0030</td>\n      <td>0.1574</td>\n      <td>0.134</td>\n      <td>helpdesk.csv</td>\n      <td>GPT</td>\n      <td>RTFMP_filtered</td>\n      <td>['0']</td>\n    </tr>\n  </tbody>\n</table>\n<p>49307 rows × 13 columns</p>\n</div>"
     },
     "execution_count": 111,
     "metadata": {},
     "output_type": "execute_result"
    }
   ],
   "source": [
    "training_results_df = pd.concat(training_result_dfs, ignore_index=True)\n",
    "training_results_df.to_csv('all_training_results.csv')\n",
    "training_results_df"
   ],
   "metadata": {
    "collapsed": false,
    "ExecuteTime": {
     "end_time": "2024-01-03T15:10:45.208937300Z",
     "start_time": "2024-01-03T15:10:44.960277500Z"
    }
   },
   "id": "3ecb863642572c34"
  },
  {
   "cell_type": "markdown",
   "source": [
    "## Collection of the evaluation results\n",
    "The evaluation script generates the predictions for the test set and stores the the predictions and the scores in the `results/ARCHITECTURE/Predictions` folder. The following code collects the scores for all models and logs that have been trained and store them in a dataframe called `evaluation_results_df`."
   ],
   "metadata": {
    "collapsed": false
   },
   "id": "c4ebb48fea309f2d"
  },
  {
   "cell_type": "code",
   "outputs": [
    {
     "data": {
      "text/plain": "254"
     },
     "execution_count": 112,
     "metadata": {},
     "output_type": "execute_result"
    }
   ],
   "source": [
    "# First, we collect all score files\n",
    "score_files = glob.glob(f'{RESULTS_DIR}/rnn/Predictions/*/suffix_evaluation_result_dls_mae_*.json')\n",
    "# The GPT models predictions output is stored differently\n",
    "score_files += glob.glob(f'{RESULTS_DIR}/GPT/Predictions/*/suffix_generation_result_*.json')\n",
    "len(score_files)"
   ],
   "metadata": {
    "collapsed": false,
    "ExecuteTime": {
     "end_time": "2024-01-03T15:10:45.239937200Z",
     "start_time": "2024-01-03T15:10:45.209935100Z"
    }
   },
   "id": "56aa2e616edc375",
   "execution_count": 112
  },
  {
   "cell_type": "code",
   "outputs": [
    {
     "name": "stdout",
     "output_type": "stream",
     "text": [
      "C:\\Users\\Hannes\\PycharmProjects\\Transfer-Learning-for-Predictive-Process-Monitoring\\results/rnn/Predictions\\BPI%20Challenge%202017.xes.gz\\suffix_evaluation_result_dls_mae_Road_Traffic_Fine_Management_Process.xes.gz_BPI%20Challenge%202017.xes.gz[1].json\n"
     ]
    },
    {
     "data": {
      "text/plain": "('rnn',\n 'BPI%20Challenge%202017.xes.gz',\n 'Road_Traffic_Fine_Management_Process.xes.gz',\n '1')"
     },
     "execution_count": 113,
     "metadata": {},
     "output_type": "execute_result"
    }
   ],
   "source": [
    "# Next, we define a function that extracts the architecture, log and setting from a score file path\n",
    "def get_architecture_log_setting(score_file):\n",
    "    path = os.path.normpath(score_file)\n",
    "    parts = path.split(os.sep)\n",
    "    architecture = parts[-4]\n",
    "    log = parts[-2]\n",
    "    \n",
    "    regex = r\"suffix_(evaluation|generation)_result_(dls_mae_)?(.*\\.[a-zA-Z]+)_(.*\\.[a-zA-Z]+)\\[([\\d\\w])\\]\\.json\"\n",
    "    matches = re.search(regex, parts[-1])\n",
    "    if matches is None:\n",
    "        raise ValueError(f'Could not parse {score_file}')\n",
    "    setting = matches.group(3)\n",
    "    layer_index = matches.group(5)\n",
    "    \n",
    "    return architecture, log, setting, layer_index\n",
    "\n",
    "print(score_files[1])\n",
    "get_architecture_log_setting(score_files[1])"
   ],
   "metadata": {
    "collapsed": false,
    "ExecuteTime": {
     "end_time": "2024-01-03T15:10:45.269938900Z",
     "start_time": "2024-01-03T15:10:45.226937900Z"
    }
   },
   "id": "ef06f6237e850dba",
   "execution_count": 113
  },
  {
   "cell_type": "code",
   "outputs": [],
   "source": [
    "evaluation_results = []\n",
    "for score_file in score_files:\n",
    "    architecture, log, setting, layer_index = get_architecture_log_setting(score_file)\n",
    "    \n",
    "    # Load the score file\n",
    "    with open(score_file, 'r') as f:\n",
    "        score = json.load(f)\n",
    "    score = score[architecture][setting]\n",
    "    \n",
    "    # Extract the used layer freezing combination\n",
    "    if not layer_index.isnumeric():\n",
    "        layer_index = None\n",
    "    else:\n",
    "        layer_index = int(layer_index) - 1\n",
    "        \n",
    "    if setting == log:\n",
    "        freezed_layers = None\n",
    "    elif setting in BASE_LOGS:\n",
    "        freezed_layers = str(LAYER_FREEZING_COMBINATIONS[layer_index])\n",
    "    elif setting in ADDITONAL_BASE_LOGS:\n",
    "        freezed_layers = str(ADDITIONAL_LAYER_FREEZING_COMBINATIONS[layer_index])\n",
    "    else:\n",
    "        raise ValueError(f'Unknown setting {setting}')\n",
    "    \n",
    "    # We convert the setting to the same format as in the training results\n",
    "    if setting == log:\n",
    "        setting = 'base'\n",
    "    elif setting == BASE_LOGS[0]:\n",
    "        setting = 'RTFMP'\n",
    "    elif setting == BASE_LOGS[1]:\n",
    "        setting = 'helpdesk'\n",
    "    elif setting == ADDITONAL_BASE_LOGS[0]:\n",
    "        setting = 'BPIC15'    \n",
    "    elif setting == ADDITONAL_BASE_LOGS[1]:\n",
    "        setting = 'RTFMP_filtered'\n",
    "    else:\n",
    "      raise ValueError(f'Unknown setting {setting}')  \n",
    "    \n",
    "    evaluation_results.append({\n",
    "        'architecture': architecture,\n",
    "        'log': log,\n",
    "        'setting': setting,\n",
    "        'freezed_layers': freezed_layers,\n",
    "        'dls': score['dls'],\n",
    "        'mae': score['mae'],\n",
    "        'mae_denormalised': score['mae_denormalised'],\n",
    "        'nb_worst_situs': score['nb_worst_situs'],\n",
    "    })\n",
    "evaluation_results_df = pd.DataFrame(evaluation_results)"
   ],
   "metadata": {
    "collapsed": false,
    "ExecuteTime": {
     "end_time": "2024-01-03T15:10:48.744831500Z",
     "start_time": "2024-01-03T15:10:45.244934700Z"
    }
   },
   "id": "94478ae8da7216c7",
   "execution_count": 114
  },
  {
   "cell_type": "code",
   "outputs": [
    {
     "data": {
      "text/plain": "    architecture                                      log         setting  \\\n0            rnn            BPI%20Challenge%202017.xes.gz            base   \n1            rnn            BPI%20Challenge%202017.xes.gz           RTFMP   \n2            rnn                             BPIC15_1.xes            base   \n3            rnn                             BPIC15_1.xes        helpdesk   \n4            rnn                             BPIC15_1.xes        helpdesk   \n..           ...                                      ...             ...   \n249          GPT  Sepsis%20Cases%20-%20Event%20Log.xes.gz           RTFMP   \n250          GPT  Sepsis%20Cases%20-%20Event%20Log.xes.gz           RTFMP   \n251          GPT  Sepsis%20Cases%20-%20Event%20Log.xes.gz  RTFMP_filtered   \n252          GPT  Sepsis%20Cases%20-%20Event%20Log.xes.gz  RTFMP_filtered   \n253          GPT  Sepsis%20Cases%20-%20Event%20Log.xes.gz            base   \n\n           freezed_layers     dls     mae mae_denormalised  nb_worst_situs  \n0                    None  0.0691  0.7416         100.9505          223449  \n1    ['0', '1', '2', '3']  0.0372  5.1177         696.6516          227572  \n2                    None  0.0264  2.6185        2549.0971            9359  \n3    ['0', '1', '2', '3']  0.0226  2.4174        2353.3574            9307  \n4         ['0', '1', '2']  0.0323  1.8449        1795.9604            9226  \n..                    ...     ...     ...              ...             ...  \n249            ['0', '1']  0.0307  3.0372        1267.3097            2817  \n250                 ['0']  0.0307  1.5063         628.5306            2817  \n251       ['0', '1', '2']  0.0722  3.8692        1614.4840            2901  \n252                 ['0']  0.1253  0.1785          74.4924            2686  \n253                  None  0.0879  0.8125         339.0417            2600  \n\n[254 rows x 8 columns]",
      "text/html": "<div>\n<style scoped>\n    .dataframe tbody tr th:only-of-type {\n        vertical-align: middle;\n    }\n\n    .dataframe tbody tr th {\n        vertical-align: top;\n    }\n\n    .dataframe thead th {\n        text-align: right;\n    }\n</style>\n<table border=\"1\" class=\"dataframe\">\n  <thead>\n    <tr style=\"text-align: right;\">\n      <th></th>\n      <th>architecture</th>\n      <th>log</th>\n      <th>setting</th>\n      <th>freezed_layers</th>\n      <th>dls</th>\n      <th>mae</th>\n      <th>mae_denormalised</th>\n      <th>nb_worst_situs</th>\n    </tr>\n  </thead>\n  <tbody>\n    <tr>\n      <th>0</th>\n      <td>rnn</td>\n      <td>BPI%20Challenge%202017.xes.gz</td>\n      <td>base</td>\n      <td>None</td>\n      <td>0.0691</td>\n      <td>0.7416</td>\n      <td>100.9505</td>\n      <td>223449</td>\n    </tr>\n    <tr>\n      <th>1</th>\n      <td>rnn</td>\n      <td>BPI%20Challenge%202017.xes.gz</td>\n      <td>RTFMP</td>\n      <td>['0', '1', '2', '3']</td>\n      <td>0.0372</td>\n      <td>5.1177</td>\n      <td>696.6516</td>\n      <td>227572</td>\n    </tr>\n    <tr>\n      <th>2</th>\n      <td>rnn</td>\n      <td>BPIC15_1.xes</td>\n      <td>base</td>\n      <td>None</td>\n      <td>0.0264</td>\n      <td>2.6185</td>\n      <td>2549.0971</td>\n      <td>9359</td>\n    </tr>\n    <tr>\n      <th>3</th>\n      <td>rnn</td>\n      <td>BPIC15_1.xes</td>\n      <td>helpdesk</td>\n      <td>['0', '1', '2', '3']</td>\n      <td>0.0226</td>\n      <td>2.4174</td>\n      <td>2353.3574</td>\n      <td>9307</td>\n    </tr>\n    <tr>\n      <th>4</th>\n      <td>rnn</td>\n      <td>BPIC15_1.xes</td>\n      <td>helpdesk</td>\n      <td>['0', '1', '2']</td>\n      <td>0.0323</td>\n      <td>1.8449</td>\n      <td>1795.9604</td>\n      <td>9226</td>\n    </tr>\n    <tr>\n      <th>...</th>\n      <td>...</td>\n      <td>...</td>\n      <td>...</td>\n      <td>...</td>\n      <td>...</td>\n      <td>...</td>\n      <td>...</td>\n      <td>...</td>\n    </tr>\n    <tr>\n      <th>249</th>\n      <td>GPT</td>\n      <td>Sepsis%20Cases%20-%20Event%20Log.xes.gz</td>\n      <td>RTFMP</td>\n      <td>['0', '1']</td>\n      <td>0.0307</td>\n      <td>3.0372</td>\n      <td>1267.3097</td>\n      <td>2817</td>\n    </tr>\n    <tr>\n      <th>250</th>\n      <td>GPT</td>\n      <td>Sepsis%20Cases%20-%20Event%20Log.xes.gz</td>\n      <td>RTFMP</td>\n      <td>['0']</td>\n      <td>0.0307</td>\n      <td>1.5063</td>\n      <td>628.5306</td>\n      <td>2817</td>\n    </tr>\n    <tr>\n      <th>251</th>\n      <td>GPT</td>\n      <td>Sepsis%20Cases%20-%20Event%20Log.xes.gz</td>\n      <td>RTFMP_filtered</td>\n      <td>['0', '1', '2']</td>\n      <td>0.0722</td>\n      <td>3.8692</td>\n      <td>1614.4840</td>\n      <td>2901</td>\n    </tr>\n    <tr>\n      <th>252</th>\n      <td>GPT</td>\n      <td>Sepsis%20Cases%20-%20Event%20Log.xes.gz</td>\n      <td>RTFMP_filtered</td>\n      <td>['0']</td>\n      <td>0.1253</td>\n      <td>0.1785</td>\n      <td>74.4924</td>\n      <td>2686</td>\n    </tr>\n    <tr>\n      <th>253</th>\n      <td>GPT</td>\n      <td>Sepsis%20Cases%20-%20Event%20Log.xes.gz</td>\n      <td>base</td>\n      <td>None</td>\n      <td>0.0879</td>\n      <td>0.8125</td>\n      <td>339.0417</td>\n      <td>2600</td>\n    </tr>\n  </tbody>\n</table>\n<p>254 rows × 8 columns</p>\n</div>"
     },
     "execution_count": 115,
     "metadata": {},
     "output_type": "execute_result"
    }
   ],
   "source": [
    "evaluation_results_df.to_csv('all_evaluation_results.csv', index=False)\n",
    "evaluation_results_df"
   ],
   "metadata": {
    "collapsed": false,
    "ExecuteTime": {
     "end_time": "2024-01-03T15:10:48.760594400Z",
     "start_time": "2024-01-03T15:10:48.746831800Z"
    }
   },
   "id": "c9c051b26a876c51",
   "execution_count": 115
  },
  {
   "cell_type": "code",
   "outputs": [],
   "source": [],
   "metadata": {
    "collapsed": false,
    "ExecuteTime": {
     "end_time": "2024-01-03T15:10:48.779600300Z",
     "start_time": "2024-01-03T15:10:48.761594900Z"
    }
   },
   "id": "f621819132b1670c",
   "execution_count": 115
  }
 ],
 "metadata": {
  "kernelspec": {
   "display_name": "Python 3",
   "language": "python",
   "name": "python3"
  },
  "language_info": {
   "codemirror_mode": {
    "name": "ipython",
    "version": 2
   },
   "file_extension": ".py",
   "mimetype": "text/x-python",
   "name": "python",
   "nbconvert_exporter": "python",
   "pygments_lexer": "ipython2",
   "version": "2.7.6"
  }
 },
 "nbformat": 4,
 "nbformat_minor": 5
}
