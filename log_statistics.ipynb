{
 "cells": [
  {
   "cell_type": "code",
   "execution_count": 17,
   "id": "initial_id",
   "metadata": {
    "collapsed": true,
    "ExecuteTime": {
     "end_time": "2023-12-18T16:28:32.325139100Z",
     "start_time": "2023-12-18T16:28:32.248294900Z"
    }
   },
   "outputs": [],
   "source": [
    "import os\n",
    "\n",
    "import pandas as pd\n",
    "import pm4py\n",
    "\n",
    "from definitions import LOGS_DIR, ROOT_DIR\n",
    "\n",
    "mapping = {\n",
    "    'BPI_Challenge_2013_closed_problems.xes.gz': 'BPIC 2013 closed problems',\n",
    "    'BPI_Challenge_2012.xes.gz': 'BPIC 2012',\n",
    "    'BPI_Challenge_2013_incidents.xes.gz': 'BPIC 2013 incidents',\n",
    "    'BPI_Challenge_2013_open_problems.xes.gz': 'BPIC 2013 open problems',\n",
    "    'BPI%20Challenge%202017.xes.gz': 'BPIC 2017',\n",
    "    'BPIC15_1.xes': 'BPIC 2015',\n",
    "    'Road_Traffic_Fine_Management_Process.xes.gz': 'RTFMP',\n",
    "    'Sepsis%20Cases%20-%20Event%20Log.xes.gz': 'Sepsis',\n",
    "    'helpdesk.csv': 'Helpdesk'\n",
    "}"
   ]
  },
  {
   "cell_type": "code",
   "execution_count": 28,
   "outputs": [],
   "source": [
    "df = pd.read_csv('log_stats.csv')\n",
    "df = df.drop(columns=['avg_event_per_trace'])\n",
    "df['num_events_copy'] = df['num_traces'] * df['avg_trace_length']\n",
    "df['amount_of_padding'] = df['num_events'] - df['num_events_copy']\n",
    "df['relative_padding'] = df['amount_of_padding'] / df['num_events']\n",
    "df['file_name'] = df['file_name'].map(mapping)"
   ],
   "metadata": {
    "collapsed": false,
    "ExecuteTime": {
     "end_time": "2023-12-18T16:30:17.332195300Z",
     "start_time": "2023-12-18T16:30:17.299177500Z"
    }
   },
   "id": "12b49575fb10345a"
  },
  {
   "cell_type": "code",
   "execution_count": 29,
   "outputs": [
    {
     "data": {
      "text/plain": "                                      file_name  vocab_size  num_traces  \\\n0                     BPI Challenge 2018.xes.gz          42       43809   \n1                 BPI%20Challenge%202017.xes.gz          27       31509   \n2                                  BPIC15_1.xes         399        1199   \n3                     BPI_Challenge_2012.xes.gz          25       13087   \n4     BPI_Challenge_2013_closed_problems.xes.gz           5        1487   \n5           BPI_Challenge_2013_incidents.xes.gz           5        7554   \n6       BPI_Challenge_2013_open_problems.xes.gz           4         819   \n7                        BPI_Challenge_2019.xes          43      251734   \n8                         CoSeLoG WABO 3.xes.gz         370        1087   \n9           Hospital Billing - Event Log.xes.gz          19      100000   \n10                          Hospital_log.xes.gz         625        1143   \n11  Road_Traffic_Fine_Management_Process.xes.gz          12      150370   \n12      Sepsis%20Cases%20-%20Event%20Log.xes.gz          17        1050   \n13                                 helpdesk.csv          10        3804   \n\n    num_events  max_trace_length  min_trace_length  avg_trace_length  \\\n0    130244157              2973                24         57.391541   \n1      5671620               180                10         38.156305   \n2       121099               101                 2         43.550459   \n3      2290225               175                 3         20.035149   \n4        52045                35                 1          4.478816   \n5       929142               123                 1          8.675271   \n6        18018                22                 1          2.870574   \n7    249216660               990                 1          6.339720   \n8       134788               124                 3         41.215271   \n9     21700000               217                 1          4.513590   \n10     2073402              1814                 1        131.488189   \n11     3007400                20                 2          3.733923   \n12      194250               185                 3         14.489524   \n13       53256                14                 1          3.604101   \n\n    num_events_copy  amount_of_padding  relative_padding  \\\n0         2514266.0        127729891.0          0.980696   \n1         1202267.0          4469353.0          0.788021   \n2           52217.0            68882.0          0.568807   \n3          262200.0          2028025.0          0.885513   \n4            6660.0            45385.0          0.872034   \n5           65533.0           863609.0          0.929469   \n6            2351.0            15667.0          0.869519   \n7         1595923.0        247620737.0          0.993596   \n8           44801.0            89987.0          0.667619   \n9          451359.0         21248641.0          0.979200   \n10         150291.0          1923111.0          0.927515   \n11         561470.0          2445930.0          0.813304   \n12          15214.0           179036.0          0.921678   \n13          13710.0            39546.0          0.742564   \n\n                          log  \n0                         NaN  \n1                   BPIC 2017  \n2                   BPIC 2015  \n3                   BPIC 2012  \n4   BPIC 2013 closed problems  \n5         BPIC 2013 incidents  \n6     BPIC 2013 open problems  \n7                         NaN  \n8                         NaN  \n9                         NaN  \n10                        NaN  \n11                      RTFMP  \n12                     Sepsis  \n13                   Helpdesk  ",
      "text/html": "<div>\n<style scoped>\n    .dataframe tbody tr th:only-of-type {\n        vertical-align: middle;\n    }\n\n    .dataframe tbody tr th {\n        vertical-align: top;\n    }\n\n    .dataframe thead th {\n        text-align: right;\n    }\n</style>\n<table border=\"1\" class=\"dataframe\">\n  <thead>\n    <tr style=\"text-align: right;\">\n      <th></th>\n      <th>file_name</th>\n      <th>vocab_size</th>\n      <th>num_traces</th>\n      <th>num_events</th>\n      <th>max_trace_length</th>\n      <th>min_trace_length</th>\n      <th>avg_trace_length</th>\n      <th>num_events_copy</th>\n      <th>amount_of_padding</th>\n      <th>relative_padding</th>\n      <th>log</th>\n    </tr>\n  </thead>\n  <tbody>\n    <tr>\n      <th>0</th>\n      <td>BPI Challenge 2018.xes.gz</td>\n      <td>42</td>\n      <td>43809</td>\n      <td>130244157</td>\n      <td>2973</td>\n      <td>24</td>\n      <td>57.391541</td>\n      <td>2514266.0</td>\n      <td>127729891.0</td>\n      <td>0.980696</td>\n      <td>NaN</td>\n    </tr>\n    <tr>\n      <th>1</th>\n      <td>BPI%20Challenge%202017.xes.gz</td>\n      <td>27</td>\n      <td>31509</td>\n      <td>5671620</td>\n      <td>180</td>\n      <td>10</td>\n      <td>38.156305</td>\n      <td>1202267.0</td>\n      <td>4469353.0</td>\n      <td>0.788021</td>\n      <td>BPIC 2017</td>\n    </tr>\n    <tr>\n      <th>2</th>\n      <td>BPIC15_1.xes</td>\n      <td>399</td>\n      <td>1199</td>\n      <td>121099</td>\n      <td>101</td>\n      <td>2</td>\n      <td>43.550459</td>\n      <td>52217.0</td>\n      <td>68882.0</td>\n      <td>0.568807</td>\n      <td>BPIC 2015</td>\n    </tr>\n    <tr>\n      <th>3</th>\n      <td>BPI_Challenge_2012.xes.gz</td>\n      <td>25</td>\n      <td>13087</td>\n      <td>2290225</td>\n      <td>175</td>\n      <td>3</td>\n      <td>20.035149</td>\n      <td>262200.0</td>\n      <td>2028025.0</td>\n      <td>0.885513</td>\n      <td>BPIC 2012</td>\n    </tr>\n    <tr>\n      <th>4</th>\n      <td>BPI_Challenge_2013_closed_problems.xes.gz</td>\n      <td>5</td>\n      <td>1487</td>\n      <td>52045</td>\n      <td>35</td>\n      <td>1</td>\n      <td>4.478816</td>\n      <td>6660.0</td>\n      <td>45385.0</td>\n      <td>0.872034</td>\n      <td>BPIC 2013 closed problems</td>\n    </tr>\n    <tr>\n      <th>5</th>\n      <td>BPI_Challenge_2013_incidents.xes.gz</td>\n      <td>5</td>\n      <td>7554</td>\n      <td>929142</td>\n      <td>123</td>\n      <td>1</td>\n      <td>8.675271</td>\n      <td>65533.0</td>\n      <td>863609.0</td>\n      <td>0.929469</td>\n      <td>BPIC 2013 incidents</td>\n    </tr>\n    <tr>\n      <th>6</th>\n      <td>BPI_Challenge_2013_open_problems.xes.gz</td>\n      <td>4</td>\n      <td>819</td>\n      <td>18018</td>\n      <td>22</td>\n      <td>1</td>\n      <td>2.870574</td>\n      <td>2351.0</td>\n      <td>15667.0</td>\n      <td>0.869519</td>\n      <td>BPIC 2013 open problems</td>\n    </tr>\n    <tr>\n      <th>7</th>\n      <td>BPI_Challenge_2019.xes</td>\n      <td>43</td>\n      <td>251734</td>\n      <td>249216660</td>\n      <td>990</td>\n      <td>1</td>\n      <td>6.339720</td>\n      <td>1595923.0</td>\n      <td>247620737.0</td>\n      <td>0.993596</td>\n      <td>NaN</td>\n    </tr>\n    <tr>\n      <th>8</th>\n      <td>CoSeLoG WABO 3.xes.gz</td>\n      <td>370</td>\n      <td>1087</td>\n      <td>134788</td>\n      <td>124</td>\n      <td>3</td>\n      <td>41.215271</td>\n      <td>44801.0</td>\n      <td>89987.0</td>\n      <td>0.667619</td>\n      <td>NaN</td>\n    </tr>\n    <tr>\n      <th>9</th>\n      <td>Hospital Billing - Event Log.xes.gz</td>\n      <td>19</td>\n      <td>100000</td>\n      <td>21700000</td>\n      <td>217</td>\n      <td>1</td>\n      <td>4.513590</td>\n      <td>451359.0</td>\n      <td>21248641.0</td>\n      <td>0.979200</td>\n      <td>NaN</td>\n    </tr>\n    <tr>\n      <th>10</th>\n      <td>Hospital_log.xes.gz</td>\n      <td>625</td>\n      <td>1143</td>\n      <td>2073402</td>\n      <td>1814</td>\n      <td>1</td>\n      <td>131.488189</td>\n      <td>150291.0</td>\n      <td>1923111.0</td>\n      <td>0.927515</td>\n      <td>NaN</td>\n    </tr>\n    <tr>\n      <th>11</th>\n      <td>Road_Traffic_Fine_Management_Process.xes.gz</td>\n      <td>12</td>\n      <td>150370</td>\n      <td>3007400</td>\n      <td>20</td>\n      <td>2</td>\n      <td>3.733923</td>\n      <td>561470.0</td>\n      <td>2445930.0</td>\n      <td>0.813304</td>\n      <td>RTFMP</td>\n    </tr>\n    <tr>\n      <th>12</th>\n      <td>Sepsis%20Cases%20-%20Event%20Log.xes.gz</td>\n      <td>17</td>\n      <td>1050</td>\n      <td>194250</td>\n      <td>185</td>\n      <td>3</td>\n      <td>14.489524</td>\n      <td>15214.0</td>\n      <td>179036.0</td>\n      <td>0.921678</td>\n      <td>Sepsis</td>\n    </tr>\n    <tr>\n      <th>13</th>\n      <td>helpdesk.csv</td>\n      <td>10</td>\n      <td>3804</td>\n      <td>53256</td>\n      <td>14</td>\n      <td>1</td>\n      <td>3.604101</td>\n      <td>13710.0</td>\n      <td>39546.0</td>\n      <td>0.742564</td>\n      <td>Helpdesk</td>\n    </tr>\n  </tbody>\n</table>\n</div>"
     },
     "execution_count": 29,
     "metadata": {},
     "output_type": "execute_result"
    }
   ],
   "source": [
    "df"
   ],
   "metadata": {
    "collapsed": false,
    "ExecuteTime": {
     "end_time": "2023-12-18T16:30:18.012648500Z",
     "start_time": "2023-12-18T16:30:17.913456300Z"
    }
   },
   "id": "3bec8d3555e2f36"
  },
  {
   "cell_type": "code",
   "execution_count": 22,
   "outputs": [],
   "source": [
    "def to_latex_table(df, filename, caption=None, label=None):\n",
    "    style = df.style.format_index(\"\\\\textbf{{{}}}\", escape=\"latex\", axis=1) \\\n",
    "        .format(lambda x: str(x).replace('set()', '{}').replace(\"{\", '\\\\{').replace(\"}\", '\\\\}').replace(\"'\", ''))\n",
    "\n",
    "    col_format = 'l' + 'c' * (len(df.columns) - 1)\n",
    "    output = style.to_latex(hrules=False, caption=caption, label=label, column_format=col_format)\n",
    "    output = output.replace(r'\\begin{tabular}{' + col_format + '}', r\"\"\"\n",
    "    \\centering\n",
    "    \\begin{NiceTabular}{\"\"\" + col_format + r\"\"\"}\n",
    "    \\CodeBefore\n",
    "    \\rowcolor{gray!50}{1}\n",
    "    \\rowcolors{2}{gray!25}{white}\n",
    "    \\Body\"\"\")\n",
    "    output = output.replace(r'\\end{tabular}', r'\\end{NiceTabular}')\n",
    "\n",
    "    if filename:\n",
    "        with open(os.path.join(ROOT_DIR, 'reports', filename), 'w') as f:\n",
    "            f.write(output)\n",
    "\n",
    "    return output"
   ],
   "metadata": {
    "collapsed": false,
    "ExecuteTime": {
     "end_time": "2023-12-18T16:28:58.052548800Z",
     "start_time": "2023-12-18T16:28:57.980969200Z"
    }
   },
   "id": "6c30791c8e0dedaf"
  },
  {
   "cell_type": "code",
   "execution_count": 25,
   "outputs": [
    {
     "data": {
      "text/plain": "'\\\\begin{table}\\n\\\\caption{Log statistics}\\n\\\\label{tab:log_stats}\\n\\n    \\\\centering\\n    \\\\begin{NiceTabular}{lccccccccc}\\n    \\\\CodeBefore\\n    \\\\rowcolor{gray!50}{1}\\n    \\\\rowcolors{2}{gray!25}{white}\\n    \\\\Body\\n & \\\\textbf{file\\\\_name} & \\\\textbf{vocab\\\\_size} & \\\\textbf{num\\\\_traces} & \\\\textbf{num\\\\_events} & \\\\textbf{max\\\\_trace\\\\_length} & \\\\textbf{min\\\\_trace\\\\_length} & \\\\textbf{avg\\\\_trace\\\\_length} & \\\\textbf{num\\\\_events\\\\_copy} & \\\\textbf{amount\\\\_of\\\\_padding} & \\\\textbf{relative\\\\_padding} \\\\\\\\\\n0 & BPI Challenge 2018.xes.gz & 42 & 43809 & 130244157 & 2973 & 24 & 57.39154055102833 & 2514266.0 & 127729891.0 & 0.980695748216943 \\\\\\\\\\n1 & BPI%20Challenge%202017.xes.gz & 27 & 31509 & 5671620 & 180 & 10 & 38.15630454790695 & 1202267.0 & 4469353.0 & 0.7880205302894059 \\\\\\\\\\n2 & BPIC15_1.xes & 399 & 1199 & 121099 & 101 & 2 & 43.55045871559633 & 52217.0 & 68882.0 & 0.5688073394495413 \\\\\\\\\\n3 & BPI_Challenge_2012.xes.gz & 25 & 13087 & 2290225 & 175 & 3 & 20.035149384885763 & 262200.0 & 2028025.0 & 0.885513432086367 \\\\\\\\\\n4 & BPI_Challenge_2013_closed_problems.xes.gz & 5 & 1487 & 52045 & 35 & 1 & 4.478816408876933 & 6660.0 & 45385.0 & 0.8720338168892304 \\\\\\\\\\n5 & BPI_Challenge_2013_incidents.xes.gz & 5 & 7554 & 929142 & 123 & 1 & 8.675271379401641 & 65533.0 & 863609.0 & 0.9294693383788485 \\\\\\\\\\n6 & BPI_Challenge_2013_open_problems.xes.gz & 4 & 819 & 18018 & 22 & 1 & 2.8705738705738706 & 2351.0 & 15667.0 & 0.8695193695193695 \\\\\\\\\\n7 & BPI_Challenge_2019.xes & 43 & 251734 & 249216660 & 990 & 1 & 6.33971970413214 & 1595923.0 & 247620737.0 & 0.9935962427230989 \\\\\\\\\\n8 & CoSeLoG WABO 3.xes.gz & 370 & 1087 & 134788 & 124 & 3 & 41.215271389144434 & 44801.0 & 89987.0 & 0.6676187791198029 \\\\\\\\\\n9 & Hospital Billing - Event Log.xes.gz & 19 & 100000 & 21700000 & 217 & 1 & 4.51359 & 451359.0 & 21248641.0 & 0.9792000460829493 \\\\\\\\\\n10 & Hospital_log.xes.gz & 625 & 1143 & 2073402 & 1814 & 1 & 131.48818897637796 & 150291.0 & 1923111.0 & 0.9275147800571235 \\\\\\\\\\n11 & Road_Traffic_Fine_Management_Process.xes.gz & 12 & 150370 & 3007400 & 20 & 2 & 3.7339229899581032 & 561470.0 & 2445930.0 & 0.8133038505020949 \\\\\\\\\\n12 & Sepsis%20Cases%20-%20Event%20Log.xes.gz & 17 & 1050 & 194250 & 185 & 3 & 14.48952380952381 & 15214.0 & 179036.0 & 0.9216782496782496 \\\\\\\\\\n13 & helpdesk.csv & 10 & 3804 & 53256 & 14 & 1 & 3.60410094637224 & 13710.000000000002 & 39546.0 & 0.7425642181162686 \\\\\\\\\\n\\\\end{NiceTabular}\\n\\\\end{table}\\n'"
     },
     "execution_count": 25,
     "metadata": {},
     "output_type": "execute_result"
    }
   ],
   "source": [
    "to_latex_table(df, 'log_stats.tex', caption='Log statistics', label='tab:log_stats')"
   ],
   "metadata": {
    "collapsed": false,
    "ExecuteTime": {
     "end_time": "2023-12-18T16:29:44.855138200Z",
     "start_time": "2023-12-18T16:29:44.762056700Z"
    }
   },
   "id": "57988a32a9a805fc"
  },
  {
   "cell_type": "code",
   "execution_count": null,
   "outputs": [],
   "source": [],
   "metadata": {
    "collapsed": false
   },
   "id": "4f603280f4e3955e"
  }
 ],
 "metadata": {
  "kernelspec": {
   "display_name": "Python 3",
   "language": "python",
   "name": "python3"
  },
  "language_info": {
   "codemirror_mode": {
    "name": "ipython",
    "version": 2
   },
   "file_extension": ".py",
   "mimetype": "text/x-python",
   "name": "python",
   "nbconvert_exporter": "python",
   "pygments_lexer": "ipython2",
   "version": "2.7.6"
  }
 },
 "nbformat": 4,
 "nbformat_minor": 5
}
