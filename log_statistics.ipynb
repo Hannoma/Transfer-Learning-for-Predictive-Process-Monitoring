{
 "cells": [
  {
   "cell_type": "code",
   "execution_count": 2,
   "id": "initial_id",
   "metadata": {
    "collapsed": true,
    "ExecuteTime": {
     "end_time": "2024-01-02T17:16:59.182637100Z",
     "start_time": "2024-01-02T17:16:57.731145700Z"
    }
   },
   "outputs": [],
   "source": [
    "import os\n",
    "\n",
    "import pandas as pd\n",
    "import pm4py\n",
    "\n",
    "from definitions import LOGS_DIR, ROOT_DIR\n",
    "\n",
    "mapping = {\n",
    "    'BPI_Challenge_2013_closed_problems.xes.gz': 'BPIC 2013 closed problems',\n",
    "    'BPI_Challenge_2012.xes.gz': 'BPIC 2012',\n",
    "    'BPI_Challenge_2013_incidents.xes.gz': 'BPIC 2013 incidents',\n",
    "    'BPI_Challenge_2013_open_problems.xes.gz': 'BPIC 2013 open problems',\n",
    "    'BPI%20Challenge%202017.xes.gz': 'BPIC 2017',\n",
    "    'BPIC15_1.xes': 'BPIC 2015',\n",
    "    'Road_Traffic_Fine_Management_Process.xes.gz': 'RTFMP',\n",
    "    'Sepsis%20Cases%20-%20Event%20Log.xes.gz': 'Sepsis',\n",
    "    'helpdesk.csv': 'Helpdesk'\n",
    "}"
   ]
  },
  {
   "cell_type": "code",
   "execution_count": 28,
   "outputs": [],
   "source": [
    "df = pd.read_csv('log_stats.csv')\n",
    "df = df.drop(columns=['avg_event_per_trace'])\n",
    "df['num_events_copy'] = df['num_traces'] * df['avg_trace_length']\n",
    "df['amount_of_padding'] = df['num_events'] - df['num_events_copy']\n",
    "df['relative_padding'] = df['amount_of_padding'] / df['num_events']\n",
    "df['file_name'] = df['file_name'].map(mapping)"
   ],
   "metadata": {
    "collapsed": false,
    "ExecuteTime": {
     "end_time": "2023-12-18T16:30:17.332195300Z",
     "start_time": "2023-12-18T16:30:17.299177500Z"
    }
   },
   "id": "12b49575fb10345a"
  },
  {
   "cell_type": "code",
   "execution_count": 29,
   "outputs": [
    {
     "data": {
      "text/plain": "                                      file_name  vocab_size  num_traces  \\\n0                     BPI Challenge 2018.xes.gz          42       43809   \n1                 BPI%20Challenge%202017.xes.gz          27       31509   \n2                                  BPIC15_1.xes         399        1199   \n3                     BPI_Challenge_2012.xes.gz          25       13087   \n4     BPI_Challenge_2013_closed_problems.xes.gz           5        1487   \n5           BPI_Challenge_2013_incidents.xes.gz           5        7554   \n6       BPI_Challenge_2013_open_problems.xes.gz           4         819   \n7                        BPI_Challenge_2019.xes          43      251734   \n8                         CoSeLoG WABO 3.xes.gz         370        1087   \n9           Hospital Billing - Event Log.xes.gz          19      100000   \n10                          Hospital_log.xes.gz         625        1143   \n11  Road_Traffic_Fine_Management_Process.xes.gz          12      150370   \n12      Sepsis%20Cases%20-%20Event%20Log.xes.gz          17        1050   \n13                                 helpdesk.csv          10        3804   \n\n    num_events  max_trace_length  min_trace_length  avg_trace_length  \\\n0    130244157              2973                24         57.391541   \n1      5671620               180                10         38.156305   \n2       121099               101                 2         43.550459   \n3      2290225               175                 3         20.035149   \n4        52045                35                 1          4.478816   \n5       929142               123                 1          8.675271   \n6        18018                22                 1          2.870574   \n7    249216660               990                 1          6.339720   \n8       134788               124                 3         41.215271   \n9     21700000               217                 1          4.513590   \n10     2073402              1814                 1        131.488189   \n11     3007400                20                 2          3.733923   \n12      194250               185                 3         14.489524   \n13       53256                14                 1          3.604101   \n\n    num_events_copy  amount_of_padding  relative_padding  \\\n0         2514266.0        127729891.0          0.980696   \n1         1202267.0          4469353.0          0.788021   \n2           52217.0            68882.0          0.568807   \n3          262200.0          2028025.0          0.885513   \n4            6660.0            45385.0          0.872034   \n5           65533.0           863609.0          0.929469   \n6            2351.0            15667.0          0.869519   \n7         1595923.0        247620737.0          0.993596   \n8           44801.0            89987.0          0.667619   \n9          451359.0         21248641.0          0.979200   \n10         150291.0          1923111.0          0.927515   \n11         561470.0          2445930.0          0.813304   \n12          15214.0           179036.0          0.921678   \n13          13710.0            39546.0          0.742564   \n\n                          log  \n0                         NaN  \n1                   BPIC 2017  \n2                   BPIC 2015  \n3                   BPIC 2012  \n4   BPIC 2013 closed problems  \n5         BPIC 2013 incidents  \n6     BPIC 2013 open problems  \n7                         NaN  \n8                         NaN  \n9                         NaN  \n10                        NaN  \n11                      RTFMP  \n12                     Sepsis  \n13                   Helpdesk  ",
      "text/html": "<div>\n<style scoped>\n    .dataframe tbody tr th:only-of-type {\n        vertical-align: middle;\n    }\n\n    .dataframe tbody tr th {\n        vertical-align: top;\n    }\n\n    .dataframe thead th {\n        text-align: right;\n    }\n</style>\n<table border=\"1\" class=\"dataframe\">\n  <thead>\n    <tr style=\"text-align: right;\">\n      <th></th>\n      <th>file_name</th>\n      <th>vocab_size</th>\n      <th>num_traces</th>\n      <th>num_events</th>\n      <th>max_trace_length</th>\n      <th>min_trace_length</th>\n      <th>avg_trace_length</th>\n      <th>num_events_copy</th>\n      <th>amount_of_padding</th>\n      <th>relative_padding</th>\n      <th>log</th>\n    </tr>\n  </thead>\n  <tbody>\n    <tr>\n      <th>0</th>\n      <td>BPI Challenge 2018.xes.gz</td>\n      <td>42</td>\n      <td>43809</td>\n      <td>130244157</td>\n      <td>2973</td>\n      <td>24</td>\n      <td>57.391541</td>\n      <td>2514266.0</td>\n      <td>127729891.0</td>\n      <td>0.980696</td>\n      <td>NaN</td>\n    </tr>\n    <tr>\n      <th>1</th>\n      <td>BPI%20Challenge%202017.xes.gz</td>\n      <td>27</td>\n      <td>31509</td>\n      <td>5671620</td>\n      <td>180</td>\n      <td>10</td>\n      <td>38.156305</td>\n      <td>1202267.0</td>\n      <td>4469353.0</td>\n      <td>0.788021</td>\n      <td>BPIC 2017</td>\n    </tr>\n    <tr>\n      <th>2</th>\n      <td>BPIC15_1.xes</td>\n      <td>399</td>\n      <td>1199</td>\n      <td>121099</td>\n      <td>101</td>\n      <td>2</td>\n      <td>43.550459</td>\n      <td>52217.0</td>\n      <td>68882.0</td>\n      <td>0.568807</td>\n      <td>BPIC 2015</td>\n    </tr>\n    <tr>\n      <th>3</th>\n      <td>BPI_Challenge_2012.xes.gz</td>\n      <td>25</td>\n      <td>13087</td>\n      <td>2290225</td>\n      <td>175</td>\n      <td>3</td>\n      <td>20.035149</td>\n      <td>262200.0</td>\n      <td>2028025.0</td>\n      <td>0.885513</td>\n      <td>BPIC 2012</td>\n    </tr>\n    <tr>\n      <th>4</th>\n      <td>BPI_Challenge_2013_closed_problems.xes.gz</td>\n      <td>5</td>\n      <td>1487</td>\n      <td>52045</td>\n      <td>35</td>\n      <td>1</td>\n      <td>4.478816</td>\n      <td>6660.0</td>\n      <td>45385.0</td>\n      <td>0.872034</td>\n      <td>BPIC 2013 closed problems</td>\n    </tr>\n    <tr>\n      <th>5</th>\n      <td>BPI_Challenge_2013_incidents.xes.gz</td>\n      <td>5</td>\n      <td>7554</td>\n      <td>929142</td>\n      <td>123</td>\n      <td>1</td>\n      <td>8.675271</td>\n      <td>65533.0</td>\n      <td>863609.0</td>\n      <td>0.929469</td>\n      <td>BPIC 2013 incidents</td>\n    </tr>\n    <tr>\n      <th>6</th>\n      <td>BPI_Challenge_2013_open_problems.xes.gz</td>\n      <td>4</td>\n      <td>819</td>\n      <td>18018</td>\n      <td>22</td>\n      <td>1</td>\n      <td>2.870574</td>\n      <td>2351.0</td>\n      <td>15667.0</td>\n      <td>0.869519</td>\n      <td>BPIC 2013 open problems</td>\n    </tr>\n    <tr>\n      <th>7</th>\n      <td>BPI_Challenge_2019.xes</td>\n      <td>43</td>\n      <td>251734</td>\n      <td>249216660</td>\n      <td>990</td>\n      <td>1</td>\n      <td>6.339720</td>\n      <td>1595923.0</td>\n      <td>247620737.0</td>\n      <td>0.993596</td>\n      <td>NaN</td>\n    </tr>\n    <tr>\n      <th>8</th>\n      <td>CoSeLoG WABO 3.xes.gz</td>\n      <td>370</td>\n      <td>1087</td>\n      <td>134788</td>\n      <td>124</td>\n      <td>3</td>\n      <td>41.215271</td>\n      <td>44801.0</td>\n      <td>89987.0</td>\n      <td>0.667619</td>\n      <td>NaN</td>\n    </tr>\n    <tr>\n      <th>9</th>\n      <td>Hospital Billing - Event Log.xes.gz</td>\n      <td>19</td>\n      <td>100000</td>\n      <td>21700000</td>\n      <td>217</td>\n      <td>1</td>\n      <td>4.513590</td>\n      <td>451359.0</td>\n      <td>21248641.0</td>\n      <td>0.979200</td>\n      <td>NaN</td>\n    </tr>\n    <tr>\n      <th>10</th>\n      <td>Hospital_log.xes.gz</td>\n      <td>625</td>\n      <td>1143</td>\n      <td>2073402</td>\n      <td>1814</td>\n      <td>1</td>\n      <td>131.488189</td>\n      <td>150291.0</td>\n      <td>1923111.0</td>\n      <td>0.927515</td>\n      <td>NaN</td>\n    </tr>\n    <tr>\n      <th>11</th>\n      <td>Road_Traffic_Fine_Management_Process.xes.gz</td>\n      <td>12</td>\n      <td>150370</td>\n      <td>3007400</td>\n      <td>20</td>\n      <td>2</td>\n      <td>3.733923</td>\n      <td>561470.0</td>\n      <td>2445930.0</td>\n      <td>0.813304</td>\n      <td>RTFMP</td>\n    </tr>\n    <tr>\n      <th>12</th>\n      <td>Sepsis%20Cases%20-%20Event%20Log.xes.gz</td>\n      <td>17</td>\n      <td>1050</td>\n      <td>194250</td>\n      <td>185</td>\n      <td>3</td>\n      <td>14.489524</td>\n      <td>15214.0</td>\n      <td>179036.0</td>\n      <td>0.921678</td>\n      <td>Sepsis</td>\n    </tr>\n    <tr>\n      <th>13</th>\n      <td>helpdesk.csv</td>\n      <td>10</td>\n      <td>3804</td>\n      <td>53256</td>\n      <td>14</td>\n      <td>1</td>\n      <td>3.604101</td>\n      <td>13710.0</td>\n      <td>39546.0</td>\n      <td>0.742564</td>\n      <td>Helpdesk</td>\n    </tr>\n  </tbody>\n</table>\n</div>"
     },
     "execution_count": 29,
     "metadata": {},
     "output_type": "execute_result"
    }
   ],
   "source": [
    "df"
   ],
   "metadata": {
    "collapsed": false,
    "ExecuteTime": {
     "end_time": "2023-12-18T16:30:18.012648500Z",
     "start_time": "2023-12-18T16:30:17.913456300Z"
    }
   },
   "id": "3bec8d3555e2f36"
  },
  {
   "cell_type": "code",
   "execution_count": 22,
   "outputs": [],
   "source": [
    "def to_latex_table(df, filename, caption=None, label=None):\n",
    "    style = df.style.format_index(\"\\\\textbf{{{}}}\", escape=\"latex\", axis=1) \\\n",
    "        .format(lambda x: str(x).replace('set()', '{}').replace(\"{\", '\\\\{').replace(\"}\", '\\\\}').replace(\"'\", ''))\n",
    "\n",
    "    col_format = 'l' + 'c' * (len(df.columns) - 1)\n",
    "    output = style.to_latex(hrules=False, caption=caption, label=label, column_format=col_format)\n",
    "    output = output.replace(r'\\begin{tabular}{' + col_format + '}', r\"\"\"\n",
    "    \\centering\n",
    "    \\begin{NiceTabular}{\"\"\" + col_format + r\"\"\"}\n",
    "    \\CodeBefore\n",
    "    \\rowcolor{gray!50}{1}\n",
    "    \\rowcolors{2}{gray!25}{white}\n",
    "    \\Body\"\"\")\n",
    "    output = output.replace(r'\\end{tabular}', r'\\end{NiceTabular}')\n",
    "\n",
    "    if filename:\n",
    "        with open(os.path.join(ROOT_DIR, 'reports', filename), 'w') as f:\n",
    "            f.write(output)\n",
    "\n",
    "    return output"
   ],
   "metadata": {
    "collapsed": false,
    "ExecuteTime": {
     "end_time": "2023-12-18T16:28:58.052548800Z",
     "start_time": "2023-12-18T16:28:57.980969200Z"
    }
   },
   "id": "6c30791c8e0dedaf"
  },
  {
   "cell_type": "code",
   "execution_count": 25,
   "outputs": [
    {
     "data": {
      "text/plain": "'\\\\begin{table}\\n\\\\caption{Log statistics}\\n\\\\label{tab:log_stats}\\n\\n    \\\\centering\\n    \\\\begin{NiceTabular}{lccccccccc}\\n    \\\\CodeBefore\\n    \\\\rowcolor{gray!50}{1}\\n    \\\\rowcolors{2}{gray!25}{white}\\n    \\\\Body\\n & \\\\textbf{file\\\\_name} & \\\\textbf{vocab\\\\_size} & \\\\textbf{num\\\\_traces} & \\\\textbf{num\\\\_events} & \\\\textbf{max\\\\_trace\\\\_length} & \\\\textbf{min\\\\_trace\\\\_length} & \\\\textbf{avg\\\\_trace\\\\_length} & \\\\textbf{num\\\\_events\\\\_copy} & \\\\textbf{amount\\\\_of\\\\_padding} & \\\\textbf{relative\\\\_padding} \\\\\\\\\\n0 & BPI Challenge 2018.xes.gz & 42 & 43809 & 130244157 & 2973 & 24 & 57.39154055102833 & 2514266.0 & 127729891.0 & 0.980695748216943 \\\\\\\\\\n1 & BPI%20Challenge%202017.xes.gz & 27 & 31509 & 5671620 & 180 & 10 & 38.15630454790695 & 1202267.0 & 4469353.0 & 0.7880205302894059 \\\\\\\\\\n2 & BPIC15_1.xes & 399 & 1199 & 121099 & 101 & 2 & 43.55045871559633 & 52217.0 & 68882.0 & 0.5688073394495413 \\\\\\\\\\n3 & BPI_Challenge_2012.xes.gz & 25 & 13087 & 2290225 & 175 & 3 & 20.035149384885763 & 262200.0 & 2028025.0 & 0.885513432086367 \\\\\\\\\\n4 & BPI_Challenge_2013_closed_problems.xes.gz & 5 & 1487 & 52045 & 35 & 1 & 4.478816408876933 & 6660.0 & 45385.0 & 0.8720338168892304 \\\\\\\\\\n5 & BPI_Challenge_2013_incidents.xes.gz & 5 & 7554 & 929142 & 123 & 1 & 8.675271379401641 & 65533.0 & 863609.0 & 0.9294693383788485 \\\\\\\\\\n6 & BPI_Challenge_2013_open_problems.xes.gz & 4 & 819 & 18018 & 22 & 1 & 2.8705738705738706 & 2351.0 & 15667.0 & 0.8695193695193695 \\\\\\\\\\n7 & BPI_Challenge_2019.xes & 43 & 251734 & 249216660 & 990 & 1 & 6.33971970413214 & 1595923.0 & 247620737.0 & 0.9935962427230989 \\\\\\\\\\n8 & CoSeLoG WABO 3.xes.gz & 370 & 1087 & 134788 & 124 & 3 & 41.215271389144434 & 44801.0 & 89987.0 & 0.6676187791198029 \\\\\\\\\\n9 & Hospital Billing - Event Log.xes.gz & 19 & 100000 & 21700000 & 217 & 1 & 4.51359 & 451359.0 & 21248641.0 & 0.9792000460829493 \\\\\\\\\\n10 & Hospital_log.xes.gz & 625 & 1143 & 2073402 & 1814 & 1 & 131.48818897637796 & 150291.0 & 1923111.0 & 0.9275147800571235 \\\\\\\\\\n11 & Road_Traffic_Fine_Management_Process.xes.gz & 12 & 150370 & 3007400 & 20 & 2 & 3.7339229899581032 & 561470.0 & 2445930.0 & 0.8133038505020949 \\\\\\\\\\n12 & Sepsis%20Cases%20-%20Event%20Log.xes.gz & 17 & 1050 & 194250 & 185 & 3 & 14.48952380952381 & 15214.0 & 179036.0 & 0.9216782496782496 \\\\\\\\\\n13 & helpdesk.csv & 10 & 3804 & 53256 & 14 & 1 & 3.60410094637224 & 13710.000000000002 & 39546.0 & 0.7425642181162686 \\\\\\\\\\n\\\\end{NiceTabular}\\n\\\\end{table}\\n'"
     },
     "execution_count": 25,
     "metadata": {},
     "output_type": "execute_result"
    }
   ],
   "source": [
    "to_latex_table(df, 'log_stats.tex', caption='Log statistics', label='tab:log_stats')"
   ],
   "metadata": {
    "collapsed": false,
    "ExecuteTime": {
     "end_time": "2023-12-18T16:29:44.855138200Z",
     "start_time": "2023-12-18T16:29:44.762056700Z"
    }
   },
   "id": "57988a32a9a805fc"
  },
  {
   "cell_type": "code",
   "execution_count": 51,
   "outputs": [
    {
     "data": {
      "text/plain": "parsing log, completed traces ::   0%|          | 0/150370 [00:00<?, ?it/s]",
      "application/vnd.jupyter.widget-view+json": {
       "version_major": 2,
       "version_minor": 0,
       "model_id": "cb322cae244e440db8b5bcbc8cd52848"
      }
     },
     "metadata": {},
     "output_type": "display_data"
    }
   ],
   "source": [
    "name = 'Road_Traffic_Fine_Management_Process.xes.gz'\n",
    "log = pm4py.read_xes(file_path=os.path.join(LOGS_DIR, name))"
   ],
   "metadata": {
    "collapsed": false,
    "ExecuteTime": {
     "end_time": "2024-01-02T17:49:30.971789700Z",
     "start_time": "2024-01-02T17:48:56.256202700Z"
    }
   },
   "id": "4f603280f4e3955e"
  },
  {
   "cell_type": "code",
   "outputs": [
    {
     "ename": "AttributeError",
     "evalue": "'EventLog' object has no attribute 'groupby'",
     "output_type": "error",
     "traceback": [
      "\u001B[1;31m---------------------------------------------------------------------------\u001B[0m",
      "\u001B[1;31mAttributeError\u001B[0m                            Traceback (most recent call last)",
      "Cell \u001B[1;32mIn[71], line 1\u001B[0m\n\u001B[1;32m----> 1\u001B[0m longest_trace \u001B[38;5;241m=\u001B[39m \u001B[43mlog\u001B[49m\u001B[38;5;241;43m.\u001B[39;49m\u001B[43mgroupby\u001B[49m(\u001B[38;5;124m'\u001B[39m\u001B[38;5;124mcase:concept:name\u001B[39m\u001B[38;5;124m'\u001B[39m)[\u001B[38;5;124m'\u001B[39m\u001B[38;5;124mconcept:name\u001B[39m\u001B[38;5;124m'\u001B[39m]\u001B[38;5;241m.\u001B[39mcount()\u001B[38;5;241m.\u001B[39mmax()\n\u001B[0;32m      2\u001B[0m longest_trace\n",
      "\u001B[1;31mAttributeError\u001B[0m: 'EventLog' object has no attribute 'groupby'"
     ]
    }
   ],
   "source": [
    "longest_trace = log.groupby('case:concept:name')['concept:name'].count().max()\n",
    "longest_trace"
   ],
   "metadata": {
    "collapsed": false,
    "ExecuteTime": {
     "end_time": "2024-01-02T18:08:08.264289900Z",
     "start_time": "2024-01-02T18:08:08.239408800Z"
    }
   },
   "id": "48c0e5508cc98610",
   "execution_count": 71
  },
  {
   "cell_type": "code",
   "outputs": [
    {
     "data": {
      "text/plain": "231"
     },
     "execution_count": 53,
     "metadata": {},
     "output_type": "execute_result"
    }
   ],
   "source": [
    "variants = pm4py.get_variants(log)\n",
    "variant_count = len(variants)\n",
    "variant_count"
   ],
   "metadata": {
    "collapsed": false,
    "ExecuteTime": {
     "end_time": "2024-01-02T17:49:35.292440400Z",
     "start_time": "2024-01-02T17:49:34.829057100Z"
    }
   },
   "id": "421a0bde5ad17e91",
   "execution_count": 53
  },
  {
   "cell_type": "code",
   "outputs": [
    {
     "data": {
      "text/plain": "[('Create Fine',\n  'Send Fine',\n  'Insert Fine Notification',\n  'Add penalty',\n  'Insert Date Appeal to Prefecture',\n  'Payment',\n  'Receive Result Appeal from Prefecture',\n  'Payment'),\n ('Create Fine',\n  'Send Fine',\n  'Insert Fine Notification',\n  'Add penalty',\n  'Notify Result Appeal to Offender',\n  'Receive Result Appeal from Prefecture',\n  'Send for Credit Collection'),\n ('Create Fine',\n  'Send Fine',\n  'Insert Fine Notification',\n  'Insert Date Appeal to Prefecture',\n  'Send Appeal to Prefecture',\n  'Receive Result Appeal from Prefecture',\n  'Add penalty',\n  'Notify Result Appeal to Offender',\n  'Appeal to Judge',\n  'Send for Credit Collection'),\n ('Create Fine',\n  'Send Fine',\n  'Insert Date Appeal to Prefecture',\n  'Insert Fine Notification',\n  'Add penalty',\n  'Send Appeal to Prefecture',\n  'Receive Result Appeal from Prefecture',\n  'Notify Result Appeal to Offender',\n  'Send for Credit Collection'),\n ('Create Fine',\n  'Send Fine',\n  'Insert Fine Notification',\n  'Receive Result Appeal from Prefecture',\n  'Add penalty',\n  'Notify Result Appeal to Offender',\n  'Payment'),\n ('Create Fine',\n  'Send Fine',\n  'Insert Fine Notification',\n  'Insert Date Appeal to Prefecture',\n  'Add penalty',\n  'Receive Result Appeal from Prefecture',\n  'Notify Result Appeal to Offender'),\n ('Create Fine',\n  'Send Fine',\n  'Insert Fine Notification',\n  'Insert Date Appeal to Prefecture',\n  'Add penalty',\n  'Receive Result Appeal from Prefecture',\n  'Notify Result Appeal to Offender',\n  'Send Appeal to Prefecture',\n  'Send for Credit Collection'),\n ('Create Fine',\n  'Send Fine',\n  'Insert Fine Notification',\n  'Insert Date Appeal to Prefecture',\n  'Add penalty',\n  'Send Appeal to Prefecture',\n  'Receive Result Appeal from Prefecture',\n  'Appeal to Judge',\n  'Notify Result Appeal to Offender',\n  'Payment'),\n ('Create Fine',\n  'Send Fine',\n  'Insert Fine Notification',\n  'Appeal to Judge',\n  'Add penalty',\n  'Insert Date Appeal to Prefecture',\n  'Send Appeal to Prefecture',\n  'Payment'),\n ('Create Fine',\n  'Send Fine',\n  'Insert Fine Notification',\n  'Add penalty',\n  'Insert Date Appeal to Prefecture',\n  'Send Appeal to Prefecture',\n  'Payment',\n  'Payment',\n  'Payment',\n  'Payment',\n  'Payment',\n  'Payment',\n  'Payment',\n  'Payment',\n  'Payment',\n  'Payment'),\n ('Create Fine',\n  'Insert Date Appeal to Prefecture',\n  'Send Appeal to Prefecture',\n  'Send Fine',\n  'Insert Fine Notification',\n  'Payment',\n  'Add penalty',\n  'Payment'),\n ('Create Fine',\n  'Send Fine',\n  'Insert Fine Notification',\n  'Insert Date Appeal to Prefecture',\n  'Add penalty',\n  'Payment',\n  'Payment',\n  'Payment',\n  'Payment',\n  'Payment',\n  'Payment',\n  'Payment',\n  'Payment',\n  'Payment',\n  'Payment'),\n ('Create Fine',\n  'Send Fine',\n  'Insert Fine Notification',\n  'Appeal to Judge',\n  'Add penalty',\n  'Insert Date Appeal to Prefecture',\n  'Send Appeal to Prefecture'),\n ('Create Fine',\n  'Send Fine',\n  'Insert Fine Notification',\n  'Add penalty',\n  'Payment',\n  'Insert Date Appeal to Prefecture',\n  'Send Appeal to Prefecture'),\n ('Create Fine',\n  'Send Fine',\n  'Insert Fine Notification',\n  'Insert Date Appeal to Prefecture',\n  'Send Appeal to Prefecture',\n  'Add penalty',\n  'Receive Result Appeal from Prefecture',\n  'Notify Result Appeal to Offender',\n  'Appeal to Judge',\n  'Payment',\n  'Payment',\n  'Payment'),\n ('Create Fine',\n  'Send Fine',\n  'Insert Fine Notification',\n  'Appeal to Judge',\n  'Add penalty',\n  'Payment',\n  'Payment',\n  'Payment',\n  'Payment',\n  'Payment',\n  'Payment',\n  'Payment',\n  'Payment',\n  'Payment',\n  'Payment',\n  'Payment',\n  'Payment'),\n ('Create Fine',\n  'Send Fine',\n  'Insert Fine Notification',\n  'Appeal to Judge',\n  'Add penalty',\n  'Payment',\n  'Payment',\n  'Payment',\n  'Payment',\n  'Payment',\n  'Payment',\n  'Payment',\n  'Payment',\n  'Payment',\n  'Payment'),\n ('Create Fine',\n  'Send Fine',\n  'Insert Fine Notification',\n  'Add penalty',\n  'Insert Date Appeal to Prefecture',\n  'Payment',\n  'Payment',\n  'Payment',\n  'Payment'),\n ('Create Fine',\n  'Send Fine',\n  'Insert Fine Notification',\n  'Add penalty',\n  'Payment',\n  'Payment',\n  'Payment',\n  'Payment',\n  'Payment',\n  'Payment',\n  'Payment',\n  'Payment'),\n ('Create Fine',\n  'Send Fine',\n  'Insert Fine Notification',\n  'Appeal to Judge',\n  'Add penalty',\n  'Payment',\n  'Payment',\n  'Payment',\n  'Payment',\n  'Payment',\n  'Payment',\n  'Payment',\n  'Payment',\n  'Payment',\n  'Payment',\n  'Payment'),\n ('Create Fine',\n  'Send Fine',\n  'Insert Fine Notification',\n  'Add penalty',\n  'Appeal to Judge',\n  'Receive Result Appeal from Prefecture'),\n ('Create Fine',\n  'Send Fine',\n  'Insert Fine Notification',\n  'Appeal to Judge',\n  'Add penalty',\n  'Payment',\n  'Payment',\n  'Payment',\n  'Payment',\n  'Payment',\n  'Payment',\n  'Payment',\n  'Payment',\n  'Payment',\n  'Payment',\n  'Payment',\n  'Payment',\n  'Payment',\n  'Payment',\n  'Payment'),\n ('Create Fine', 'Appeal to Judge', 'Send Fine', 'Payment'),\n ('Create Fine',\n  'Send Fine',\n  'Insert Fine Notification',\n  'Payment',\n  'Add penalty',\n  'Payment',\n  'Payment',\n  'Payment',\n  'Payment',\n  'Payment',\n  'Payment'),\n ('Create Fine',\n  'Send Fine',\n  'Insert Date Appeal to Prefecture',\n  'Payment',\n  'Send Appeal to Prefecture'),\n ('Create Fine',\n  'Send Fine',\n  'Insert Fine Notification',\n  'Payment',\n  'Add penalty',\n  'Payment',\n  'Payment',\n  'Payment',\n  'Payment'),\n ('Create Fine',\n  'Send Fine',\n  'Insert Fine Notification',\n  'Add penalty',\n  'Insert Date Appeal to Prefecture',\n  'Receive Result Appeal from Prefecture',\n  'Notify Result Appeal to Offender',\n  'Appeal to Judge',\n  'Send Appeal to Prefecture'),\n ('Create Fine',\n  'Send Fine',\n  'Insert Fine Notification',\n  'Insert Date Appeal to Prefecture',\n  'Add penalty',\n  'Receive Result Appeal from Prefecture',\n  'Payment'),\n ('Create Fine',\n  'Payment',\n  'Send Fine',\n  'Insert Fine Notification',\n  'Add penalty',\n  'Payment',\n  'Send for Credit Collection'),\n ('Create Fine',\n  'Send Fine',\n  'Insert Fine Notification',\n  'Insert Date Appeal to Prefecture',\n  'Receive Result Appeal from Prefecture',\n  'Send Appeal to Prefecture',\n  'Add penalty',\n  'Notify Result Appeal to Offender',\n  'Send for Credit Collection'),\n ('Create Fine',\n  'Send Fine',\n  'Insert Fine Notification',\n  'Appeal to Judge',\n  'Insert Date Appeal to Prefecture',\n  'Add penalty',\n  'Payment'),\n ('Create Fine',\n  'Send Fine',\n  'Insert Fine Notification',\n  'Insert Date Appeal to Prefecture',\n  'Add penalty',\n  'Receive Result Appeal from Prefecture',\n  'Send Appeal to Prefecture',\n  'Notify Result Appeal to Offender',\n  'Send for Credit Collection'),\n ('Create Fine',\n  'Insert Date Appeal to Prefecture',\n  'Send Fine',\n  'Insert Fine Notification',\n  'Send Appeal to Prefecture',\n  'Add penalty',\n  'Receive Result Appeal from Prefecture',\n  'Payment'),\n ('Create Fine',\n  'Send Fine',\n  'Insert Fine Notification',\n  'Insert Date Appeal to Prefecture',\n  'Add penalty',\n  'Send Appeal to Prefecture',\n  'Receive Result Appeal from Prefecture',\n  'Appeal to Judge',\n  'Notify Result Appeal to Offender',\n  'Send for Credit Collection'),\n ('Create Fine',\n  'Send Fine',\n  'Insert Fine Notification',\n  'Add penalty',\n  'Insert Date Appeal to Prefecture',\n  'Send Appeal to Prefecture',\n  'Receive Result Appeal from Prefecture',\n  'Notify Result Appeal to Offender',\n  'Appeal to Judge',\n  'Payment',\n  'Payment'),\n ('Create Fine',\n  'Send Fine',\n  'Insert Fine Notification',\n  'Insert Date Appeal to Prefecture',\n  'Send Appeal to Prefecture',\n  'Add penalty',\n  'Receive Result Appeal from Prefecture',\n  'Appeal to Judge',\n  'Notify Result Appeal to Offender'),\n ('Create Fine',\n  'Payment',\n  'Send Fine',\n  'Insert Fine Notification',\n  'Insert Date Appeal to Prefecture',\n  'Add penalty',\n  'Send Appeal to Prefecture'),\n ('Create Fine',\n  'Send Fine',\n  'Insert Fine Notification',\n  'Add penalty',\n  'Payment',\n  'Payment',\n  'Payment',\n  'Payment',\n  'Send for Credit Collection'),\n ('Create Fine',\n  'Send Fine',\n  'Insert Fine Notification',\n  'Appeal to Judge',\n  'Add penalty',\n  'Payment',\n  'Payment',\n  'Send for Credit Collection'),\n ('Create Fine',\n  'Send Fine',\n  'Insert Fine Notification',\n  'Insert Date Appeal to Prefecture',\n  'Add penalty',\n  'Send Appeal to Prefecture',\n  'Receive Result Appeal from Prefecture',\n  'Payment',\n  'Notify Result Appeal to Offender',\n  'Payment'),\n ('Create Fine',\n  'Send Fine',\n  'Insert Fine Notification',\n  'Insert Date Appeal to Prefecture',\n  'Add penalty',\n  'Send Appeal to Prefecture',\n  'Receive Result Appeal from Prefecture',\n  'Appeal to Judge',\n  'Payment'),\n ('Create Fine',\n  'Payment',\n  'Send Fine',\n  'Insert Fine Notification',\n  'Payment',\n  'Add penalty',\n  'Send for Credit Collection'),\n ('Create Fine',\n  'Payment',\n  'Payment',\n  'Send Fine',\n  'Insert Fine Notification',\n  'Add penalty',\n  'Payment'),\n ('Create Fine',\n  'Send Fine',\n  'Insert Fine Notification',\n  'Insert Date Appeal to Prefecture',\n  'Appeal to Judge',\n  'Add penalty',\n  'Send Appeal to Prefecture',\n  'Receive Result Appeal from Prefecture',\n  'Notify Result Appeal to Offender'),\n ('Create Fine',\n  'Send Fine',\n  'Insert Fine Notification',\n  'Add penalty',\n  'Insert Date Appeal to Prefecture',\n  'Appeal to Judge',\n  'Send Appeal to Prefecture'),\n ('Create Fine',\n  'Send Fine',\n  'Insert Fine Notification',\n  'Add penalty',\n  'Insert Date Appeal to Prefecture',\n  'Receive Result Appeal from Prefecture',\n  'Notify Result Appeal to Offender',\n  'Appeal to Judge',\n  'Send for Credit Collection',\n  'Send Appeal to Prefecture'),\n ('Create Fine',\n  'Send Fine',\n  'Send Appeal to Prefecture',\n  'Insert Fine Notification',\n  'Insert Date Appeal to Prefecture',\n  'Add penalty',\n  'Receive Result Appeal from Prefecture',\n  'Notify Result Appeal to Offender'),\n ('Create Fine',\n  'Send Fine',\n  'Insert Fine Notification',\n  'Add penalty',\n  'Insert Date Appeal to Prefecture',\n  'Receive Result Appeal from Prefecture',\n  'Notify Result Appeal to Offender'),\n ('Create Fine',\n  'Send Fine',\n  'Insert Date Appeal to Prefecture',\n  'Insert Fine Notification',\n  'Send Appeal to Prefecture',\n  'Add penalty',\n  'Receive Result Appeal from Prefecture',\n  'Notify Result Appeal to Offender',\n  'Payment',\n  'Payment'),\n ('Create Fine',\n  'Send Fine',\n  'Insert Fine Notification',\n  'Insert Date Appeal to Prefecture',\n  'Add penalty',\n  'Send Appeal to Prefecture',\n  'Payment',\n  'Payment'),\n ('Create Fine',\n  'Insert Date Appeal to Prefecture',\n  'Send Fine',\n  'Insert Fine Notification',\n  'Send Appeal to Prefecture',\n  'Add penalty',\n  'Receive Result Appeal from Prefecture',\n  'Notify Result Appeal to Offender',\n  'Send for Credit Collection'),\n ('Create Fine',\n  'Send Fine',\n  'Insert Fine Notification',\n  'Add penalty',\n  'Appeal to Judge',\n  'Payment',\n  'Payment',\n  'Payment',\n  'Payment'),\n ('Create Fine',\n  'Send Fine',\n  'Insert Fine Notification',\n  'Add penalty',\n  'Appeal to Judge',\n  'Payment',\n  'Payment'),\n ('Create Fine',\n  'Send Fine',\n  'Insert Fine Notification',\n  'Insert Date Appeal to Prefecture',\n  'Send Appeal to Prefecture',\n  'Add penalty',\n  'Receive Result Appeal from Prefecture',\n  'Notify Result Appeal to Offender',\n  'Payment',\n  'Appeal to Judge'),\n ('Create Fine',\n  'Send Fine',\n  'Insert Fine Notification',\n  'Insert Date Appeal to Prefecture',\n  'Add penalty',\n  'Send Appeal to Prefecture',\n  'Payment',\n  'Payment',\n  'Payment'),\n ('Create Fine',\n  'Send Fine',\n  'Insert Fine Notification',\n  'Add penalty',\n  'Appeal to Judge',\n  'Payment',\n  'Payment',\n  'Payment',\n  'Payment',\n  'Payment'),\n ('Create Fine',\n  'Send Fine',\n  'Insert Fine Notification',\n  'Payment',\n  'Add penalty',\n  'Payment',\n  'Payment',\n  'Payment',\n  'Payment',\n  'Payment',\n  'Payment',\n  'Payment'),\n ('Create Fine',\n  'Insert Date Appeal to Prefecture',\n  'Send Fine',\n  'Insert Fine Notification',\n  'Send Appeal to Prefecture',\n  'Add penalty',\n  'Payment'),\n ('Create Fine',\n  'Insert Date Appeal to Prefecture',\n  'Send Fine',\n  'Insert Fine Notification',\n  'Send Appeal to Prefecture',\n  'Add penalty',\n  'Payment',\n  'Payment'),\n ('Create Fine',\n  'Send Fine',\n  'Insert Fine Notification',\n  'Insert Date Appeal to Prefecture',\n  'Add penalty',\n  'Send Appeal to Prefecture',\n  'Notify Result Appeal to Offender',\n  'Receive Result Appeal from Prefecture'),\n ('Create Fine',\n  'Send Fine',\n  'Insert Date Appeal to Prefecture',\n  'Send Appeal to Prefecture',\n  'Receive Result Appeal from Prefecture'),\n ('Create Fine', 'Payment', 'Payment', 'Send Fine'),\n ('Create Fine',\n  'Send Fine',\n  'Payment',\n  'Insert Date Appeal to Prefecture',\n  'Send Appeal to Prefecture'),\n ('Create Fine',\n  'Send Fine',\n  'Insert Fine Notification',\n  'Insert Date Appeal to Prefecture',\n  'Send Appeal to Prefecture',\n  'Receive Result Appeal from Prefecture',\n  'Add penalty',\n  'Payment',\n  'Payment'),\n ('Create Fine',\n  'Insert Date Appeal to Prefecture',\n  'Send Appeal to Prefecture',\n  'Send Fine',\n  'Payment'),\n ('Create Fine',\n  'Send Fine',\n  'Insert Fine Notification',\n  'Insert Date Appeal to Prefecture',\n  'Receive Result Appeal from Prefecture',\n  'Send Appeal to Prefecture',\n  'Add penalty',\n  'Payment'),\n ('Create Fine',\n  'Send Fine',\n  'Insert Fine Notification',\n  'Insert Date Appeal to Prefecture',\n  'Send Appeal to Prefecture',\n  'Receive Result Appeal from Prefecture',\n  'Add penalty',\n  'Notify Result Appeal to Offender',\n  'Appeal to Judge',\n  'Payment',\n  'Payment'),\n ('Create Fine',\n  'Send Fine',\n  'Insert Date Appeal to Prefecture',\n  'Insert Fine Notification',\n  'Appeal to Judge',\n  'Send Appeal to Prefecture',\n  'Add penalty',\n  'Payment'),\n ('Create Fine',\n  'Send Fine',\n  'Insert Fine Notification',\n  'Insert Date Appeal to Prefecture',\n  'Add penalty',\n  'Send Appeal to Prefecture',\n  'Receive Result Appeal from Prefecture',\n  'Appeal to Judge'),\n ('Create Fine',\n  'Send Fine',\n  'Insert Fine Notification',\n  'Insert Date Appeal to Prefecture',\n  'Send Appeal to Prefecture',\n  'Add penalty',\n  'Receive Result Appeal from Prefecture',\n  'Appeal to Judge',\n  'Notify Result Appeal to Offender',\n  'Payment'),\n ('Create Fine',\n  'Send Fine',\n  'Insert Fine Notification',\n  'Add penalty',\n  'Insert Date Appeal to Prefecture',\n  'Send Appeal to Prefecture',\n  'Receive Result Appeal from Prefecture',\n  'Appeal to Judge',\n  'Notify Result Appeal to Offender'),\n ('Create Fine',\n  'Send Fine',\n  'Insert Fine Notification',\n  'Add penalty',\n  'Receive Result Appeal from Prefecture',\n  'Notify Result Appeal to Offender',\n  'Appeal to Judge',\n  'Payment'),\n ('Create Fine',\n  'Send Fine',\n  'Insert Fine Notification',\n  'Add penalty',\n  'Payment',\n  'Appeal to Judge',\n  'Payment'),\n ('Create Fine',\n  'Send Fine',\n  'Insert Fine Notification',\n  'Payment',\n  'Add penalty',\n  'Appeal to Judge'),\n ('Create Fine',\n  'Send Fine',\n  'Insert Fine Notification',\n  'Insert Date Appeal to Prefecture',\n  'Appeal to Judge',\n  'Send Appeal to Prefecture',\n  'Add penalty',\n  'Receive Result Appeal from Prefecture'),\n ('Create Fine',\n  'Send Fine',\n  'Insert Date Appeal to Prefecture',\n  'Send Appeal to Prefecture',\n  'Insert Fine Notification',\n  'Add penalty',\n  'Payment'),\n ('Create Fine',\n  'Insert Date Appeal to Prefecture',\n  'Send Appeal to Prefecture',\n  'Send Fine',\n  'Insert Fine Notification',\n  'Add penalty',\n  'Payment'),\n ('Create Fine',\n  'Send Fine',\n  'Insert Fine Notification',\n  'Appeal to Judge',\n  'Add penalty',\n  'Payment',\n  'Payment',\n  'Payment'),\n ('Create Fine',\n  'Send Fine',\n  'Insert Fine Notification',\n  'Add penalty',\n  'Insert Date Appeal to Prefecture',\n  'Send Appeal to Prefecture',\n  'Receive Result Appeal from Prefecture',\n  'Appeal to Judge',\n  'Notify Result Appeal to Offender',\n  'Payment'),\n ('Create Fine',\n  'Send Fine',\n  'Insert Fine Notification',\n  'Insert Date Appeal to Prefecture',\n  'Add penalty',\n  'Send Appeal to Prefecture',\n  'Receive Result Appeal from Prefecture',\n  'Notify Result Appeal to Offender',\n  'Payment',\n  'Payment',\n  'Payment',\n  'Payment',\n  'Payment',\n  'Payment'),\n ('Create Fine',\n  'Send Fine',\n  'Insert Fine Notification',\n  'Insert Date Appeal to Prefecture',\n  'Send Appeal to Prefecture',\n  'Add penalty',\n  'Receive Result Appeal from Prefecture',\n  'Appeal to Judge'),\n ('Create Fine',\n  'Send Fine',\n  'Insert Fine Notification',\n  'Insert Date Appeal to Prefecture',\n  'Send Appeal to Prefecture',\n  'Add penalty',\n  'Receive Result Appeal from Prefecture',\n  'Notify Result Appeal to Offender',\n  'Payment',\n  'Payment',\n  'Send for Credit Collection'),\n ('Create Fine',\n  'Send Fine',\n  'Insert Fine Notification',\n  'Insert Date Appeal to Prefecture',\n  'Appeal to Judge',\n  'Send Appeal to Prefecture',\n  'Add penalty',\n  'Receive Result Appeal from Prefecture',\n  'Notify Result Appeal to Offender',\n  'Send for Credit Collection'),\n ('Create Fine',\n  'Send Fine',\n  'Insert Fine Notification',\n  'Insert Date Appeal to Prefecture',\n  'Add penalty',\n  'Receive Result Appeal from Prefecture',\n  'Appeal to Judge',\n  'Send Appeal to Prefecture'),\n ('Create Fine',\n  'Send Fine',\n  'Insert Fine Notification',\n  'Insert Date Appeal to Prefecture',\n  'Send Appeal to Prefecture',\n  'Receive Result Appeal from Prefecture',\n  'Add penalty',\n  'Notify Result Appeal to Offender',\n  'Appeal to Judge',\n  'Payment'),\n ('Create Fine',\n  'Send Fine',\n  'Insert Fine Notification',\n  'Add penalty',\n  'Payment',\n  'Payment',\n  'Payment',\n  'Payment',\n  'Payment',\n  'Payment',\n  'Payment',\n  'Payment',\n  'Payment',\n  'Payment'),\n ('Create Fine',\n  'Send Fine',\n  'Insert Fine Notification',\n  'Add penalty',\n  'Payment',\n  'Payment',\n  'Payment',\n  'Payment',\n  'Payment',\n  'Payment',\n  'Payment',\n  'Payment',\n  'Payment',\n  'Payment',\n  'Send for Credit Collection'),\n ('Create Fine',\n  'Payment',\n  'Send Fine',\n  'Insert Fine Notification',\n  'Insert Date Appeal to Prefecture',\n  'Send Appeal to Prefecture',\n  'Add penalty',\n  'Receive Result Appeal from Prefecture',\n  'Notify Result Appeal to Offender'),\n ('Create Fine',\n  'Send Fine',\n  'Insert Fine Notification',\n  'Payment',\n  'Add penalty',\n  'Insert Date Appeal to Prefecture',\n  'Send Appeal to Prefecture',\n  'Payment'),\n ('Create Fine',\n  'Send Fine',\n  'Insert Fine Notification',\n  'Insert Date Appeal to Prefecture',\n  'Add penalty',\n  'Receive Result Appeal from Prefecture',\n  'Send Appeal to Prefecture',\n  'Payment'),\n ('Create Fine',\n  'Send Fine',\n  'Insert Fine Notification',\n  'Appeal to Judge',\n  'Add penalty',\n  'Payment',\n  'Payment',\n  'Payment',\n  'Payment',\n  'Payment',\n  'Payment'),\n ('Create Fine',\n  'Send Fine',\n  'Insert Fine Notification',\n  'Receive Result Appeal from Prefecture',\n  'Insert Date Appeal to Prefecture',\n  'Send Appeal to Prefecture',\n  'Add penalty',\n  'Payment'),\n ('Create Fine',\n  'Send Fine',\n  'Insert Fine Notification',\n  'Insert Date Appeal to Prefecture',\n  'Send Appeal to Prefecture',\n  'Appeal to Judge',\n  'Add penalty',\n  'Payment',\n  'Payment',\n  'Payment',\n  'Payment',\n  'Payment',\n  'Payment',\n  'Payment',\n  'Payment',\n  'Payment',\n  'Payment'),\n ('Create Fine',\n  'Send Fine',\n  'Insert Fine Notification',\n  'Insert Date Appeal to Prefecture',\n  'Appeal to Judge',\n  'Send Appeal to Prefecture',\n  'Add penalty',\n  'Payment',\n  'Payment',\n  'Payment',\n  'Payment',\n  'Payment'),\n ('Create Fine',\n  'Send Fine',\n  'Insert Fine Notification',\n  'Insert Date Appeal to Prefecture',\n  'Send Appeal to Prefecture',\n  'Add penalty',\n  'Payment',\n  'Receive Result Appeal from Prefecture',\n  'Notify Result Appeal to Offender',\n  'Payment'),\n ('Create Fine',\n  'Send Fine',\n  'Send Appeal to Prefecture',\n  'Insert Fine Notification',\n  'Insert Date Appeal to Prefecture',\n  'Add penalty',\n  'Payment'),\n ('Create Fine',\n  'Send Fine',\n  'Insert Fine Notification',\n  'Insert Date Appeal to Prefecture',\n  'Add penalty',\n  'Payment',\n  'Payment',\n  'Payment'),\n ('Create Fine',\n  'Send Fine',\n  'Insert Fine Notification',\n  'Insert Date Appeal to Prefecture',\n  'Send Appeal to Prefecture',\n  'Add penalty',\n  'Receive Result Appeal from Prefecture',\n  'Notify Result Appeal to Offender',\n  'Payment',\n  'Send for Credit Collection'),\n ('Create Fine',\n  'Send Fine',\n  'Insert Fine Notification',\n  'Insert Date Appeal to Prefecture',\n  'Send Appeal to Prefecture',\n  'Add penalty',\n  'Receive Result Appeal from Prefecture',\n  'Notify Result Appeal to Offender',\n  'Appeal to Judge',\n  'Payment',\n  'Payment',\n  'Payment',\n  'Payment',\n  'Payment',\n  'Payment'),\n ('Create Fine',\n  'Send Fine',\n  'Insert Date Appeal to Prefecture',\n  'Send Appeal to Prefecture',\n  'Insert Fine Notification',\n  'Appeal to Judge',\n  'Add penalty',\n  'Payment')]"
     },
     "execution_count": 63,
     "metadata": {},
     "output_type": "execute_result"
    }
   ],
   "source": [
    "variants_only_once = list(filter(lambda x: x[1] == 1, variants.items()))\n",
    "variants_only_once = list(map(lambda x: x[0], variants_only_once))\n",
    "variants_only_once"
   ],
   "metadata": {
    "collapsed": false,
    "ExecuteTime": {
     "end_time": "2024-01-02T17:52:21.462275100Z",
     "start_time": "2024-01-02T17:52:21.432355Z"
    }
   },
   "id": "ab542e36e3e4397f",
   "execution_count": 63
  },
  {
   "cell_type": "code",
   "outputs": [
    {
     "data": {
      "text/plain": "131"
     },
     "execution_count": 64,
     "metadata": {},
     "output_type": "execute_result"
    }
   ],
   "source": [
    "filtered2 = pm4py.filter_variants(log, variants_only_once, retain=False)\n",
    "filtered2_variant_count = len(pm4py.get_variants(filtered2))\n",
    "filtered2_variant_count"
   ],
   "metadata": {
    "collapsed": false,
    "ExecuteTime": {
     "end_time": "2024-01-02T17:52:26.580995900Z",
     "start_time": "2024-01-02T17:52:23.883167500Z"
    }
   },
   "id": "1841a9ed225d148a",
   "execution_count": 64
  },
  {
   "cell_type": "code",
   "outputs": [
    {
     "data": {
      "text/plain": "14"
     },
     "execution_count": 65,
     "metadata": {},
     "output_type": "execute_result"
    }
   ],
   "source": [
    "filtered2_longest_trace = filtered2.groupby('case:concept:name')['concept:name'].count().max()\n",
    "filtered2_longest_trace"
   ],
   "metadata": {
    "collapsed": false,
    "ExecuteTime": {
     "end_time": "2024-01-02T17:52:29.808988800Z",
     "start_time": "2024-01-02T17:52:29.644763800Z"
    }
   },
   "id": "7324816594e9a3c0",
   "execution_count": 65
  },
  {
   "cell_type": "code",
   "outputs": [
    {
     "data": {
      "text/plain": "exporting log, completed traces ::   0%|          | 0/150270 [00:00<?, ?it/s]",
      "application/vnd.jupyter.widget-view+json": {
       "version_major": 2,
       "version_minor": 0,
       "model_id": "e1198bfc305541b6b6293c556ab2e920"
      }
     },
     "metadata": {},
     "output_type": "display_data"
    }
   ],
   "source": [
    "pm4py.write_xes(filtered2, os.path.join(LOGS_DIR, 'RTFMP_filtered.xes'))"
   ],
   "metadata": {
    "collapsed": false,
    "ExecuteTime": {
     "end_time": "2024-01-02T17:54:04.223079200Z",
     "start_time": "2024-01-02T17:53:11.353924Z"
    }
   },
   "id": "e6460eeff57462cd",
   "execution_count": 66
  },
  {
   "cell_type": "code",
   "outputs": [
    {
     "ename": "AttributeError",
     "evalue": "'DataFrame' object has no attribute 'attributes'",
     "output_type": "error",
     "traceback": [
      "\u001B[1;31m---------------------------------------------------------------------------\u001B[0m",
      "\u001B[1;31mAttributeError\u001B[0m                            Traceback (most recent call last)",
      "\u001B[1;32m~\\AppData\\Local\\Temp\\ipykernel_9928\\873728484.py\u001B[0m in \u001B[0;36m?\u001B[1;34m()\u001B[0m\n\u001B[1;32m----> 1\u001B[1;33m \u001B[0mfiltered2\u001B[0m\u001B[1;33m.\u001B[0m\u001B[0mattributes\u001B[0m\u001B[1;33m\u001B[0m\u001B[1;33m\u001B[0m\u001B[0m\n\u001B[0m",
      "\u001B[1;32m~\\anaconda3\\envs\\transfer_learning\\lib\\site-packages\\pandas\\core\\generic.py\u001B[0m in \u001B[0;36m?\u001B[1;34m(self, name)\u001B[0m\n\u001B[0;32m   6200\u001B[0m             \u001B[1;32mand\u001B[0m \u001B[0mname\u001B[0m \u001B[1;32mnot\u001B[0m \u001B[1;32min\u001B[0m \u001B[0mself\u001B[0m\u001B[1;33m.\u001B[0m\u001B[0m_accessors\u001B[0m\u001B[1;33m\u001B[0m\u001B[1;33m\u001B[0m\u001B[0m\n\u001B[0;32m   6201\u001B[0m             \u001B[1;32mand\u001B[0m \u001B[0mself\u001B[0m\u001B[1;33m.\u001B[0m\u001B[0m_info_axis\u001B[0m\u001B[1;33m.\u001B[0m\u001B[0m_can_hold_identifiers_and_holds_name\u001B[0m\u001B[1;33m(\u001B[0m\u001B[0mname\u001B[0m\u001B[1;33m)\u001B[0m\u001B[1;33m\u001B[0m\u001B[1;33m\u001B[0m\u001B[0m\n\u001B[0;32m   6202\u001B[0m         ):\n\u001B[0;32m   6203\u001B[0m             \u001B[1;32mreturn\u001B[0m \u001B[0mself\u001B[0m\u001B[1;33m[\u001B[0m\u001B[0mname\u001B[0m\u001B[1;33m]\u001B[0m\u001B[1;33m\u001B[0m\u001B[1;33m\u001B[0m\u001B[0m\n\u001B[1;32m-> 6204\u001B[1;33m         \u001B[1;32mreturn\u001B[0m \u001B[0mobject\u001B[0m\u001B[1;33m.\u001B[0m\u001B[0m__getattribute__\u001B[0m\u001B[1;33m(\u001B[0m\u001B[0mself\u001B[0m\u001B[1;33m,\u001B[0m \u001B[0mname\u001B[0m\u001B[1;33m)\u001B[0m\u001B[1;33m\u001B[0m\u001B[1;33m\u001B[0m\u001B[0m\n\u001B[0m",
      "\u001B[1;31mAttributeError\u001B[0m: 'DataFrame' object has no attribute 'attributes'"
     ]
    }
   ],
   "source": [
    "filtered2.attributes"
   ],
   "metadata": {
    "collapsed": false,
    "ExecuteTime": {
     "end_time": "2024-01-02T18:03:51.961179100Z",
     "start_time": "2024-01-02T18:03:51.926771600Z"
    }
   },
   "id": "82c2acde6cdd1fe0",
   "execution_count": 68
  },
  {
   "cell_type": "code",
   "outputs": [
    {
     "data": {
      "text/plain": "parsing log, completed traces ::   0%|          | 0/150370 [00:00<?, ?it/s]",
      "application/vnd.jupyter.widget-view+json": {
       "version_major": 2,
       "version_minor": 0,
       "model_id": "6389dd06c95e4bd292ba97a01b039165"
      }
     },
     "metadata": {},
     "output_type": "display_data"
    }
   ],
   "source": [
    "from pm4py.objects.log.importer.xes import importer as xes_importer\n",
    "from pm4py.objects.log.exporter.xes import exporter as xes_exporter\n",
    "\n",
    "log = xes_importer.apply(os.path.join(LOGS_DIR, name))"
   ],
   "metadata": {
    "collapsed": false,
    "ExecuteTime": {
     "end_time": "2024-01-02T18:09:42.573862500Z",
     "start_time": "2024-01-02T18:09:15.481447600Z"
    }
   },
   "id": "e3fb8285c5efc846",
   "execution_count": 73
  },
  {
   "cell_type": "code",
   "outputs": [
    {
     "data": {
      "text/plain": "{'meta_org:different_resources_standard_deviation': 0.061,\n 'meta_org:different_resources_min': 2,\n 'meta_3TU:language': 'eng',\n 'meta_concept:named_events_total': {'value': 561470,\n  'children': {'Payment': 77601,\n   'Insert Date Appeal to Prefecture': 4188,\n   'Receive Result Appeal from Prefecture': 999,\n   'Send Appeal to Prefecture': 4141,\n   'Notify Result Appeal to Offender': 896,\n   'Appeal to Judge': 555,\n   'Add penalty': 79860,\n   'Insert Fine Notification': 79860,\n   'Send for Credit Collection': 59013,\n   'Create Fine': 150370,\n   'Send Fine': 103987}},\n 'meta_org:group_events_average': {'value': 3.734,\n  'children': {'UNKNOWN': 3.734}},\n 'meta_org:different_groups_max': 1,\n 'meta_life:different_transitions_min': 1,\n 'meta_concept:different_names_standard_deviation': 1.578,\n 'meta_time:log_duration': 424825200.0,\n 'meta_3TU:creation_place': 'Eindhoven',\n 'meta_general:classifiers': {'value': 1,\n  'children': {'Event Name': {'value': 'concept:name',\n    'children': {'meta_general:classified_events_average': {'value': 3.734,\n      'children': {'Payment': 0.516,\n       'Insert Date Appeal to Prefecture': 0.028,\n       'Receive Result Appeal from Prefecture': 0.007,\n       'Send Appeal to Prefecture': 0.028,\n       'Notify Result Appeal to Offender': 0.006,\n       'Appeal to Judge': 0.004,\n       'Add penalty': 0.531,\n       'Insert Fine Notification': 0.531,\n       'Send for Credit Collection': 0.392,\n       'Create Fine': 1.0,\n       'Send Fine': 0.692}},\n     'meta_general:different_classified_total': 11,\n     'meta_general:classified_events_total': {'value': 561470,\n      'children': {'Payment': 77601,\n       'Insert Date Appeal to Prefecture': 4188,\n       'Receive Result Appeal from Prefecture': 999,\n       'Send Appeal to Prefecture': 4141,\n       'Notify Result Appeal to Offender': 896,\n       'Appeal to Judge': 555,\n       'Add penalty': 79860,\n       'Insert Fine Notification': 79860,\n       'Send for Credit Collection': 59013,\n       'Create Fine': 150370,\n       'Send Fine': 103987}},\n     'meta_general:different_classified_standard_deviation': 1.578,\n     'meta_general:classified_events_max': {'value': 20,\n      'children': {'Payment': 15,\n       'Insert Date Appeal to Prefecture': 1,\n       'Receive Result Appeal from Prefecture': 1,\n       'Send Appeal to Prefecture': 1,\n       'Notify Result Appeal to Offender': 1,\n       'Appeal to Judge': 1,\n       'Add penalty': 1,\n       'Insert Fine Notification': 1,\n       'Send for Credit Collection': 1,\n       'Create Fine': 1,\n       'Send Fine': 1}},\n     'meta_general:classified_events_min': {'value': 2,\n      'children': {'Payment': 0,\n       'Insert Date Appeal to Prefecture': 0,\n       'Receive Result Appeal from Prefecture': 0,\n       'Send Appeal to Prefecture': 0,\n       'Notify Result Appeal to Offender': 0,\n       'Appeal to Judge': 0,\n       'Add penalty': 0,\n       'Insert Fine Notification': 0,\n       'Send for Credit Collection': 0,\n       'Create Fine': 1,\n       'Send Fine': 0}},\n     'meta_general:different_classified_max': 10,\n     'meta_general:different_classified_min': 2,\n     'meta_general:classified_events_standard_deviation': {'value': 1.641,\n      'children': {'Payment': 0.605,\n       'Insert Date Appeal to Prefecture': 0.165,\n       'Receive Result Appeal from Prefecture': 0.081,\n       'Send Appeal to Prefecture': 0.164,\n       'Notify Result Appeal to Offender': 0.077,\n       'Appeal to Judge': 0.061,\n       'Add penalty': 0.499,\n       'Insert Fine Notification': 0.499,\n       'Send for Credit Collection': 0.488,\n       'Create Fine': 0.0,\n       'Send Fine': 0.462}},\n     'meta_general:different_classified_average': 3.681,\n     'meta_general:different_traces': {'value': 231,\n      'children': {'Create Fine;Send Fine;Insert Fine Notification;Add penalty;Payment;Payment;Payment;Payment;Payment': 4,\n       'Create Fine;Send Fine;Payment;Insert Fine Notification;Add penalty;Payment': 56,\n       'Create Fine;Send Fine;Insert Date Appeal to Prefecture;Insert Fine Notification;Send Appeal to Prefecture;Add penalty;Receive Result Appeal from Prefecture;Notify Result Appeal to Offender;Payment;Payment': 1,\n       'Create Fine;Send Fine;Insert Fine Notification;Insert Date Appeal to Prefecture;Add penalty;Send Appeal to Prefecture;Receive Result Appeal from Prefecture;Notify Result Appeal to Offender;Payment': 139,\n       'Create Fine;Send Fine;Insert Fine Notification;Add penalty;Payment;Payment;Payment;Payment': 13,\n       'Create Fine;Send Fine;Insert Fine Notification;Add penalty;Payment': 9520,\n       'Create Fine;Send Fine;Insert Fine Notification;Appeal to Judge;Add penalty;Insert Date Appeal to Prefecture;Send Appeal to Prefecture': 1,\n       'Create Fine;Send Fine;Insert Fine Notification;Add penalty;Insert Date Appeal to Prefecture;Receive Result Appeal from Prefecture;Notify Result Appeal to Offender;Appeal to Judge;Send Appeal to Prefecture': 1,\n       'Create Fine;Send Fine;Insert Fine Notification;Add penalty;Insert Date Appeal to Prefecture;Send Appeal to Prefecture;Receive Result Appeal from Prefecture;Notify Result Appeal to Offender;Appeal to Judge': 12,\n       'Create Fine;Send Fine;Insert Fine Notification;Appeal to Judge;Add penalty;Insert Date Appeal to Prefecture;Send Appeal to Prefecture;Payment': 1,\n       'Create Fine;Send Fine;Insert Fine Notification;Add penalty;Appeal to Judge;Payment;Payment': 1,\n       'Create Fine;Send Fine;Insert Fine Notification;Insert Date Appeal to Prefecture;Send Appeal to Prefecture;Add penalty;Receive Result Appeal from Prefecture;Appeal to Judge;Notify Result Appeal to Offender;Payment': 1,\n       'Create Fine;Send Fine;Insert Fine Notification;Insert Date Appeal to Prefecture;Appeal to Judge;Send Appeal to Prefecture;Add penalty;Payment;Payment;Payment;Payment;Payment': 1,\n       'Create Fine;Send Fine;Insert Fine Notification;Add penalty;Insert Date Appeal to Prefecture;Send Appeal to Prefecture;Receive Result Appeal from Prefecture;Appeal to Judge;Notify Result Appeal to Offender': 1,\n       'Create Fine;Send Fine;Insert Fine Notification;Add penalty;Receive Result Appeal from Prefecture;Notify Result Appeal to Offender': 2,\n       'Create Fine;Send Fine;Insert Fine Notification;Insert Date Appeal to Prefecture;Appeal to Judge;Add penalty;Send Appeal to Prefecture;Receive Result Appeal from Prefecture;Notify Result Appeal to Offender': 1,\n       'Create Fine;Send Fine;Insert Fine Notification;Add penalty;Appeal to Judge': 32,\n       'Create Fine;Send Fine;Insert Fine Notification;Insert Date Appeal to Prefecture;Add penalty;Send Appeal to Prefecture;Receive Result Appeal from Prefecture;Payment': 15,\n       'Create Fine;Send Fine;Insert Date Appeal to Prefecture;Insert Fine Notification;Add penalty;Payment': 3,\n       'Create Fine;Insert Date Appeal to Prefecture;Send Appeal to Prefecture;Send Fine;Insert Fine Notification;Payment;Add penalty;Payment': 1,\n       'Create Fine;Send Fine;Insert Fine Notification;Insert Date Appeal to Prefecture;Send Appeal to Prefecture;Add penalty;Receive Result Appeal from Prefecture;Notify Result Appeal to Offender': 13,\n       'Create Fine;Send Fine;Insert Fine Notification;Payment;Add penalty;Payment;Payment;Payment;Payment': 1,\n       'Create Fine;Send Fine;Insert Fine Notification;Appeal to Judge;Add penalty;Payment;Payment;Send for Credit Collection': 1,\n       'Create Fine;Send Fine;Insert Fine Notification;Add penalty;Appeal to Judge;Send for Credit Collection': 16,\n       'Create Fine;Send Fine;Insert Date Appeal to Prefecture;Send Appeal to Prefecture;Payment': 3,\n       'Create Fine;Send Fine;Insert Fine Notification;Insert Date Appeal to Prefecture;Add penalty;Send Appeal to Prefecture;Receive Result Appeal from Prefecture;Notify Result Appeal to Offender;Payment;Payment;Payment;Payment;Payment;Payment': 1,\n       'Create Fine;Send Fine;Insert Fine Notification;Appeal to Judge;Insert Date Appeal to Prefecture;Send Appeal to Prefecture;Add penalty;Payment': 4,\n       'Create Fine;Send Fine;Insert Fine Notification;Payment;Add penalty;Payment;Payment': 14,\n       'Create Fine;Send Fine;Insert Fine Notification;Insert Date Appeal to Prefecture;Send Appeal to Prefecture;Add penalty;Receive Result Appeal from Prefecture;Notify Result Appeal to Offender;Payment;Payment': 2,\n       'Create Fine;Send Fine;Insert Fine Notification;Receive Result Appeal from Prefecture;Insert Date Appeal to Prefecture;Send Appeal to Prefecture;Add penalty;Payment': 1,\n       'Create Fine;Payment;Send Fine;Insert Fine Notification;Payment;Add penalty;Payment': 7,\n       'Create Fine;Send Fine;Insert Date Appeal to Prefecture;Insert Fine Notification;Add penalty;Send Appeal to Prefecture;Receive Result Appeal from Prefecture;Notify Result Appeal to Offender;Send for Credit Collection': 1,\n       'Create Fine;Send Fine;Insert Fine Notification;Insert Date Appeal to Prefecture;Add penalty;Receive Result Appeal from Prefecture;Notify Result Appeal to Offender;Payment': 5,\n       'Create Fine;Send Fine;Insert Fine Notification;Payment;Add penalty;Insert Date Appeal to Prefecture;Send Appeal to Prefecture': 4,\n       'Create Fine;Send Fine;Insert Fine Notification;Insert Date Appeal to Prefecture;Send Appeal to Prefecture;Add penalty;Receive Result Appeal from Prefecture;Notify Result Appeal to Offender;Payment;Payment;Payment;Payment;Payment;Payment': 3,\n       'Create Fine;Send Fine;Insert Fine Notification;Insert Date Appeal to Prefecture;Send Appeal to Prefecture;Add penalty;Receive Result Appeal from Prefecture;Notify Result Appeal to Offender;Appeal to Judge;Payment;Payment;Payment;Payment;Payment;Payment': 1,\n       'Create Fine;Send Fine;Insert Fine Notification;Insert Date Appeal to Prefecture;Add penalty;Send Appeal to Prefecture;Receive Result Appeal from Prefecture;Notify Result Appeal to Offender;Appeal to Judge;Payment;Payment': 2,\n       'Create Fine;Send Fine;Insert Fine Notification;Insert Date Appeal to Prefecture;Add penalty;Receive Result Appeal from Prefecture;Notify Result Appeal to Offender;Appeal to Judge': 2,\n       'Create Fine;Send Fine;Send Appeal to Prefecture;Insert Fine Notification;Insert Date Appeal to Prefecture;Add penalty;Receive Result Appeal from Prefecture;Notify Result Appeal to Offender': 1,\n       'Create Fine;Send Fine;Insert Fine Notification;Add penalty;Notify Result Appeal to Offender;Receive Result Appeal from Prefecture;Send for Credit Collection': 1,\n       'Create Fine;Send Fine;Insert Fine Notification;Add penalty;Payment;Appeal to Judge;Payment': 1,\n       'Create Fine;Send Fine;Insert Fine Notification;Insert Date Appeal to Prefecture;Send Appeal to Prefecture;Add penalty;Receive Result Appeal from Prefecture;Notify Result Appeal to Offender;Send for Credit Collection': 81,\n       'Create Fine;Send Fine;Insert Fine Notification;Add penalty;Insert Date Appeal to Prefecture;Send Appeal to Prefecture;Receive Result Appeal from Prefecture;Notify Result Appeal to Offender;Payment;Payment': 5,\n       'Create Fine;Send Fine;Insert Fine Notification;Insert Date Appeal to Prefecture;Send Appeal to Prefecture;Add penalty;Payment;Receive Result Appeal from Prefecture;Notify Result Appeal to Offender;Payment': 1,\n       'Create Fine;Send Fine;Insert Fine Notification;Payment;Add penalty;Payment': 3301,\n       'Create Fine;Send Fine;Insert Fine Notification;Insert Date Appeal to Prefecture;Add penalty;Send Appeal to Prefecture;Receive Result Appeal from Prefecture;Appeal to Judge': 1,\n       'Create Fine;Send Fine;Insert Fine Notification;Insert Date Appeal to Prefecture;Send Appeal to Prefecture;Receive Result Appeal from Prefecture;Add penalty;Notify Result Appeal to Offender;Appeal to Judge;Send for Credit Collection': 1,\n       'Create Fine;Send Fine;Insert Fine Notification;Add penalty;Payment;Payment;Payment;Payment;Payment;Payment;Payment;Payment;Payment;Payment;Send for Credit Collection': 1,\n       'Create Fine;Send Fine;Insert Fine Notification;Add penalty;Receive Result Appeal from Prefecture;Notify Result Appeal to Offender;Payment': 6,\n       'Create Fine;Send Fine;Insert Fine Notification;Insert Date Appeal to Prefecture;Send Appeal to Prefecture;Payment;Add penalty;Payment': 2,\n       'Create Fine;Appeal to Judge;Send Fine': 3,\n       'Create Fine;Send Fine;Insert Fine Notification;Insert Date Appeal to Prefecture;Add penalty;Receive Result Appeal from Prefecture;Send Appeal to Prefecture;Notify Result Appeal to Offender;Send for Credit Collection': 1,\n       'Create Fine;Send Fine;Insert Date Appeal to Prefecture;Send Appeal to Prefecture;Insert Fine Notification;Appeal to Judge;Add penalty;Payment': 1,\n       'Create Fine;Send Fine;Insert Fine Notification;Add penalty;Insert Date Appeal to Prefecture;Send Appeal to Prefecture;Receive Result Appeal from Prefecture;Appeal to Judge;Notify Result Appeal to Offender;Payment': 1,\n       'Create Fine;Send Fine;Insert Fine Notification;Add penalty;Payment;Payment;Payment;Send for Credit Collection': 2,\n       'Create Fine;Send Fine;Insert Fine Notification;Add penalty;Appeal to Judge;Payment;Payment;Payment;Payment;Payment': 1,\n       'Create Fine;Send Fine;Insert Fine Notification;Payment;Add penalty;Appeal to Judge': 1,\n       'Create Fine;Send Fine;Insert Fine Notification;Appeal to Judge;Add penalty;Payment;Payment;Payment': 1,\n       'Create Fine;Send Fine;Insert Fine Notification;Insert Date Appeal to Prefecture;Send Appeal to Prefecture;Add penalty;Payment;Payment': 7,\n       'Create Fine;Payment;Send Fine;Insert Fine Notification;Insert Date Appeal to Prefecture;Send Appeal to Prefecture;Add penalty;Receive Result Appeal from Prefecture;Notify Result Appeal to Offender': 1,\n       'Create Fine;Insert Date Appeal to Prefecture;Send Fine;Insert Fine Notification;Send Appeal to Prefecture;Add penalty;Payment;Payment': 1,\n       'Create Fine;Send Fine;Insert Fine Notification;Insert Date Appeal to Prefecture;Add penalty;Receive Result Appeal from Prefecture;Payment': 1,\n       'Create Fine;Send Fine;Insert Fine Notification;Payment;Add penalty;Payment;Payment;Payment;Payment;Payment;Payment;Payment': 1,\n       'Create Fine;Send Fine;Insert Fine Notification;Insert Date Appeal to Prefecture;Appeal to Judge;Send Appeal to Prefecture;Add penalty;Receive Result Appeal from Prefecture;Notify Result Appeal to Offender;Send for Credit Collection': 1,\n       'Create Fine;Send Fine;Insert Fine Notification;Add penalty;Insert Date Appeal to Prefecture;Send Appeal to Prefecture;Receive Result Appeal from Prefecture;Payment': 3,\n       'Create Fine;Send Fine;Insert Fine Notification;Add penalty;Payment;Payment;Payment;Payment;Send for Credit Collection': 1,\n       'Create Fine;Send Fine;Send Appeal to Prefecture;Insert Fine Notification;Insert Date Appeal to Prefecture;Add penalty;Payment': 1,\n       'Create Fine;Send Fine;Insert Fine Notification;Add penalty;Payment;Payment;Payment': 69,\n       'Create Fine;Send Fine;Insert Fine Notification;Insert Date Appeal to Prefecture;Add penalty;Send Appeal to Prefecture;Receive Result Appeal from Prefecture;Payment;Notify Result Appeal to Offender;Payment': 1,\n       'Create Fine;Insert Date Appeal to Prefecture;Send Fine;Insert Fine Notification;Send Appeal to Prefecture;Add penalty;Payment': 1,\n       'Create Fine;Send Fine;Insert Fine Notification;Add penalty;Receive Result Appeal from Prefecture;Notify Result Appeal to Offender;Send for Credit Collection': 2,\n       'Create Fine;Send Fine;Insert Fine Notification;Insert Date Appeal to Prefecture;Add penalty;Send Appeal to Prefecture;Receive Result Appeal from Prefecture;Notify Result Appeal to Offender;Payment;Payment': 3,\n       'Create Fine;Insert Date Appeal to Prefecture;Send Fine;Send Appeal to Prefecture': 2,\n       'Create Fine;Send Fine;Insert Fine Notification;Insert Date Appeal to Prefecture;Send Appeal to Prefecture;Add penalty;Payment': 17,\n       'Create Fine;Send Fine;Insert Fine Notification;Insert Date Appeal to Prefecture;Receive Result Appeal from Prefecture;Send Appeal to Prefecture;Add penalty;Payment': 1,\n       'Create Fine;Send Fine;Insert Fine Notification;Insert Date Appeal to Prefecture;Send Appeal to Prefecture;Receive Result Appeal from Prefecture;Add penalty;Notify Result Appeal to Offender;Payment;Send for Credit Collection': 2,\n       'Create Fine;Send Fine;Insert Fine Notification;Add penalty;Insert Date Appeal to Prefecture;Receive Result Appeal from Prefecture;Send Appeal to Prefecture;Notify Result Appeal to Offender;Payment': 2,\n       'Create Fine;Send Fine;Insert Fine Notification;Insert Date Appeal to Prefecture;Send Appeal to Prefecture;Receive Result Appeal from Prefecture;Add penalty;Notify Result Appeal to Offender;Appeal to Judge;Payment;Payment': 1,\n       'Create Fine;Send Fine;Insert Fine Notification;Add penalty;Payment;Insert Date Appeal to Prefecture;Send Appeal to Prefecture': 1,\n       'Create Fine;Send Fine;Insert Fine Notification;Add penalty;Payment;Payment;Payment;Payment;Payment;Payment;Payment;Payment': 1,\n       'Create Fine;Send Fine;Insert Fine Notification;Insert Date Appeal to Prefecture;Send Appeal to Prefecture;Add penalty;Receive Result Appeal from Prefecture;Notify Result Appeal to Offender;Payment;Payment;Send for Credit Collection': 1,\n       'Create Fine;Insert Date Appeal to Prefecture;Send Fine;Insert Fine Notification;Send Appeal to Prefecture;Add penalty;Receive Result Appeal from Prefecture;Notify Result Appeal to Offender;Send for Credit Collection': 1,\n       'Create Fine;Send Fine;Insert Fine Notification;Add penalty;Insert Date Appeal to Prefecture;Receive Result Appeal from Prefecture;Notify Result Appeal to Offender;Send Appeal to Prefecture;Send for Credit Collection': 2,\n       'Create Fine;Send Fine;Insert Date Appeal to Prefecture;Insert Fine Notification;Add penalty;Send Appeal to Prefecture': 10,\n       'Create Fine;Send Fine;Insert Fine Notification;Add penalty;Receive Result Appeal from Prefecture;Notify Result Appeal to Offender;Appeal to Judge;Payment': 1,\n       'Create Fine;Send Fine;Insert Fine Notification;Add penalty;Insert Date Appeal to Prefecture;Send Appeal to Prefecture;Receive Result Appeal from Prefecture;Notify Result Appeal to Offender;Appeal to Judge;Send for Credit Collection': 4,\n       'Create Fine;Send Fine;Insert Fine Notification;Add penalty;Insert Date Appeal to Prefecture;Send Appeal to Prefecture;Payment;Payment;Payment;Payment;Payment;Payment;Payment;Payment;Payment;Payment': 1,\n       'Create Fine;Send Fine;Insert Fine Notification;Insert Date Appeal to Prefecture;Add penalty;Send Appeal to Prefecture;Payment;Payment': 1,\n       'Create Fine;Send Fine;Insert Fine Notification;Insert Date Appeal to Prefecture;Send Appeal to Prefecture;Add penalty;Receive Result Appeal from Prefecture': 22,\n       'Create Fine;Payment;Payment;Send Fine': 1,\n       'Create Fine;Send Fine;Insert Fine Notification;Insert Date Appeal to Prefecture;Add penalty;Receive Result Appeal from Prefecture;Notify Result Appeal to Offender;Send for Credit Collection;Send Appeal to Prefecture': 8,\n       'Create Fine;Send Fine;Insert Fine Notification;Insert Date Appeal to Prefecture;Receive Result Appeal from Prefecture;Send Appeal to Prefecture;Add penalty;Notify Result Appeal to Offender;Payment': 3,\n       'Create Fine;Send Fine;Insert Fine Notification;Insert Date Appeal to Prefecture;Payment;Add penalty;Send Appeal to Prefecture': 9,\n       'Create Fine;Send Fine;Insert Fine Notification;Insert Date Appeal to Prefecture;Add penalty;Send Appeal to Prefecture;Receive Result Appeal from Prefecture;Notify Result Appeal to Offender;Appeal to Judge': 42,\n       'Create Fine;Send Fine;Insert Fine Notification;Insert Date Appeal to Prefecture;Send Appeal to Prefecture;Add penalty;Receive Result Appeal from Prefecture;Notify Result Appeal to Offender;Payment': 114,\n       'Create Fine;Send Fine;Insert Fine Notification;Insert Date Appeal to Prefecture;Add penalty;Send Appeal to Prefecture;Receive Result Appeal from Prefecture;Notify Result Appeal to Offender;Appeal to Judge;Payment': 20,\n       'Create Fine;Send Fine;Insert Fine Notification;Insert Date Appeal to Prefecture;Add penalty;Send Appeal to Prefecture;Notify Result Appeal to Offender;Receive Result Appeal from Prefecture': 1,\n       'Create Fine;Send Fine;Insert Fine Notification;Payment;Add penalty;Send for Credit Collection': 522,\n       'Create Fine;Send Fine;Insert Fine Notification;Add penalty;Insert Date Appeal to Prefecture;Send Appeal to Prefecture': 443,\n       'Create Fine;Send Fine;Insert Fine Notification;Add penalty;Payment;Send for Credit Collection': 1515,\n       'Create Fine;Send Fine;Insert Fine Notification;Add penalty;Insert Date Appeal to Prefecture;Send Appeal to Prefecture;Receive Result Appeal from Prefecture;Notify Result Appeal to Offender;Send for Credit Collection': 49,\n       'Create Fine;Send Fine;Insert Date Appeal to Prefecture;Payment;Send Appeal to Prefecture': 1,\n       'Create Fine;Send Fine;Insert Fine Notification;Insert Date Appeal to Prefecture;Send Appeal to Prefecture;Add penalty;Receive Result Appeal from Prefecture;Notify Result Appeal to Offender;Appeal to Judge;Send for Credit Collection': 4,\n       'Create Fine;Send Fine;Insert Fine Notification;Insert Date Appeal to Prefecture;Add penalty;Send Appeal to Prefecture;Payment': 7,\n       'Create Fine;Insert Date Appeal to Prefecture;Send Appeal to Prefecture;Send Fine;Insert Fine Notification;Add penalty;Payment': 1,\n       'Create Fine;Insert Date Appeal to Prefecture;Send Fine;Insert Fine Notification;Add penalty;Send Appeal to Prefecture': 9,\n       'Create Fine;Insert Date Appeal to Prefecture;Send Fine;Insert Fine Notification;Send Appeal to Prefecture;Add penalty;Receive Result Appeal from Prefecture;Payment': 1,\n       'Create Fine;Send Fine;Insert Fine Notification;Insert Date Appeal to Prefecture;Add penalty;Payment;Payment': 2,\n       'Create Fine;Send Fine;Appeal to Judge': 7,\n       'Create Fine;Send Fine;Insert Fine Notification;Appeal to Judge;Add penalty;Payment;Payment;Payment;Payment;Payment;Payment': 1,\n       'Create Fine;Send Fine;Insert Fine Notification;Insert Date Appeal to Prefecture;Add penalty;Receive Result Appeal from Prefecture;Notify Result Appeal to Offender': 1,\n       'Create Fine;Send Fine;Insert Fine Notification;Appeal to Judge;Add penalty;Payment;Payment;Payment;Payment;Payment;Payment;Payment;Payment;Payment;Payment;Payment': 1,\n       'Create Fine;Send Fine;Insert Fine Notification;Appeal to Judge;Add penalty;Payment;Payment;Payment;Payment;Payment;Payment;Payment;Payment;Payment;Payment': 1,\n       'Create Fine;Send Fine;Insert Fine Notification;Insert Date Appeal to Prefecture;Appeal to Judge;Add penalty;Send Appeal to Prefecture': 2,\n       'Create Fine;Send Fine;Insert Fine Notification;Add penalty;Insert Date Appeal to Prefecture;Receive Result Appeal from Prefecture;Notify Result Appeal to Offender': 1,\n       'Create Fine;Send Fine;Insert Fine Notification;Appeal to Judge;Add penalty;Payment;Send for Credit Collection': 5,\n       'Create Fine;Send Fine;Insert Fine Notification;Appeal to Judge;Add penalty;Payment;Payment': 19,\n       'Create Fine;Send Fine;Insert Date Appeal to Prefecture;Insert Fine Notification;Send Appeal to Prefecture;Add penalty;Receive Result Appeal from Prefecture;Notify Result Appeal to Offender;Payment': 2,\n       'Create Fine;Send Fine;Insert Fine Notification;Insert Date Appeal to Prefecture;Add penalty;Payment;Payment;Payment': 1,\n       'Create Fine;Send Fine;Payment;Payment': 34,\n       'Create Fine;Payment;Send Fine;Payment': 58,\n       'Create Fine;Send Fine;Insert Fine Notification;Insert Date Appeal to Prefecture;Send Appeal to Prefecture;Receive Result Appeal from Prefecture;Add penalty;Notify Result Appeal to Offender;Payment': 15,\n       'Create Fine;Send Fine;Insert Fine Notification;Add penalty;Appeal to Judge;Receive Result Appeal from Prefecture': 1,\n       'Create Fine;Send Fine;Insert Fine Notification;Insert Date Appeal to Prefecture;Add penalty;Receive Result Appeal from Prefecture;Notify Result Appeal to Offender;Send Appeal to Prefecture;Send for Credit Collection': 1,\n       'Create Fine;Send Fine;Insert Fine Notification;Add penalty;Insert Date Appeal to Prefecture;Send Appeal to Prefecture;Receive Result Appeal from Prefecture;Notify Result Appeal to Offender;Appeal to Judge;Payment;Payment': 1,\n       'Create Fine;Send Fine;Insert Date Appeal to Prefecture;Insert Fine Notification;Send Appeal to Prefecture;Receive Result Appeal from Prefecture;Add penalty;Notify Result Appeal to Offender;Send for Credit Collection': 2,\n       'Create Fine;Send Fine;Insert Fine Notification;Insert Date Appeal to Prefecture;Send Appeal to Prefecture;Add penalty;Receive Result Appeal from Prefecture;Appeal to Judge': 1,\n       'Create Fine;Payment;Send Fine;Insert Fine Notification;Add penalty;Insert Date Appeal to Prefecture;Send Appeal to Prefecture': 2,\n       'Create Fine;Send Fine;Insert Fine Notification;Add penalty;Insert Date Appeal to Prefecture;Send Appeal to Prefecture;Receive Result Appeal from Prefecture;Notify Result Appeal to Offender;Appeal to Judge;Payment': 3,\n       'Create Fine;Send Fine;Insert Date Appeal to Prefecture;Send Appeal to Prefecture;Appeal to Judge': 3,\n       'Create Fine;Send Fine;Insert Fine Notification;Insert Date Appeal to Prefecture;Send Appeal to Prefecture;Add penalty;Receive Result Appeal from Prefecture;Notify Result Appeal to Offender;Payment;Appeal to Judge': 1,\n       'Create Fine;Send Fine;Insert Fine Notification;Add penalty;Appeal to Judge;Payment;Payment;Payment;Payment': 1,\n       'Create Fine;Send Fine;Insert Fine Notification;Insert Date Appeal to Prefecture;Add penalty;Payment;Payment;Payment;Payment;Payment;Payment;Payment;Payment;Payment;Payment': 1,\n       'Create Fine;Send Fine;Insert Fine Notification;Add penalty;Insert Date Appeal to Prefecture;Payment;Payment;Payment;Payment': 1,\n       'Create Fine;Send Fine;Insert Fine Notification;Insert Date Appeal to Prefecture;Send Appeal to Prefecture;Receive Result Appeal from Prefecture;Add penalty;Notify Result Appeal to Offender;Payment;Payment': 2,\n       'Create Fine;Send Fine;Appeal to Judge;Insert Date Appeal to Prefecture;Send Appeal to Prefecture': 3,\n       'Create Fine;Send Fine;Insert Fine Notification;Insert Date Appeal to Prefecture;Send Appeal to Prefecture;Receive Result Appeal from Prefecture;Notify Result Appeal to Offender;Add penalty;Appeal to Judge': 2,\n       'Create Fine;Send Fine;Insert Fine Notification;Add penalty;Insert Date Appeal to Prefecture;Send Appeal to Prefecture;Receive Result Appeal from Prefecture': 8,\n       'Create Fine;Send Fine;Payment;Insert Fine Notification;Add penalty;Send for Credit Collection': 14,\n       'Create Fine;Send Fine;Insert Fine Notification;Add penalty;Appeal to Judge;Payment;Payment;Payment': 2,\n       'Create Fine;Send Fine;Insert Fine Notification;Payment;Payment;Add penalty;Payment': 20,\n       'Create Fine;Send Fine;Insert Fine Notification;Insert Date Appeal to Prefecture;Send Appeal to Prefecture;Receive Result Appeal from Prefecture;Add penalty;Notify Result Appeal to Offender;Appeal to Judge;Payment': 1,\n       'Create Fine;Send Fine;Insert Fine Notification;Insert Date Appeal to Prefecture;Send Appeal to Prefecture;Receive Result Appeal from Prefecture;Add penalty;Payment': 2,\n       'Create Fine;Send Fine;Insert Fine Notification;Add penalty;Insert Date Appeal to Prefecture;Receive Result Appeal from Prefecture;Notify Result Appeal to Offender;Appeal to Judge;Send for Credit Collection;Send Appeal to Prefecture': 1,\n       'Create Fine;Payment;Send Fine;Insert Fine Notification;Add penalty;Payment': 89,\n       'Create Fine;Send Fine;Insert Fine Notification;Add penalty;Payment;Payment;Payment;Payment;Payment;Payment': 4,\n       'Create Fine;Send Fine;Insert Fine Notification;Insert Date Appeal to Prefecture;Add penalty;Send Appeal to Prefecture;Receive Result Appeal from Prefecture;Notify Result Appeal to Offender;Appeal to Judge;Send for Credit Collection': 6,\n       'Create Fine;Send Fine;Insert Fine Notification;Add penalty;Insert Date Appeal to Prefecture;Receive Result Appeal from Prefecture;Notify Result Appeal to Offender;Payment': 12,\n       'Create Fine;Payment;Payment': 12,\n       'Create Fine;Send Fine;Insert Fine Notification;Insert Date Appeal to Prefecture;Add penalty;Send Appeal to Prefecture;Receive Result Appeal from Prefecture;Appeal to Judge;Notify Result Appeal to Offender': 3,\n       'Create Fine;Send Fine;Insert Fine Notification;Add penalty;Appeal to Judge;Payment': 23,\n       'Create Fine;Payment;Send Fine;Insert Fine Notification;Insert Date Appeal to Prefecture;Add penalty;Send Appeal to Prefecture': 1,\n       'Create Fine;Send Fine;Insert Fine Notification;Appeal to Judge;Add penalty;Send for Credit Collection': 108,\n       'Create Fine;Send Fine;Insert Fine Notification;Insert Date Appeal to Prefecture;Send Appeal to Prefecture;Receive Result Appeal from Prefecture;Add penalty;Notify Result Appeal to Offender;Appeal to Judge': 6,\n       'Create Fine;Send Fine;Insert Fine Notification;Payment;Add penalty;Insert Date Appeal to Prefecture;Send Appeal to Prefecture;Payment': 1,\n       'Create Fine;Send Fine;Insert Fine Notification;Insert Date Appeal to Prefecture;Send Appeal to Prefecture;Appeal to Judge;Add penalty;Payment;Payment;Payment;Payment;Payment;Payment;Payment;Payment;Payment;Payment': 1,\n       'Create Fine;Send Fine;Payment': 3131,\n       'Create Fine;Send Fine;Insert Fine Notification;Payment;Add penalty;Payment;Payment;Payment': 3,\n       'Create Fine;Payment;Payment;Send Fine;Insert Fine Notification;Add penalty;Payment': 1,\n       'Create Fine;Send Fine;Insert Fine Notification;Appeal to Judge;Add penalty;Payment;Payment;Payment;Payment;Payment;Payment;Payment;Payment;Payment;Payment;Payment;Payment': 1,\n       'Create Fine;Send Fine;Insert Fine Notification;Appeal to Judge;Add penalty;Payment;Payment;Payment;Payment;Payment;Payment;Payment;Payment;Payment;Payment;Payment;Payment;Payment;Payment;Payment': 1,\n       'Create Fine;Send Fine;Insert Date Appeal to Prefecture;Insert Fine Notification;Send Appeal to Prefecture;Add penalty;Payment': 2,\n       'Create Fine;Send Fine;Insert Fine Notification;Insert Date Appeal to Prefecture;Add penalty;Receive Result Appeal from Prefecture;Send Appeal to Prefecture;Payment': 1,\n       'Create Fine;Insert Date Appeal to Prefecture;Send Appeal to Prefecture;Send Fine': 4,\n       'Create Fine;Send Fine;Insert Date Appeal to Prefecture;Send Appeal to Prefecture;Receive Result Appeal from Prefecture': 1,\n       'Create Fine;Send Fine;Insert Fine Notification;Appeal to Judge;Insert Date Appeal to Prefecture;Send Appeal to Prefecture;Add penalty;Receive Result Appeal from Prefecture;Notify Result Appeal to Offender': 3,\n       'Create Fine;Send Fine;Insert Fine Notification;Add penalty;Insert Date Appeal to Prefecture;Send Appeal to Prefecture;Payment': 2,\n       'Create Fine;Send Fine;Insert Fine Notification;Insert Date Appeal to Prefecture;Add penalty;Receive Result Appeal from Prefecture;Send Appeal to Prefecture': 6,\n       'Create Fine;Send Fine;Insert Fine Notification;Add penalty;Insert Date Appeal to Prefecture;Payment': 2,\n       'Create Fine;Payment;Send Fine;Insert Fine Notification;Add penalty;Send for Credit Collection': 45,\n       'Create Fine;Send Fine;Insert Fine Notification;Insert Date Appeal to Prefecture;Send Appeal to Prefecture;Receive Result Appeal from Prefecture;Add penalty;Notify Result Appeal to Offender;Send for Credit Collection': 11,\n       'Create Fine;Payment;Send Fine;Insert Fine Notification;Payment;Add penalty;Send for Credit Collection': 1,\n       'Create Fine;Send Fine;Insert Date Appeal to Prefecture;Send Appeal to Prefecture;Insert Fine Notification;Add penalty;Payment': 1,\n       'Create Fine;Send Fine;Insert Fine Notification;Insert Date Appeal to Prefecture;Send Appeal to Prefecture;Add penalty;Receive Result Appeal from Prefecture;Notify Result Appeal to Offender;Payment;Send for Credit Collection': 1,\n       'Create Fine;Send Fine;Insert Fine Notification;Appeal to Judge;Insert Date Appeal to Prefecture;Add penalty;Send Appeal to Prefecture': 2,\n       'Create Fine;Send Fine;Insert Fine Notification;Insert Date Appeal to Prefecture;Send Appeal to Prefecture;Add penalty;Receive Result Appeal from Prefecture;Notify Result Appeal to Offender;Appeal to Judge': 20,\n       'Create Fine;Send Fine;Insert Fine Notification;Insert Date Appeal to Prefecture;Send Appeal to Prefecture;Add penalty;Receive Result Appeal from Prefecture;Notify Result Appeal to Offender;Appeal to Judge;Payment': 9,\n       'Create Fine;Send Fine;Insert Fine Notification;Add penalty;Receive Result Appeal from Prefecture;Notify Result Appeal to Offender;Appeal to Judge': 2,\n       'Create Fine;Send Fine;Insert Fine Notification;Insert Date Appeal to Prefecture;Add penalty;Send Appeal to Prefecture;Payment;Payment;Payment': 1,\n       'Create Fine;Send Fine;Insert Fine Notification;Add penalty;Payment;Payment;Payment;Payment;Payment;Payment;Payment': 5,\n       'Create Fine;Send Fine;Insert Fine Notification;Insert Date Appeal to Prefecture;Add penalty;Send Appeal to Prefecture;Receive Result Appeal from Prefecture': 19,\n       'Create Fine;Send Fine;Insert Fine Notification;Insert Date Appeal to Prefecture;Add penalty;Payment': 9,\n       'Create Fine;Send Fine;Insert Fine Notification;Appeal to Judge;Add penalty;Payment': 135,\n       'Create Fine;Send Fine;Insert Fine Notification;Appeal to Judge;Insert Date Appeal to Prefecture;Add penalty;Payment': 1,\n       'Create Fine;Payment;Send Fine': 362,\n       'Create Fine;Send Fine;Insert Fine Notification;Insert Date Appeal to Prefecture;Add penalty;Send Appeal to Prefecture;Receive Result Appeal from Prefecture;Appeal to Judge;Notify Result Appeal to Offender;Send for Credit Collection': 1,\n       'Create Fine;Send Fine;Insert Fine Notification;Send Appeal to Prefecture;Insert Date Appeal to Prefecture;Add penalty;Receive Result Appeal from Prefecture;Notify Result Appeal to Offender': 2,\n       'Create Fine;Send Fine;Insert Fine Notification;Insert Date Appeal to Prefecture;Add penalty;Send Appeal to Prefecture;Receive Result Appeal from Prefecture;Appeal to Judge;Payment': 1,\n       'Create Fine;Insert Date Appeal to Prefecture;Send Appeal to Prefecture;Send Fine;Payment': 1,\n       'Create Fine;Send Fine': 20385,\n       'Create Fine;Payment;Send Fine;Insert Fine Notification;Add penalty;Payment;Send for Credit Collection': 1,\n       'Create Fine;Send Fine;Insert Fine Notification;Insert Date Appeal to Prefecture;Send Appeal to Prefecture;Add penalty;Receive Result Appeal from Prefecture;Appeal to Judge;Notify Result Appeal to Offender': 1,\n       'Create Fine;Send Fine;Insert Fine Notification;Insert Date Appeal to Prefecture;Send Appeal to Prefecture;Receive Result Appeal from Prefecture;Add penalty;Payment;Payment': 1,\n       'Create Fine;Send Fine;Insert Fine Notification;Insert Date Appeal to Prefecture;Send Appeal to Prefecture;Add penalty;Receive Result Appeal from Prefecture;Payment;Payment': 2,\n       'Create Fine;Send Fine;Insert Fine Notification;Payment;Add penalty;Payment;Payment;Payment;Payment;Payment;Payment': 1,\n       'Create Fine;Send Fine;Insert Fine Notification;Add penalty;Send for Credit Collection': 56482,\n       'Create Fine;Send Fine;Insert Fine Notification;Insert Date Appeal to Prefecture;Send Appeal to Prefecture;Receive Result Appeal from Prefecture;Notify Result Appeal to Offender;Add penalty;Payment': 6,\n       'Create Fine;Send Fine;Insert Fine Notification;Insert Date Appeal to Prefecture;Add penalty;Payment;Send Appeal to Prefecture': 3,\n       'Create Fine;Send Fine;Insert Date Appeal to Prefecture;Insert Fine Notification;Send Appeal to Prefecture;Add penalty;Receive Result Appeal from Prefecture;Notify Result Appeal to Offender;Send for Credit Collection': 3,\n       'Create Fine;Send Fine;Insert Date Appeal to Prefecture;Insert Fine Notification;Appeal to Judge;Send Appeal to Prefecture;Add penalty;Payment': 1,\n       'Create Fine;Send Fine;Insert Date Appeal to Prefecture;Send Appeal to Prefecture': 126,\n       'Create Fine;Send Fine;Insert Fine Notification;Receive Result Appeal from Prefecture;Add penalty;Notify Result Appeal to Offender;Payment': 1,\n       'Create Fine;Send Fine;Insert Fine Notification;Add penalty;Insert Date Appeal to Prefecture;Send Appeal to Prefecture;Receive Result Appeal from Prefecture;Notify Result Appeal to Offender;Payment': 61,\n       'Create Fine;Send Fine;Insert Fine Notification;Insert Date Appeal to Prefecture;Add penalty;Send Appeal to Prefecture;Receive Result Appeal from Prefecture;Notify Result Appeal to Offender;Send for Credit Collection': 88,\n       'Create Fine;Send Fine;Insert Fine Notification;Appeal to Judge;Insert Date Appeal to Prefecture;Send Appeal to Prefecture;Add penalty;Receive Result Appeal from Prefecture;Notify Result Appeal to Offender;Payment': 2,\n       'Create Fine;Send Fine;Insert Fine Notification;Insert Date Appeal to Prefecture;Send Appeal to Prefecture;Receive Result Appeal from Prefecture;Notify Result Appeal to Offender;Add penalty;Send for Credit Collection': 4,\n       'Create Fine;Send Fine;Insert Fine Notification;Payment;Payment;Add penalty;Send for Credit Collection': 6,\n       'Create Fine;Send Fine;Insert Fine Notification;Insert Date Appeal to Prefecture;Appeal to Judge;Send Appeal to Prefecture;Add penalty;Receive Result Appeal from Prefecture': 1,\n       'Create Fine;Send Fine;Insert Fine Notification;Insert Date Appeal to Prefecture;Send Appeal to Prefecture;Add penalty;Receive Result Appeal from Prefecture;Notify Result Appeal to Offender;Appeal to Judge;Payment;Payment;Payment': 1,\n       'Create Fine;Send Fine;Insert Fine Notification;Add penalty;Payment;Payment': 3736,\n       'Create Fine;Appeal to Judge;Send Fine;Payment': 1,\n       'Create Fine;Send Fine;Insert Fine Notification;Insert Date Appeal to Prefecture;Add penalty;Receive Result Appeal from Prefecture;Appeal to Judge;Send Appeal to Prefecture': 1,\n       'Create Fine;Send Fine;Insert Fine Notification;Insert Date Appeal to Prefecture;Add penalty;Send Appeal to Prefecture;Receive Result Appeal from Prefecture;Appeal to Judge;Notify Result Appeal to Offender;Payment': 1,\n       'Create Fine;Send Fine;Insert Fine Notification;Insert Date Appeal to Prefecture;Add penalty;Receive Result Appeal from Prefecture;Notify Result Appeal to Offender;Appeal to Judge;Send Appeal to Prefecture': 2,\n       'Create Fine;Send Fine;Insert Fine Notification;Add penalty;Insert Date Appeal to Prefecture;Receive Result Appeal from Prefecture;Notify Result Appeal to Offender;Payment;Payment': 2,\n       'Create Fine;Send Fine;Insert Fine Notification;Add penalty;Insert Date Appeal to Prefecture;Payment;Receive Result Appeal from Prefecture;Payment': 1,\n       'Create Fine;Send Fine;Insert Fine Notification;Insert Date Appeal to Prefecture;Send Appeal to Prefecture;Add penalty;Receive Result Appeal from Prefecture;Payment': 12,\n       'Create Fine;Send Fine;Insert Fine Notification;Insert Date Appeal to Prefecture;Send Appeal to Prefecture;Receive Result Appeal from Prefecture;Add penalty;Notify Result Appeal to Offender': 6,\n       'Create Fine;Send Fine;Payment;Insert Fine Notification;Payment;Add penalty;Payment': 4,\n       'Create Fine;Payment': 46371,\n       'Create Fine;Send Fine;Payment;Insert Date Appeal to Prefecture;Send Appeal to Prefecture': 1,\n       'Create Fine;Send Fine;Insert Fine Notification;Add penalty;Insert Date Appeal to Prefecture;Appeal to Judge;Send Appeal to Prefecture': 1,\n       'Create Fine;Send Fine;Insert Fine Notification;Add penalty;Insert Date Appeal to Prefecture;Send Appeal to Prefecture;Receive Result Appeal from Prefecture;Notify Result Appeal to Offender': 20,\n       'Create Fine;Send Fine;Insert Fine Notification;Insert Date Appeal to Prefecture;Receive Result Appeal from Prefecture;Send Appeal to Prefecture;Add penalty;Notify Result Appeal to Offender;Send for Credit Collection': 1,\n       'Create Fine;Send Fine;Insert Fine Notification;Insert Date Appeal to Prefecture;Add penalty;Send Appeal to Prefecture': 2497,\n       'Create Fine;Send Fine;Insert Fine Notification;Add penalty;Insert Date Appeal to Prefecture;Receive Result Appeal from Prefecture;Notify Result Appeal to Offender;Appeal to Judge': 2,\n       'Create Fine;Send Fine;Insert Fine Notification;Payment;Add penalty;Payment;Send for Credit Collection': 3,\n       'Create Fine;Send Fine;Insert Fine Notification;Add penalty;Payment;Payment;Payment;Payment;Payment;Payment;Payment;Payment;Payment;Payment': 1,\n       'Create Fine;Send Fine;Insert Fine Notification;Add penalty;Insert Date Appeal to Prefecture;Receive Result Appeal from Prefecture;Notify Result Appeal to Offender;Send for Credit Collection;Send Appeal to Prefecture': 7,\n       'Create Fine;Send Fine;Insert Fine Notification;Add penalty;Payment;Payment;Send for Credit Collection': 5,\n       'Create Fine;Send Fine;Insert Fine Notification;Insert Date Appeal to Prefecture;Add penalty;Send Appeal to Prefecture;Receive Result Appeal from Prefecture;Notify Result Appeal to Offender': 30}}}}}},\n 'meta_3TU:source_program': 'database',\n 'meta_concept:different_names_total': 11,\n 'meta_general:events_average': 3.734,\n 'meta_org:different_roles_standard_deviation': 0.0,\n 'meta_3TU:description': 'Real-life event log of an information system managing road traffic fines.',\n 'meta_general:events_max': 20,\n 'concept:name': 'Road Traffic Fine Management Process',\n 'meta_time:log_start_time': datetime.datetime(2000, 1, 1, 0, 0, tzinfo=datetime.timezone(datetime.timedelta(seconds=3600))),\n 'meta_org:different_resources_max': 3,\n 'meta_life:different_transitions_max': 1,\n 'meta_org:group_events_standard_deviation': {'value': 1.641,\n  'children': {'UNKNOWN': 1.641}},\n 'meta_time:duration_min': 0.0,\n 'meta_concept:named_events_min': {'value': 2,\n  'children': {'Payment': 0,\n   'Insert Date Appeal to Prefecture': 0,\n   'Receive Result Appeal from Prefecture': 0,\n   'Send Appeal to Prefecture': 0,\n   'Notify Result Appeal to Offender': 0,\n   'Appeal to Judge': 0,\n   'Add penalty': 0,\n   'Insert Fine Notification': 0,\n   'Send for Credit Collection': 0,\n   'Create Fine': 1,\n   'Send Fine': 0}},\n 'meta_org:role_events_average': {'value': 3.734,\n  'children': {'UNKNOWN': 3.734}},\n 'meta_org:different_roles_total': 1,\n 'meta_org:role_events_total': {'value': 561470,\n  'children': {'UNKNOWN': 561470}},\n 'meta_life:different_transitions_standard_deviation': 0.0,\n 'meta_3TU:creation_time': datetime.datetime(2014, 1, 9, 10, 7, 49, 112000, tzinfo=datetime.timezone(datetime.timedelta(seconds=3600))),\n 'meta_concept:named_events_standard_deviation': {'value': 1.641,\n  'children': {'Payment': 0.605,\n   'Insert Date Appeal to Prefecture': 0.165,\n   'Receive Result Appeal from Prefecture': 0.081,\n   'Send Appeal to Prefecture': 0.164,\n   'Notify Result Appeal to Offender': 0.077,\n   'Appeal to Judge': 0.061,\n   'Add penalty': 0.499,\n   'Insert Fine Notification': 0.499,\n   'Send for Credit Collection': 0.488,\n   'Create Fine': 0.0,\n   'Send Fine': 0.462}},\n 'meta_org:group_events_min': {'value': 2, 'children': {'UNKNOWN': 2}},\n 'meta_org:different_roles_average': 1.0,\n 'meta_life:transition_events_standard_deviation': {'value': 1.641,\n  'children': {'complete': 1.641}},\n 'meta_org:different_roles_max': 1,\n 'meta_org:group_events_total': {'value': 561470,\n  'children': {'UNKNOWN': 561470}},\n 'meta_org:role_events_min': {'value': 2, 'children': {'UNKNOWN': 2}},\n 'meta_time:duration_standard_deviation': 29985307.844,\n 'meta_time:duration_total': 4439047075200.0,\n 'meta_org:resource_events_standard_deviation': {'value': 1.641,\n  'children': {'870': 0.014,\n   '10': 0.039,\n   '11': 0.129,\n   '12': 0.034,\n   '13': 0.004,\n   '14': 0.006,\n   '15': 0.033,\n   '16': 0.058,\n   '17': 0.02,\n   '18': 0.017,\n   '19': 0.006,\n   '0': 0.061,\n   '3': 0.009,\n   '4': 0.005,\n   '8': 0.012,\n   '9': 0.088,\n   '802': 0.069,\n   '20': 0.056,\n   '21': 0.057,\n   '807': 0.041,\n   '22': 0.048,\n   '808': 0.039,\n   '23': 0.03,\n   '24': 0.042,\n   '25': 0.057,\n   '26': 0.095,\n   '27': 0.052,\n   '28': 0.122,\n   '29': 0.133,\n   '810': 0.066,\n   '536': 0.176,\n   '811': 0.038,\n   '537': 0.21,\n   '538': 0.232,\n   '813': 0.036,\n   '30': 0.118,\n   '816': 0.056,\n   '31': 0.101,\n   '817': 0.047,\n   '32': 0.054,\n   '818': 0.035,\n   '33': 0.038,\n   '819': 0.05,\n   '34': 0.057,\n   '35': 0.067,\n   '36': 0.076,\n   '37': 0.076,\n   '38': 0.03,\n   '39': 0.088,\n   '540': 0.066,\n   '541': 0.216,\n   '820': 0.091,\n   '821': 0.067,\n   '546': 0.108,\n   '823': 0.072,\n   '548': 0.111,\n   '824': 0.081,\n   '704': 0.073,\n   '825': 0.073,\n   '826': 0.045,\n   '40': 0.144,\n   '827': 0.066,\n   '41': 0.073,\n   '828': 0.069,\n   '42': 0.075,\n   '829': 0.076,\n   '43': 0.05,\n   '44': 0.076,\n   '45': 0.094,\n   '46': 0.068,\n   '47': 0.056,\n   '48': 0.065,\n   '49': 0.172,\n   '550': 0.224,\n   '551': 0.027,\n   '552': 0.084,\n   '553': 0.036,\n   '554': 0.046,\n   '830': 0.046,\n   '555': 0.084,\n   '556': 0.084,\n   '831': 0.085,\n   '557': 0.187,\n   '832': 0.052,\n   '558': 0.157,\n   '833': 0.059,\n   '559': 0.202,\n   '834': 0.053,\n   '835': 0.038,\n   '836': 0.057,\n   '50': 0.099,\n   '837': 0.048,\n   '51': 0.021,\n   '838': 0.056,\n   '52': 0.066,\n   '839': 0.072,\n   '53': 0.138,\n   '54': 0.046,\n   '55': 0.034,\n   '56': 0.088,\n   '57': 0.09,\n   '58': 0.067,\n   '59': 0.047,\n   '560': 0.103,\n   '561': 0.162,\n   '562': 0.085,\n   '563': 0.096,\n   '564': 0.083,\n   '565': 0.077,\n   '840': 0.06,\n   '566': 0.063,\n   '841': 0.047,\n   '567': 0.04,\n   '842': 0.053,\n   '568': 0.049,\n   '843': 0.044,\n   '844': 0.044,\n   '845': 0.041,\n   '846': 0.068,\n   '60': 0.039,\n   '61': 0.031,\n   '847': 0.086,\n   '848': 0.083,\n   '62': 0.052,\n   '849': 0.074,\n   '63': 0.1,\n   '64': 0.017,\n   '65': 0.051,\n   '66': 0.033,\n   '850': 0.085,\n   '851': 0.093,\n   '852': 0.097,\n   '853': 0.021,\n   '854': 0.072,\n   '855': 0.055,\n   '856': 0.049,\n   '857': 0.07,\n   '858': 0.081,\n   '859': 0.04,\n   '860': 0.042,\n   '861': 0.053,\n   '862': 0.029,\n   '864': 0.025,\n   '865': 0.03,\n   '866': 0.031,\n   '867': 0.033,\n   '868': 0.032,\n   'UNKNOWN': 1.634,\n   '869': 0.013}},\n 'meta_org:different_groups_average': 1.0,\n 'meta_general:events_standard_deviation': 1.641,\n 'meta_org:role_events_max': {'value': 20, 'children': {'UNKNOWN': 20}},\n 'meta_org:resource_events_total': {'value': 561470,\n  'children': {'870': 31,\n   '10': 229,\n   '11': 2539,\n   '12': 177,\n   '13': 2,\n   '14': 6,\n   '15': 167,\n   '16': 501,\n   '17': 58,\n   '18': 43,\n   '19': 5,\n   '0': 555,\n   '3': 13,\n   '4': 4,\n   '8': 23,\n   '9': 1170,\n   '802': 725,\n   '20': 467,\n   '21': 488,\n   '807': 257,\n   '22': 351,\n   '808': 228,\n   '23': 138,\n   '24': 260,\n   '25': 495,\n   '26': 1366,\n   '27': 413,\n   '28': 2278,\n   '29': 2699,\n   '810': 661,\n   '536': 4821,\n   '811': 214,\n   '537': 6931,\n   '538': 8608,\n   '813': 196,\n   '30': 2110,\n   '816': 477,\n   '31': 1535,\n   '817': 334,\n   '32': 444,\n   '818': 180,\n   '33': 223,\n   '819': 373,\n   '34': 490,\n   '35': 673,\n   '36': 869,\n   '37': 881,\n   '38': 140,\n   '39': 1176,\n   '540': 660,\n   '541': 7356,\n   '820': 1254,\n   '821': 673,\n   '546': 1779,\n   '823': 789,\n   '548': 1865,\n   '824': 988,\n   '704': 814,\n   '825': 803,\n   '826': 301,\n   '40': 3183,\n   '827': 657,\n   '41': 797,\n   '828': 727,\n   '42': 840,\n   '829': 878,\n   '43': 373,\n   '44': 872,\n   '45': 1343,\n   '46': 705,\n   '47': 475,\n   '48': 639,\n   '49': 4589,\n   '550': 7935,\n   '551': 109,\n   '552': 1068,\n   '553': 194,\n   '554': 316,\n   '830': 322,\n   '555': 1068,\n   '556': 1064,\n   '831': 1086,\n   '557': 5436,\n   '832': 400,\n   '558': 3779,\n   '833': 519,\n   '559': 6429,\n   '834': 420,\n   '835': 216,\n   '836': 491,\n   '50': 1502,\n   '837': 346,\n   '51': 67,\n   '838': 470,\n   '52': 660,\n   '839': 793,\n   '53': 2913,\n   '54': 312,\n   '55': 178,\n   '56': 1173,\n   '57': 1235,\n   '58': 673,\n   '59': 331,\n   '560': 1626,\n   '561': 4043,\n   '562': 1105,\n   '563': 1391,\n   '564': 1041,\n   '565': 899,\n   '840': 543,\n   '566': 591,\n   '841': 332,\n   '567': 245,\n   '842': 424,\n   '568': 358,\n   '843': 289,\n   '844': 289,\n   '845': 249,\n   '846': 704,\n   '60': 227,\n   '61': 149,\n   '847': 1131,\n   '848': 1043,\n   '62': 403,\n   '849': 838,\n   '63': 1522,\n   '64': 42,\n   '65': 392,\n   '66': 159,\n   '850': 1100,\n   '851': 1311,\n   '852': 1420,\n   '853': 66,\n   '854': 775,\n   '855': 462,\n   '856': 358,\n   '857': 749,\n   '858': 1003,\n   '859': 242,\n   '860': 265,\n   '861': 416,\n   '862': 128,\n   '864': 91,\n   '865': 133,\n   '866': 147,\n   '867': 160,\n   '868': 151,\n   'UNKNOWN': 410545,\n   '869': 24}},\n 'meta_time:log_end_time': datetime.datetime(2013, 6, 18, 0, 0, tzinfo=datetime.timezone(datetime.timedelta(seconds=7200))),\n 'meta_org:different_resources_total': 149,\n 'meta_org:resource_events_max': {'value': 20,\n  'children': {'870': 1,\n   '10': 1,\n   '11': 1,\n   '12': 1,\n   '13': 1,\n   '14': 1,\n   '15': 1,\n   '16': 1,\n   '17': 1,\n   '18': 1,\n   '19': 1,\n   '0': 1,\n   '3': 1,\n   '4': 1,\n   '8': 1,\n   '9': 1,\n   '802': 1,\n   '20': 1,\n   '21': 1,\n   '807': 1,\n   '22': 1,\n   '808': 1,\n   '23': 1,\n   '24': 1,\n   '25': 1,\n   '26': 1,\n   '27': 1,\n   '28': 1,\n   '29': 1,\n   '810': 1,\n   '536': 1,\n   '811': 1,\n   '537': 1,\n   '538': 1,\n   '813': 1,\n   '30': 1,\n   '816': 1,\n   '31': 1,\n   '817': 1,\n   '32': 1,\n   '818': 1,\n   '33': 1,\n   '819': 1,\n   '34': 1,\n   '35': 1,\n   '36': 1,\n   '37': 1,\n   '38': 1,\n   '39': 1,\n   '540': 1,\n   '541': 1,\n   '820': 1,\n   '821': 1,\n   '546': 1,\n   '823': 1,\n   '548': 1,\n   '824': 1,\n   '704': 1,\n   '825': 1,\n   '826': 1,\n   '40': 1,\n   '827': 1,\n   '41': 1,\n   '828': 1,\n   '42': 1,\n   '829': 1,\n   '43': 1,\n   '44': 1,\n   '45': 1,\n   '46': 1,\n   '47': 1,\n   '48': 1,\n   '49': 1,\n   '550': 1,\n   '551': 1,\n   '552': 1,\n   '553': 1,\n   '554': 1,\n   '830': 1,\n   '555': 1,\n   '556': 1,\n   '831': 1,\n   '557': 1,\n   '832': 1,\n   '558': 1,\n   '833': 1,\n   '559': 1,\n   '834': 1,\n   '835': 1,\n   '836': 1,\n   '50': 1,\n   '837': 1,\n   '51': 1,\n   '838': 1,\n   '52': 1,\n   '839': 1,\n   '53': 1,\n   '54': 1,\n   '55': 1,\n   '56': 1,\n   '57': 1,\n   '58': 1,\n   '59': 1,\n   '560': 1,\n   '561': 1,\n   '562': 1,\n   '563': 1,\n   '564': 1,\n   '565': 1,\n   '840': 1,\n   '566': 1,\n   '841': 1,\n   '567': 1,\n   '842': 1,\n   '568': 1,\n   '843': 1,\n   '844': 1,\n   '845': 1,\n   '846': 1,\n   '60': 1,\n   '61': 1,\n   '847': 1,\n   '848': 1,\n   '62': 1,\n   '849': 1,\n   '63': 1,\n   '64': 1,\n   '65': 1,\n   '66': 1,\n   '850': 1,\n   '851': 1,\n   '852': 1,\n   '853': 1,\n   '854': 1,\n   '855': 1,\n   '856': 1,\n   '857': 1,\n   '858': 1,\n   '859': 1,\n   '860': 1,\n   '861': 1,\n   '862': 1,\n   '864': 1,\n   '865': 1,\n   '866': 1,\n   '867': 1,\n   '868': 1,\n   'UNKNOWN': 18,\n   '869': 1}},\n 'meta_life:transition_events_min': {'value': 2, 'children': {'complete': 2}},\n 'meta_org:different_groups_total': 1,\n 'meta_3TU:source_institute_type': 'Government',\n 'meta_life:different_transitions_average': 1.0,\n 'meta_general:traces_total': 150370,\n 'meta_3TU:creation_person': 'Massimiliano de Leoni, Felix Mannhardt',\n 'meta_org:resource_events_min': {'value': 2,\n  'children': {'870': 0,\n   '10': 0,\n   '11': 0,\n   '12': 0,\n   '13': 0,\n   '14': 0,\n   '15': 0,\n   '16': 0,\n   '17': 0,\n   '18': 0,\n   '19': 0,\n   '0': 0,\n   '3': 0,\n   '4': 0,\n   '8': 0,\n   '9': 0,\n   '802': 0,\n   '20': 0,\n   '21': 0,\n   '807': 0,\n   '22': 0,\n   '808': 0,\n   '23': 0,\n   '24': 0,\n   '25': 0,\n   '26': 0,\n   '27': 0,\n   '28': 0,\n   '29': 0,\n   '810': 0,\n   '536': 0,\n   '811': 0,\n   '537': 0,\n   '538': 0,\n   '813': 0,\n   '30': 0,\n   '816': 0,\n   '31': 0,\n   '817': 0,\n   '32': 0,\n   '818': 0,\n   '33': 0,\n   '819': 0,\n   '34': 0,\n   '35': 0,\n   '36': 0,\n   '37': 0,\n   '38': 0,\n   '39': 0,\n   '540': 0,\n   '541': 0,\n   '820': 0,\n   '821': 0,\n   '546': 0,\n   '823': 0,\n   '548': 0,\n   '824': 0,\n   '704': 0,\n   '825': 0,\n   '826': 0,\n   '40': 0,\n   '827': 0,\n   '41': 0,\n   '828': 0,\n   '42': 0,\n   '829': 0,\n   '43': 0,\n   '44': 0,\n   '45': 0,\n   '46': 0,\n   '47': 0,\n   '48': 0,\n   '49': 0,\n   '550': 0,\n   '551': 0,\n   '552': 0,\n   '553': 0,\n   '554': 0,\n   '830': 0,\n   '555': 0,\n   '556': 0,\n   '831': 0,\n   '557': 0,\n   '832': 0,\n   '558': 0,\n   '833': 0,\n   '559': 0,\n   '834': 0,\n   '835': 0,\n   '836': 0,\n   '50': 0,\n   '837': 0,\n   '51': 0,\n   '838': 0,\n   '52': 0,\n   '839': 0,\n   '53': 0,\n   '54': 0,\n   '55': 0,\n   '56': 0,\n   '57': 0,\n   '58': 0,\n   '59': 0,\n   '560': 0,\n   '561': 0,\n   '562': 0,\n   '563': 0,\n   '564': 0,\n   '565': 0,\n   '840': 0,\n   '566': 0,\n   '841': 0,\n   '567': 0,\n   '842': 0,\n   '568': 0,\n   '843': 0,\n   '844': 0,\n   '845': 0,\n   '846': 0,\n   '60': 0,\n   '61': 0,\n   '847': 0,\n   '848': 0,\n   '62': 0,\n   '849': 0,\n   '63': 0,\n   '64': 0,\n   '65': 0,\n   '66': 0,\n   '850': 0,\n   '851': 0,\n   '852': 0,\n   '853': 0,\n   '854': 0,\n   '855': 0,\n   '856': 0,\n   '857': 0,\n   '858': 0,\n   '859': 0,\n   '860': 0,\n   '861': 0,\n   '862': 0,\n   '864': 0,\n   '865': 0,\n   '866': 0,\n   '867': 0,\n   '868': 0,\n   'UNKNOWN': 1,\n   '869': 0}},\n 'meta_3TU:source_institute': 'Eindhoven University of Technology',\n 'meta_org:different_roles_min': 1,\n 'meta_life:transition_events_average': {'value': 3.734,\n  'children': {'complete': 3.734}},\n 'meta_org:group_events_max': {'value': 20, 'children': {'UNKNOWN': 20}},\n 'meta_3TU:log_type': 'Real-life',\n 'meta_3TU:doi': 'doi:10.4121/uuid:270fd440-1057-4fb9-89a9-b699b47990f5',\n 'meta_general:events_min': 2,\n 'meta_concept:different_names_average': 3.681,\n 'meta_org:resource_events_average': {'value': 3.734,\n  'children': {'870': 0.0,\n   '10': 0.002,\n   '11': 0.017,\n   '12': 0.001,\n   '13': 0.0,\n   '14': 0.0,\n   '15': 0.001,\n   '16': 0.003,\n   '17': 0.0,\n   '18': 0.0,\n   '19': 0.0,\n   '0': 0.004,\n   '3': 0.0,\n   '4': 0.0,\n   '8': 0.0,\n   '9': 0.008,\n   '802': 0.005,\n   '20': 0.003,\n   '21': 0.003,\n   '807': 0.002,\n   '22': 0.002,\n   '808': 0.002,\n   '23': 0.001,\n   '24': 0.002,\n   '25': 0.003,\n   '26': 0.009,\n   '27': 0.003,\n   '28': 0.015,\n   '29': 0.018,\n   '810': 0.004,\n   '536': 0.032,\n   '811': 0.001,\n   '537': 0.046,\n   '538': 0.057,\n   '813': 0.001,\n   '30': 0.014,\n   '816': 0.003,\n   '31': 0.01,\n   '817': 0.002,\n   '32': 0.003,\n   '818': 0.001,\n   '33': 0.001,\n   '819': 0.002,\n   '34': 0.003,\n   '35': 0.004,\n   '36': 0.006,\n   '37': 0.006,\n   '38': 0.001,\n   '39': 0.008,\n   '540': 0.004,\n   '541': 0.049,\n   '820': 0.008,\n   '821': 0.004,\n   '546': 0.012,\n   '823': 0.005,\n   '548': 0.012,\n   '824': 0.007,\n   '704': 0.005,\n   '825': 0.005,\n   '826': 0.002,\n   '40': 0.021,\n   '827': 0.004,\n   '41': 0.005,\n   '828': 0.005,\n   '42': 0.006,\n   '829': 0.006,\n   '43': 0.002,\n   '44': 0.006,\n   '45': 0.009,\n   '46': 0.005,\n   '47': 0.003,\n   '48': 0.004,\n   '49': 0.031,\n   '550': 0.053,\n   '551': 0.001,\n   '552': 0.007,\n   '553': 0.001,\n   '554': 0.002,\n   '830': 0.002,\n   '555': 0.007,\n   '556': 0.007,\n   '831': 0.007,\n   '557': 0.036,\n   '832': 0.003,\n   '558': 0.025,\n   '833': 0.003,\n   '559': 0.043,\n   '834': 0.003,\n   '835': 0.001,\n   '836': 0.003,\n   '50': 0.01,\n   '837': 0.002,\n   '51': 0.0,\n   '838': 0.003,\n   '52': 0.004,\n   '839': 0.005,\n   '53': 0.019,\n   '54': 0.002,\n   '55': 0.001,\n   '56': 0.008,\n   '57': 0.008,\n   '58': 0.004,\n   '59': 0.002,\n   '560': 0.011,\n   '561': 0.027,\n   '562': 0.007,\n   '563': 0.009,\n   '564': 0.007,\n   '565': 0.006,\n   '840': 0.004,\n   '566': 0.004,\n   '841': 0.002,\n   '567': 0.002,\n   '842': 0.003,\n   '568': 0.002,\n   '843': 0.002,\n   '844': 0.002,\n   '845': 0.002,\n   '846': 0.005,\n   '60': 0.002,\n   '61': 0.001,\n   '847': 0.008,\n   '848': 0.007,\n   '62': 0.003,\n   '849': 0.006,\n   '63': 0.01,\n   '64': 0.0,\n   '65': 0.003,\n   '66': 0.001,\n   '850': 0.007,\n   '851': 0.009,\n   '852': 0.009,\n   '853': 0.0,\n   '854': 0.005,\n   '855': 0.003,\n   '856': 0.002,\n   '857': 0.005,\n   '858': 0.007,\n   '859': 0.002,\n   '860': 0.002,\n   '861': 0.003,\n   '862': 0.001,\n   '864': 0.001,\n   '865': 0.001,\n   '866': 0.001,\n   '867': 0.001,\n   '868': 0.001,\n   'UNKNOWN': 2.73,\n   '869': 0.0}},\n 'meta_time:duration_average': 29520829.123,\n 'meta_org:different_groups_standard_deviation': 0.0,\n 'meta_concept:different_names_max': 10,\n 'meta_life:different_transitions_total': 1,\n 'meta_general:events_total': 561470,\n 'lifecycle:model': 'standard',\n 'meta_3TU:rights': 'Public',\n 'meta_concept:named_events_average': {'value': 3.734,\n  'children': {'Payment': 0.516,\n   'Insert Date Appeal to Prefecture': 0.028,\n   'Receive Result Appeal from Prefecture': 0.007,\n   'Send Appeal to Prefecture': 0.028,\n   'Notify Result Appeal to Offender': 0.006,\n   'Appeal to Judge': 0.004,\n   'Add penalty': 0.531,\n   'Insert Fine Notification': 0.531,\n   'Send for Credit Collection': 0.392,\n   'Create Fine': 1.0,\n   'Send Fine': 0.692}},\n 'meta_org:role_events_standard_deviation': {'value': 1.641,\n  'children': {'UNKNOWN': 1.641}},\n 'meta_time:duration_max': 377740800.0,\n 'meta_life:transition_events_total': {'value': 561470,\n  'children': {'complete': 561470}},\n 'meta_concept:named_events_max': {'value': 20,\n  'children': {'Payment': 15,\n   'Insert Date Appeal to Prefecture': 1,\n   'Receive Result Appeal from Prefecture': 1,\n   'Send Appeal to Prefecture': 1,\n   'Notify Result Appeal to Offender': 1,\n   'Appeal to Judge': 1,\n   'Add penalty': 1,\n   'Insert Fine Notification': 1,\n   'Send for Credit Collection': 1,\n   'Create Fine': 1,\n   'Send Fine': 1}},\n 'meta_org:different_groups_min': 1,\n 'meta_3TU:creation_institute': 'Eindhoven University of Technology',\n 'meta_concept:different_names_min': 2,\n 'meta_3TU:process_type': 'Ad-Hoc structured',\n 'meta_org:different_resources_average': 2.004,\n 'meta_life:transition_events_max': {'value': 20,\n  'children': {'complete': 20}}}"
     },
     "execution_count": 74,
     "metadata": {},
     "output_type": "execute_result"
    }
   ],
   "source": [
    "log.attributes"
   ],
   "metadata": {
    "collapsed": false,
    "ExecuteTime": {
     "end_time": "2024-01-02T18:10:06.102596300Z",
     "start_time": "2024-01-02T18:10:06.074795900Z"
    }
   },
   "id": "2c32df5c69b0fad3",
   "execution_count": 74
  },
  {
   "cell_type": "code",
   "outputs": [
    {
     "name": "stderr",
     "output_type": "stream",
     "text": [
      "C:\\Users\\Hannes\\anaconda3\\envs\\transfer_learning\\lib\\site-packages\\pm4py\\utils.py:508: UserWarning: the EventLog class has been deprecated and will be removed in a future release.\n",
      "  warnings.warn(\"the EventLog class has been deprecated and will be removed in a future release.\")\n"
     ]
    },
    {
     "data": {
      "text/plain": "231"
     },
     "execution_count": 75,
     "metadata": {},
     "output_type": "execute_result"
    }
   ],
   "source": [
    "variants = pm4py.get_variants(log)\n",
    "variant_count = len(variants)\n",
    "variant_count"
   ],
   "metadata": {
    "collapsed": false,
    "ExecuteTime": {
     "end_time": "2024-01-02T18:10:27.318682Z",
     "start_time": "2024-01-02T18:10:26.453239800Z"
    }
   },
   "id": "9765839e768949da",
   "execution_count": 75
  },
  {
   "cell_type": "code",
   "outputs": [
    {
     "data": {
      "text/plain": "100"
     },
     "execution_count": 80,
     "metadata": {},
     "output_type": "execute_result"
    }
   ],
   "source": [
    "variants_only_once = list(filter(lambda x: len(x[1]) == 1, variants.items()))\n",
    "variants_only_once = list(map(lambda x: x[0], variants_only_once))\n",
    "len(variants_only_once)"
   ],
   "metadata": {
    "collapsed": false,
    "ExecuteTime": {
     "end_time": "2024-01-02T18:11:28.558333Z",
     "start_time": "2024-01-02T18:11:28.223212600Z"
    }
   },
   "id": "241cc95aa646b795",
   "execution_count": 80
  },
  {
   "cell_type": "code",
   "outputs": [
    {
     "name": "stderr",
     "output_type": "stream",
     "text": [
      "C:\\Users\\Hannes\\anaconda3\\envs\\transfer_learning\\lib\\site-packages\\pm4py\\utils.py:508: UserWarning: the EventLog class has been deprecated and will be removed in a future release.\n",
      "  warnings.warn(\"the EventLog class has been deprecated and will be removed in a future release.\")\n"
     ]
    },
    {
     "data": {
      "text/plain": "131"
     },
     "execution_count": 81,
     "metadata": {},
     "output_type": "execute_result"
    }
   ],
   "source": [
    "filtered2 = pm4py.filter_variants(log, variants_only_once, retain=False)\n",
    "filtered2_variant_count = len(pm4py.get_variants(filtered2))\n",
    "filtered2_variant_count"
   ],
   "metadata": {
    "collapsed": false,
    "ExecuteTime": {
     "end_time": "2024-01-02T18:11:36.802852400Z",
     "start_time": "2024-01-02T18:11:35.028347Z"
    }
   },
   "id": "d8899877f9a088a1",
   "execution_count": 81
  },
  {
   "cell_type": "code",
   "outputs": [
    {
     "data": {
      "text/plain": "exporting log, completed traces ::   0%|          | 0/150270 [00:00<?, ?it/s]",
      "application/vnd.jupyter.widget-view+json": {
       "version_major": 2,
       "version_minor": 0,
       "model_id": "b623d2da6af04a0ba3712adef34b2c94"
      }
     },
     "metadata": {},
     "output_type": "display_data"
    }
   ],
   "source": [
    "xes_exporter.apply(filtered2, os.path.join(LOGS_DIR, 'RTFMP_filtered.xes'))"
   ],
   "metadata": {
    "collapsed": false,
    "ExecuteTime": {
     "end_time": "2024-01-02T18:11:55.443314Z",
     "start_time": "2024-01-02T18:11:39.488487800Z"
    }
   },
   "id": "5e295aa9ab853f10",
   "execution_count": 82
  },
  {
   "cell_type": "code",
   "outputs": [
    {
     "data": {
      "text/plain": "parsing log, completed traces ::   0%|          | 0/150270 [00:00<?, ?it/s]",
      "application/vnd.jupyter.widget-view+json": {
       "version_major": 2,
       "version_minor": 0,
       "model_id": "4661ce351d124e0f977afa3189e96d12"
      }
     },
     "metadata": {},
     "output_type": "display_data"
    },
    {
     "data": {
      "text/plain": "'Road Traffic Fine Management Process'"
     },
     "execution_count": 83,
     "metadata": {},
     "output_type": "execute_result"
    }
   ],
   "source": [
    "abc = xes_importer.apply(os.path.join(LOGS_DIR, 'RTFMP_filtered.xes'))\n",
    "abc.attributes['concept:name']"
   ],
   "metadata": {
    "collapsed": false,
    "ExecuteTime": {
     "end_time": "2024-01-02T18:12:46.781896800Z",
     "start_time": "2024-01-02T18:12:13.993817100Z"
    }
   },
   "id": "acff0cdda5ce14a7",
   "execution_count": 83
  },
  {
   "cell_type": "code",
   "outputs": [],
   "source": [],
   "metadata": {
    "collapsed": false
   },
   "id": "94b6e6122ec4c457"
  }
 ],
 "metadata": {
  "kernelspec": {
   "display_name": "Python 3",
   "language": "python",
   "name": "python3"
  },
  "language_info": {
   "codemirror_mode": {
    "name": "ipython",
    "version": 2
   },
   "file_extension": ".py",
   "mimetype": "text/x-python",
   "name": "python",
   "nbconvert_exporter": "python",
   "pygments_lexer": "ipython2",
   "version": "2.7.6"
  }
 },
 "nbformat": 4,
 "nbformat_minor": 5
}
