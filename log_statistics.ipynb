{
 "cells": [
  {
   "cell_type": "code",
   "execution_count": 1,
   "id": "initial_id",
   "metadata": {
    "collapsed": true,
    "ExecuteTime": {
     "end_time": "2024-01-04T15:56:26.187827500Z",
     "start_time": "2024-01-04T15:56:23.190433600Z"
    }
   },
   "outputs": [],
   "source": [
    "import os\n",
    "\n",
    "import pandas as pd\n",
    "import pm4py\n",
    "from pm4py.objects.log.importer.xes import importer as xes_importer\n",
    "\n",
    "from definitions import LOGS_DIR, ROOT_DIR"
   ]
  },
  {
   "cell_type": "code",
   "execution_count": 2,
   "outputs": [],
   "source": [
    "# Nicer log names\n",
    "mapping = {\n",
    "    'BPI_Challenge_2013_closed_problems.xes.gz': 'BPI13 Closed',\n",
    "    'BPI_Challenge_2012.xes.gz': 'BPI12',\n",
    "    'BPI_Challenge_2013_incidents.xes.gz': 'BPI13 Incidents',\n",
    "    'BPI_Challenge_2013_open_problems.xes.gz': 'BPI13 Open',\n",
    "    'BPI%20Challenge%202017.xes.gz': 'BPI17',\n",
    "    'BPIC15_1.xes': 'BPI15',\n",
    "    'Road_Traffic_Fine_Management_Process.xes.gz': 'RTFMP',\n",
    "    'Sepsis%20Cases%20-%20Event%20Log.xes.gz': 'Sepsis',\n",
    "    'helpdesk.csv': 'Helpdesk',\n",
    "    'RTFMP_filtered.xes': 'RTFMP filtered',\n",
    "}"
   ],
   "metadata": {
    "collapsed": false,
    "ExecuteTime": {
     "end_time": "2024-01-04T15:56:26.195994400Z",
     "start_time": "2024-01-04T15:56:26.194472500Z"
    }
   },
   "id": "c074e9c0aa8cb059"
  },
  {
   "cell_type": "code",
   "execution_count": 3,
   "outputs": [
    {
     "data": {
      "text/plain": "parsing log, completed traces ::   0%|          | 0/43809 [00:00<?, ?it/s]",
      "application/vnd.jupyter.widget-view+json": {
       "version_major": 2,
       "version_minor": 0,
       "model_id": "5e7c747301a3438287b0abf30059ea5f"
      }
     },
     "metadata": {},
     "output_type": "display_data"
    },
    {
     "ename": "KeyboardInterrupt",
     "evalue": "",
     "output_type": "error",
     "traceback": [
      "\u001B[1;31m---------------------------------------------------------------------------\u001B[0m",
      "\u001B[1;31mKeyboardInterrupt\u001B[0m                         Traceback (most recent call last)",
      "Cell \u001B[1;32mIn[3], line 33\u001B[0m\n\u001B[0;32m     31\u001B[0m \u001B[38;5;28;01mif\u001B[39;00m file_name\u001B[38;5;241m.\u001B[39mendswith(\u001B[38;5;124m'\u001B[39m\u001B[38;5;124m.xes\u001B[39m\u001B[38;5;124m'\u001B[39m) \u001B[38;5;129;01mor\u001B[39;00m file_name\u001B[38;5;241m.\u001B[39mendswith(\u001B[38;5;124m'\u001B[39m\u001B[38;5;124m.xes.gz\u001B[39m\u001B[38;5;124m'\u001B[39m):\n\u001B[0;32m     32\u001B[0m     xes_file_name \u001B[38;5;241m=\u001B[39m os\u001B[38;5;241m.\u001B[39mpath\u001B[38;5;241m.\u001B[39mjoin(LOGS_DIR, file_name)\n\u001B[1;32m---> 33\u001B[0m     log \u001B[38;5;241m=\u001B[39m \u001B[43mxes_importer\u001B[49m\u001B[38;5;241;43m.\u001B[39;49m\u001B[43mapply\u001B[49m\u001B[43m(\u001B[49m\u001B[43mxes_file_name\u001B[49m\u001B[43m)\u001B[49m\n\u001B[0;32m     34\u001B[0m \u001B[38;5;28;01melif\u001B[39;00m file_name\u001B[38;5;241m.\u001B[39mendswith(\u001B[38;5;124m'\u001B[39m\u001B[38;5;124m.csv\u001B[39m\u001B[38;5;124m'\u001B[39m):\n\u001B[0;32m     35\u001B[0m     log \u001B[38;5;241m=\u001B[39m pm4py\u001B[38;5;241m.\u001B[39mformat_dataframe(pd\u001B[38;5;241m.\u001B[39mread_csv(os\u001B[38;5;241m.\u001B[39mpath\u001B[38;5;241m.\u001B[39mjoin(LOGS_DIR, file_name), sep\u001B[38;5;241m=\u001B[39m\u001B[38;5;124m'\u001B[39m\u001B[38;5;124m,\u001B[39m\u001B[38;5;124m'\u001B[39m),\n\u001B[0;32m     36\u001B[0m                                  case_id\u001B[38;5;241m=\u001B[39m\u001B[38;5;124m'\u001B[39m\u001B[38;5;124mCaseID\u001B[39m\u001B[38;5;124m'\u001B[39m,\n\u001B[0;32m     37\u001B[0m                                  activity_key\u001B[38;5;241m=\u001B[39m\u001B[38;5;124m'\u001B[39m\u001B[38;5;124mActivityID\u001B[39m\u001B[38;5;124m'\u001B[39m,\n\u001B[0;32m     38\u001B[0m                                  timestamp_key\u001B[38;5;241m=\u001B[39m\u001B[38;5;124m'\u001B[39m\u001B[38;5;124mCompleteTimestamp\u001B[39m\u001B[38;5;124m'\u001B[39m)\n",
      "File \u001B[1;32m~\\PycharmProjects\\Transfer-Learning-for-Predictive-Process-Monitoring\\venv\\Lib\\site-packages\\pm4py\\objects\\log\\importer\\xes\\importer.py:86\u001B[0m, in \u001B[0;36mapply\u001B[1;34m(path, parameters, variant)\u001B[0m\n\u001B[0;32m     83\u001B[0m \u001B[38;5;28;01mif\u001B[39;00m \u001B[38;5;28mtype\u001B[39m(variant) \u001B[38;5;129;01mis\u001B[39;00m \u001B[38;5;28mstr\u001B[39m:\n\u001B[0;32m     84\u001B[0m     variant \u001B[38;5;241m=\u001B[39m __get_variant(variant)\n\u001B[1;32m---> 86\u001B[0m log \u001B[38;5;241m=\u001B[39m \u001B[43mvariant\u001B[49m\u001B[38;5;241;43m.\u001B[39;49m\u001B[43mvalue\u001B[49m\u001B[38;5;241;43m.\u001B[39;49m\u001B[43mapply\u001B[49m\u001B[43m(\u001B[49m\u001B[43mpath\u001B[49m\u001B[43m,\u001B[49m\u001B[43m \u001B[49m\u001B[43mparameters\u001B[49m\u001B[38;5;241;43m=\u001B[39;49m\u001B[43mparameters\u001B[49m\u001B[43m)\u001B[49m\n\u001B[0;32m     88\u001B[0m \u001B[38;5;28;01mreturn\u001B[39;00m log\n",
      "File \u001B[1;32m~\\PycharmProjects\\Transfer-Learning-for-Predictive-Process-Monitoring\\venv\\Lib\\site-packages\\pm4py\\objects\\log\\importer\\xes\\variants\\iterparse.py:300\u001B[0m, in \u001B[0;36mapply\u001B[1;34m(filename, parameters)\u001B[0m\n\u001B[0;32m    278\u001B[0m \u001B[38;5;28;01mdef\u001B[39;00m \u001B[38;5;21mapply\u001B[39m(filename, parameters\u001B[38;5;241m=\u001B[39m\u001B[38;5;28;01mNone\u001B[39;00m):\n\u001B[0;32m    279\u001B[0m \u001B[38;5;250m    \u001B[39m\u001B[38;5;124;03m\"\"\"\u001B[39;00m\n\u001B[0;32m    280\u001B[0m \u001B[38;5;124;03m    Imports an XES file into a log object\u001B[39;00m\n\u001B[0;32m    281\u001B[0m \n\u001B[1;32m   (...)\u001B[0m\n\u001B[0;32m    298\u001B[0m \u001B[38;5;124;03m        A log\u001B[39;00m\n\u001B[0;32m    299\u001B[0m \u001B[38;5;124;03m    \"\"\"\u001B[39;00m\n\u001B[1;32m--> 300\u001B[0m     \u001B[38;5;28;01mreturn\u001B[39;00m \u001B[43mimport_log\u001B[49m\u001B[43m(\u001B[49m\u001B[43mfilename\u001B[49m\u001B[43m,\u001B[49m\u001B[43m \u001B[49m\u001B[43mparameters\u001B[49m\u001B[43m)\u001B[49m\n",
      "File \u001B[1;32m~\\PycharmProjects\\Transfer-Learning-for-Predictive-Process-Monitoring\\venv\\Lib\\site-packages\\pm4py\\objects\\log\\importer\\xes\\variants\\iterparse.py:351\u001B[0m, in \u001B[0;36mimport_log\u001B[1;34m(filename, parameters)\u001B[0m\n\u001B[0;32m    348\u001B[0m     f \u001B[38;5;241m=\u001B[39m \u001B[38;5;28mopen\u001B[39m(filename, \u001B[38;5;124m\"\u001B[39m\u001B[38;5;124mrb\u001B[39m\u001B[38;5;124m\"\u001B[39m)\n\u001B[0;32m    349\u001B[0m context \u001B[38;5;241m=\u001B[39m etree\u001B[38;5;241m.\u001B[39miterparse(f, events\u001B[38;5;241m=\u001B[39m[_EVENT_START, _EVENT_END], encoding\u001B[38;5;241m=\u001B[39mencoding)\n\u001B[1;32m--> 351\u001B[0m log \u001B[38;5;241m=\u001B[39m \u001B[43mimport_from_context\u001B[49m\u001B[43m(\u001B[49m\u001B[43mcontext\u001B[49m\u001B[43m,\u001B[49m\u001B[43m \u001B[49m\u001B[43mnum_traces\u001B[49m\u001B[43m,\u001B[49m\u001B[43m \u001B[49m\u001B[43mparameters\u001B[49m\u001B[38;5;241;43m=\u001B[39;49m\u001B[43mparameters\u001B[49m\u001B[43m)\u001B[49m\n\u001B[0;32m    352\u001B[0m f\u001B[38;5;241m.\u001B[39mclose()\n\u001B[0;32m    353\u001B[0m \u001B[38;5;28;01mreturn\u001B[39;00m log\n",
      "File \u001B[1;32m~\\PycharmProjects\\Transfer-Learning-for-Predictive-Process-Monitoring\\venv\\Lib\\site-packages\\pm4py\\objects\\log\\importer\\xes\\variants\\iterparse.py:112\u001B[0m, in \u001B[0;36mimport_from_context\u001B[1;34m(context, num_traces, parameters)\u001B[0m\n\u001B[0;32m    108\u001B[0m event \u001B[38;5;241m=\u001B[39m \u001B[38;5;28;01mNone\u001B[39;00m\n\u001B[0;32m    110\u001B[0m tree \u001B[38;5;241m=\u001B[39m {}\n\u001B[1;32m--> 112\u001B[0m \u001B[43m\u001B[49m\u001B[38;5;28;43;01mfor\u001B[39;49;00m\u001B[43m \u001B[49m\u001B[43mtree_event\u001B[49m\u001B[43m,\u001B[49m\u001B[43m \u001B[49m\u001B[43melem\u001B[49m\u001B[43m \u001B[49m\u001B[38;5;129;43;01min\u001B[39;49;00m\u001B[43m \u001B[49m\u001B[43mcontext\u001B[49m\u001B[43m:\u001B[49m\n\u001B[0;32m    113\u001B[0m \u001B[43m    \u001B[49m\u001B[38;5;28;43;01mif\u001B[39;49;00m\u001B[43m \u001B[49m\u001B[43mtree_event\u001B[49m\u001B[43m \u001B[49m\u001B[38;5;241;43m==\u001B[39;49m\u001B[43m \u001B[49m\u001B[43m_EVENT_START\u001B[49m\u001B[43m:\u001B[49m\u001B[43m  \u001B[49m\u001B[38;5;66;43;03m# starting to read\u001B[39;49;00m\n\u001B[0;32m    114\u001B[0m \u001B[43m        \u001B[49m\u001B[43mparent\u001B[49m\u001B[43m \u001B[49m\u001B[38;5;241;43m=\u001B[39;49m\u001B[43m \u001B[49m\u001B[43mtree\u001B[49m\u001B[43m[\u001B[49m\u001B[43melem\u001B[49m\u001B[38;5;241;43m.\u001B[39;49m\u001B[43mgetparent\u001B[49m\u001B[43m(\u001B[49m\u001B[43m)\u001B[49m\u001B[43m]\u001B[49m\u001B[43m \u001B[49m\u001B[38;5;28;43;01mif\u001B[39;49;00m\u001B[43m \u001B[49m\u001B[43melem\u001B[49m\u001B[38;5;241;43m.\u001B[39;49m\u001B[43mgetparent\u001B[49m\u001B[43m(\u001B[49m\u001B[43m)\u001B[49m\u001B[43m \u001B[49m\u001B[38;5;129;43;01min\u001B[39;49;00m\u001B[43m \u001B[49m\u001B[43mtree\u001B[49m\u001B[43m \u001B[49m\u001B[38;5;28;43;01melse\u001B[39;49;00m\u001B[43m \u001B[49m\u001B[38;5;28;43;01mNone\u001B[39;49;00m\n",
      "File \u001B[1;32msrc\\lxml\\iterparse.pxi:195\u001B[0m, in \u001B[0;36mlxml.etree.iterparse.__next__\u001B[1;34m()\u001B[0m\n",
      "File \u001B[1;32msrc\\lxml\\iterparse.pxi:220\u001B[0m, in \u001B[0;36mlxml.etree.iterparse._read_more_events\u001B[1;34m()\u001B[0m\n",
      "File \u001B[1;32m~\\AppData\\Local\\Programs\\Python\\Python311\\Lib\\gzip.py:301\u001B[0m, in \u001B[0;36mGzipFile.read\u001B[1;34m(self, size)\u001B[0m\n\u001B[0;32m    299\u001B[0m     \u001B[38;5;28;01mimport\u001B[39;00m \u001B[38;5;21;01merrno\u001B[39;00m\n\u001B[0;32m    300\u001B[0m     \u001B[38;5;28;01mraise\u001B[39;00m \u001B[38;5;167;01mOSError\u001B[39;00m(errno\u001B[38;5;241m.\u001B[39mEBADF, \u001B[38;5;124m\"\u001B[39m\u001B[38;5;124mread() on write-only GzipFile object\u001B[39m\u001B[38;5;124m\"\u001B[39m)\n\u001B[1;32m--> 301\u001B[0m \u001B[38;5;28;01mreturn\u001B[39;00m \u001B[38;5;28mself\u001B[39m\u001B[38;5;241m.\u001B[39m_buffer\u001B[38;5;241m.\u001B[39mread(size)\n",
      "File \u001B[1;32m~\\AppData\\Local\\Programs\\Python\\Python311\\Lib\\_compression.py:68\u001B[0m, in \u001B[0;36mDecompressReader.readinto\u001B[1;34m(self, b)\u001B[0m\n\u001B[0;32m     66\u001B[0m \u001B[38;5;28;01mdef\u001B[39;00m \u001B[38;5;21mreadinto\u001B[39m(\u001B[38;5;28mself\u001B[39m, b):\n\u001B[0;32m     67\u001B[0m     \u001B[38;5;28;01mwith\u001B[39;00m \u001B[38;5;28mmemoryview\u001B[39m(b) \u001B[38;5;28;01mas\u001B[39;00m view, view\u001B[38;5;241m.\u001B[39mcast(\u001B[38;5;124m\"\u001B[39m\u001B[38;5;124mB\u001B[39m\u001B[38;5;124m\"\u001B[39m) \u001B[38;5;28;01mas\u001B[39;00m byte_view:\n\u001B[1;32m---> 68\u001B[0m         data \u001B[38;5;241m=\u001B[39m \u001B[38;5;28;43mself\u001B[39;49m\u001B[38;5;241;43m.\u001B[39;49m\u001B[43mread\u001B[49m\u001B[43m(\u001B[49m\u001B[38;5;28;43mlen\u001B[39;49m\u001B[43m(\u001B[49m\u001B[43mbyte_view\u001B[49m\u001B[43m)\u001B[49m\u001B[43m)\u001B[49m\n\u001B[0;32m     69\u001B[0m         byte_view[:\u001B[38;5;28mlen\u001B[39m(data)] \u001B[38;5;241m=\u001B[39m data\n\u001B[0;32m     70\u001B[0m     \u001B[38;5;28;01mreturn\u001B[39;00m \u001B[38;5;28mlen\u001B[39m(data)\n",
      "File \u001B[1;32m~\\AppData\\Local\\Programs\\Python\\Python311\\Lib\\gzip.py:507\u001B[0m, in \u001B[0;36m_GzipReader.read\u001B[1;34m(self, size)\u001B[0m\n\u001B[0;32m    504\u001B[0m \u001B[38;5;66;03m# Read a chunk of data from the file\u001B[39;00m\n\u001B[0;32m    505\u001B[0m buf \u001B[38;5;241m=\u001B[39m \u001B[38;5;28mself\u001B[39m\u001B[38;5;241m.\u001B[39m_fp\u001B[38;5;241m.\u001B[39mread(io\u001B[38;5;241m.\u001B[39mDEFAULT_BUFFER_SIZE)\n\u001B[1;32m--> 507\u001B[0m uncompress \u001B[38;5;241m=\u001B[39m \u001B[38;5;28;43mself\u001B[39;49m\u001B[38;5;241;43m.\u001B[39;49m\u001B[43m_decompressor\u001B[49m\u001B[38;5;241;43m.\u001B[39;49m\u001B[43mdecompress\u001B[49m\u001B[43m(\u001B[49m\u001B[43mbuf\u001B[49m\u001B[43m,\u001B[49m\u001B[43m \u001B[49m\u001B[43msize\u001B[49m\u001B[43m)\u001B[49m\n\u001B[0;32m    508\u001B[0m \u001B[38;5;28;01mif\u001B[39;00m \u001B[38;5;28mself\u001B[39m\u001B[38;5;241m.\u001B[39m_decompressor\u001B[38;5;241m.\u001B[39munconsumed_tail \u001B[38;5;241m!=\u001B[39m \u001B[38;5;124mb\u001B[39m\u001B[38;5;124m\"\u001B[39m\u001B[38;5;124m\"\u001B[39m:\n\u001B[0;32m    509\u001B[0m     \u001B[38;5;28mself\u001B[39m\u001B[38;5;241m.\u001B[39m_fp\u001B[38;5;241m.\u001B[39mprepend(\u001B[38;5;28mself\u001B[39m\u001B[38;5;241m.\u001B[39m_decompressor\u001B[38;5;241m.\u001B[39munconsumed_tail)\n",
      "\u001B[1;31mKeyboardInterrupt\u001B[0m: "
     ]
    }
   ],
   "source": [
    "def extract_stats(log):\n",
    "    event_frequency_distribution = {}\n",
    "    trace_length_distribution = {}\n",
    "    longest_trace_length = 0\n",
    "    amount_of_padding = 0\n",
    "    for trace in log:\n",
    "        # Update longest trace length\n",
    "        if len(trace) > longest_trace_length:\n",
    "            longest_trace_length = len(trace)\n",
    "        \n",
    "        # Save trace length distribution\n",
    "        if len(trace) not in trace_length_distribution:\n",
    "            trace_length_distribution[len(trace)] = 1\n",
    "        else:\n",
    "            trace_length_distribution[len(trace)] += 1\n",
    "            \n",
    "        # Save event frequency distribution\n",
    "        for event in trace:\n",
    "            if str(event['concept:name']) not in event_frequency_distribution:\n",
    "                event_frequency_distribution[str(event['concept:name'])] = 1\n",
    "            else:\n",
    "                event_frequency_distribution[str(event['concept:name'])] += 1\n",
    "    # Calculate amount of padding\n",
    "    for trace in log:\n",
    "        amount_of_padding += longest_trace_length - len(trace)\n",
    "        \n",
    "    return trace_length_distribution, event_frequency_distribution, amount_of_padding\n",
    "\n",
    "log_stats = []\n",
    "for file_name in sorted(os.listdir(LOGS_DIR)):\n",
    "    if file_name.endswith('.xes') or file_name.endswith('.xes.gz'):\n",
    "        xes_file_name = os.path.join(LOGS_DIR, file_name)\n",
    "        log = xes_importer.apply(xes_file_name)\n",
    "    elif file_name.endswith('.csv'):\n",
    "        log = pm4py.format_dataframe(pd.read_csv(os.path.join(LOGS_DIR, file_name), sep=','),\n",
    "                                     case_id='CaseID',\n",
    "                                     activity_key='ActivityID',\n",
    "                                     timestamp_key='CompleteTimestamp')\n",
    "        log = pm4py.convert_to_event_log(log)\n",
    "    else:\n",
    "        raise Exception('Unknown file type')\n",
    "    # Extract stats\n",
    "    tld, efd, padding = extract_stats(log)\n",
    "    # Save stats\n",
    "    if str(file_name) in mapping:\n",
    "        log_stats.append({\n",
    "            'file_name': str(file_name),\n",
    "            'trace_length_distribution': tld,\n",
    "            'event_frequency_distribution': efd,\n",
    "            'amount_of_padding': padding,\n",
    "        })"
   ],
   "metadata": {
    "collapsed": false,
    "ExecuteTime": {
     "end_time": "2024-01-04T16:00:18.563307100Z",
     "start_time": "2024-01-04T15:56:26.195994400Z"
    }
   },
   "id": "34e64659239f7a79"
  },
  {
   "cell_type": "code",
   "execution_count": 28,
   "outputs": [],
   "source": [
    "# transform to dataframe\n",
    "log_stats_rows = []\n",
    "for log, tld, efd, padding in log_stats:\n",
    "    log_stats_rows.append({\n",
    "        'log': mapping[log],\n",
    "        'num_traces': sum(tld.values()),\n",
    "        'num_events': sum(efd.values()),\n",
    "        'num_activities': len(efd),\n",
    "        'longest_trace_length': max(tld.keys()),\n",
    "        'avg_trace_length': sum([k * v for k, v in tld.items()]) / sum(tld.values()),\n",
    "        'shortest_trace_length': min(tld.keys()),\n",
    "        'amount_of_padding': padding,\n",
    "        'relative_padding': padding / (sum(efd.values()) + padding),\n",
    "    })\n",
    "df = pd.DataFrame(log_stats_rows)\n",
    "df"
   ],
   "metadata": {
    "collapsed": false,
    "ExecuteTime": {
     "end_time": "2023-12-18T16:30:17.332195300Z",
     "start_time": "2023-12-18T16:30:17.299177500Z"
    }
   },
   "id": "12b49575fb10345a"
  },
  {
   "cell_type": "code",
   "execution_count": 22,
   "outputs": [],
   "source": [
    "def to_latex_table(df, filename, caption=None, label=None):\n",
    "    style = df.style.format_index(\"\\\\textbf{{{}}}\", escape=\"latex\", axis=1) \\\n",
    "        .format(lambda x: str(x).replace('set()', '{}').replace(\"{\", '\\\\{').replace(\"}\", '\\\\}').replace(\"'\", ''))\n",
    "\n",
    "    col_format = 'l' + 'c' * (len(df.columns) - 1)\n",
    "    output = style.to_latex(hrules=False, caption=caption, label=label, column_format=col_format)\n",
    "    output = output.replace(r'\\begin{tabular}{' + col_format + '}', r\"\"\"\n",
    "    \\centering\n",
    "    \\begin{NiceTabular}{\"\"\" + col_format + r\"\"\"}\n",
    "    \\CodeBefore\n",
    "    \\rowcolor{gray!50}{1}\n",
    "    \\rowcolors{2}{gray!25}{white}\n",
    "    \\Body\"\"\")\n",
    "    output = output.replace(r'\\end{tabular}', r'\\end{NiceTabular}')\n",
    "\n",
    "    if filename:\n",
    "        with open(os.path.join(ROOT_DIR, 'reports', filename), 'w') as f:\n",
    "            f.write(output)\n",
    "\n",
    "    return output"
   ],
   "metadata": {
    "collapsed": false,
    "ExecuteTime": {
     "end_time": "2023-12-18T16:28:58.052548800Z",
     "start_time": "2023-12-18T16:28:57.980969200Z"
    }
   },
   "id": "6c30791c8e0dedaf"
  },
  {
   "cell_type": "code",
   "execution_count": 25,
   "outputs": [
    {
     "data": {
      "text/plain": "'\\\\begin{table}\\n\\\\caption{Log statistics}\\n\\\\label{tab:log_stats}\\n\\n    \\\\centering\\n    \\\\begin{NiceTabular}{lccccccccc}\\n    \\\\CodeBefore\\n    \\\\rowcolor{gray!50}{1}\\n    \\\\rowcolors{2}{gray!25}{white}\\n    \\\\Body\\n & \\\\textbf{file\\\\_name} & \\\\textbf{vocab\\\\_size} & \\\\textbf{num\\\\_traces} & \\\\textbf{num\\\\_events} & \\\\textbf{max\\\\_trace\\\\_length} & \\\\textbf{min\\\\_trace\\\\_length} & \\\\textbf{avg\\\\_trace\\\\_length} & \\\\textbf{num\\\\_events\\\\_copy} & \\\\textbf{amount\\\\_of\\\\_padding} & \\\\textbf{relative\\\\_padding} \\\\\\\\\\n0 & BPI Challenge 2018.xes.gz & 42 & 43809 & 130244157 & 2973 & 24 & 57.39154055102833 & 2514266.0 & 127729891.0 & 0.980695748216943 \\\\\\\\\\n1 & BPI%20Challenge%202017.xes.gz & 27 & 31509 & 5671620 & 180 & 10 & 38.15630454790695 & 1202267.0 & 4469353.0 & 0.7880205302894059 \\\\\\\\\\n2 & BPIC15_1.xes & 399 & 1199 & 121099 & 101 & 2 & 43.55045871559633 & 52217.0 & 68882.0 & 0.5688073394495413 \\\\\\\\\\n3 & BPI_Challenge_2012.xes.gz & 25 & 13087 & 2290225 & 175 & 3 & 20.035149384885763 & 262200.0 & 2028025.0 & 0.885513432086367 \\\\\\\\\\n4 & BPI_Challenge_2013_closed_problems.xes.gz & 5 & 1487 & 52045 & 35 & 1 & 4.478816408876933 & 6660.0 & 45385.0 & 0.8720338168892304 \\\\\\\\\\n5 & BPI_Challenge_2013_incidents.xes.gz & 5 & 7554 & 929142 & 123 & 1 & 8.675271379401641 & 65533.0 & 863609.0 & 0.9294693383788485 \\\\\\\\\\n6 & BPI_Challenge_2013_open_problems.xes.gz & 4 & 819 & 18018 & 22 & 1 & 2.8705738705738706 & 2351.0 & 15667.0 & 0.8695193695193695 \\\\\\\\\\n7 & BPI_Challenge_2019.xes & 43 & 251734 & 249216660 & 990 & 1 & 6.33971970413214 & 1595923.0 & 247620737.0 & 0.9935962427230989 \\\\\\\\\\n8 & CoSeLoG WABO 3.xes.gz & 370 & 1087 & 134788 & 124 & 3 & 41.215271389144434 & 44801.0 & 89987.0 & 0.6676187791198029 \\\\\\\\\\n9 & Hospital Billing - Event Log.xes.gz & 19 & 100000 & 21700000 & 217 & 1 & 4.51359 & 451359.0 & 21248641.0 & 0.9792000460829493 \\\\\\\\\\n10 & Hospital_log.xes.gz & 625 & 1143 & 2073402 & 1814 & 1 & 131.48818897637796 & 150291.0 & 1923111.0 & 0.9275147800571235 \\\\\\\\\\n11 & Road_Traffic_Fine_Management_Process.xes.gz & 12 & 150370 & 3007400 & 20 & 2 & 3.7339229899581032 & 561470.0 & 2445930.0 & 0.8133038505020949 \\\\\\\\\\n12 & Sepsis%20Cases%20-%20Event%20Log.xes.gz & 17 & 1050 & 194250 & 185 & 3 & 14.48952380952381 & 15214.0 & 179036.0 & 0.9216782496782496 \\\\\\\\\\n13 & helpdesk.csv & 10 & 3804 & 53256 & 14 & 1 & 3.60410094637224 & 13710.000000000002 & 39546.0 & 0.7425642181162686 \\\\\\\\\\n\\\\end{NiceTabular}\\n\\\\end{table}\\n'"
     },
     "execution_count": 25,
     "metadata": {},
     "output_type": "execute_result"
    }
   ],
   "source": [
    "to_latex_table(df, 'log_stats.tex', caption='Log statistics', label='tab:log_stats')"
   ],
   "metadata": {
    "collapsed": false,
    "ExecuteTime": {
     "end_time": "2023-12-18T16:29:44.855138200Z",
     "start_time": "2023-12-18T16:29:44.762056700Z"
    }
   },
   "id": "57988a32a9a805fc"
  },
  {
   "cell_type": "code",
   "execution_count": 51,
   "outputs": [
    {
     "data": {
      "text/plain": "parsing log, completed traces ::   0%|          | 0/150370 [00:00<?, ?it/s]",
      "application/vnd.jupyter.widget-view+json": {
       "version_major": 2,
       "version_minor": 0,
       "model_id": "cb322cae244e440db8b5bcbc8cd52848"
      }
     },
     "metadata": {},
     "output_type": "display_data"
    }
   ],
   "source": [
    "name = 'Road_Traffic_Fine_Management_Process.xes.gz'\n",
    "log = pm4py.read_xes(file_path=os.path.join(LOGS_DIR, name))"
   ],
   "metadata": {
    "collapsed": false,
    "ExecuteTime": {
     "end_time": "2024-01-02T17:49:30.971789700Z",
     "start_time": "2024-01-02T17:48:56.256202700Z"
    }
   },
   "id": "4f603280f4e3955e"
  },
  {
   "cell_type": "code",
   "outputs": [
    {
     "ename": "AttributeError",
     "evalue": "'EventLog' object has no attribute 'groupby'",
     "output_type": "error",
     "traceback": [
      "\u001B[1;31m---------------------------------------------------------------------------\u001B[0m",
      "\u001B[1;31mAttributeError\u001B[0m                            Traceback (most recent call last)",
      "Cell \u001B[1;32mIn[71], line 1\u001B[0m\n\u001B[1;32m----> 1\u001B[0m longest_trace \u001B[38;5;241m=\u001B[39m \u001B[43mlog\u001B[49m\u001B[38;5;241;43m.\u001B[39;49m\u001B[43mgroupby\u001B[49m(\u001B[38;5;124m'\u001B[39m\u001B[38;5;124mcase:concept:name\u001B[39m\u001B[38;5;124m'\u001B[39m)[\u001B[38;5;124m'\u001B[39m\u001B[38;5;124mconcept:name\u001B[39m\u001B[38;5;124m'\u001B[39m]\u001B[38;5;241m.\u001B[39mcount()\u001B[38;5;241m.\u001B[39mmax()\n\u001B[0;32m      2\u001B[0m longest_trace\n",
      "\u001B[1;31mAttributeError\u001B[0m: 'EventLog' object has no attribute 'groupby'"
     ]
    }
   ],
   "source": [
    "longest_trace = log.groupby('case:concept:name')['concept:name'].count().max()\n",
    "longest_trace"
   ],
   "metadata": {
    "collapsed": false,
    "ExecuteTime": {
     "end_time": "2024-01-02T18:08:08.264289900Z",
     "start_time": "2024-01-02T18:08:08.239408800Z"
    }
   },
   "id": "48c0e5508cc98610",
   "execution_count": 71
  },
  {
   "cell_type": "code",
   "outputs": [
    {
     "data": {
      "text/plain": "231"
     },
     "execution_count": 53,
     "metadata": {},
     "output_type": "execute_result"
    }
   ],
   "source": [
    "variants = pm4py.get_variants(log)\n",
    "variant_count = len(variants)\n",
    "variant_count"
   ],
   "metadata": {
    "collapsed": false,
    "ExecuteTime": {
     "end_time": "2024-01-02T17:49:35.292440400Z",
     "start_time": "2024-01-02T17:49:34.829057100Z"
    }
   },
   "id": "421a0bde5ad17e91",
   "execution_count": 53
  },
  {
   "cell_type": "code",
   "outputs": [
    {
     "data": {
      "text/plain": "[('Create Fine',\n  'Send Fine',\n  'Insert Fine Notification',\n  'Add penalty',\n  'Insert Date Appeal to Prefecture',\n  'Payment',\n  'Receive Result Appeal from Prefecture',\n  'Payment'),\n ('Create Fine',\n  'Send Fine',\n  'Insert Fine Notification',\n  'Add penalty',\n  'Notify Result Appeal to Offender',\n  'Receive Result Appeal from Prefecture',\n  'Send for Credit Collection'),\n ('Create Fine',\n  'Send Fine',\n  'Insert Fine Notification',\n  'Insert Date Appeal to Prefecture',\n  'Send Appeal to Prefecture',\n  'Receive Result Appeal from Prefecture',\n  'Add penalty',\n  'Notify Result Appeal to Offender',\n  'Appeal to Judge',\n  'Send for Credit Collection'),\n ('Create Fine',\n  'Send Fine',\n  'Insert Date Appeal to Prefecture',\n  'Insert Fine Notification',\n  'Add penalty',\n  'Send Appeal to Prefecture',\n  'Receive Result Appeal from Prefecture',\n  'Notify Result Appeal to Offender',\n  'Send for Credit Collection'),\n ('Create Fine',\n  'Send Fine',\n  'Insert Fine Notification',\n  'Receive Result Appeal from Prefecture',\n  'Add penalty',\n  'Notify Result Appeal to Offender',\n  'Payment'),\n ('Create Fine',\n  'Send Fine',\n  'Insert Fine Notification',\n  'Insert Date Appeal to Prefecture',\n  'Add penalty',\n  'Receive Result Appeal from Prefecture',\n  'Notify Result Appeal to Offender'),\n ('Create Fine',\n  'Send Fine',\n  'Insert Fine Notification',\n  'Insert Date Appeal to Prefecture',\n  'Add penalty',\n  'Receive Result Appeal from Prefecture',\n  'Notify Result Appeal to Offender',\n  'Send Appeal to Prefecture',\n  'Send for Credit Collection'),\n ('Create Fine',\n  'Send Fine',\n  'Insert Fine Notification',\n  'Insert Date Appeal to Prefecture',\n  'Add penalty',\n  'Send Appeal to Prefecture',\n  'Receive Result Appeal from Prefecture',\n  'Appeal to Judge',\n  'Notify Result Appeal to Offender',\n  'Payment'),\n ('Create Fine',\n  'Send Fine',\n  'Insert Fine Notification',\n  'Appeal to Judge',\n  'Add penalty',\n  'Insert Date Appeal to Prefecture',\n  'Send Appeal to Prefecture',\n  'Payment'),\n ('Create Fine',\n  'Send Fine',\n  'Insert Fine Notification',\n  'Add penalty',\n  'Insert Date Appeal to Prefecture',\n  'Send Appeal to Prefecture',\n  'Payment',\n  'Payment',\n  'Payment',\n  'Payment',\n  'Payment',\n  'Payment',\n  'Payment',\n  'Payment',\n  'Payment',\n  'Payment'),\n ('Create Fine',\n  'Insert Date Appeal to Prefecture',\n  'Send Appeal to Prefecture',\n  'Send Fine',\n  'Insert Fine Notification',\n  'Payment',\n  'Add penalty',\n  'Payment'),\n ('Create Fine',\n  'Send Fine',\n  'Insert Fine Notification',\n  'Insert Date Appeal to Prefecture',\n  'Add penalty',\n  'Payment',\n  'Payment',\n  'Payment',\n  'Payment',\n  'Payment',\n  'Payment',\n  'Payment',\n  'Payment',\n  'Payment',\n  'Payment'),\n ('Create Fine',\n  'Send Fine',\n  'Insert Fine Notification',\n  'Appeal to Judge',\n  'Add penalty',\n  'Insert Date Appeal to Prefecture',\n  'Send Appeal to Prefecture'),\n ('Create Fine',\n  'Send Fine',\n  'Insert Fine Notification',\n  'Add penalty',\n  'Payment',\n  'Insert Date Appeal to Prefecture',\n  'Send Appeal to Prefecture'),\n ('Create Fine',\n  'Send Fine',\n  'Insert Fine Notification',\n  'Insert Date Appeal to Prefecture',\n  'Send Appeal to Prefecture',\n  'Add penalty',\n  'Receive Result Appeal from Prefecture',\n  'Notify Result Appeal to Offender',\n  'Appeal to Judge',\n  'Payment',\n  'Payment',\n  'Payment'),\n ('Create Fine',\n  'Send Fine',\n  'Insert Fine Notification',\n  'Appeal to Judge',\n  'Add penalty',\n  'Payment',\n  'Payment',\n  'Payment',\n  'Payment',\n  'Payment',\n  'Payment',\n  'Payment',\n  'Payment',\n  'Payment',\n  'Payment',\n  'Payment',\n  'Payment'),\n ('Create Fine',\n  'Send Fine',\n  'Insert Fine Notification',\n  'Appeal to Judge',\n  'Add penalty',\n  'Payment',\n  'Payment',\n  'Payment',\n  'Payment',\n  'Payment',\n  'Payment',\n  'Payment',\n  'Payment',\n  'Payment',\n  'Payment'),\n ('Create Fine',\n  'Send Fine',\n  'Insert Fine Notification',\n  'Add penalty',\n  'Insert Date Appeal to Prefecture',\n  'Payment',\n  'Payment',\n  'Payment',\n  'Payment'),\n ('Create Fine',\n  'Send Fine',\n  'Insert Fine Notification',\n  'Add penalty',\n  'Payment',\n  'Payment',\n  'Payment',\n  'Payment',\n  'Payment',\n  'Payment',\n  'Payment',\n  'Payment'),\n ('Create Fine',\n  'Send Fine',\n  'Insert Fine Notification',\n  'Appeal to Judge',\n  'Add penalty',\n  'Payment',\n  'Payment',\n  'Payment',\n  'Payment',\n  'Payment',\n  'Payment',\n  'Payment',\n  'Payment',\n  'Payment',\n  'Payment',\n  'Payment'),\n ('Create Fine',\n  'Send Fine',\n  'Insert Fine Notification',\n  'Add penalty',\n  'Appeal to Judge',\n  'Receive Result Appeal from Prefecture'),\n ('Create Fine',\n  'Send Fine',\n  'Insert Fine Notification',\n  'Appeal to Judge',\n  'Add penalty',\n  'Payment',\n  'Payment',\n  'Payment',\n  'Payment',\n  'Payment',\n  'Payment',\n  'Payment',\n  'Payment',\n  'Payment',\n  'Payment',\n  'Payment',\n  'Payment',\n  'Payment',\n  'Payment',\n  'Payment'),\n ('Create Fine', 'Appeal to Judge', 'Send Fine', 'Payment'),\n ('Create Fine',\n  'Send Fine',\n  'Insert Fine Notification',\n  'Payment',\n  'Add penalty',\n  'Payment',\n  'Payment',\n  'Payment',\n  'Payment',\n  'Payment',\n  'Payment'),\n ('Create Fine',\n  'Send Fine',\n  'Insert Date Appeal to Prefecture',\n  'Payment',\n  'Send Appeal to Prefecture'),\n ('Create Fine',\n  'Send Fine',\n  'Insert Fine Notification',\n  'Payment',\n  'Add penalty',\n  'Payment',\n  'Payment',\n  'Payment',\n  'Payment'),\n ('Create Fine',\n  'Send Fine',\n  'Insert Fine Notification',\n  'Add penalty',\n  'Insert Date Appeal to Prefecture',\n  'Receive Result Appeal from Prefecture',\n  'Notify Result Appeal to Offender',\n  'Appeal to Judge',\n  'Send Appeal to Prefecture'),\n ('Create Fine',\n  'Send Fine',\n  'Insert Fine Notification',\n  'Insert Date Appeal to Prefecture',\n  'Add penalty',\n  'Receive Result Appeal from Prefecture',\n  'Payment'),\n ('Create Fine',\n  'Payment',\n  'Send Fine',\n  'Insert Fine Notification',\n  'Add penalty',\n  'Payment',\n  'Send for Credit Collection'),\n ('Create Fine',\n  'Send Fine',\n  'Insert Fine Notification',\n  'Insert Date Appeal to Prefecture',\n  'Receive Result Appeal from Prefecture',\n  'Send Appeal to Prefecture',\n  'Add penalty',\n  'Notify Result Appeal to Offender',\n  'Send for Credit Collection'),\n ('Create Fine',\n  'Send Fine',\n  'Insert Fine Notification',\n  'Appeal to Judge',\n  'Insert Date Appeal to Prefecture',\n  'Add penalty',\n  'Payment'),\n ('Create Fine',\n  'Send Fine',\n  'Insert Fine Notification',\n  'Insert Date Appeal to Prefecture',\n  'Add penalty',\n  'Receive Result Appeal from Prefecture',\n  'Send Appeal to Prefecture',\n  'Notify Result Appeal to Offender',\n  'Send for Credit Collection'),\n ('Create Fine',\n  'Insert Date Appeal to Prefecture',\n  'Send Fine',\n  'Insert Fine Notification',\n  'Send Appeal to Prefecture',\n  'Add penalty',\n  'Receive Result Appeal from Prefecture',\n  'Payment'),\n ('Create Fine',\n  'Send Fine',\n  'Insert Fine Notification',\n  'Insert Date Appeal to Prefecture',\n  'Add penalty',\n  'Send Appeal to Prefecture',\n  'Receive Result Appeal from Prefecture',\n  'Appeal to Judge',\n  'Notify Result Appeal to Offender',\n  'Send for Credit Collection'),\n ('Create Fine',\n  'Send Fine',\n  'Insert Fine Notification',\n  'Add penalty',\n  'Insert Date Appeal to Prefecture',\n  'Send Appeal to Prefecture',\n  'Receive Result Appeal from Prefecture',\n  'Notify Result Appeal to Offender',\n  'Appeal to Judge',\n  'Payment',\n  'Payment'),\n ('Create Fine',\n  'Send Fine',\n  'Insert Fine Notification',\n  'Insert Date Appeal to Prefecture',\n  'Send Appeal to Prefecture',\n  'Add penalty',\n  'Receive Result Appeal from Prefecture',\n  'Appeal to Judge',\n  'Notify Result Appeal to Offender'),\n ('Create Fine',\n  'Payment',\n  'Send Fine',\n  'Insert Fine Notification',\n  'Insert Date Appeal to Prefecture',\n  'Add penalty',\n  'Send Appeal to Prefecture'),\n ('Create Fine',\n  'Send Fine',\n  'Insert Fine Notification',\n  'Add penalty',\n  'Payment',\n  'Payment',\n  'Payment',\n  'Payment',\n  'Send for Credit Collection'),\n ('Create Fine',\n  'Send Fine',\n  'Insert Fine Notification',\n  'Appeal to Judge',\n  'Add penalty',\n  'Payment',\n  'Payment',\n  'Send for Credit Collection'),\n ('Create Fine',\n  'Send Fine',\n  'Insert Fine Notification',\n  'Insert Date Appeal to Prefecture',\n  'Add penalty',\n  'Send Appeal to Prefecture',\n  'Receive Result Appeal from Prefecture',\n  'Payment',\n  'Notify Result Appeal to Offender',\n  'Payment'),\n ('Create Fine',\n  'Send Fine',\n  'Insert Fine Notification',\n  'Insert Date Appeal to Prefecture',\n  'Add penalty',\n  'Send Appeal to Prefecture',\n  'Receive Result Appeal from Prefecture',\n  'Appeal to Judge',\n  'Payment'),\n ('Create Fine',\n  'Payment',\n  'Send Fine',\n  'Insert Fine Notification',\n  'Payment',\n  'Add penalty',\n  'Send for Credit Collection'),\n ('Create Fine',\n  'Payment',\n  'Payment',\n  'Send Fine',\n  'Insert Fine Notification',\n  'Add penalty',\n  'Payment'),\n ('Create Fine',\n  'Send Fine',\n  'Insert Fine Notification',\n  'Insert Date Appeal to Prefecture',\n  'Appeal to Judge',\n  'Add penalty',\n  'Send Appeal to Prefecture',\n  'Receive Result Appeal from Prefecture',\n  'Notify Result Appeal to Offender'),\n ('Create Fine',\n  'Send Fine',\n  'Insert Fine Notification',\n  'Add penalty',\n  'Insert Date Appeal to Prefecture',\n  'Appeal to Judge',\n  'Send Appeal to Prefecture'),\n ('Create Fine',\n  'Send Fine',\n  'Insert Fine Notification',\n  'Add penalty',\n  'Insert Date Appeal to Prefecture',\n  'Receive Result Appeal from Prefecture',\n  'Notify Result Appeal to Offender',\n  'Appeal to Judge',\n  'Send for Credit Collection',\n  'Send Appeal to Prefecture'),\n ('Create Fine',\n  'Send Fine',\n  'Send Appeal to Prefecture',\n  'Insert Fine Notification',\n  'Insert Date Appeal to Prefecture',\n  'Add penalty',\n  'Receive Result Appeal from Prefecture',\n  'Notify Result Appeal to Offender'),\n ('Create Fine',\n  'Send Fine',\n  'Insert Fine Notification',\n  'Add penalty',\n  'Insert Date Appeal to Prefecture',\n  'Receive Result Appeal from Prefecture',\n  'Notify Result Appeal to Offender'),\n ('Create Fine',\n  'Send Fine',\n  'Insert Date Appeal to Prefecture',\n  'Insert Fine Notification',\n  'Send Appeal to Prefecture',\n  'Add penalty',\n  'Receive Result Appeal from Prefecture',\n  'Notify Result Appeal to Offender',\n  'Payment',\n  'Payment'),\n ('Create Fine',\n  'Send Fine',\n  'Insert Fine Notification',\n  'Insert Date Appeal to Prefecture',\n  'Add penalty',\n  'Send Appeal to Prefecture',\n  'Payment',\n  'Payment'),\n ('Create Fine',\n  'Insert Date Appeal to Prefecture',\n  'Send Fine',\n  'Insert Fine Notification',\n  'Send Appeal to Prefecture',\n  'Add penalty',\n  'Receive Result Appeal from Prefecture',\n  'Notify Result Appeal to Offender',\n  'Send for Credit Collection'),\n ('Create Fine',\n  'Send Fine',\n  'Insert Fine Notification',\n  'Add penalty',\n  'Appeal to Judge',\n  'Payment',\n  'Payment',\n  'Payment',\n  'Payment'),\n ('Create Fine',\n  'Send Fine',\n  'Insert Fine Notification',\n  'Add penalty',\n  'Appeal to Judge',\n  'Payment',\n  'Payment'),\n ('Create Fine',\n  'Send Fine',\n  'Insert Fine Notification',\n  'Insert Date Appeal to Prefecture',\n  'Send Appeal to Prefecture',\n  'Add penalty',\n  'Receive Result Appeal from Prefecture',\n  'Notify Result Appeal to Offender',\n  'Payment',\n  'Appeal to Judge'),\n ('Create Fine',\n  'Send Fine',\n  'Insert Fine Notification',\n  'Insert Date Appeal to Prefecture',\n  'Add penalty',\n  'Send Appeal to Prefecture',\n  'Payment',\n  'Payment',\n  'Payment'),\n ('Create Fine',\n  'Send Fine',\n  'Insert Fine Notification',\n  'Add penalty',\n  'Appeal to Judge',\n  'Payment',\n  'Payment',\n  'Payment',\n  'Payment',\n  'Payment'),\n ('Create Fine',\n  'Send Fine',\n  'Insert Fine Notification',\n  'Payment',\n  'Add penalty',\n  'Payment',\n  'Payment',\n  'Payment',\n  'Payment',\n  'Payment',\n  'Payment',\n  'Payment'),\n ('Create Fine',\n  'Insert Date Appeal to Prefecture',\n  'Send Fine',\n  'Insert Fine Notification',\n  'Send Appeal to Prefecture',\n  'Add penalty',\n  'Payment'),\n ('Create Fine',\n  'Insert Date Appeal to Prefecture',\n  'Send Fine',\n  'Insert Fine Notification',\n  'Send Appeal to Prefecture',\n  'Add penalty',\n  'Payment',\n  'Payment'),\n ('Create Fine',\n  'Send Fine',\n  'Insert Fine Notification',\n  'Insert Date Appeal to Prefecture',\n  'Add penalty',\n  'Send Appeal to Prefecture',\n  'Notify Result Appeal to Offender',\n  'Receive Result Appeal from Prefecture'),\n ('Create Fine',\n  'Send Fine',\n  'Insert Date Appeal to Prefecture',\n  'Send Appeal to Prefecture',\n  'Receive Result Appeal from Prefecture'),\n ('Create Fine', 'Payment', 'Payment', 'Send Fine'),\n ('Create Fine',\n  'Send Fine',\n  'Payment',\n  'Insert Date Appeal to Prefecture',\n  'Send Appeal to Prefecture'),\n ('Create Fine',\n  'Send Fine',\n  'Insert Fine Notification',\n  'Insert Date Appeal to Prefecture',\n  'Send Appeal to Prefecture',\n  'Receive Result Appeal from Prefecture',\n  'Add penalty',\n  'Payment',\n  'Payment'),\n ('Create Fine',\n  'Insert Date Appeal to Prefecture',\n  'Send Appeal to Prefecture',\n  'Send Fine',\n  'Payment'),\n ('Create Fine',\n  'Send Fine',\n  'Insert Fine Notification',\n  'Insert Date Appeal to Prefecture',\n  'Receive Result Appeal from Prefecture',\n  'Send Appeal to Prefecture',\n  'Add penalty',\n  'Payment'),\n ('Create Fine',\n  'Send Fine',\n  'Insert Fine Notification',\n  'Insert Date Appeal to Prefecture',\n  'Send Appeal to Prefecture',\n  'Receive Result Appeal from Prefecture',\n  'Add penalty',\n  'Notify Result Appeal to Offender',\n  'Appeal to Judge',\n  'Payment',\n  'Payment'),\n ('Create Fine',\n  'Send Fine',\n  'Insert Date Appeal to Prefecture',\n  'Insert Fine Notification',\n  'Appeal to Judge',\n  'Send Appeal to Prefecture',\n  'Add penalty',\n  'Payment'),\n ('Create Fine',\n  'Send Fine',\n  'Insert Fine Notification',\n  'Insert Date Appeal to Prefecture',\n  'Add penalty',\n  'Send Appeal to Prefecture',\n  'Receive Result Appeal from Prefecture',\n  'Appeal to Judge'),\n ('Create Fine',\n  'Send Fine',\n  'Insert Fine Notification',\n  'Insert Date Appeal to Prefecture',\n  'Send Appeal to Prefecture',\n  'Add penalty',\n  'Receive Result Appeal from Prefecture',\n  'Appeal to Judge',\n  'Notify Result Appeal to Offender',\n  'Payment'),\n ('Create Fine',\n  'Send Fine',\n  'Insert Fine Notification',\n  'Add penalty',\n  'Insert Date Appeal to Prefecture',\n  'Send Appeal to Prefecture',\n  'Receive Result Appeal from Prefecture',\n  'Appeal to Judge',\n  'Notify Result Appeal to Offender'),\n ('Create Fine',\n  'Send Fine',\n  'Insert Fine Notification',\n  'Add penalty',\n  'Receive Result Appeal from Prefecture',\n  'Notify Result Appeal to Offender',\n  'Appeal to Judge',\n  'Payment'),\n ('Create Fine',\n  'Send Fine',\n  'Insert Fine Notification',\n  'Add penalty',\n  'Payment',\n  'Appeal to Judge',\n  'Payment'),\n ('Create Fine',\n  'Send Fine',\n  'Insert Fine Notification',\n  'Payment',\n  'Add penalty',\n  'Appeal to Judge'),\n ('Create Fine',\n  'Send Fine',\n  'Insert Fine Notification',\n  'Insert Date Appeal to Prefecture',\n  'Appeal to Judge',\n  'Send Appeal to Prefecture',\n  'Add penalty',\n  'Receive Result Appeal from Prefecture'),\n ('Create Fine',\n  'Send Fine',\n  'Insert Date Appeal to Prefecture',\n  'Send Appeal to Prefecture',\n  'Insert Fine Notification',\n  'Add penalty',\n  'Payment'),\n ('Create Fine',\n  'Insert Date Appeal to Prefecture',\n  'Send Appeal to Prefecture',\n  'Send Fine',\n  'Insert Fine Notification',\n  'Add penalty',\n  'Payment'),\n ('Create Fine',\n  'Send Fine',\n  'Insert Fine Notification',\n  'Appeal to Judge',\n  'Add penalty',\n  'Payment',\n  'Payment',\n  'Payment'),\n ('Create Fine',\n  'Send Fine',\n  'Insert Fine Notification',\n  'Add penalty',\n  'Insert Date Appeal to Prefecture',\n  'Send Appeal to Prefecture',\n  'Receive Result Appeal from Prefecture',\n  'Appeal to Judge',\n  'Notify Result Appeal to Offender',\n  'Payment'),\n ('Create Fine',\n  'Send Fine',\n  'Insert Fine Notification',\n  'Insert Date Appeal to Prefecture',\n  'Add penalty',\n  'Send Appeal to Prefecture',\n  'Receive Result Appeal from Prefecture',\n  'Notify Result Appeal to Offender',\n  'Payment',\n  'Payment',\n  'Payment',\n  'Payment',\n  'Payment',\n  'Payment'),\n ('Create Fine',\n  'Send Fine',\n  'Insert Fine Notification',\n  'Insert Date Appeal to Prefecture',\n  'Send Appeal to Prefecture',\n  'Add penalty',\n  'Receive Result Appeal from Prefecture',\n  'Appeal to Judge'),\n ('Create Fine',\n  'Send Fine',\n  'Insert Fine Notification',\n  'Insert Date Appeal to Prefecture',\n  'Send Appeal to Prefecture',\n  'Add penalty',\n  'Receive Result Appeal from Prefecture',\n  'Notify Result Appeal to Offender',\n  'Payment',\n  'Payment',\n  'Send for Credit Collection'),\n ('Create Fine',\n  'Send Fine',\n  'Insert Fine Notification',\n  'Insert Date Appeal to Prefecture',\n  'Appeal to Judge',\n  'Send Appeal to Prefecture',\n  'Add penalty',\n  'Receive Result Appeal from Prefecture',\n  'Notify Result Appeal to Offender',\n  'Send for Credit Collection'),\n ('Create Fine',\n  'Send Fine',\n  'Insert Fine Notification',\n  'Insert Date Appeal to Prefecture',\n  'Add penalty',\n  'Receive Result Appeal from Prefecture',\n  'Appeal to Judge',\n  'Send Appeal to Prefecture'),\n ('Create Fine',\n  'Send Fine',\n  'Insert Fine Notification',\n  'Insert Date Appeal to Prefecture',\n  'Send Appeal to Prefecture',\n  'Receive Result Appeal from Prefecture',\n  'Add penalty',\n  'Notify Result Appeal to Offender',\n  'Appeal to Judge',\n  'Payment'),\n ('Create Fine',\n  'Send Fine',\n  'Insert Fine Notification',\n  'Add penalty',\n  'Payment',\n  'Payment',\n  'Payment',\n  'Payment',\n  'Payment',\n  'Payment',\n  'Payment',\n  'Payment',\n  'Payment',\n  'Payment'),\n ('Create Fine',\n  'Send Fine',\n  'Insert Fine Notification',\n  'Add penalty',\n  'Payment',\n  'Payment',\n  'Payment',\n  'Payment',\n  'Payment',\n  'Payment',\n  'Payment',\n  'Payment',\n  'Payment',\n  'Payment',\n  'Send for Credit Collection'),\n ('Create Fine',\n  'Payment',\n  'Send Fine',\n  'Insert Fine Notification',\n  'Insert Date Appeal to Prefecture',\n  'Send Appeal to Prefecture',\n  'Add penalty',\n  'Receive Result Appeal from Prefecture',\n  'Notify Result Appeal to Offender'),\n ('Create Fine',\n  'Send Fine',\n  'Insert Fine Notification',\n  'Payment',\n  'Add penalty',\n  'Insert Date Appeal to Prefecture',\n  'Send Appeal to Prefecture',\n  'Payment'),\n ('Create Fine',\n  'Send Fine',\n  'Insert Fine Notification',\n  'Insert Date Appeal to Prefecture',\n  'Add penalty',\n  'Receive Result Appeal from Prefecture',\n  'Send Appeal to Prefecture',\n  'Payment'),\n ('Create Fine',\n  'Send Fine',\n  'Insert Fine Notification',\n  'Appeal to Judge',\n  'Add penalty',\n  'Payment',\n  'Payment',\n  'Payment',\n  'Payment',\n  'Payment',\n  'Payment'),\n ('Create Fine',\n  'Send Fine',\n  'Insert Fine Notification',\n  'Receive Result Appeal from Prefecture',\n  'Insert Date Appeal to Prefecture',\n  'Send Appeal to Prefecture',\n  'Add penalty',\n  'Payment'),\n ('Create Fine',\n  'Send Fine',\n  'Insert Fine Notification',\n  'Insert Date Appeal to Prefecture',\n  'Send Appeal to Prefecture',\n  'Appeal to Judge',\n  'Add penalty',\n  'Payment',\n  'Payment',\n  'Payment',\n  'Payment',\n  'Payment',\n  'Payment',\n  'Payment',\n  'Payment',\n  'Payment',\n  'Payment'),\n ('Create Fine',\n  'Send Fine',\n  'Insert Fine Notification',\n  'Insert Date Appeal to Prefecture',\n  'Appeal to Judge',\n  'Send Appeal to Prefecture',\n  'Add penalty',\n  'Payment',\n  'Payment',\n  'Payment',\n  'Payment',\n  'Payment'),\n ('Create Fine',\n  'Send Fine',\n  'Insert Fine Notification',\n  'Insert Date Appeal to Prefecture',\n  'Send Appeal to Prefecture',\n  'Add penalty',\n  'Payment',\n  'Receive Result Appeal from Prefecture',\n  'Notify Result Appeal to Offender',\n  'Payment'),\n ('Create Fine',\n  'Send Fine',\n  'Send Appeal to Prefecture',\n  'Insert Fine Notification',\n  'Insert Date Appeal to Prefecture',\n  'Add penalty',\n  'Payment'),\n ('Create Fine',\n  'Send Fine',\n  'Insert Fine Notification',\n  'Insert Date Appeal to Prefecture',\n  'Add penalty',\n  'Payment',\n  'Payment',\n  'Payment'),\n ('Create Fine',\n  'Send Fine',\n  'Insert Fine Notification',\n  'Insert Date Appeal to Prefecture',\n  'Send Appeal to Prefecture',\n  'Add penalty',\n  'Receive Result Appeal from Prefecture',\n  'Notify Result Appeal to Offender',\n  'Payment',\n  'Send for Credit Collection'),\n ('Create Fine',\n  'Send Fine',\n  'Insert Fine Notification',\n  'Insert Date Appeal to Prefecture',\n  'Send Appeal to Prefecture',\n  'Add penalty',\n  'Receive Result Appeal from Prefecture',\n  'Notify Result Appeal to Offender',\n  'Appeal to Judge',\n  'Payment',\n  'Payment',\n  'Payment',\n  'Payment',\n  'Payment',\n  'Payment'),\n ('Create Fine',\n  'Send Fine',\n  'Insert Date Appeal to Prefecture',\n  'Send Appeal to Prefecture',\n  'Insert Fine Notification',\n  'Appeal to Judge',\n  'Add penalty',\n  'Payment')]"
     },
     "execution_count": 63,
     "metadata": {},
     "output_type": "execute_result"
    }
   ],
   "source": [
    "variants_only_once = list(filter(lambda x: x[1] == 1, variants.items()))\n",
    "variants_only_once = list(map(lambda x: x[0], variants_only_once))\n",
    "variants_only_once"
   ],
   "metadata": {
    "collapsed": false,
    "ExecuteTime": {
     "end_time": "2024-01-02T17:52:21.462275100Z",
     "start_time": "2024-01-02T17:52:21.432355Z"
    }
   },
   "id": "ab542e36e3e4397f",
   "execution_count": 63
  },
  {
   "cell_type": "code",
   "outputs": [
    {
     "data": {
      "text/plain": "131"
     },
     "execution_count": 64,
     "metadata": {},
     "output_type": "execute_result"
    }
   ],
   "source": [
    "filtered2 = pm4py.filter_variants(log, variants_only_once, retain=False)\n",
    "filtered2_variant_count = len(pm4py.get_variants(filtered2))\n",
    "filtered2_variant_count"
   ],
   "metadata": {
    "collapsed": false,
    "ExecuteTime": {
     "end_time": "2024-01-02T17:52:26.580995900Z",
     "start_time": "2024-01-02T17:52:23.883167500Z"
    }
   },
   "id": "1841a9ed225d148a",
   "execution_count": 64
  },
  {
   "cell_type": "code",
   "outputs": [
    {
     "data": {
      "text/plain": "14"
     },
     "execution_count": 65,
     "metadata": {},
     "output_type": "execute_result"
    }
   ],
   "source": [
    "filtered2_longest_trace = filtered2.groupby('case:concept:name')['concept:name'].count().max()\n",
    "filtered2_longest_trace"
   ],
   "metadata": {
    "collapsed": false,
    "ExecuteTime": {
     "end_time": "2024-01-02T17:52:29.808988800Z",
     "start_time": "2024-01-02T17:52:29.644763800Z"
    }
   },
   "id": "7324816594e9a3c0",
   "execution_count": 65
  },
  {
   "cell_type": "code",
   "outputs": [
    {
     "data": {
      "text/plain": "exporting log, completed traces ::   0%|          | 0/150270 [00:00<?, ?it/s]",
      "application/vnd.jupyter.widget-view+json": {
       "version_major": 2,
       "version_minor": 0,
       "model_id": "e1198bfc305541b6b6293c556ab2e920"
      }
     },
     "metadata": {},
     "output_type": "display_data"
    }
   ],
   "source": [
    "pm4py.write_xes(filtered2, os.path.join(LOGS_DIR, 'RTFMP_filtered.xes'))"
   ],
   "metadata": {
    "collapsed": false,
    "ExecuteTime": {
     "end_time": "2024-01-02T17:54:04.223079200Z",
     "start_time": "2024-01-02T17:53:11.353924Z"
    }
   },
   "id": "e6460eeff57462cd",
   "execution_count": 66
  },
  {
   "cell_type": "code",
   "outputs": [
    {
     "ename": "AttributeError",
     "evalue": "'DataFrame' object has no attribute 'attributes'",
     "output_type": "error",
     "traceback": [
      "\u001B[1;31m---------------------------------------------------------------------------\u001B[0m",
      "\u001B[1;31mAttributeError\u001B[0m                            Traceback (most recent call last)",
      "\u001B[1;32m~\\AppData\\Local\\Temp\\ipykernel_9928\\873728484.py\u001B[0m in \u001B[0;36m?\u001B[1;34m()\u001B[0m\n\u001B[1;32m----> 1\u001B[1;33m \u001B[0mfiltered2\u001B[0m\u001B[1;33m.\u001B[0m\u001B[0mattributes\u001B[0m\u001B[1;33m\u001B[0m\u001B[1;33m\u001B[0m\u001B[0m\n\u001B[0m",
      "\u001B[1;32m~\\anaconda3\\envs\\transfer_learning\\lib\\site-packages\\pandas\\core\\generic.py\u001B[0m in \u001B[0;36m?\u001B[1;34m(self, name)\u001B[0m\n\u001B[0;32m   6200\u001B[0m             \u001B[1;32mand\u001B[0m \u001B[0mname\u001B[0m \u001B[1;32mnot\u001B[0m \u001B[1;32min\u001B[0m \u001B[0mself\u001B[0m\u001B[1;33m.\u001B[0m\u001B[0m_accessors\u001B[0m\u001B[1;33m\u001B[0m\u001B[1;33m\u001B[0m\u001B[0m\n\u001B[0;32m   6201\u001B[0m             \u001B[1;32mand\u001B[0m \u001B[0mself\u001B[0m\u001B[1;33m.\u001B[0m\u001B[0m_info_axis\u001B[0m\u001B[1;33m.\u001B[0m\u001B[0m_can_hold_identifiers_and_holds_name\u001B[0m\u001B[1;33m(\u001B[0m\u001B[0mname\u001B[0m\u001B[1;33m)\u001B[0m\u001B[1;33m\u001B[0m\u001B[1;33m\u001B[0m\u001B[0m\n\u001B[0;32m   6202\u001B[0m         ):\n\u001B[0;32m   6203\u001B[0m             \u001B[1;32mreturn\u001B[0m \u001B[0mself\u001B[0m\u001B[1;33m[\u001B[0m\u001B[0mname\u001B[0m\u001B[1;33m]\u001B[0m\u001B[1;33m\u001B[0m\u001B[1;33m\u001B[0m\u001B[0m\n\u001B[1;32m-> 6204\u001B[1;33m         \u001B[1;32mreturn\u001B[0m \u001B[0mobject\u001B[0m\u001B[1;33m.\u001B[0m\u001B[0m__getattribute__\u001B[0m\u001B[1;33m(\u001B[0m\u001B[0mself\u001B[0m\u001B[1;33m,\u001B[0m \u001B[0mname\u001B[0m\u001B[1;33m)\u001B[0m\u001B[1;33m\u001B[0m\u001B[1;33m\u001B[0m\u001B[0m\n\u001B[0m",
      "\u001B[1;31mAttributeError\u001B[0m: 'DataFrame' object has no attribute 'attributes'"
     ]
    }
   ],
   "source": [
    "filtered2.attributes"
   ],
   "metadata": {
    "collapsed": false,
    "ExecuteTime": {
     "end_time": "2024-01-02T18:03:51.961179100Z",
     "start_time": "2024-01-02T18:03:51.926771600Z"
    }
   },
   "id": "82c2acde6cdd1fe0",
   "execution_count": 68
  },
  {
   "cell_type": "code",
   "outputs": [
    {
     "data": {
      "text/plain": "parsing log, completed traces ::   0%|          | 0/150370 [00:00<?, ?it/s]",
      "application/vnd.jupyter.widget-view+json": {
       "version_major": 2,
       "version_minor": 0,
       "model_id": "6389dd06c95e4bd292ba97a01b039165"
      }
     },
     "metadata": {},
     "output_type": "display_data"
    }
   ],
   "source": [
    "from pm4py.objects.log.importer.xes import importer as xes_importer\n",
    "from pm4py.objects.log.exporter.xes import exporter as xes_exporter\n",
    "\n",
    "log = xes_importer.apply(os.path.join(LOGS_DIR, name))"
   ],
   "metadata": {
    "collapsed": false,
    "ExecuteTime": {
     "end_time": "2024-01-02T18:09:42.573862500Z",
     "start_time": "2024-01-02T18:09:15.481447600Z"
    }
   },
   "id": "e3fb8285c5efc846",
   "execution_count": 73
  },
  {
   "cell_type": "code",
   "outputs": [
    {
     "data": {
      "text/plain": "{'meta_org:different_resources_standard_deviation': 0.061,\n 'meta_org:different_resources_min': 2,\n 'meta_3TU:language': 'eng',\n 'meta_concept:named_events_total': {'value': 561470,\n  'children': {'Payment': 77601,\n   'Insert Date Appeal to Prefecture': 4188,\n   'Receive Result Appeal from Prefecture': 999,\n   'Send Appeal to Prefecture': 4141,\n   'Notify Result Appeal to Offender': 896,\n   'Appeal to Judge': 555,\n   'Add penalty': 79860,\n   'Insert Fine Notification': 79860,\n   'Send for Credit Collection': 59013,\n   'Create Fine': 150370,\n   'Send Fine': 103987}},\n 'meta_org:group_events_average': {'value': 3.734,\n  'children': {'UNKNOWN': 3.734}},\n 'meta_org:different_groups_max': 1,\n 'meta_life:different_transitions_min': 1,\n 'meta_concept:different_names_standard_deviation': 1.578,\n 'meta_time:log_duration': 424825200.0,\n 'meta_3TU:creation_place': 'Eindhoven',\n 'meta_general:classifiers': {'value': 1,\n  'children': {'Event Name': {'value': 'concept:name',\n    'children': {'meta_general:classified_events_average': {'value': 3.734,\n      'children': {'Payment': 0.516,\n       'Insert Date Appeal to Prefecture': 0.028,\n       'Receive Result Appeal from Prefecture': 0.007,\n       'Send Appeal to Prefecture': 0.028,\n       'Notify Result Appeal to Offender': 0.006,\n       'Appeal to Judge': 0.004,\n       'Add penalty': 0.531,\n       'Insert Fine Notification': 0.531,\n       'Send for Credit Collection': 0.392,\n       'Create Fine': 1.0,\n       'Send Fine': 0.692}},\n     'meta_general:different_classified_total': 11,\n     'meta_general:classified_events_total': {'value': 561470,\n      'children': {'Payment': 77601,\n       'Insert Date Appeal to Prefecture': 4188,\n       'Receive Result Appeal from Prefecture': 999,\n       'Send Appeal to Prefecture': 4141,\n       'Notify Result Appeal to Offender': 896,\n       'Appeal to Judge': 555,\n       'Add penalty': 79860,\n       'Insert Fine Notification': 79860,\n       'Send for Credit Collection': 59013,\n       'Create Fine': 150370,\n       'Send Fine': 103987}},\n     'meta_general:different_classified_standard_deviation': 1.578,\n     'meta_general:classified_events_max': {'value': 20,\n      'children': {'Payment': 15,\n       'Insert Date Appeal to Prefecture': 1,\n       'Receive Result Appeal from Prefecture': 1,\n       'Send Appeal to Prefecture': 1,\n       'Notify Result Appeal to Offender': 1,\n       'Appeal to Judge': 1,\n       'Add penalty': 1,\n       'Insert Fine Notification': 1,\n       'Send for Credit Collection': 1,\n       'Create Fine': 1,\n       'Send Fine': 1}},\n     'meta_general:classified_events_min': {'value': 2,\n      'children': {'Payment': 0,\n       'Insert Date Appeal to Prefecture': 0,\n       'Receive Result Appeal from Prefecture': 0,\n       'Send Appeal to Prefecture': 0,\n       'Notify Result Appeal to Offender': 0,\n       'Appeal to Judge': 0,\n       'Add penalty': 0,\n       'Insert Fine Notification': 0,\n       'Send for Credit Collection': 0,\n       'Create Fine': 1,\n       'Send Fine': 0}},\n     'meta_general:different_classified_max': 10,\n     'meta_general:different_classified_min': 2,\n     'meta_general:classified_events_standard_deviation': {'value': 1.641,\n      'children': {'Payment': 0.605,\n       'Insert Date Appeal to Prefecture': 0.165,\n       'Receive Result Appeal from Prefecture': 0.081,\n       'Send Appeal to Prefecture': 0.164,\n       'Notify Result Appeal to Offender': 0.077,\n       'Appeal to Judge': 0.061,\n       'Add penalty': 0.499,\n       'Insert Fine Notification': 0.499,\n       'Send for Credit Collection': 0.488,\n       'Create Fine': 0.0,\n       'Send Fine': 0.462}},\n     'meta_general:different_classified_average': 3.681,\n     'meta_general:different_traces': {'value': 231,\n      'children': {'Create Fine;Send Fine;Insert Fine Notification;Add penalty;Payment;Payment;Payment;Payment;Payment': 4,\n       'Create Fine;Send Fine;Payment;Insert Fine Notification;Add penalty;Payment': 56,\n       'Create Fine;Send Fine;Insert Date Appeal to Prefecture;Insert Fine Notification;Send Appeal to Prefecture;Add penalty;Receive Result Appeal from Prefecture;Notify Result Appeal to Offender;Payment;Payment': 1,\n       'Create Fine;Send Fine;Insert Fine Notification;Insert Date Appeal to Prefecture;Add penalty;Send Appeal to Prefecture;Receive Result Appeal from Prefecture;Notify Result Appeal to Offender;Payment': 139,\n       'Create Fine;Send Fine;Insert Fine Notification;Add penalty;Payment;Payment;Payment;Payment': 13,\n       'Create Fine;Send Fine;Insert Fine Notification;Add penalty;Payment': 9520,\n       'Create Fine;Send Fine;Insert Fine Notification;Appeal to Judge;Add penalty;Insert Date Appeal to Prefecture;Send Appeal to Prefecture': 1,\n       'Create Fine;Send Fine;Insert Fine Notification;Add penalty;Insert Date Appeal to Prefecture;Receive Result Appeal from Prefecture;Notify Result Appeal to Offender;Appeal to Judge;Send Appeal to Prefecture': 1,\n       'Create Fine;Send Fine;Insert Fine Notification;Add penalty;Insert Date Appeal to Prefecture;Send Appeal to Prefecture;Receive Result Appeal from Prefecture;Notify Result Appeal to Offender;Appeal to Judge': 12,\n       'Create Fine;Send Fine;Insert Fine Notification;Appeal to Judge;Add penalty;Insert Date Appeal to Prefecture;Send Appeal to Prefecture;Payment': 1,\n       'Create Fine;Send Fine;Insert Fine Notification;Add penalty;Appeal to Judge;Payment;Payment': 1,\n       'Create Fine;Send Fine;Insert Fine Notification;Insert Date Appeal to Prefecture;Send Appeal to Prefecture;Add penalty;Receive Result Appeal from Prefecture;Appeal to Judge;Notify Result Appeal to Offender;Payment': 1,\n       'Create Fine;Send Fine;Insert Fine Notification;Insert Date Appeal to Prefecture;Appeal to Judge;Send Appeal to Prefecture;Add penalty;Payment;Payment;Payment;Payment;Payment': 1,\n       'Create Fine;Send Fine;Insert Fine Notification;Add penalty;Insert Date Appeal to Prefecture;Send Appeal to Prefecture;Receive Result Appeal from Prefecture;Appeal to Judge;Notify Result Appeal to Offender': 1,\n       'Create Fine;Send Fine;Insert Fine Notification;Add penalty;Receive Result Appeal from Prefecture;Notify Result Appeal to Offender': 2,\n       'Create Fine;Send Fine;Insert Fine Notification;Insert Date Appeal to Prefecture;Appeal to Judge;Add penalty;Send Appeal to Prefecture;Receive Result Appeal from Prefecture;Notify Result Appeal to Offender': 1,\n       'Create Fine;Send Fine;Insert Fine Notification;Add penalty;Appeal to Judge': 32,\n       'Create Fine;Send Fine;Insert Fine Notification;Insert Date Appeal to Prefecture;Add penalty;Send Appeal to Prefecture;Receive Result Appeal from Prefecture;Payment': 15,\n       'Create Fine;Send Fine;Insert Date Appeal to Prefecture;Insert Fine Notification;Add penalty;Payment': 3,\n       'Create Fine;Insert Date Appeal to Prefecture;Send Appeal to Prefecture;Send Fine;Insert Fine Notification;Payment;Add penalty;Payment': 1,\n       'Create Fine;Send Fine;Insert Fine Notification;Insert Date Appeal to Prefecture;Send Appeal to Prefecture;Add penalty;Receive Result Appeal from Prefecture;Notify Result Appeal to Offender': 13,\n       'Create Fine;Send Fine;Insert Fine Notification;Payment;Add penalty;Payment;Payment;Payment;Payment': 1,\n       'Create Fine;Send Fine;Insert Fine Notification;Appeal to Judge;Add penalty;Payment;Payment;Send for Credit Collection': 1,\n       'Create Fine;Send Fine;Insert Fine Notification;Add penalty;Appeal to Judge;Send for Credit Collection': 16,\n       'Create Fine;Send Fine;Insert Date Appeal to Prefecture;Send Appeal to Prefecture;Payment': 3,\n       'Create Fine;Send Fine;Insert Fine Notification;Insert Date Appeal to Prefecture;Add penalty;Send Appeal to Prefecture;Receive Result Appeal from Prefecture;Notify Result Appeal to Offender;Payment;Payment;Payment;Payment;Payment;Payment': 1,\n       'Create Fine;Send Fine;Insert Fine Notification;Appeal to Judge;Insert Date Appeal to Prefecture;Send Appeal to Prefecture;Add penalty;Payment': 4,\n       'Create Fine;Send Fine;Insert Fine Notification;Payment;Add penalty;Payment;Payment': 14,\n       'Create Fine;Send Fine;Insert Fine Notification;Insert Date Appeal to Prefecture;Send Appeal to Prefecture;Add penalty;Receive Result Appeal from Prefecture;Notify Result Appeal to Offender;Payment;Payment': 2,\n       'Create Fine;Send Fine;Insert Fine Notification;Receive Result Appeal from Prefecture;Insert Date Appeal to Prefecture;Send Appeal to Prefecture;Add penalty;Payment': 1,\n       'Create Fine;Payment;Send Fine;Insert Fine Notification;Payment;Add penalty;Payment': 7,\n       'Create Fine;Send Fine;Insert Date Appeal to Prefecture;Insert Fine Notification;Add penalty;Send Appeal to Prefecture;Receive Result Appeal from Prefecture;Notify Result Appeal to Offender;Send for Credit Collection': 1,\n       'Create Fine;Send Fine;Insert Fine Notification;Insert Date Appeal to Prefecture;Add penalty;Receive Result Appeal from Prefecture;Notify Result Appeal to Offender;Payment': 5,\n       'Create Fine;Send Fine;Insert Fine Notification;Payment;Add penalty;Insert Date Appeal to Prefecture;Send Appeal to Prefecture': 4,\n       'Create Fine;Send Fine;Insert Fine Notification;Insert Date Appeal to Prefecture;Send Appeal to Prefecture;Add penalty;Receive Result Appeal from Prefecture;Notify Result Appeal to Offender;Payment;Payment;Payment;Payment;Payment;Payment': 3,\n       'Create Fine;Send Fine;Insert Fine Notification;Insert Date Appeal to Prefecture;Send Appeal to Prefecture;Add penalty;Receive Result Appeal from Prefecture;Notify Result Appeal to Offender;Appeal to Judge;Payment;Payment;Payment;Payment;Payment;Payment': 1,\n       'Create Fine;Send Fine;Insert Fine Notification;Insert Date Appeal to Prefecture;Add penalty;Send Appeal to Prefecture;Receive Result Appeal from Prefecture;Notify Result Appeal to Offender;Appeal to Judge;Payment;Payment': 2,\n       'Create Fine;Send Fine;Insert Fine Notification;Insert Date Appeal to Prefecture;Add penalty;Receive Result Appeal from Prefecture;Notify Result Appeal to Offender;Appeal to Judge': 2,\n       'Create Fine;Send Fine;Send Appeal to Prefecture;Insert Fine Notification;Insert Date Appeal to Prefecture;Add penalty;Receive Result Appeal from Prefecture;Notify Result Appeal to Offender': 1,\n       'Create Fine;Send Fine;Insert Fine Notification;Add penalty;Notify Result Appeal to Offender;Receive Result Appeal from Prefecture;Send for Credit Collection': 1,\n       'Create Fine;Send Fine;Insert Fine Notification;Add penalty;Payment;Appeal to Judge;Payment': 1,\n       'Create Fine;Send Fine;Insert Fine Notification;Insert Date Appeal to Prefecture;Send Appeal to Prefecture;Add penalty;Receive Result Appeal from Prefecture;Notify Result Appeal to Offender;Send for Credit Collection': 81,\n       'Create Fine;Send Fine;Insert Fine Notification;Add penalty;Insert Date Appeal to Prefecture;Send Appeal to Prefecture;Receive Result Appeal from Prefecture;Notify Result Appeal to Offender;Payment;Payment': 5,\n       'Create Fine;Send Fine;Insert Fine Notification;Insert Date Appeal to Prefecture;Send Appeal to Prefecture;Add penalty;Payment;Receive Result Appeal from Prefecture;Notify Result Appeal to Offender;Payment': 1,\n       'Create Fine;Send Fine;Insert Fine Notification;Payment;Add penalty;Payment': 3301,\n       'Create Fine;Send Fine;Insert Fine Notification;Insert Date Appeal to Prefecture;Add penalty;Send Appeal to Prefecture;Receive Result Appeal from Prefecture;Appeal to Judge': 1,\n       'Create Fine;Send Fine;Insert Fine Notification;Insert Date Appeal to Prefecture;Send Appeal to Prefecture;Receive Result Appeal from Prefecture;Add penalty;Notify Result Appeal to Offender;Appeal to Judge;Send for Credit Collection': 1,\n       'Create Fine;Send Fine;Insert Fine Notification;Add penalty;Payment;Payment;Payment;Payment;Payment;Payment;Payment;Payment;Payment;Payment;Send for Credit Collection': 1,\n       'Create Fine;Send Fine;Insert Fine Notification;Add penalty;Receive Result Appeal from Prefecture;Notify Result Appeal to Offender;Payment': 6,\n       'Create Fine;Send Fine;Insert Fine Notification;Insert Date Appeal to Prefecture;Send Appeal to Prefecture;Payment;Add penalty;Payment': 2,\n       'Create Fine;Appeal to Judge;Send Fine': 3,\n       'Create Fine;Send Fine;Insert Fine Notification;Insert Date Appeal to Prefecture;Add penalty;Receive Result Appeal from Prefecture;Send Appeal to Prefecture;Notify Result Appeal to Offender;Send for Credit Collection': 1,\n       'Create Fine;Send Fine;Insert Date Appeal to Prefecture;Send Appeal to Prefecture;Insert Fine Notification;Appeal to Judge;Add penalty;Payment': 1,\n       'Create Fine;Send Fine;Insert Fine Notification;Add penalty;Insert Date Appeal to Prefecture;Send Appeal to Prefecture;Receive Result Appeal from Prefecture;Appeal to Judge;Notify Result Appeal to Offender;Payment': 1,\n       'Create Fine;Send Fine;Insert Fine Notification;Add penalty;Payment;Payment;Payment;Send for Credit Collection': 2,\n       'Create Fine;Send Fine;Insert Fine Notification;Add penalty;Appeal to Judge;Payment;Payment;Payment;Payment;Payment': 1,\n       'Create Fine;Send Fine;Insert Fine Notification;Payment;Add penalty;Appeal to Judge': 1,\n       'Create Fine;Send Fine;Insert Fine Notification;Appeal to Judge;Add penalty;Payment;Payment;Payment': 1,\n       'Create Fine;Send Fine;Insert Fine Notification;Insert Date Appeal to Prefecture;Send Appeal to Prefecture;Add penalty;Payment;Payment': 7,\n       'Create Fine;Payment;Send Fine;Insert Fine Notification;Insert Date Appeal to Prefecture;Send Appeal to Prefecture;Add penalty;Receive Result Appeal from Prefecture;Notify Result Appeal to Offender': 1,\n       'Create Fine;Insert Date Appeal to Prefecture;Send Fine;Insert Fine Notification;Send Appeal to Prefecture;Add penalty;Payment;Payment': 1,\n       'Create Fine;Send Fine;Insert Fine Notification;Insert Date Appeal to Prefecture;Add penalty;Receive Result Appeal from Prefecture;Payment': 1,\n       'Create Fine;Send Fine;Insert Fine Notification;Payment;Add penalty;Payment;Payment;Payment;Payment;Payment;Payment;Payment': 1,\n       'Create Fine;Send Fine;Insert Fine Notification;Insert Date Appeal to Prefecture;Appeal to Judge;Send Appeal to Prefecture;Add penalty;Receive Result Appeal from Prefecture;Notify Result Appeal to Offender;Send for Credit Collection': 1,\n       'Create Fine;Send Fine;Insert Fine Notification;Add penalty;Insert Date Appeal to Prefecture;Send Appeal to Prefecture;Receive Result Appeal from Prefecture;Payment': 3,\n       'Create Fine;Send Fine;Insert Fine Notification;Add penalty;Payment;Payment;Payment;Payment;Send for Credit Collection': 1,\n       'Create Fine;Send Fine;Send Appeal to Prefecture;Insert Fine Notification;Insert Date Appeal to Prefecture;Add penalty;Payment': 1,\n       'Create Fine;Send Fine;Insert Fine Notification;Add penalty;Payment;Payment;Payment': 69,\n       'Create Fine;Send Fine;Insert Fine Notification;Insert Date Appeal to Prefecture;Add penalty;Send Appeal to Prefecture;Receive Result Appeal from Prefecture;Payment;Notify Result Appeal to Offender;Payment': 1,\n       'Create Fine;Insert Date Appeal to Prefecture;Send Fine;Insert Fine Notification;Send Appeal to Prefecture;Add penalty;Payment': 1,\n       'Create Fine;Send Fine;Insert Fine Notification;Add penalty;Receive Result Appeal from Prefecture;Notify Result Appeal to Offender;Send for Credit Collection': 2,\n       'Create Fine;Send Fine;Insert Fine Notification;Insert Date Appeal to Prefecture;Add penalty;Send Appeal to Prefecture;Receive Result Appeal from Prefecture;Notify Result Appeal to Offender;Payment;Payment': 3,\n       'Create Fine;Insert Date Appeal to Prefecture;Send Fine;Send Appeal to Prefecture': 2,\n       'Create Fine;Send Fine;Insert Fine Notification;Insert Date Appeal to Prefecture;Send Appeal to Prefecture;Add penalty;Payment': 17,\n       'Create Fine;Send Fine;Insert Fine Notification;Insert Date Appeal to Prefecture;Receive Result Appeal from Prefecture;Send Appeal to Prefecture;Add penalty;Payment': 1,\n       'Create Fine;Send Fine;Insert Fine Notification;Insert Date Appeal to Prefecture;Send Appeal to Prefecture;Receive Result Appeal from Prefecture;Add penalty;Notify Result Appeal to Offender;Payment;Send for Credit Collection': 2,\n       'Create Fine;Send Fine;Insert Fine Notification;Add penalty;Insert Date Appeal to Prefecture;Receive Result Appeal from Prefecture;Send Appeal to Prefecture;Notify Result Appeal to Offender;Payment': 2,\n       'Create Fine;Send Fine;Insert Fine Notification;Insert Date Appeal to Prefecture;Send Appeal to Prefecture;Receive Result Appeal from Prefecture;Add penalty;Notify Result Appeal to Offender;Appeal to Judge;Payment;Payment': 1,\n       'Create Fine;Send Fine;Insert Fine Notification;Add penalty;Payment;Insert Date Appeal to Prefecture;Send Appeal to Prefecture': 1,\n       'Create Fine;Send Fine;Insert Fine Notification;Add penalty;Payment;Payment;Payment;Payment;Payment;Payment;Payment;Payment': 1,\n       'Create Fine;Send Fine;Insert Fine Notification;Insert Date Appeal to Prefecture;Send Appeal to Prefecture;Add penalty;Receive Result Appeal from Prefecture;Notify Result Appeal to Offender;Payment;Payment;Send for Credit Collection': 1,\n       'Create Fine;Insert Date Appeal to Prefecture;Send Fine;Insert Fine Notification;Send Appeal to Prefecture;Add penalty;Receive Result Appeal from Prefecture;Notify Result Appeal to Offender;Send for Credit Collection': 1,\n       'Create Fine;Send Fine;Insert Fine Notification;Add penalty;Insert Date Appeal to Prefecture;Receive Result Appeal from Prefecture;Notify Result Appeal to Offender;Send Appeal to Prefecture;Send for Credit Collection': 2,\n       'Create Fine;Send Fine;Insert Date Appeal to Prefecture;Insert Fine Notification;Add penalty;Send Appeal to Prefecture': 10,\n       'Create Fine;Send Fine;Insert Fine Notification;Add penalty;Receive Result Appeal from Prefecture;Notify Result Appeal to Offender;Appeal to Judge;Payment': 1,\n       'Create Fine;Send Fine;Insert Fine Notification;Add penalty;Insert Date Appeal to Prefecture;Send Appeal to Prefecture;Receive Result Appeal from Prefecture;Notify Result Appeal to Offender;Appeal to Judge;Send for Credit Collection': 4,\n       'Create Fine;Send Fine;Insert Fine Notification;Add penalty;Insert Date Appeal to Prefecture;Send Appeal to Prefecture;Payment;Payment;Payment;Payment;Payment;Payment;Payment;Payment;Payment;Payment': 1,\n       'Create Fine;Send Fine;Insert Fine Notification;Insert Date Appeal to Prefecture;Add penalty;Send Appeal to Prefecture;Payment;Payment': 1,\n       'Create Fine;Send Fine;Insert Fine Notification;Insert Date Appeal to Prefecture;Send Appeal to Prefecture;Add penalty;Receive Result Appeal from Prefecture': 22,\n       'Create Fine;Payment;Payment;Send Fine': 1,\n       'Create Fine;Send Fine;Insert Fine Notification;Insert Date Appeal to Prefecture;Add penalty;Receive Result Appeal from Prefecture;Notify Result Appeal to Offender;Send for Credit Collection;Send Appeal to Prefecture': 8,\n       'Create Fine;Send Fine;Insert Fine Notification;Insert Date Appeal to Prefecture;Receive Result Appeal from Prefecture;Send Appeal to Prefecture;Add penalty;Notify Result Appeal to Offender;Payment': 3,\n       'Create Fine;Send Fine;Insert Fine Notification;Insert Date Appeal to Prefecture;Payment;Add penalty;Send Appeal to Prefecture': 9,\n       'Create Fine;Send Fine;Insert Fine Notification;Insert Date Appeal to Prefecture;Add penalty;Send Appeal to Prefecture;Receive Result Appeal from Prefecture;Notify Result Appeal to Offender;Appeal to Judge': 42,\n       'Create Fine;Send Fine;Insert Fine Notification;Insert Date Appeal to Prefecture;Send Appeal to Prefecture;Add penalty;Receive Result Appeal from Prefecture;Notify Result Appeal to Offender;Payment': 114,\n       'Create Fine;Send Fine;Insert Fine Notification;Insert Date Appeal to Prefecture;Add penalty;Send Appeal to Prefecture;Receive Result Appeal from Prefecture;Notify Result Appeal to Offender;Appeal to Judge;Payment': 20,\n       'Create Fine;Send Fine;Insert Fine Notification;Insert Date Appeal to Prefecture;Add penalty;Send Appeal to Prefecture;Notify Result Appeal to Offender;Receive Result Appeal from Prefecture': 1,\n       'Create Fine;Send Fine;Insert Fine Notification;Payment;Add penalty;Send for Credit Collection': 522,\n       'Create Fine;Send Fine;Insert Fine Notification;Add penalty;Insert Date Appeal to Prefecture;Send Appeal to Prefecture': 443,\n       'Create Fine;Send Fine;Insert Fine Notification;Add penalty;Payment;Send for Credit Collection': 1515,\n       'Create Fine;Send Fine;Insert Fine Notification;Add penalty;Insert Date Appeal to Prefecture;Send Appeal to Prefecture;Receive Result Appeal from Prefecture;Notify Result Appeal to Offender;Send for Credit Collection': 49,\n       'Create Fine;Send Fine;Insert Date Appeal to Prefecture;Payment;Send Appeal to Prefecture': 1,\n       'Create Fine;Send Fine;Insert Fine Notification;Insert Date Appeal to Prefecture;Send Appeal to Prefecture;Add penalty;Receive Result Appeal from Prefecture;Notify Result Appeal to Offender;Appeal to Judge;Send for Credit Collection': 4,\n       'Create Fine;Send Fine;Insert Fine Notification;Insert Date Appeal to Prefecture;Add penalty;Send Appeal to Prefecture;Payment': 7,\n       'Create Fine;Insert Date Appeal to Prefecture;Send Appeal to Prefecture;Send Fine;Insert Fine Notification;Add penalty;Payment': 1,\n       'Create Fine;Insert Date Appeal to Prefecture;Send Fine;Insert Fine Notification;Add penalty;Send Appeal to Prefecture': 9,\n       'Create Fine;Insert Date Appeal to Prefecture;Send Fine;Insert Fine Notification;Send Appeal to Prefecture;Add penalty;Receive Result Appeal from Prefecture;Payment': 1,\n       'Create Fine;Send Fine;Insert Fine Notification;Insert Date Appeal to Prefecture;Add penalty;Payment;Payment': 2,\n       'Create Fine;Send Fine;Appeal to Judge': 7,\n       'Create Fine;Send Fine;Insert Fine Notification;Appeal to Judge;Add penalty;Payment;Payment;Payment;Payment;Payment;Payment': 1,\n       'Create Fine;Send Fine;Insert Fine Notification;Insert Date Appeal to Prefecture;Add penalty;Receive Result Appeal from Prefecture;Notify Result Appeal to Offender': 1,\n       'Create Fine;Send Fine;Insert Fine Notification;Appeal to Judge;Add penalty;Payment;Payment;Payment;Payment;Payment;Payment;Payment;Payment;Payment;Payment;Payment': 1,\n       'Create Fine;Send Fine;Insert Fine Notification;Appeal to Judge;Add penalty;Payment;Payment;Payment;Payment;Payment;Payment;Payment;Payment;Payment;Payment': 1,\n       'Create Fine;Send Fine;Insert Fine Notification;Insert Date Appeal to Prefecture;Appeal to Judge;Add penalty;Send Appeal to Prefecture': 2,\n       'Create Fine;Send Fine;Insert Fine Notification;Add penalty;Insert Date Appeal to Prefecture;Receive Result Appeal from Prefecture;Notify Result Appeal to Offender': 1,\n       'Create Fine;Send Fine;Insert Fine Notification;Appeal to Judge;Add penalty;Payment;Send for Credit Collection': 5,\n       'Create Fine;Send Fine;Insert Fine Notification;Appeal to Judge;Add penalty;Payment;Payment': 19,\n       'Create Fine;Send Fine;Insert Date Appeal to Prefecture;Insert Fine Notification;Send Appeal to Prefecture;Add penalty;Receive Result Appeal from Prefecture;Notify Result Appeal to Offender;Payment': 2,\n       'Create Fine;Send Fine;Insert Fine Notification;Insert Date Appeal to Prefecture;Add penalty;Payment;Payment;Payment': 1,\n       'Create Fine;Send Fine;Payment;Payment': 34,\n       'Create Fine;Payment;Send Fine;Payment': 58,\n       'Create Fine;Send Fine;Insert Fine Notification;Insert Date Appeal to Prefecture;Send Appeal to Prefecture;Receive Result Appeal from Prefecture;Add penalty;Notify Result Appeal to Offender;Payment': 15,\n       'Create Fine;Send Fine;Insert Fine Notification;Add penalty;Appeal to Judge;Receive Result Appeal from Prefecture': 1,\n       'Create Fine;Send Fine;Insert Fine Notification;Insert Date Appeal to Prefecture;Add penalty;Receive Result Appeal from Prefecture;Notify Result Appeal to Offender;Send Appeal to Prefecture;Send for Credit Collection': 1,\n       'Create Fine;Send Fine;Insert Fine Notification;Add penalty;Insert Date Appeal to Prefecture;Send Appeal to Prefecture;Receive Result Appeal from Prefecture;Notify Result Appeal to Offender;Appeal to Judge;Payment;Payment': 1,\n       'Create Fine;Send Fine;Insert Date Appeal to Prefecture;Insert Fine Notification;Send Appeal to Prefecture;Receive Result Appeal from Prefecture;Add penalty;Notify Result Appeal to Offender;Send for Credit Collection': 2,\n       'Create Fine;Send Fine;Insert Fine Notification;Insert Date Appeal to Prefecture;Send Appeal to Prefecture;Add penalty;Receive Result Appeal from Prefecture;Appeal to Judge': 1,\n       'Create Fine;Payment;Send Fine;Insert Fine Notification;Add penalty;Insert Date Appeal to Prefecture;Send Appeal to Prefecture': 2,\n       'Create Fine;Send Fine;Insert Fine Notification;Add penalty;Insert Date Appeal to Prefecture;Send Appeal to Prefecture;Receive Result Appeal from Prefecture;Notify Result Appeal to Offender;Appeal to Judge;Payment': 3,\n       'Create Fine;Send Fine;Insert Date Appeal to Prefecture;Send Appeal to Prefecture;Appeal to Judge': 3,\n       'Create Fine;Send Fine;Insert Fine Notification;Insert Date Appeal to Prefecture;Send Appeal to Prefecture;Add penalty;Receive Result Appeal from Prefecture;Notify Result Appeal to Offender;Payment;Appeal to Judge': 1,\n       'Create Fine;Send Fine;Insert Fine Notification;Add penalty;Appeal to Judge;Payment;Payment;Payment;Payment': 1,\n       'Create Fine;Send Fine;Insert Fine Notification;Insert Date Appeal to Prefecture;Add penalty;Payment;Payment;Payment;Payment;Payment;Payment;Payment;Payment;Payment;Payment': 1,\n       'Create Fine;Send Fine;Insert Fine Notification;Add penalty;Insert Date Appeal to Prefecture;Payment;Payment;Payment;Payment': 1,\n       'Create Fine;Send Fine;Insert Fine Notification;Insert Date Appeal to Prefecture;Send Appeal to Prefecture;Receive Result Appeal from Prefecture;Add penalty;Notify Result Appeal to Offender;Payment;Payment': 2,\n       'Create Fine;Send Fine;Appeal to Judge;Insert Date Appeal to Prefecture;Send Appeal to Prefecture': 3,\n       'Create Fine;Send Fine;Insert Fine Notification;Insert Date Appeal to Prefecture;Send Appeal to Prefecture;Receive Result Appeal from Prefecture;Notify Result Appeal to Offender;Add penalty;Appeal to Judge': 2,\n       'Create Fine;Send Fine;Insert Fine Notification;Add penalty;Insert Date Appeal to Prefecture;Send Appeal to Prefecture;Receive Result Appeal from Prefecture': 8,\n       'Create Fine;Send Fine;Payment;Insert Fine Notification;Add penalty;Send for Credit Collection': 14,\n       'Create Fine;Send Fine;Insert Fine Notification;Add penalty;Appeal to Judge;Payment;Payment;Payment': 2,\n       'Create Fine;Send Fine;Insert Fine Notification;Payment;Payment;Add penalty;Payment': 20,\n       'Create Fine;Send Fine;Insert Fine Notification;Insert Date Appeal to Prefecture;Send Appeal to Prefecture;Receive Result Appeal from Prefecture;Add penalty;Notify Result Appeal to Offender;Appeal to Judge;Payment': 1,\n       'Create Fine;Send Fine;Insert Fine Notification;Insert Date Appeal to Prefecture;Send Appeal to Prefecture;Receive Result Appeal from Prefecture;Add penalty;Payment': 2,\n       'Create Fine;Send Fine;Insert Fine Notification;Add penalty;Insert Date Appeal to Prefecture;Receive Result Appeal from Prefecture;Notify Result Appeal to Offender;Appeal to Judge;Send for Credit Collection;Send Appeal to Prefecture': 1,\n       'Create Fine;Payment;Send Fine;Insert Fine Notification;Add penalty;Payment': 89,\n       'Create Fine;Send Fine;Insert Fine Notification;Add penalty;Payment;Payment;Payment;Payment;Payment;Payment': 4,\n       'Create Fine;Send Fine;Insert Fine Notification;Insert Date Appeal to Prefecture;Add penalty;Send Appeal to Prefecture;Receive Result Appeal from Prefecture;Notify Result Appeal to Offender;Appeal to Judge;Send for Credit Collection': 6,\n       'Create Fine;Send Fine;Insert Fine Notification;Add penalty;Insert Date Appeal to Prefecture;Receive Result Appeal from Prefecture;Notify Result Appeal to Offender;Payment': 12,\n       'Create Fine;Payment;Payment': 12,\n       'Create Fine;Send Fine;Insert Fine Notification;Insert Date Appeal to Prefecture;Add penalty;Send Appeal to Prefecture;Receive Result Appeal from Prefecture;Appeal to Judge;Notify Result Appeal to Offender': 3,\n       'Create Fine;Send Fine;Insert Fine Notification;Add penalty;Appeal to Judge;Payment': 23,\n       'Create Fine;Payment;Send Fine;Insert Fine Notification;Insert Date Appeal to Prefecture;Add penalty;Send Appeal to Prefecture': 1,\n       'Create Fine;Send Fine;Insert Fine Notification;Appeal to Judge;Add penalty;Send for Credit Collection': 108,\n       'Create Fine;Send Fine;Insert Fine Notification;Insert Date Appeal to Prefecture;Send Appeal to Prefecture;Receive Result Appeal from Prefecture;Add penalty;Notify Result Appeal to Offender;Appeal to Judge': 6,\n       'Create Fine;Send Fine;Insert Fine Notification;Payment;Add penalty;Insert Date Appeal to Prefecture;Send Appeal to Prefecture;Payment': 1,\n       'Create Fine;Send Fine;Insert Fine Notification;Insert Date Appeal to Prefecture;Send Appeal to Prefecture;Appeal to Judge;Add penalty;Payment;Payment;Payment;Payment;Payment;Payment;Payment;Payment;Payment;Payment': 1,\n       'Create Fine;Send Fine;Payment': 3131,\n       'Create Fine;Send Fine;Insert Fine Notification;Payment;Add penalty;Payment;Payment;Payment': 3,\n       'Create Fine;Payment;Payment;Send Fine;Insert Fine Notification;Add penalty;Payment': 1,\n       'Create Fine;Send Fine;Insert Fine Notification;Appeal to Judge;Add penalty;Payment;Payment;Payment;Payment;Payment;Payment;Payment;Payment;Payment;Payment;Payment;Payment': 1,\n       'Create Fine;Send Fine;Insert Fine Notification;Appeal to Judge;Add penalty;Payment;Payment;Payment;Payment;Payment;Payment;Payment;Payment;Payment;Payment;Payment;Payment;Payment;Payment;Payment': 1,\n       'Create Fine;Send Fine;Insert Date Appeal to Prefecture;Insert Fine Notification;Send Appeal to Prefecture;Add penalty;Payment': 2,\n       'Create Fine;Send Fine;Insert Fine Notification;Insert Date Appeal to Prefecture;Add penalty;Receive Result Appeal from Prefecture;Send Appeal to Prefecture;Payment': 1,\n       'Create Fine;Insert Date Appeal to Prefecture;Send Appeal to Prefecture;Send Fine': 4,\n       'Create Fine;Send Fine;Insert Date Appeal to Prefecture;Send Appeal to Prefecture;Receive Result Appeal from Prefecture': 1,\n       'Create Fine;Send Fine;Insert Fine Notification;Appeal to Judge;Insert Date Appeal to Prefecture;Send Appeal to Prefecture;Add penalty;Receive Result Appeal from Prefecture;Notify Result Appeal to Offender': 3,\n       'Create Fine;Send Fine;Insert Fine Notification;Add penalty;Insert Date Appeal to Prefecture;Send Appeal to Prefecture;Payment': 2,\n       'Create Fine;Send Fine;Insert Fine Notification;Insert Date Appeal to Prefecture;Add penalty;Receive Result Appeal from Prefecture;Send Appeal to Prefecture': 6,\n       'Create Fine;Send Fine;Insert Fine Notification;Add penalty;Insert Date Appeal to Prefecture;Payment': 2,\n       'Create Fine;Payment;Send Fine;Insert Fine Notification;Add penalty;Send for Credit Collection': 45,\n       'Create Fine;Send Fine;Insert Fine Notification;Insert Date Appeal to Prefecture;Send Appeal to Prefecture;Receive Result Appeal from Prefecture;Add penalty;Notify Result Appeal to Offender;Send for Credit Collection': 11,\n       'Create Fine;Payment;Send Fine;Insert Fine Notification;Payment;Add penalty;Send for Credit Collection': 1,\n       'Create Fine;Send Fine;Insert Date Appeal to Prefecture;Send Appeal to Prefecture;Insert Fine Notification;Add penalty;Payment': 1,\n       'Create Fine;Send Fine;Insert Fine Notification;Insert Date Appeal to Prefecture;Send Appeal to Prefecture;Add penalty;Receive Result Appeal from Prefecture;Notify Result Appeal to Offender;Payment;Send for Credit Collection': 1,\n       'Create Fine;Send Fine;Insert Fine Notification;Appeal to Judge;Insert Date Appeal to Prefecture;Add penalty;Send Appeal to Prefecture': 2,\n       'Create Fine;Send Fine;Insert Fine Notification;Insert Date Appeal to Prefecture;Send Appeal to Prefecture;Add penalty;Receive Result Appeal from Prefecture;Notify Result Appeal to Offender;Appeal to Judge': 20,\n       'Create Fine;Send Fine;Insert Fine Notification;Insert Date Appeal to Prefecture;Send Appeal to Prefecture;Add penalty;Receive Result Appeal from Prefecture;Notify Result Appeal to Offender;Appeal to Judge;Payment': 9,\n       'Create Fine;Send Fine;Insert Fine Notification;Add penalty;Receive Result Appeal from Prefecture;Notify Result Appeal to Offender;Appeal to Judge': 2,\n       'Create Fine;Send Fine;Insert Fine Notification;Insert Date Appeal to Prefecture;Add penalty;Send Appeal to Prefecture;Payment;Payment;Payment': 1,\n       'Create Fine;Send Fine;Insert Fine Notification;Add penalty;Payment;Payment;Payment;Payment;Payment;Payment;Payment': 5,\n       'Create Fine;Send Fine;Insert Fine Notification;Insert Date Appeal to Prefecture;Add penalty;Send Appeal to Prefecture;Receive Result Appeal from Prefecture': 19,\n       'Create Fine;Send Fine;Insert Fine Notification;Insert Date Appeal to Prefecture;Add penalty;Payment': 9,\n       'Create Fine;Send Fine;Insert Fine Notification;Appeal to Judge;Add penalty;Payment': 135,\n       'Create Fine;Send Fine;Insert Fine Notification;Appeal to Judge;Insert Date Appeal to Prefecture;Add penalty;Payment': 1,\n       'Create Fine;Payment;Send Fine': 362,\n       'Create Fine;Send Fine;Insert Fine Notification;Insert Date Appeal to Prefecture;Add penalty;Send Appeal to Prefecture;Receive Result Appeal from Prefecture;Appeal to Judge;Notify Result Appeal to Offender;Send for Credit Collection': 1,\n       'Create Fine;Send Fine;Insert Fine Notification;Send Appeal to Prefecture;Insert Date Appeal to Prefecture;Add penalty;Receive Result Appeal from Prefecture;Notify Result Appeal to Offender': 2,\n       'Create Fine;Send Fine;Insert Fine Notification;Insert Date Appeal to Prefecture;Add penalty;Send Appeal to Prefecture;Receive Result Appeal from Prefecture;Appeal to Judge;Payment': 1,\n       'Create Fine;Insert Date Appeal to Prefecture;Send Appeal to Prefecture;Send Fine;Payment': 1,\n       'Create Fine;Send Fine': 20385,\n       'Create Fine;Payment;Send Fine;Insert Fine Notification;Add penalty;Payment;Send for Credit Collection': 1,\n       'Create Fine;Send Fine;Insert Fine Notification;Insert Date Appeal to Prefecture;Send Appeal to Prefecture;Add penalty;Receive Result Appeal from Prefecture;Appeal to Judge;Notify Result Appeal to Offender': 1,\n       'Create Fine;Send Fine;Insert Fine Notification;Insert Date Appeal to Prefecture;Send Appeal to Prefecture;Receive Result Appeal from Prefecture;Add penalty;Payment;Payment': 1,\n       'Create Fine;Send Fine;Insert Fine Notification;Insert Date Appeal to Prefecture;Send Appeal to Prefecture;Add penalty;Receive Result Appeal from Prefecture;Payment;Payment': 2,\n       'Create Fine;Send Fine;Insert Fine Notification;Payment;Add penalty;Payment;Payment;Payment;Payment;Payment;Payment': 1,\n       'Create Fine;Send Fine;Insert Fine Notification;Add penalty;Send for Credit Collection': 56482,\n       'Create Fine;Send Fine;Insert Fine Notification;Insert Date Appeal to Prefecture;Send Appeal to Prefecture;Receive Result Appeal from Prefecture;Notify Result Appeal to Offender;Add penalty;Payment': 6,\n       'Create Fine;Send Fine;Insert Fine Notification;Insert Date Appeal to Prefecture;Add penalty;Payment;Send Appeal to Prefecture': 3,\n       'Create Fine;Send Fine;Insert Date Appeal to Prefecture;Insert Fine Notification;Send Appeal to Prefecture;Add penalty;Receive Result Appeal from Prefecture;Notify Result Appeal to Offender;Send for Credit Collection': 3,\n       'Create Fine;Send Fine;Insert Date Appeal to Prefecture;Insert Fine Notification;Appeal to Judge;Send Appeal to Prefecture;Add penalty;Payment': 1,\n       'Create Fine;Send Fine;Insert Date Appeal to Prefecture;Send Appeal to Prefecture': 126,\n       'Create Fine;Send Fine;Insert Fine Notification;Receive Result Appeal from Prefecture;Add penalty;Notify Result Appeal to Offender;Payment': 1,\n       'Create Fine;Send Fine;Insert Fine Notification;Add penalty;Insert Date Appeal to Prefecture;Send Appeal to Prefecture;Receive Result Appeal from Prefecture;Notify Result Appeal to Offender;Payment': 61,\n       'Create Fine;Send Fine;Insert Fine Notification;Insert Date Appeal to Prefecture;Add penalty;Send Appeal to Prefecture;Receive Result Appeal from Prefecture;Notify Result Appeal to Offender;Send for Credit Collection': 88,\n       'Create Fine;Send Fine;Insert Fine Notification;Appeal to Judge;Insert Date Appeal to Prefecture;Send Appeal to Prefecture;Add penalty;Receive Result Appeal from Prefecture;Notify Result Appeal to Offender;Payment': 2,\n       'Create Fine;Send Fine;Insert Fine Notification;Insert Date Appeal to Prefecture;Send Appeal to Prefecture;Receive Result Appeal from Prefecture;Notify Result Appeal to Offender;Add penalty;Send for Credit Collection': 4,\n       'Create Fine;Send Fine;Insert Fine Notification;Payment;Payment;Add penalty;Send for Credit Collection': 6,\n       'Create Fine;Send Fine;Insert Fine Notification;Insert Date Appeal to Prefecture;Appeal to Judge;Send Appeal to Prefecture;Add penalty;Receive Result Appeal from Prefecture': 1,\n       'Create Fine;Send Fine;Insert Fine Notification;Insert Date Appeal to Prefecture;Send Appeal to Prefecture;Add penalty;Receive Result Appeal from Prefecture;Notify Result Appeal to Offender;Appeal to Judge;Payment;Payment;Payment': 1,\n       'Create Fine;Send Fine;Insert Fine Notification;Add penalty;Payment;Payment': 3736,\n       'Create Fine;Appeal to Judge;Send Fine;Payment': 1,\n       'Create Fine;Send Fine;Insert Fine Notification;Insert Date Appeal to Prefecture;Add penalty;Receive Result Appeal from Prefecture;Appeal to Judge;Send Appeal to Prefecture': 1,\n       'Create Fine;Send Fine;Insert Fine Notification;Insert Date Appeal to Prefecture;Add penalty;Send Appeal to Prefecture;Receive Result Appeal from Prefecture;Appeal to Judge;Notify Result Appeal to Offender;Payment': 1,\n       'Create Fine;Send Fine;Insert Fine Notification;Insert Date Appeal to Prefecture;Add penalty;Receive Result Appeal from Prefecture;Notify Result Appeal to Offender;Appeal to Judge;Send Appeal to Prefecture': 2,\n       'Create Fine;Send Fine;Insert Fine Notification;Add penalty;Insert Date Appeal to Prefecture;Receive Result Appeal from Prefecture;Notify Result Appeal to Offender;Payment;Payment': 2,\n       'Create Fine;Send Fine;Insert Fine Notification;Add penalty;Insert Date Appeal to Prefecture;Payment;Receive Result Appeal from Prefecture;Payment': 1,\n       'Create Fine;Send Fine;Insert Fine Notification;Insert Date Appeal to Prefecture;Send Appeal to Prefecture;Add penalty;Receive Result Appeal from Prefecture;Payment': 12,\n       'Create Fine;Send Fine;Insert Fine Notification;Insert Date Appeal to Prefecture;Send Appeal to Prefecture;Receive Result Appeal from Prefecture;Add penalty;Notify Result Appeal to Offender': 6,\n       'Create Fine;Send Fine;Payment;Insert Fine Notification;Payment;Add penalty;Payment': 4,\n       'Create Fine;Payment': 46371,\n       'Create Fine;Send Fine;Payment;Insert Date Appeal to Prefecture;Send Appeal to Prefecture': 1,\n       'Create Fine;Send Fine;Insert Fine Notification;Add penalty;Insert Date Appeal to Prefecture;Appeal to Judge;Send Appeal to Prefecture': 1,\n       'Create Fine;Send Fine;Insert Fine Notification;Add penalty;Insert Date Appeal to Prefecture;Send Appeal to Prefecture;Receive Result Appeal from Prefecture;Notify Result Appeal to Offender': 20,\n       'Create Fine;Send Fine;Insert Fine Notification;Insert Date Appeal to Prefecture;Receive Result Appeal from Prefecture;Send Appeal to Prefecture;Add penalty;Notify Result Appeal to Offender;Send for Credit Collection': 1,\n       'Create Fine;Send Fine;Insert Fine Notification;Insert Date Appeal to Prefecture;Add penalty;Send Appeal to Prefecture': 2497,\n       'Create Fine;Send Fine;Insert Fine Notification;Add penalty;Insert Date Appeal to Prefecture;Receive Result Appeal from Prefecture;Notify Result Appeal to Offender;Appeal to Judge': 2,\n       'Create Fine;Send Fine;Insert Fine Notification;Payment;Add penalty;Payment;Send for Credit Collection': 3,\n       'Create Fine;Send Fine;Insert Fine Notification;Add penalty;Payment;Payment;Payment;Payment;Payment;Payment;Payment;Payment;Payment;Payment': 1,\n       'Create Fine;Send Fine;Insert Fine Notification;Add penalty;Insert Date Appeal to Prefecture;Receive Result Appeal from Prefecture;Notify Result Appeal to Offender;Send for Credit Collection;Send Appeal to Prefecture': 7,\n       'Create Fine;Send Fine;Insert Fine Notification;Add penalty;Payment;Payment;Send for Credit Collection': 5,\n       'Create Fine;Send Fine;Insert Fine Notification;Insert Date Appeal to Prefecture;Add penalty;Send Appeal to Prefecture;Receive Result Appeal from Prefecture;Notify Result Appeal to Offender': 30}}}}}},\n 'meta_3TU:source_program': 'database',\n 'meta_concept:different_names_total': 11,\n 'meta_general:events_average': 3.734,\n 'meta_org:different_roles_standard_deviation': 0.0,\n 'meta_3TU:description': 'Real-life event log of an information system managing road traffic fines.',\n 'meta_general:events_max': 20,\n 'concept:name': 'Road Traffic Fine Management Process',\n 'meta_time:log_start_time': datetime.datetime(2000, 1, 1, 0, 0, tzinfo=datetime.timezone(datetime.timedelta(seconds=3600))),\n 'meta_org:different_resources_max': 3,\n 'meta_life:different_transitions_max': 1,\n 'meta_org:group_events_standard_deviation': {'value': 1.641,\n  'children': {'UNKNOWN': 1.641}},\n 'meta_time:duration_min': 0.0,\n 'meta_concept:named_events_min': {'value': 2,\n  'children': {'Payment': 0,\n   'Insert Date Appeal to Prefecture': 0,\n   'Receive Result Appeal from Prefecture': 0,\n   'Send Appeal to Prefecture': 0,\n   'Notify Result Appeal to Offender': 0,\n   'Appeal to Judge': 0,\n   'Add penalty': 0,\n   'Insert Fine Notification': 0,\n   'Send for Credit Collection': 0,\n   'Create Fine': 1,\n   'Send Fine': 0}},\n 'meta_org:role_events_average': {'value': 3.734,\n  'children': {'UNKNOWN': 3.734}},\n 'meta_org:different_roles_total': 1,\n 'meta_org:role_events_total': {'value': 561470,\n  'children': {'UNKNOWN': 561470}},\n 'meta_life:different_transitions_standard_deviation': 0.0,\n 'meta_3TU:creation_time': datetime.datetime(2014, 1, 9, 10, 7, 49, 112000, tzinfo=datetime.timezone(datetime.timedelta(seconds=3600))),\n 'meta_concept:named_events_standard_deviation': {'value': 1.641,\n  'children': {'Payment': 0.605,\n   'Insert Date Appeal to Prefecture': 0.165,\n   'Receive Result Appeal from Prefecture': 0.081,\n   'Send Appeal to Prefecture': 0.164,\n   'Notify Result Appeal to Offender': 0.077,\n   'Appeal to Judge': 0.061,\n   'Add penalty': 0.499,\n   'Insert Fine Notification': 0.499,\n   'Send for Credit Collection': 0.488,\n   'Create Fine': 0.0,\n   'Send Fine': 0.462}},\n 'meta_org:group_events_min': {'value': 2, 'children': {'UNKNOWN': 2}},\n 'meta_org:different_roles_average': 1.0,\n 'meta_life:transition_events_standard_deviation': {'value': 1.641,\n  'children': {'complete': 1.641}},\n 'meta_org:different_roles_max': 1,\n 'meta_org:group_events_total': {'value': 561470,\n  'children': {'UNKNOWN': 561470}},\n 'meta_org:role_events_min': {'value': 2, 'children': {'UNKNOWN': 2}},\n 'meta_time:duration_standard_deviation': 29985307.844,\n 'meta_time:duration_total': 4439047075200.0,\n 'meta_org:resource_events_standard_deviation': {'value': 1.641,\n  'children': {'870': 0.014,\n   '10': 0.039,\n   '11': 0.129,\n   '12': 0.034,\n   '13': 0.004,\n   '14': 0.006,\n   '15': 0.033,\n   '16': 0.058,\n   '17': 0.02,\n   '18': 0.017,\n   '19': 0.006,\n   '0': 0.061,\n   '3': 0.009,\n   '4': 0.005,\n   '8': 0.012,\n   '9': 0.088,\n   '802': 0.069,\n   '20': 0.056,\n   '21': 0.057,\n   '807': 0.041,\n   '22': 0.048,\n   '808': 0.039,\n   '23': 0.03,\n   '24': 0.042,\n   '25': 0.057,\n   '26': 0.095,\n   '27': 0.052,\n   '28': 0.122,\n   '29': 0.133,\n   '810': 0.066,\n   '536': 0.176,\n   '811': 0.038,\n   '537': 0.21,\n   '538': 0.232,\n   '813': 0.036,\n   '30': 0.118,\n   '816': 0.056,\n   '31': 0.101,\n   '817': 0.047,\n   '32': 0.054,\n   '818': 0.035,\n   '33': 0.038,\n   '819': 0.05,\n   '34': 0.057,\n   '35': 0.067,\n   '36': 0.076,\n   '37': 0.076,\n   '38': 0.03,\n   '39': 0.088,\n   '540': 0.066,\n   '541': 0.216,\n   '820': 0.091,\n   '821': 0.067,\n   '546': 0.108,\n   '823': 0.072,\n   '548': 0.111,\n   '824': 0.081,\n   '704': 0.073,\n   '825': 0.073,\n   '826': 0.045,\n   '40': 0.144,\n   '827': 0.066,\n   '41': 0.073,\n   '828': 0.069,\n   '42': 0.075,\n   '829': 0.076,\n   '43': 0.05,\n   '44': 0.076,\n   '45': 0.094,\n   '46': 0.068,\n   '47': 0.056,\n   '48': 0.065,\n   '49': 0.172,\n   '550': 0.224,\n   '551': 0.027,\n   '552': 0.084,\n   '553': 0.036,\n   '554': 0.046,\n   '830': 0.046,\n   '555': 0.084,\n   '556': 0.084,\n   '831': 0.085,\n   '557': 0.187,\n   '832': 0.052,\n   '558': 0.157,\n   '833': 0.059,\n   '559': 0.202,\n   '834': 0.053,\n   '835': 0.038,\n   '836': 0.057,\n   '50': 0.099,\n   '837': 0.048,\n   '51': 0.021,\n   '838': 0.056,\n   '52': 0.066,\n   '839': 0.072,\n   '53': 0.138,\n   '54': 0.046,\n   '55': 0.034,\n   '56': 0.088,\n   '57': 0.09,\n   '58': 0.067,\n   '59': 0.047,\n   '560': 0.103,\n   '561': 0.162,\n   '562': 0.085,\n   '563': 0.096,\n   '564': 0.083,\n   '565': 0.077,\n   '840': 0.06,\n   '566': 0.063,\n   '841': 0.047,\n   '567': 0.04,\n   '842': 0.053,\n   '568': 0.049,\n   '843': 0.044,\n   '844': 0.044,\n   '845': 0.041,\n   '846': 0.068,\n   '60': 0.039,\n   '61': 0.031,\n   '847': 0.086,\n   '848': 0.083,\n   '62': 0.052,\n   '849': 0.074,\n   '63': 0.1,\n   '64': 0.017,\n   '65': 0.051,\n   '66': 0.033,\n   '850': 0.085,\n   '851': 0.093,\n   '852': 0.097,\n   '853': 0.021,\n   '854': 0.072,\n   '855': 0.055,\n   '856': 0.049,\n   '857': 0.07,\n   '858': 0.081,\n   '859': 0.04,\n   '860': 0.042,\n   '861': 0.053,\n   '862': 0.029,\n   '864': 0.025,\n   '865': 0.03,\n   '866': 0.031,\n   '867': 0.033,\n   '868': 0.032,\n   'UNKNOWN': 1.634,\n   '869': 0.013}},\n 'meta_org:different_groups_average': 1.0,\n 'meta_general:events_standard_deviation': 1.641,\n 'meta_org:role_events_max': {'value': 20, 'children': {'UNKNOWN': 20}},\n 'meta_org:resource_events_total': {'value': 561470,\n  'children': {'870': 31,\n   '10': 229,\n   '11': 2539,\n   '12': 177,\n   '13': 2,\n   '14': 6,\n   '15': 167,\n   '16': 501,\n   '17': 58,\n   '18': 43,\n   '19': 5,\n   '0': 555,\n   '3': 13,\n   '4': 4,\n   '8': 23,\n   '9': 1170,\n   '802': 725,\n   '20': 467,\n   '21': 488,\n   '807': 257,\n   '22': 351,\n   '808': 228,\n   '23': 138,\n   '24': 260,\n   '25': 495,\n   '26': 1366,\n   '27': 413,\n   '28': 2278,\n   '29': 2699,\n   '810': 661,\n   '536': 4821,\n   '811': 214,\n   '537': 6931,\n   '538': 8608,\n   '813': 196,\n   '30': 2110,\n   '816': 477,\n   '31': 1535,\n   '817': 334,\n   '32': 444,\n   '818': 180,\n   '33': 223,\n   '819': 373,\n   '34': 490,\n   '35': 673,\n   '36': 869,\n   '37': 881,\n   '38': 140,\n   '39': 1176,\n   '540': 660,\n   '541': 7356,\n   '820': 1254,\n   '821': 673,\n   '546': 1779,\n   '823': 789,\n   '548': 1865,\n   '824': 988,\n   '704': 814,\n   '825': 803,\n   '826': 301,\n   '40': 3183,\n   '827': 657,\n   '41': 797,\n   '828': 727,\n   '42': 840,\n   '829': 878,\n   '43': 373,\n   '44': 872,\n   '45': 1343,\n   '46': 705,\n   '47': 475,\n   '48': 639,\n   '49': 4589,\n   '550': 7935,\n   '551': 109,\n   '552': 1068,\n   '553': 194,\n   '554': 316,\n   '830': 322,\n   '555': 1068,\n   '556': 1064,\n   '831': 1086,\n   '557': 5436,\n   '832': 400,\n   '558': 3779,\n   '833': 519,\n   '559': 6429,\n   '834': 420,\n   '835': 216,\n   '836': 491,\n   '50': 1502,\n   '837': 346,\n   '51': 67,\n   '838': 470,\n   '52': 660,\n   '839': 793,\n   '53': 2913,\n   '54': 312,\n   '55': 178,\n   '56': 1173,\n   '57': 1235,\n   '58': 673,\n   '59': 331,\n   '560': 1626,\n   '561': 4043,\n   '562': 1105,\n   '563': 1391,\n   '564': 1041,\n   '565': 899,\n   '840': 543,\n   '566': 591,\n   '841': 332,\n   '567': 245,\n   '842': 424,\n   '568': 358,\n   '843': 289,\n   '844': 289,\n   '845': 249,\n   '846': 704,\n   '60': 227,\n   '61': 149,\n   '847': 1131,\n   '848': 1043,\n   '62': 403,\n   '849': 838,\n   '63': 1522,\n   '64': 42,\n   '65': 392,\n   '66': 159,\n   '850': 1100,\n   '851': 1311,\n   '852': 1420,\n   '853': 66,\n   '854': 775,\n   '855': 462,\n   '856': 358,\n   '857': 749,\n   '858': 1003,\n   '859': 242,\n   '860': 265,\n   '861': 416,\n   '862': 128,\n   '864': 91,\n   '865': 133,\n   '866': 147,\n   '867': 160,\n   '868': 151,\n   'UNKNOWN': 410545,\n   '869': 24}},\n 'meta_time:log_end_time': datetime.datetime(2013, 6, 18, 0, 0, tzinfo=datetime.timezone(datetime.timedelta(seconds=7200))),\n 'meta_org:different_resources_total': 149,\n 'meta_org:resource_events_max': {'value': 20,\n  'children': {'870': 1,\n   '10': 1,\n   '11': 1,\n   '12': 1,\n   '13': 1,\n   '14': 1,\n   '15': 1,\n   '16': 1,\n   '17': 1,\n   '18': 1,\n   '19': 1,\n   '0': 1,\n   '3': 1,\n   '4': 1,\n   '8': 1,\n   '9': 1,\n   '802': 1,\n   '20': 1,\n   '21': 1,\n   '807': 1,\n   '22': 1,\n   '808': 1,\n   '23': 1,\n   '24': 1,\n   '25': 1,\n   '26': 1,\n   '27': 1,\n   '28': 1,\n   '29': 1,\n   '810': 1,\n   '536': 1,\n   '811': 1,\n   '537': 1,\n   '538': 1,\n   '813': 1,\n   '30': 1,\n   '816': 1,\n   '31': 1,\n   '817': 1,\n   '32': 1,\n   '818': 1,\n   '33': 1,\n   '819': 1,\n   '34': 1,\n   '35': 1,\n   '36': 1,\n   '37': 1,\n   '38': 1,\n   '39': 1,\n   '540': 1,\n   '541': 1,\n   '820': 1,\n   '821': 1,\n   '546': 1,\n   '823': 1,\n   '548': 1,\n   '824': 1,\n   '704': 1,\n   '825': 1,\n   '826': 1,\n   '40': 1,\n   '827': 1,\n   '41': 1,\n   '828': 1,\n   '42': 1,\n   '829': 1,\n   '43': 1,\n   '44': 1,\n   '45': 1,\n   '46': 1,\n   '47': 1,\n   '48': 1,\n   '49': 1,\n   '550': 1,\n   '551': 1,\n   '552': 1,\n   '553': 1,\n   '554': 1,\n   '830': 1,\n   '555': 1,\n   '556': 1,\n   '831': 1,\n   '557': 1,\n   '832': 1,\n   '558': 1,\n   '833': 1,\n   '559': 1,\n   '834': 1,\n   '835': 1,\n   '836': 1,\n   '50': 1,\n   '837': 1,\n   '51': 1,\n   '838': 1,\n   '52': 1,\n   '839': 1,\n   '53': 1,\n   '54': 1,\n   '55': 1,\n   '56': 1,\n   '57': 1,\n   '58': 1,\n   '59': 1,\n   '560': 1,\n   '561': 1,\n   '562': 1,\n   '563': 1,\n   '564': 1,\n   '565': 1,\n   '840': 1,\n   '566': 1,\n   '841': 1,\n   '567': 1,\n   '842': 1,\n   '568': 1,\n   '843': 1,\n   '844': 1,\n   '845': 1,\n   '846': 1,\n   '60': 1,\n   '61': 1,\n   '847': 1,\n   '848': 1,\n   '62': 1,\n   '849': 1,\n   '63': 1,\n   '64': 1,\n   '65': 1,\n   '66': 1,\n   '850': 1,\n   '851': 1,\n   '852': 1,\n   '853': 1,\n   '854': 1,\n   '855': 1,\n   '856': 1,\n   '857': 1,\n   '858': 1,\n   '859': 1,\n   '860': 1,\n   '861': 1,\n   '862': 1,\n   '864': 1,\n   '865': 1,\n   '866': 1,\n   '867': 1,\n   '868': 1,\n   'UNKNOWN': 18,\n   '869': 1}},\n 'meta_life:transition_events_min': {'value': 2, 'children': {'complete': 2}},\n 'meta_org:different_groups_total': 1,\n 'meta_3TU:source_institute_type': 'Government',\n 'meta_life:different_transitions_average': 1.0,\n 'meta_general:traces_total': 150370,\n 'meta_3TU:creation_person': 'Massimiliano de Leoni, Felix Mannhardt',\n 'meta_org:resource_events_min': {'value': 2,\n  'children': {'870': 0,\n   '10': 0,\n   '11': 0,\n   '12': 0,\n   '13': 0,\n   '14': 0,\n   '15': 0,\n   '16': 0,\n   '17': 0,\n   '18': 0,\n   '19': 0,\n   '0': 0,\n   '3': 0,\n   '4': 0,\n   '8': 0,\n   '9': 0,\n   '802': 0,\n   '20': 0,\n   '21': 0,\n   '807': 0,\n   '22': 0,\n   '808': 0,\n   '23': 0,\n   '24': 0,\n   '25': 0,\n   '26': 0,\n   '27': 0,\n   '28': 0,\n   '29': 0,\n   '810': 0,\n   '536': 0,\n   '811': 0,\n   '537': 0,\n   '538': 0,\n   '813': 0,\n   '30': 0,\n   '816': 0,\n   '31': 0,\n   '817': 0,\n   '32': 0,\n   '818': 0,\n   '33': 0,\n   '819': 0,\n   '34': 0,\n   '35': 0,\n   '36': 0,\n   '37': 0,\n   '38': 0,\n   '39': 0,\n   '540': 0,\n   '541': 0,\n   '820': 0,\n   '821': 0,\n   '546': 0,\n   '823': 0,\n   '548': 0,\n   '824': 0,\n   '704': 0,\n   '825': 0,\n   '826': 0,\n   '40': 0,\n   '827': 0,\n   '41': 0,\n   '828': 0,\n   '42': 0,\n   '829': 0,\n   '43': 0,\n   '44': 0,\n   '45': 0,\n   '46': 0,\n   '47': 0,\n   '48': 0,\n   '49': 0,\n   '550': 0,\n   '551': 0,\n   '552': 0,\n   '553': 0,\n   '554': 0,\n   '830': 0,\n   '555': 0,\n   '556': 0,\n   '831': 0,\n   '557': 0,\n   '832': 0,\n   '558': 0,\n   '833': 0,\n   '559': 0,\n   '834': 0,\n   '835': 0,\n   '836': 0,\n   '50': 0,\n   '837': 0,\n   '51': 0,\n   '838': 0,\n   '52': 0,\n   '839': 0,\n   '53': 0,\n   '54': 0,\n   '55': 0,\n   '56': 0,\n   '57': 0,\n   '58': 0,\n   '59': 0,\n   '560': 0,\n   '561': 0,\n   '562': 0,\n   '563': 0,\n   '564': 0,\n   '565': 0,\n   '840': 0,\n   '566': 0,\n   '841': 0,\n   '567': 0,\n   '842': 0,\n   '568': 0,\n   '843': 0,\n   '844': 0,\n   '845': 0,\n   '846': 0,\n   '60': 0,\n   '61': 0,\n   '847': 0,\n   '848': 0,\n   '62': 0,\n   '849': 0,\n   '63': 0,\n   '64': 0,\n   '65': 0,\n   '66': 0,\n   '850': 0,\n   '851': 0,\n   '852': 0,\n   '853': 0,\n   '854': 0,\n   '855': 0,\n   '856': 0,\n   '857': 0,\n   '858': 0,\n   '859': 0,\n   '860': 0,\n   '861': 0,\n   '862': 0,\n   '864': 0,\n   '865': 0,\n   '866': 0,\n   '867': 0,\n   '868': 0,\n   'UNKNOWN': 1,\n   '869': 0}},\n 'meta_3TU:source_institute': 'Eindhoven University of Technology',\n 'meta_org:different_roles_min': 1,\n 'meta_life:transition_events_average': {'value': 3.734,\n  'children': {'complete': 3.734}},\n 'meta_org:group_events_max': {'value': 20, 'children': {'UNKNOWN': 20}},\n 'meta_3TU:log_type': 'Real-life',\n 'meta_3TU:doi': 'doi:10.4121/uuid:270fd440-1057-4fb9-89a9-b699b47990f5',\n 'meta_general:events_min': 2,\n 'meta_concept:different_names_average': 3.681,\n 'meta_org:resource_events_average': {'value': 3.734,\n  'children': {'870': 0.0,\n   '10': 0.002,\n   '11': 0.017,\n   '12': 0.001,\n   '13': 0.0,\n   '14': 0.0,\n   '15': 0.001,\n   '16': 0.003,\n   '17': 0.0,\n   '18': 0.0,\n   '19': 0.0,\n   '0': 0.004,\n   '3': 0.0,\n   '4': 0.0,\n   '8': 0.0,\n   '9': 0.008,\n   '802': 0.005,\n   '20': 0.003,\n   '21': 0.003,\n   '807': 0.002,\n   '22': 0.002,\n   '808': 0.002,\n   '23': 0.001,\n   '24': 0.002,\n   '25': 0.003,\n   '26': 0.009,\n   '27': 0.003,\n   '28': 0.015,\n   '29': 0.018,\n   '810': 0.004,\n   '536': 0.032,\n   '811': 0.001,\n   '537': 0.046,\n   '538': 0.057,\n   '813': 0.001,\n   '30': 0.014,\n   '816': 0.003,\n   '31': 0.01,\n   '817': 0.002,\n   '32': 0.003,\n   '818': 0.001,\n   '33': 0.001,\n   '819': 0.002,\n   '34': 0.003,\n   '35': 0.004,\n   '36': 0.006,\n   '37': 0.006,\n   '38': 0.001,\n   '39': 0.008,\n   '540': 0.004,\n   '541': 0.049,\n   '820': 0.008,\n   '821': 0.004,\n   '546': 0.012,\n   '823': 0.005,\n   '548': 0.012,\n   '824': 0.007,\n   '704': 0.005,\n   '825': 0.005,\n   '826': 0.002,\n   '40': 0.021,\n   '827': 0.004,\n   '41': 0.005,\n   '828': 0.005,\n   '42': 0.006,\n   '829': 0.006,\n   '43': 0.002,\n   '44': 0.006,\n   '45': 0.009,\n   '46': 0.005,\n   '47': 0.003,\n   '48': 0.004,\n   '49': 0.031,\n   '550': 0.053,\n   '551': 0.001,\n   '552': 0.007,\n   '553': 0.001,\n   '554': 0.002,\n   '830': 0.002,\n   '555': 0.007,\n   '556': 0.007,\n   '831': 0.007,\n   '557': 0.036,\n   '832': 0.003,\n   '558': 0.025,\n   '833': 0.003,\n   '559': 0.043,\n   '834': 0.003,\n   '835': 0.001,\n   '836': 0.003,\n   '50': 0.01,\n   '837': 0.002,\n   '51': 0.0,\n   '838': 0.003,\n   '52': 0.004,\n   '839': 0.005,\n   '53': 0.019,\n   '54': 0.002,\n   '55': 0.001,\n   '56': 0.008,\n   '57': 0.008,\n   '58': 0.004,\n   '59': 0.002,\n   '560': 0.011,\n   '561': 0.027,\n   '562': 0.007,\n   '563': 0.009,\n   '564': 0.007,\n   '565': 0.006,\n   '840': 0.004,\n   '566': 0.004,\n   '841': 0.002,\n   '567': 0.002,\n   '842': 0.003,\n   '568': 0.002,\n   '843': 0.002,\n   '844': 0.002,\n   '845': 0.002,\n   '846': 0.005,\n   '60': 0.002,\n   '61': 0.001,\n   '847': 0.008,\n   '848': 0.007,\n   '62': 0.003,\n   '849': 0.006,\n   '63': 0.01,\n   '64': 0.0,\n   '65': 0.003,\n   '66': 0.001,\n   '850': 0.007,\n   '851': 0.009,\n   '852': 0.009,\n   '853': 0.0,\n   '854': 0.005,\n   '855': 0.003,\n   '856': 0.002,\n   '857': 0.005,\n   '858': 0.007,\n   '859': 0.002,\n   '860': 0.002,\n   '861': 0.003,\n   '862': 0.001,\n   '864': 0.001,\n   '865': 0.001,\n   '866': 0.001,\n   '867': 0.001,\n   '868': 0.001,\n   'UNKNOWN': 2.73,\n   '869': 0.0}},\n 'meta_time:duration_average': 29520829.123,\n 'meta_org:different_groups_standard_deviation': 0.0,\n 'meta_concept:different_names_max': 10,\n 'meta_life:different_transitions_total': 1,\n 'meta_general:events_total': 561470,\n 'lifecycle:model': 'standard',\n 'meta_3TU:rights': 'Public',\n 'meta_concept:named_events_average': {'value': 3.734,\n  'children': {'Payment': 0.516,\n   'Insert Date Appeal to Prefecture': 0.028,\n   'Receive Result Appeal from Prefecture': 0.007,\n   'Send Appeal to Prefecture': 0.028,\n   'Notify Result Appeal to Offender': 0.006,\n   'Appeal to Judge': 0.004,\n   'Add penalty': 0.531,\n   'Insert Fine Notification': 0.531,\n   'Send for Credit Collection': 0.392,\n   'Create Fine': 1.0,\n   'Send Fine': 0.692}},\n 'meta_org:role_events_standard_deviation': {'value': 1.641,\n  'children': {'UNKNOWN': 1.641}},\n 'meta_time:duration_max': 377740800.0,\n 'meta_life:transition_events_total': {'value': 561470,\n  'children': {'complete': 561470}},\n 'meta_concept:named_events_max': {'value': 20,\n  'children': {'Payment': 15,\n   'Insert Date Appeal to Prefecture': 1,\n   'Receive Result Appeal from Prefecture': 1,\n   'Send Appeal to Prefecture': 1,\n   'Notify Result Appeal to Offender': 1,\n   'Appeal to Judge': 1,\n   'Add penalty': 1,\n   'Insert Fine Notification': 1,\n   'Send for Credit Collection': 1,\n   'Create Fine': 1,\n   'Send Fine': 1}},\n 'meta_org:different_groups_min': 1,\n 'meta_3TU:creation_institute': 'Eindhoven University of Technology',\n 'meta_concept:different_names_min': 2,\n 'meta_3TU:process_type': 'Ad-Hoc structured',\n 'meta_org:different_resources_average': 2.004,\n 'meta_life:transition_events_max': {'value': 20,\n  'children': {'complete': 20}}}"
     },
     "execution_count": 74,
     "metadata": {},
     "output_type": "execute_result"
    }
   ],
   "source": [
    "log.attributes"
   ],
   "metadata": {
    "collapsed": false,
    "ExecuteTime": {
     "end_time": "2024-01-02T18:10:06.102596300Z",
     "start_time": "2024-01-02T18:10:06.074795900Z"
    }
   },
   "id": "2c32df5c69b0fad3",
   "execution_count": 74
  },
  {
   "cell_type": "code",
   "outputs": [
    {
     "name": "stderr",
     "output_type": "stream",
     "text": [
      "C:\\Users\\Hannes\\anaconda3\\envs\\transfer_learning\\lib\\site-packages\\pm4py\\utils.py:508: UserWarning: the EventLog class has been deprecated and will be removed in a future release.\n",
      "  warnings.warn(\"the EventLog class has been deprecated and will be removed in a future release.\")\n"
     ]
    },
    {
     "data": {
      "text/plain": "231"
     },
     "execution_count": 75,
     "metadata": {},
     "output_type": "execute_result"
    }
   ],
   "source": [
    "variants = pm4py.get_variants(log)\n",
    "variant_count = len(variants)\n",
    "variant_count"
   ],
   "metadata": {
    "collapsed": false,
    "ExecuteTime": {
     "end_time": "2024-01-02T18:10:27.318682Z",
     "start_time": "2024-01-02T18:10:26.453239800Z"
    }
   },
   "id": "9765839e768949da",
   "execution_count": 75
  },
  {
   "cell_type": "code",
   "outputs": [
    {
     "data": {
      "text/plain": "100"
     },
     "execution_count": 80,
     "metadata": {},
     "output_type": "execute_result"
    }
   ],
   "source": [
    "variants_only_once = list(filter(lambda x: len(x[1]) == 1, variants.items()))\n",
    "variants_only_once = list(map(lambda x: x[0], variants_only_once))\n",
    "len(variants_only_once)"
   ],
   "metadata": {
    "collapsed": false,
    "ExecuteTime": {
     "end_time": "2024-01-02T18:11:28.558333Z",
     "start_time": "2024-01-02T18:11:28.223212600Z"
    }
   },
   "id": "241cc95aa646b795",
   "execution_count": 80
  },
  {
   "cell_type": "code",
   "outputs": [
    {
     "name": "stderr",
     "output_type": "stream",
     "text": [
      "C:\\Users\\Hannes\\anaconda3\\envs\\transfer_learning\\lib\\site-packages\\pm4py\\utils.py:508: UserWarning: the EventLog class has been deprecated and will be removed in a future release.\n",
      "  warnings.warn(\"the EventLog class has been deprecated and will be removed in a future release.\")\n"
     ]
    },
    {
     "data": {
      "text/plain": "131"
     },
     "execution_count": 81,
     "metadata": {},
     "output_type": "execute_result"
    }
   ],
   "source": [
    "filtered2 = pm4py.filter_variants(log, variants_only_once, retain=False)\n",
    "filtered2_variant_count = len(pm4py.get_variants(filtered2))\n",
    "filtered2_variant_count"
   ],
   "metadata": {
    "collapsed": false,
    "ExecuteTime": {
     "end_time": "2024-01-02T18:11:36.802852400Z",
     "start_time": "2024-01-02T18:11:35.028347Z"
    }
   },
   "id": "d8899877f9a088a1",
   "execution_count": 81
  },
  {
   "cell_type": "code",
   "outputs": [
    {
     "data": {
      "text/plain": "exporting log, completed traces ::   0%|          | 0/150270 [00:00<?, ?it/s]",
      "application/vnd.jupyter.widget-view+json": {
       "version_major": 2,
       "version_minor": 0,
       "model_id": "b623d2da6af04a0ba3712adef34b2c94"
      }
     },
     "metadata": {},
     "output_type": "display_data"
    }
   ],
   "source": [
    "xes_exporter.apply(filtered2, os.path.join(LOGS_DIR, 'RTFMP_filtered.xes'))"
   ],
   "metadata": {
    "collapsed": false,
    "ExecuteTime": {
     "end_time": "2024-01-02T18:11:55.443314Z",
     "start_time": "2024-01-02T18:11:39.488487800Z"
    }
   },
   "id": "5e295aa9ab853f10",
   "execution_count": 82
  },
  {
   "cell_type": "code",
   "outputs": [
    {
     "data": {
      "text/plain": "parsing log, completed traces ::   0%|          | 0/150270 [00:00<?, ?it/s]",
      "application/vnd.jupyter.widget-view+json": {
       "version_major": 2,
       "version_minor": 0,
       "model_id": "4661ce351d124e0f977afa3189e96d12"
      }
     },
     "metadata": {},
     "output_type": "display_data"
    },
    {
     "data": {
      "text/plain": "'Road Traffic Fine Management Process'"
     },
     "execution_count": 83,
     "metadata": {},
     "output_type": "execute_result"
    }
   ],
   "source": [
    "abc = xes_importer.apply(os.path.join(LOGS_DIR, 'RTFMP_filtered.xes'))\n",
    "abc.attributes['concept:name']"
   ],
   "metadata": {
    "collapsed": false,
    "ExecuteTime": {
     "end_time": "2024-01-02T18:12:46.781896800Z",
     "start_time": "2024-01-02T18:12:13.993817100Z"
    }
   },
   "id": "acff0cdda5ce14a7",
   "execution_count": 83
  },
  {
   "cell_type": "code",
   "outputs": [],
   "source": [],
   "metadata": {
    "collapsed": false
   },
   "id": "94b6e6122ec4c457"
  }
 ],
 "metadata": {
  "kernelspec": {
   "display_name": "Python 3",
   "language": "python",
   "name": "python3"
  },
  "language_info": {
   "codemirror_mode": {
    "name": "ipython",
    "version": 2
   },
   "file_extension": ".py",
   "mimetype": "text/x-python",
   "name": "python",
   "nbconvert_exporter": "python",
   "pygments_lexer": "ipython2",
   "version": "2.7.6"
  }
 },
 "nbformat": 4,
 "nbformat_minor": 5
}
