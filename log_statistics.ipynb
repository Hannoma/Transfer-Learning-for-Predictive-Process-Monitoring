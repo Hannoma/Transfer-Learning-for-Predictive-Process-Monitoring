{
 "cells": [
  {
   "cell_type": "code",
   "execution_count": 1,
   "id": "initial_id",
   "metadata": {
    "collapsed": true,
    "ExecuteTime": {
     "end_time": "2024-01-04T16:02:29.835472700Z",
     "start_time": "2024-01-04T16:02:28.445574Z"
    }
   },
   "outputs": [],
   "source": [
    "import os\n",
    "\n",
    "import pandas as pd\n",
    "import pm4py\n",
    "from pm4py.objects.log.importer.xes import importer as xes_importer\n",
    "\n",
    "from definitions import LOGS_DIR, ROOT_DIR"
   ]
  },
  {
   "cell_type": "code",
   "execution_count": 2,
   "outputs": [],
   "source": [
    "# Nicer log names\n",
    "mapping = {\n",
    "    'BPI_Challenge_2013_closed_problems.xes.gz': 'BPI13 Closed',\n",
    "    'BPI_Challenge_2012.xes.gz': 'BPI12',\n",
    "    'BPI_Challenge_2013_incidents.xes.gz': 'BPI13 Incidents',\n",
    "    'BPI_Challenge_2013_open_problems.xes.gz': 'BPI13 Open',\n",
    "    'BPI%20Challenge%202017.xes.gz': 'BPI17',\n",
    "    'BPIC15_1.xes': 'BPI15',\n",
    "    'Road_Traffic_Fine_Management_Process.xes.gz': 'RTFMP',\n",
    "    'Sepsis%20Cases%20-%20Event%20Log.xes.gz': 'Sepsis',\n",
    "    'helpdesk.csv': 'Helpdesk',\n",
    "    'RTFMP_filtered.xes': 'RTFMP filtered',\n",
    "}"
   ],
   "metadata": {
    "collapsed": false,
    "ExecuteTime": {
     "end_time": "2024-01-04T16:02:29.852345200Z",
     "start_time": "2024-01-04T16:02:29.838474Z"
    }
   },
   "id": "c074e9c0aa8cb059"
  },
  {
   "cell_type": "code",
   "execution_count": 5,
   "outputs": [
    {
     "name": "stderr",
     "output_type": "stream",
     "text": [
      "C:\\Users\\Hannes\\anaconda3\\envs\\transfer_learning\\lib\\site-packages\\pm4py\\util\\dt_parsing\\parser.py:77: UserWarning: ISO8601 strings are not fully supported with strpfromiso for Python versions below 3.11\n",
      "  warnings.warn(\n"
     ]
    },
    {
     "data": {
      "text/plain": "parsing log, completed traces ::   0%|          | 0/31509 [00:00<?, ?it/s]",
      "application/vnd.jupyter.widget-view+json": {
       "version_major": 2,
       "version_minor": 0,
       "model_id": "af1c16a2430149e38fab2c1b4fd5f5f8"
      }
     },
     "metadata": {},
     "output_type": "display_data"
    },
    {
     "data": {
      "text/plain": "parsing log, completed traces ::   0%|          | 0/1199 [00:00<?, ?it/s]",
      "application/vnd.jupyter.widget-view+json": {
       "version_major": 2,
       "version_minor": 0,
       "model_id": "b844b4bb9574426f89ec8ca3c6457680"
      }
     },
     "metadata": {},
     "output_type": "display_data"
    },
    {
     "data": {
      "text/plain": "parsing log, completed traces ::   0%|          | 0/13087 [00:00<?, ?it/s]",
      "application/vnd.jupyter.widget-view+json": {
       "version_major": 2,
       "version_minor": 0,
       "model_id": "8603bc9460354349a798aea8072d4cfa"
      }
     },
     "metadata": {},
     "output_type": "display_data"
    },
    {
     "data": {
      "text/plain": "parsing log, completed traces ::   0%|          | 0/1487 [00:00<?, ?it/s]",
      "application/vnd.jupyter.widget-view+json": {
       "version_major": 2,
       "version_minor": 0,
       "model_id": "bca1263d6b53496faea0a7aca4a3c0e6"
      }
     },
     "metadata": {},
     "output_type": "display_data"
    },
    {
     "data": {
      "text/plain": "parsing log, completed traces ::   0%|          | 0/7554 [00:00<?, ?it/s]",
      "application/vnd.jupyter.widget-view+json": {
       "version_major": 2,
       "version_minor": 0,
       "model_id": "474407c7da454c389f31ea5ac5bd3085"
      }
     },
     "metadata": {},
     "output_type": "display_data"
    },
    {
     "data": {
      "text/plain": "parsing log, completed traces ::   0%|          | 0/819 [00:00<?, ?it/s]",
      "application/vnd.jupyter.widget-view+json": {
       "version_major": 2,
       "version_minor": 0,
       "model_id": "0f5062c5230744c68f24d7baa97feb96"
      }
     },
     "metadata": {},
     "output_type": "display_data"
    },
    {
     "data": {
      "text/plain": "parsing log, completed traces ::   0%|          | 0/43809 [00:00<?, ?it/s]",
      "application/vnd.jupyter.widget-view+json": {
       "version_major": 2,
       "version_minor": 0,
       "model_id": "856c37aa1e594d18be31bbb8ae1c5eb5"
      }
     },
     "metadata": {},
     "output_type": "display_data"
    },
    {
     "data": {
      "text/plain": "parsing log, completed traces ::   0%|          | 0/1143 [00:00<?, ?it/s]",
      "application/vnd.jupyter.widget-view+json": {
       "version_major": 2,
       "version_minor": 0,
       "model_id": "e1b24a1abea94a5cbb817d41bc432393"
      }
     },
     "metadata": {},
     "output_type": "display_data"
    },
    {
     "data": {
      "text/plain": "parsing log, completed traces ::   0%|          | 0/150270 [00:00<?, ?it/s]",
      "application/vnd.jupyter.widget-view+json": {
       "version_major": 2,
       "version_minor": 0,
       "model_id": "4e59963a5fcb4bfd93f97d3aa900c5a0"
      }
     },
     "metadata": {},
     "output_type": "display_data"
    },
    {
     "data": {
      "text/plain": "parsing log, completed traces ::   0%|          | 0/150370 [00:00<?, ?it/s]",
      "application/vnd.jupyter.widget-view+json": {
       "version_major": 2,
       "version_minor": 0,
       "model_id": "ff3bddd9a84749f7aae6367c4468e848"
      }
     },
     "metadata": {},
     "output_type": "display_data"
    },
    {
     "data": {
      "text/plain": "parsing log, completed traces ::   0%|          | 0/1050 [00:00<?, ?it/s]",
      "application/vnd.jupyter.widget-view+json": {
       "version_major": 2,
       "version_minor": 0,
       "model_id": "c552dd57507846439ca2ba88c5377447"
      }
     },
     "metadata": {},
     "output_type": "display_data"
    },
    {
     "name": "stderr",
     "output_type": "stream",
     "text": [
      "C:\\Users\\Hannes\\anaconda3\\envs\\transfer_learning\\lib\\site-packages\\pm4py\\utils.py:508: UserWarning: the EventLog class has been deprecated and will be removed in a future release.\n",
      "  warnings.warn(\"the EventLog class has been deprecated and will be removed in a future release.\")\n"
     ]
    }
   ],
   "source": [
    "def extract_stats(log):\n",
    "    event_frequency_distribution = {}\n",
    "    trace_length_distribution = {}\n",
    "    longest_trace_length = 0\n",
    "    amount_of_padding = 0\n",
    "    for trace in log:\n",
    "        # Update longest trace length\n",
    "        if len(trace) > longest_trace_length:\n",
    "            longest_trace_length = len(trace)\n",
    "        \n",
    "        # Save trace length distribution\n",
    "        if len(trace) not in trace_length_distribution:\n",
    "            trace_length_distribution[len(trace)] = 1\n",
    "        else:\n",
    "            trace_length_distribution[len(trace)] += 1\n",
    "            \n",
    "        # Save event frequency distribution\n",
    "        for event in trace:\n",
    "            if str(event['concept:name']) not in event_frequency_distribution:\n",
    "                event_frequency_distribution[str(event['concept:name'])] = 1\n",
    "            else:\n",
    "                event_frequency_distribution[str(event['concept:name'])] += 1\n",
    "    # Calculate amount of padding\n",
    "    for trace in log:\n",
    "        amount_of_padding += longest_trace_length - len(trace)\n",
    "        \n",
    "    return trace_length_distribution, event_frequency_distribution, amount_of_padding\n",
    "\n",
    "log_stats = []\n",
    "for file_name in sorted(os.listdir(LOGS_DIR)):\n",
    "    if file_name.endswith('.xes') or file_name.endswith('.xes.gz'):\n",
    "        xes_file_name = os.path.join(LOGS_DIR, file_name)\n",
    "        log = xes_importer.apply(xes_file_name)\n",
    "    elif file_name.endswith('.csv'):\n",
    "        log = pm4py.format_dataframe(pd.read_csv(os.path.join(LOGS_DIR, file_name), sep=','),\n",
    "                                     case_id='CaseID',\n",
    "                                     activity_key='ActivityID',\n",
    "                                     timestamp_key='CompleteTimestamp')\n",
    "        log = pm4py.convert_to_event_log(log)\n",
    "    else:\n",
    "        continue\n",
    "    # Extract stats\n",
    "    tld, efd, padding = extract_stats(log)\n",
    "    # Save stats\n",
    "    if str(file_name) in mapping:\n",
    "        log_stats.append({\n",
    "            'file_name': str(file_name),\n",
    "            'trace_length_distribution': tld,\n",
    "            'event_frequency_distribution': efd,\n",
    "            'amount_of_padding': padding,\n",
    "        })"
   ],
   "metadata": {
    "collapsed": false,
    "ExecuteTime": {
     "end_time": "2024-01-04T16:08:56.392482600Z",
     "start_time": "2024-01-04T16:02:52.111063900Z"
    }
   },
   "id": "34e64659239f7a79"
  },
  {
   "cell_type": "code",
   "execution_count": 19,
   "outputs": [
    {
     "data": {
      "text/plain": "               log  num traces  num events  num activities  longest trace  \\\n0            BPI17       31509     1202267              26            180   \n1            BPI15        1199       52217             398            101   \n2            BPI12       13087      262200              24            175   \n3     BPI13 Closed        1487        6660               4             35   \n4  BPI13 Incidents        7554       65533               4            123   \n5       BPI13 Open         819        2351               3             22   \n6   RTFMP filtered      150270      560551              11             14   \n7            RTFMP      150370      561470              11             20   \n8           Sepsis        1050       15214              16            185   \n9         Helpdesk        3804       13710               9             14   \n\n   avg trace length  shortest trace length  amount of padding  \\\n0         38.156305                     10            4469353   \n1         43.550459                      2              68882   \n2         20.035149                      3            2028025   \n3          4.478816                      1              45385   \n4          8.675271                      1             863609   \n5          2.870574                      1              15667   \n6          3.730292                      2            1543229   \n7          3.733923                      2            2445930   \n8         14.489524                      3             179036   \n9          3.604101                      1              39546   \n\n   relative padding  \n0          0.788021  \n1          0.568807  \n2          0.885513  \n3          0.872034  \n4          0.929469  \n5          0.869519  \n6          0.733551  \n7          0.813304  \n8          0.921678  \n9          0.742564  ",
      "text/html": "<div>\n<style scoped>\n    .dataframe tbody tr th:only-of-type {\n        vertical-align: middle;\n    }\n\n    .dataframe tbody tr th {\n        vertical-align: top;\n    }\n\n    .dataframe thead th {\n        text-align: right;\n    }\n</style>\n<table border=\"1\" class=\"dataframe\">\n  <thead>\n    <tr style=\"text-align: right;\">\n      <th></th>\n      <th>log</th>\n      <th>num traces</th>\n      <th>num events</th>\n      <th>num activities</th>\n      <th>longest trace</th>\n      <th>avg trace length</th>\n      <th>shortest trace length</th>\n      <th>amount of padding</th>\n      <th>relative padding</th>\n    </tr>\n  </thead>\n  <tbody>\n    <tr>\n      <th>0</th>\n      <td>BPI17</td>\n      <td>31509</td>\n      <td>1202267</td>\n      <td>26</td>\n      <td>180</td>\n      <td>38.156305</td>\n      <td>10</td>\n      <td>4469353</td>\n      <td>0.788021</td>\n    </tr>\n    <tr>\n      <th>1</th>\n      <td>BPI15</td>\n      <td>1199</td>\n      <td>52217</td>\n      <td>398</td>\n      <td>101</td>\n      <td>43.550459</td>\n      <td>2</td>\n      <td>68882</td>\n      <td>0.568807</td>\n    </tr>\n    <tr>\n      <th>2</th>\n      <td>BPI12</td>\n      <td>13087</td>\n      <td>262200</td>\n      <td>24</td>\n      <td>175</td>\n      <td>20.035149</td>\n      <td>3</td>\n      <td>2028025</td>\n      <td>0.885513</td>\n    </tr>\n    <tr>\n      <th>3</th>\n      <td>BPI13 Closed</td>\n      <td>1487</td>\n      <td>6660</td>\n      <td>4</td>\n      <td>35</td>\n      <td>4.478816</td>\n      <td>1</td>\n      <td>45385</td>\n      <td>0.872034</td>\n    </tr>\n    <tr>\n      <th>4</th>\n      <td>BPI13 Incidents</td>\n      <td>7554</td>\n      <td>65533</td>\n      <td>4</td>\n      <td>123</td>\n      <td>8.675271</td>\n      <td>1</td>\n      <td>863609</td>\n      <td>0.929469</td>\n    </tr>\n    <tr>\n      <th>5</th>\n      <td>BPI13 Open</td>\n      <td>819</td>\n      <td>2351</td>\n      <td>3</td>\n      <td>22</td>\n      <td>2.870574</td>\n      <td>1</td>\n      <td>15667</td>\n      <td>0.869519</td>\n    </tr>\n    <tr>\n      <th>6</th>\n      <td>RTFMP filtered</td>\n      <td>150270</td>\n      <td>560551</td>\n      <td>11</td>\n      <td>14</td>\n      <td>3.730292</td>\n      <td>2</td>\n      <td>1543229</td>\n      <td>0.733551</td>\n    </tr>\n    <tr>\n      <th>7</th>\n      <td>RTFMP</td>\n      <td>150370</td>\n      <td>561470</td>\n      <td>11</td>\n      <td>20</td>\n      <td>3.733923</td>\n      <td>2</td>\n      <td>2445930</td>\n      <td>0.813304</td>\n    </tr>\n    <tr>\n      <th>8</th>\n      <td>Sepsis</td>\n      <td>1050</td>\n      <td>15214</td>\n      <td>16</td>\n      <td>185</td>\n      <td>14.489524</td>\n      <td>3</td>\n      <td>179036</td>\n      <td>0.921678</td>\n    </tr>\n    <tr>\n      <th>9</th>\n      <td>Helpdesk</td>\n      <td>3804</td>\n      <td>13710</td>\n      <td>9</td>\n      <td>14</td>\n      <td>3.604101</td>\n      <td>1</td>\n      <td>39546</td>\n      <td>0.742564</td>\n    </tr>\n  </tbody>\n</table>\n</div>"
     },
     "execution_count": 19,
     "metadata": {},
     "output_type": "execute_result"
    }
   ],
   "source": [
    "# transform to dataframe\n",
    "log_stats_rows = []\n",
    "for row in log_stats:\n",
    "    file_name = row['file_name']\n",
    "    tld = row['trace_length_distribution']\n",
    "    efd = row['event_frequency_distribution']\n",
    "    padding = row['amount_of_padding']\n",
    "    log_stats_rows.append({\n",
    "        'log': mapping[file_name],\n",
    "        'num traces': sum(tld.values()),\n",
    "        'num events': sum(efd.values()),\n",
    "        'num activities': len(efd),\n",
    "        'longest trace': max(tld.keys()),\n",
    "        'avg trace length': sum([k * v for k, v in tld.items()]) / sum(tld.values()),\n",
    "        'shortest trace length': min(tld.keys()),\n",
    "        'amount of padding': padding,\n",
    "        'relative padding': padding / (sum(efd.values()) + padding),\n",
    "    })\n",
    "df = pd.DataFrame(log_stats_rows)\n",
    "df.to_csv(os.path.join(ROOT_DIR, 'reports', 'log_stats.csv'), index=False)\n",
    "df"
   ],
   "metadata": {
    "collapsed": false,
    "ExecuteTime": {
     "end_time": "2024-01-04T16:53:34.416709800Z",
     "start_time": "2024-01-04T16:53:34.396708100Z"
    }
   },
   "id": "12b49575fb10345a"
  },
  {
   "cell_type": "code",
   "execution_count": 17,
   "outputs": [],
   "source": [
    "def to_latex_table(df, filename, caption=None, label=None):\n",
    "    style = df.style.format_index(\"\\\\textbf{{{}}}\", escape=\"latex\", axis=1) \\\n",
    "        .format(lambda x: str(x).replace('set()', '{}').replace(\"{\", '\\\\{').replace(\"}\", '\\\\}').replace(\"'\", ''))\n",
    "\n",
    "    col_format = 'l' + 'c' * (len(df.columns) - 1)\n",
    "    output = style.to_latex(hrules=False, caption=caption, label=label, column_format=col_format)\n",
    "    output = output.replace(r'\\begin{tabular}{' + col_format + '}', r\"\"\"\n",
    "    \\centering\n",
    "    \\begin{NiceTabular}{\"\"\" + col_format + r\"\"\"}\n",
    "    \\CodeBefore\n",
    "    \\rowcolor{gray!50}{1}\n",
    "    \\rowcolors{2}{gray!25}{white}\n",
    "    \\Body\"\"\")\n",
    "    output = output.replace(r'\\end{tabular}', r'\\end{NiceTabular}')\n",
    "\n",
    "    if filename:\n",
    "        with open(os.path.join(ROOT_DIR, 'reports', filename), 'w') as f:\n",
    "            f.write(output)\n",
    "\n",
    "    return output"
   ],
   "metadata": {
    "collapsed": false,
    "ExecuteTime": {
     "end_time": "2024-01-04T16:52:50.318741800Z",
     "start_time": "2024-01-04T16:52:50.300743400Z"
    }
   },
   "id": "6c30791c8e0dedaf"
  },
  {
   "cell_type": "code",
   "execution_count": 18,
   "outputs": [],
   "source": [
    "_ = to_latex_table(df, 'log_stats.tex', caption='Log statistics', label='tab:log_stats')"
   ],
   "metadata": {
    "collapsed": false,
    "ExecuteTime": {
     "end_time": "2024-01-04T16:52:52.029358Z",
     "start_time": "2024-01-04T16:52:52.012360800Z"
    }
   },
   "id": "57988a32a9a805fc"
  },
  {
   "cell_type": "code",
   "outputs": [],
   "source": [],
   "metadata": {
    "collapsed": false
   },
   "id": "60cb885c85df1b7e"
  }
 ],
 "metadata": {
  "kernelspec": {
   "display_name": "Python 3",
   "language": "python",
   "name": "python3"
  },
  "language_info": {
   "codemirror_mode": {
    "name": "ipython",
    "version": 2
   },
   "file_extension": ".py",
   "mimetype": "text/x-python",
   "name": "python",
   "nbconvert_exporter": "python",
   "pygments_lexer": "ipython2",
   "version": "2.7.6"
  }
 },
 "nbformat": 4,
 "nbformat_minor": 5
}
